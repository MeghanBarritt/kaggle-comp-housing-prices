{
 "cells": [
  {
   "cell_type": "markdown",
   "metadata": {},
   "source": [
    "# 7 - Modeling 2"
   ]
  },
  {
   "cell_type": "code",
   "execution_count": 100,
   "metadata": {},
   "outputs": [],
   "source": [
    "import pandas as pd\n",
    "train = pd.read_pickle('../pickles/final/round_2/train_final')\n",
    "test = pd.read_pickle('../pickles/final/round_2/test_final')\n",
    "\n",
    "from xgboost import XGBRegressor\n",
    "from sklearn.metrics import root_mean_squared_error, r2_score\n",
    "from sklearn.model_selection import GridSearchCV"
   ]
  },
  {
   "cell_type": "code",
   "execution_count": 101,
   "metadata": {},
   "outputs": [],
   "source": [
    "train_col = train.select_dtypes(include='object').columns.tolist()\n",
    "train[train_col] = train[train_col].astype(int)\n",
    "\n",
    "test_col = test.select_dtypes(include='object').columns.tolist()\n",
    "test[test_col] = test[test_col].astype(int)"
   ]
  },
  {
   "cell_type": "markdown",
   "metadata": {},
   "source": [
    "### Hyperparameter Tuning"
   ]
  },
  {
   "cell_type": "code",
   "execution_count": 102,
   "metadata": {},
   "outputs": [],
   "source": [
    "boost = XGBRegressor(objective='reg:squarederror',random_state=42)\n",
    "\n",
    "x_train = train.drop('SalePrice',axis=1)\n",
    "y_train = train['SalePrice']"
   ]
  },
  {
   "cell_type": "code",
   "execution_count": 103,
   "metadata": {},
   "outputs": [],
   "source": [
    "params = {\n",
    "    'alpha': [5,10,15],\n",
    "    'lambda': [35,40,45],\n",
    "    'max_depth': [2,3,4],\n",
    "    'learning_rate': [0.01,0.1,1],\n",
    "    'n_estimators': [550,555,560]}"
   ]
  },
  {
   "cell_type": "code",
   "execution_count": 104,
   "metadata": {},
   "outputs": [
    {
     "name": "stdout",
     "output_type": "stream",
     "text": [
      "Best Score: 23739.430931715575\n",
      "Best Hyperparameters: {'alpha': 10, 'lambda': 40, 'learning_rate': 0.1, 'max_depth': 3, 'n_estimators': 555}\n"
     ]
    }
   ],
   "source": [
    "search = GridSearchCV(boost, params, scoring='neg_root_mean_squared_error',n_jobs=-1)\n",
    "result = search.fit(x_train,y_train)\n",
    "print('Best Score: %s' % (result.best_score_*-1))\n",
    "print('Best Hyperparameters: %s' % result.best_params_)"
   ]
  },
  {
   "cell_type": "markdown",
   "metadata": {},
   "source": [
    "### The Model"
   ]
  },
  {
   "cell_type": "code",
   "execution_count": 105,
   "metadata": {},
   "outputs": [],
   "source": [
    "boost_best = XGBRegressor(reg_alpha=10,reg_lambda=40,learning_rate=0.1,max_depth=3,n_estimators=555,objective='reg:squarederror',random_state=42)\n",
    "boost_best.fit(x_train,y_train)\n",
    "\n",
    "train_pred = boost_best.predict(x_train)"
   ]
  },
  {
   "cell_type": "code",
   "execution_count": 106,
   "metadata": {},
   "outputs": [
    {
     "name": "stdout",
     "output_type": "stream",
     "text": [
      "Root Mean Squared Error: 12062.933442857448 \n",
      "R-Squared: 0.9751548171043396\n"
     ]
    }
   ],
   "source": [
    "rmse = root_mean_squared_error(y_train, train_pred)\n",
    "r2 = r2_score(y_train, train_pred)\n",
    "\n",
    "print(f'Root Mean Squared Error: {rmse} \\nR-Squared: {r2}')"
   ]
  },
  {
   "cell_type": "markdown",
   "metadata": {},
   "source": [
    "### Submission Table"
   ]
  },
  {
   "cell_type": "code",
   "execution_count": 107,
   "metadata": {},
   "outputs": [
    {
     "data": {
      "text/html": [
       "<div>\n",
       "<style scoped>\n",
       "    .dataframe tbody tr th:only-of-type {\n",
       "        vertical-align: middle;\n",
       "    }\n",
       "\n",
       "    .dataframe tbody tr th {\n",
       "        vertical-align: top;\n",
       "    }\n",
       "\n",
       "    .dataframe thead th {\n",
       "        text-align: right;\n",
       "    }\n",
       "</style>\n",
       "<table border=\"1\" class=\"dataframe\">\n",
       "  <thead>\n",
       "    <tr style=\"text-align: right;\">\n",
       "      <th></th>\n",
       "      <th>Id</th>\n",
       "      <th>SalePrice</th>\n",
       "    </tr>\n",
       "  </thead>\n",
       "  <tbody>\n",
       "    <tr>\n",
       "      <th>0</th>\n",
       "      <td>1461</td>\n",
       "      <td>132092.609375</td>\n",
       "    </tr>\n",
       "    <tr>\n",
       "      <th>1</th>\n",
       "      <td>1462</td>\n",
       "      <td>172892.468750</td>\n",
       "    </tr>\n",
       "    <tr>\n",
       "      <th>2</th>\n",
       "      <td>1463</td>\n",
       "      <td>178402.984375</td>\n",
       "    </tr>\n",
       "    <tr>\n",
       "      <th>3</th>\n",
       "      <td>1464</td>\n",
       "      <td>200319.296875</td>\n",
       "    </tr>\n",
       "    <tr>\n",
       "      <th>4</th>\n",
       "      <td>1465</td>\n",
       "      <td>179419.921875</td>\n",
       "    </tr>\n",
       "  </tbody>\n",
       "</table>\n",
       "</div>"
      ],
      "text/plain": [
       "     Id      SalePrice\n",
       "0  1461  132092.609375\n",
       "1  1462  172892.468750\n",
       "2  1463  178402.984375\n",
       "3  1464  200319.296875\n",
       "4  1465  179419.921875"
      ]
     },
     "execution_count": 107,
     "metadata": {},
     "output_type": "execute_result"
    }
   ],
   "source": [
    "for_cols = pd.read_pickle('../pickles/cleaned/test_cleaned')\n",
    "\n",
    "preds = boost_best.predict(test_drops)\n",
    "\n",
    "submit = pd.DataFrame(data=for_cols['Id'])\n",
    "submit['SalePrice'] = preds.tolist()\n",
    "submit.head()"
   ]
  },
  {
   "cell_type": "code",
   "execution_count": 108,
   "metadata": {},
   "outputs": [],
   "source": [
    "submit.to_csv('../data/submission2.csv',index=False)"
   ]
  }
 ],
 "metadata": {
  "kernelspec": {
   "display_name": "base",
   "language": "python",
   "name": "python3"
  },
  "language_info": {
   "codemirror_mode": {
    "name": "ipython",
    "version": 3
   },
   "file_extension": ".py",
   "mimetype": "text/x-python",
   "name": "python",
   "nbconvert_exporter": "python",
   "pygments_lexer": "ipython3",
   "version": "3.12.3"
  }
 },
 "nbformat": 4,
 "nbformat_minor": 2
}
