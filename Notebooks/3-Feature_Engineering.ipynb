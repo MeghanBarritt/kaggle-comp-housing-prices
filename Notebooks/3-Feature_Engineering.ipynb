{
 "cells": [
  {
   "cell_type": "markdown",
   "metadata": {},
   "source": [
    "# 3 - Feature Engineering"
   ]
  },
  {
   "cell_type": "code",
   "execution_count": null,
   "metadata": {},
   "outputs": [],
   "source": [
    "import pandas as pd\n",
    "train_df = pd.read_csv('../data/housing_train.csv')\n",
    "test_df = pd.read_csv('../data/housing_test.csv')"
   ]
  },
  {
   "cell_type": "markdown",
   "metadata": {},
   "source": [
    "# 'NA' does not exist; need to fillna"
   ]
  },
  {
   "cell_type": "markdown",
   "metadata": {},
   "source": [
    "**Mapping quality values to numbers.**"
   ]
  },
  {
   "cell_type": "markdown",
   "metadata": {},
   "source": [
    "5 <- Ex;\tExcellent<br>\n",
    "4 <- Gd;\tGood<br>\n",
    "3 <- TA;\tAverage/Typical<br>\n",
    "2 <- Fa;\tFair<br>\n",
    "1 <- Po;\tPoor<br>\n",
    "0 <- NA;    None<p>\n",
    "\n",
    "Applies to:<br>\n",
    "ExterQual, \n",
    "ExterCond,\n",
    "BsmtQual,\n",
    "BsmtCond, \n",
    "HeatingQC,\n",
    "KitchenQual,\n",
    "FireplaceQu, \n",
    "GarageQual,\n",
    "GarageCond, \n",
    "PoolQC"
   ]
  },
  {
   "cell_type": "code",
   "execution_count": null,
   "metadata": {},
   "outputs": [],
   "source": [
    "mapping1 = {'Ex':5,'Gd':4,'TA':3,'Fa':2,'Po':1}"
   ]
  },
  {
   "cell_type": "code",
   "execution_count": null,
   "metadata": {},
   "outputs": [],
   "source": [
    "train_df['ExterQual'] = train_df['ExterQual'].map(mapping1)\n",
    "train_df['ExterCond'] = train_df['ExterCond'].map(mapping1)\n",
    "train_df['BsmtQual'] = train_df['BsmtQual'].map(mapping1)\n",
    "train_df['BsmtCond'] = train_df['BsmtCond'].map(mapping1)\n",
    "train_df['HeatingQC'] = train_df['HeatingQC'].map(mapping1)\n",
    "train_df['KitchenQual'] = train_df['KitchenQual'].map(mapping1)\n",
    "train_df['FireplaceQu'] = train_df['FireplaceQu'].map(mapping1)\n",
    "train_df['GarageQual'] = train_df['GarageQual'].map(mapping1)\n",
    "train_df['GarageCond'] = train_df['GarageCond'].map(mapping1)\n",
    "train_df['PoolQC'] = train_df['PoolQC'].map(mapping1)"
   ]
  },
  {
   "cell_type": "code",
   "execution_count": null,
   "metadata": {},
   "outputs": [],
   "source": [
    "test_df['ExterQual'] = test_df['ExterQual'].map(mapping1)\n",
    "test_df['ExterCond'] = test_df['ExterCond'].map(mapping1)\n",
    "test_df['BsmtQual'] = test_df['BsmtQual'].map(mapping1)\n",
    "test_df['BsmtCond'] = test_df['BsmtCond'].map(mapping1)\n",
    "test_df['HeatingQC'] = test_df['HeatingQC'].map(mapping1)\n",
    "test_df['KitchenQual'] = test_df['KitchenQual'].map(mapping1)\n",
    "test_df['FireplaceQu'] = test_df['FireplaceQu'].map(mapping1)\n",
    "test_df['GarageQual'] = test_df['GarageQual'].map(mapping1)\n",
    "test_df['GarageCond'] = test_df['GarageCond'].map(mapping1)\n",
    "test_df['PoolQC'] = test_df['PoolQC'].map(mapping1)"
   ]
  },
  {
   "cell_type": "markdown",
   "metadata": {},
   "source": [
    "4 <- Gd;\tGood Exposure<br>\n",
    "3 <- Av;\tAverage Exposure (split levels or foyers typically score average or above)<br>\n",
    "2 <- Mn;\tMimimum Exposure<br>\n",
    "1 <- No;\tNo Exposure<br>\n",
    "0 <- NA;\tNo Basement<p>\n",
    "\n",
    "Applies to:<br>\n",
    "BsmtExposure"
   ]
  },
  {
   "cell_type": "code",
   "execution_count": null,
   "metadata": {},
   "outputs": [],
   "source": [
    "mapping2 = {'Gd':4,'Av':3,'Mn':2,'No':1}"
   ]
  },
  {
   "cell_type": "code",
   "execution_count": null,
   "metadata": {},
   "outputs": [],
   "source": [
    "train_df['BsmtExposure'] = train_df['BsmtExposure'].map(mapping2)"
   ]
  },
  {
   "cell_type": "code",
   "execution_count": null,
   "metadata": {},
   "outputs": [],
   "source": [
    "test_df['BsmtExposure'] = test_df['BsmtExposure'].map(mapping2)"
   ]
  },
  {
   "cell_type": "markdown",
   "metadata": {},
   "source": [
    "6 <- GLQ;\tGood Living Quarters<br>\n",
    "5 <- ALQ;\tAverage Living Quarters<br>\n",
    "4 <- BLQ;\tBelow Average Living Quarters<br>\n",
    "3 <- Rec;\tAverage Rec Room<br>\n",
    "2 <- LwQ;\tLow Quality<br>\n",
    "1 <- Unf;\tUnfinshed<br>\n",
    "0 <- NA;\tNone<p>\n",
    "\n",
    "Applies to:<br>\n",
    "BsmtFinType1,\n",
    "BsmtFinType2"
   ]
  },
  {
   "cell_type": "code",
   "execution_count": null,
   "metadata": {},
   "outputs": [],
   "source": [
    "mapping3 = {'GLQ':6,'ALQ':5,'BLQ':4,'Rec':3,'LwQ':2,'Unf':1}"
   ]
  },
  {
   "cell_type": "code",
   "execution_count": null,
   "metadata": {},
   "outputs": [],
   "source": [
    "train_df['BsmtFinType1'] = train_df['BsmtFinType1'].map(mapping3)\n",
    "train_df['BsmtFinType2'] = train_df['BsmtFinType2'].map(mapping3)"
   ]
  },
  {
   "cell_type": "code",
   "execution_count": null,
   "metadata": {},
   "outputs": [],
   "source": [
    "test_df['BsmtFinType1'] = test_df['BsmtFinType1'].map(mapping3)\n",
    "test_df['BsmtFinType2'] = test_df['BsmtFinType2'].map(mapping3)"
   ]
  },
  {
   "cell_type": "markdown",
   "metadata": {},
   "source": [
    "Grvl\tGravel<br>\n",
    "Pave\tPaved<br>\n",
    "NA \tNone<p>\n",
    "\n",
    "Applies to:<br>\n",
    "Street, Alley"
   ]
  },
  {
   "cell_type": "markdown",
   "metadata": {},
   "source": [
    "CentralAir: Central air conditioning\n",
    "\n",
    "       N\tNo\n",
    "       Y\tYes"
   ]
  },
  {
   "cell_type": "markdown",
   "metadata": {},
   "source": [
    "Electrical: Electrical system\n",
    "\n",
    "       SBrkr\tStandard Circuit Breakers & Romex\n",
    "       FuseA\tFuse Box over 60 AMP and all Romex wiring (Average)\t\n",
    "       FuseF\t60 AMP Fuse Box and mostly Romex wiring (Fair)\n",
    "       FuseP\t60 AMP Fuse Box and mostly knob & tube wiring (poor)\n",
    "       Mix\tMixed"
   ]
  },
  {
   "cell_type": "markdown",
   "metadata": {},
   "source": [
    "Fence: Fence quality\n",
    "\t\t\n",
    "       GdPrv\tGood Privacy\n",
    "       MnPrv\tMinimum Privacy\n",
    "       GdWo\tGood Wood\n",
    "       MnWw\tMinimum Wood/Wire\n",
    "       NA\tNo Fence\n",
    "\n",
    "Privacy and Wood separately??"
   ]
  },
  {
   "cell_type": "markdown",
   "metadata": {},
   "source": [
    "Also to fillna:\n",
    "\n",
    "LotFrontage: Linear feet of street connected to property\n",
    "\n"
   ]
  },
  {
   "cell_type": "markdown",
   "metadata": {},
   "source": [
    "Expand to OneHot\n",
    "\n",
    "MiscFeature: Miscellaneous feature not covered in other categories\n",
    "\t\t\n",
    "       Elev\tElevator\n",
    "       Gar2\t2nd Garage (if not described in garage section)\n",
    "       Othr\tOther\n",
    "       Shed\tShed (over 100 SF)\n",
    "       TenC\tTennis Court\n",
    "       NA\tNone\n",
    "\n",
    "\n",
    "MSZoning: Identifies the general zoning classification of the sale.\n",
    "\t\t\n",
    "       A\tAgriculture\n",
    "       C\tCommercial\n",
    "       FV\tFloating Village Residential\n",
    "       I\tIndustrial\n",
    "       RH\tResidential High Density\n",
    "       RL\tResidential Low Density\n",
    "       RP\tResidential Low Density Park \n",
    "       RM\tResidential Medium Density\n",
    "       Add 'unknown' for missing values'"
   ]
  }
 ],
 "metadata": {
  "kernelspec": {
   "display_name": "base",
   "language": "python",
   "name": "python3"
  },
  "language_info": {
   "name": "python",
   "version": "3.12.3"
  }
 },
 "nbformat": 4,
 "nbformat_minor": 2
}
