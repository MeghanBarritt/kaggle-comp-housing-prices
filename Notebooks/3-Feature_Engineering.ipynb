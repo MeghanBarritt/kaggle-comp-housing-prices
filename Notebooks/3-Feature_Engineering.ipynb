{
 "cells": [
  {
   "cell_type": "markdown",
   "metadata": {},
   "source": [
    "# 3 - Feature Engineering"
   ]
  },
  {
   "cell_type": "code",
   "execution_count": 1447,
   "metadata": {},
   "outputs": [],
   "source": [
    "import pandas as pd\n",
    "pd.set_option('display.max_columns', None)\n",
    "train = pd.read_pickle('../pickles/cleaned/train_cleaned')\n",
    "test = pd.read_pickle('../pickles/cleaned/test_cleaned')"
   ]
  },
  {
   "cell_type": "markdown",
   "metadata": {},
   "source": [
    "### Value Mapping<p>\n",
    "In order to be used in regression, all columns need to be in a numberical format. Additionally, some columns can be combined into more meaningful data points, such as room counts.<p>\n",
    "First, heirarchical values, such as those ranging from 'poor' to 'excellent' can be converted into numerical ones quite easily, with 1 as the worst and counting up, using 0 where there is no data at all. <p>\n",
    "Some value schema are shared across multiple columns, and can all be mapped together."
   ]
  },
  {
   "cell_type": "markdown",
   "metadata": {},
   "source": [
    "5 <- Ex\t(Excellent) <br>\n",
    "4 <- Gd\t(Good)<br>\n",
    "3 <- TA\t(Average/Typical)<br>\n",
    "2 <- Fa\t(Fair)<br>\n",
    "1 <- Po\t(Poor)<br>\n",
    "0 <- None\t(Doesn't have)<p>\n",
    "\n",
    "Columns this applies to:<p>\n",
    "`ExterQual`: Evaluates the quality of the material on the exterior<br>\n",
    "`ExterCond`: Evaluates the present condition of the material on the exterior<br>\n",
    "`BsmtQual`: Evaluates the height of the basement<br>\n",
    "`BsmtCond`: Evaluates the general condition of the basement<br>\n",
    "`HeatingQC`: Heating quality and condition<br>\n",
    "`KitchenQual`: Kitchen quality<br>\n",
    "`FireplaceQu`: Fireplace quality<br>\n",
    "`GarageQual`: Garage quality<br>\n",
    "`GarageCond`: Garage condition<br>\n",
    "`PoolQC`: Pool quality"
   ]
  },
  {
   "cell_type": "code",
   "execution_count": 1448,
   "metadata": {},
   "outputs": [],
   "source": [
    "mapping1 = {'Ex':5, 'Gd':4, 'TA':3, 'Fa':2, 'Po':1, 'None':0}"
   ]
  },
  {
   "cell_type": "code",
   "execution_count": 1449,
   "metadata": {},
   "outputs": [],
   "source": [
    "train.loc[:, 'PoolQC'] = train['PoolQC'].map(mapping1)\n",
    "train.loc[:, 'FireplaceQu'] = train['FireplaceQu'].map(mapping1)\n",
    "train.loc[:, 'GarageCond'] = train['GarageCond'].map(mapping1)\n",
    "train.loc[:, 'GarageQual'] = train['GarageQual'].map(mapping1)\n",
    "train.loc[:, 'KitchenQual'] = train['KitchenQual'].map(mapping1)\n",
    "train.loc[:, 'HeatingQC'] = train['HeatingQC'].map(mapping1)\n",
    "train.loc[:, 'BsmtCond'] = train['BsmtCond'].map(mapping1)\n",
    "train.loc[:, 'BsmtQual'] = train['BsmtQual'].map(mapping1)\n",
    "train.loc[:, 'ExterCond'] = train['ExterCond'].map(mapping1)\n",
    "train.loc[:, 'ExterQual'] = train['ExterQual'].map(mapping1)"
   ]
  },
  {
   "cell_type": "code",
   "execution_count": 1450,
   "metadata": {},
   "outputs": [],
   "source": [
    "test.loc[:, 'PoolQC'] = test['PoolQC'].map(mapping1)\n",
    "test.loc[:, 'FireplaceQu'] = test['FireplaceQu'].map(mapping1)\n",
    "test.loc[:, 'GarageCond'] = test['GarageCond'].map(mapping1)\n",
    "test.loc[:, 'GarageQual'] = test['GarageQual'].map(mapping1)\n",
    "test.loc[:, 'KitchenQual'] = test['KitchenQual'].map(mapping1)\n",
    "test.loc[:, 'HeatingQC'] = test['HeatingQC'].map(mapping1)\n",
    "test.loc[:, 'BsmtCond'] = test['BsmtCond'].map(mapping1)\n",
    "test.loc[:, 'BsmtQual'] = test['BsmtQual'].map(mapping1)\n",
    "test.loc[:, 'ExterCond'] = test['ExterCond'].map(mapping1)\n",
    "test.loc[:, 'ExterQual'] = test['ExterQual'].map(mapping1)"
   ]
  },
  {
   "cell_type": "markdown",
   "metadata": {},
   "source": [
    "6 <- GLQ (Good Living Quarters)<br>\n",
    "5 <- ALQ (Average Living Quarters)<br>\n",
    "4 <- BLQ (Below Average Living Quarters)\t<br>\n",
    "3 <- Rec (Average Rec Room)<br>\n",
    "2 <- LwQ (Low Quality)<br>\n",
    "1 <- Unf (Unfinshed)<br>\n",
    "0 <- None (Doesn't have)<p>\n",
    "\n",
    "Columes this applies to:<p>\n",
    "`BsmtFinType1`: Rating of basement finished area<br>\n",
    "`BsmtFinType2`: Rating of basement finished area (if multiple types)"
   ]
  },
  {
   "cell_type": "code",
   "execution_count": 1451,
   "metadata": {},
   "outputs": [],
   "source": [
    "mapping2 = {'GLQ':6, 'ALQ':5, 'BLQ':4, 'Rec':3, 'LwQ':2, 'Unf':1, 'None':0}\n",
    "\n",
    "train.loc[:, 'BsmtFinType1'] = train['BsmtFinType1'].map(mapping2)\n",
    "train.loc[:, 'BsmtFinType2'] = train['BsmtFinType2'].map(mapping2)\n",
    "\n",
    "test.loc[:, 'BsmtFinType1'] = test['BsmtFinType1'].map(mapping2)\n",
    "test.loc[:, 'BsmtFinType2'] = test['BsmtFinType2'].map(mapping2)"
   ]
  },
  {
   "cell_type": "markdown",
   "metadata": {},
   "source": [
    "2 <- Grvl\t(Gravel)<br>\n",
    "1 <- Pave\t(Paved)<br>\n",
    "0 <- None (Only on `Alley`; no alley access)<p>\n",
    "\n",
    "Applies to:<p>\n",
    "`Street`: Type of road access to property<br>\n",
    "`Alley`: Type of alley access to property"
   ]
  },
  {
   "cell_type": "code",
   "execution_count": 1452,
   "metadata": {},
   "outputs": [],
   "source": [
    "mapping3 = {'Grvl':2, 'Pave':1, 'None':0}\n",
    "\n",
    "train.loc[:, 'Street'] = train['Street'].map(mapping3)\n",
    "train.loc[:, 'Alley'] = train['Alley'].map(mapping3)\n",
    "\n",
    "test.loc[:, 'Street'] = test['Street'].map(mapping3)\n",
    "test.loc[:, 'Alley'] = test['Alley'].map(mapping3)"
   ]
  },
  {
   "cell_type": "markdown",
   "metadata": {},
   "source": [
    "The rest of the columns all have unique value sets and must be mapped individually.<p><br></p>\n",
    "\n",
    "I'm going to convert the values for `LotShape` into numeric values, based on increasing irregularity. <p>\n",
    "1 <- Reg\t(Regular)<br>\n",
    "2 <- IR1\t(Slightly irregular)<br>\n",
    "3 <- IR2\t(Moderately Irregular)<br>\n",
    "4 <- IR3\t(Irregular)"
   ]
  },
  {
   "cell_type": "code",
   "execution_count": 1453,
   "metadata": {},
   "outputs": [],
   "source": [
    "shapemap = {'Reg':1, 'IR1':2, 'IR2':3, 'IR3':4}\n",
    "\n",
    "train.loc[:, 'LotShape'] = train['LotShape'].map(shapemap)\n",
    "\n",
    "test.loc[:, 'LotShape'] = test['LotShape'].map(shapemap)"
   ]
  },
  {
   "cell_type": "markdown",
   "metadata": {},
   "source": [
    "I am doing the same for the `LandSlope` column, increasing with severity.<p>\n",
    "1 <- Gtl\t(Gentle slope)<br>\n",
    "2 <- Mod\t(Moderate Slope)<br>\n",
    "3 <- Sev\t(Severe Slope)"
   ]
  },
  {
   "cell_type": "code",
   "execution_count": 1454,
   "metadata": {},
   "outputs": [],
   "source": [
    "slopemap = {'Gtl':1, 'Mod':2, 'Sev':3}\n",
    "\n",
    "train.loc[:, 'LandSlope'] = train['LandSlope'].map(slopemap)\n",
    "\n",
    "test.loc[:, 'LandSlope'] = test['LandSlope'].map(slopemap)"
   ]
  },
  {
   "cell_type": "markdown",
   "metadata": {},
   "source": [
    "The values of the `LandContour` column imply an ordered heirarchy, and I am going to treat them as such.<p>\n",
    "\n",
    "4 <- Lvl\t(Near Flat/Level)<br>\n",
    "3 <- Bnk\t(Banked)<br>\n",
    "2 <- HLS\t(Hillside)<br>\n",
    "1 <- Low\t(Depression)"
   ]
  },
  {
   "cell_type": "code",
   "execution_count": 1455,
   "metadata": {},
   "outputs": [],
   "source": [
    "contmap = {'Lvl':4,'Bnk':3,'HLS':2,'Low':1}\n",
    "\n",
    "train.loc[:, 'LandContour'] = train['LandContour'].map(contmap)\n",
    "\n",
    "test.loc[:, 'LandContour'] = test['LandContour'].map(contmap)"
   ]
  },
  {
   "cell_type": "markdown",
   "metadata": {},
   "source": [
    "The `Utilities` column:<p>\n",
    "\n",
    "4 <- AllPub\t(All public Utilities)<br>\n",
    "3 <- NoSewr\t(Electricity, Gas, and Water (Septic Tank))<br>\n",
    "2 <- NoSeWa\t(Electricity and Gas Only)<br>\n",
    "1 <- ELO\t(Electricity only)"
   ]
  },
  {
   "cell_type": "code",
   "execution_count": 1456,
   "metadata": {},
   "outputs": [],
   "source": [
    "utilmap = {'AllPub':4, 'NoSewr':3, 'NoSeWa':2, 'ELO':1}\n",
    "\n",
    "train.loc[:, 'Utilities'] = train['Utilities'].map(utilmap)\n",
    "\n",
    "test.loc[:, 'Utilities'] = test['Utilities'].map(utilmap)"
   ]
  },
  {
   "cell_type": "markdown",
   "metadata": {},
   "source": [
    "The values of the `LotConfig` column also impy an ordered heirarchy, with more street frontage being more desirable.<p>\n",
    "\n",
    "1 <- Inside\t(Inside lot)<br>\n",
    "2 <- Corner\t(Corner lot)<br>\n",
    "3 <- CulDSac\t(Cul-de-sac)<br>\n",
    "4 <- FR2\t(Frontage on 2 sides)<br>\n",
    "5 <- FR3\t(Frontage on 3 sides)"
   ]
  },
  {
   "cell_type": "code",
   "execution_count": 1457,
   "metadata": {},
   "outputs": [],
   "source": [
    "configmap = {'Inside':1,'Corner':2,'CulDSac':3,'FR2':4,'FR3':5}\n",
    "\n",
    "train.loc[:, 'LotConfig'] = train['LotConfig'].map(configmap)\n",
    "\n",
    "test.loc[:, 'LotConfig'] = test['LotConfig'].map(configmap)"
   ]
  },
  {
   "cell_type": "markdown",
   "metadata": {},
   "source": [
    "The `BsmtExposure` column:<p>\n",
    "\n",
    "4 <- Gd\t(Good Exposure)<br>\n",
    "3 <- Av\t(Average Exposure)<br>\n",
    "2 <- Mn\t(Mimimum Exposure)<br>\n",
    "1 <- No\t(No Exposure)<br>\n",
    "0 <- None\t(No Basement)"
   ]
  },
  {
   "cell_type": "code",
   "execution_count": 1458,
   "metadata": {},
   "outputs": [],
   "source": [
    "bsmtmap = {'Gd':4, 'Av':3, 'Mn':2, 'No':1, 'None':0}\n",
    "\n",
    "train.loc[:, 'BsmtExposure'] = train['BsmtExposure'].map(bsmtmap)\n",
    "\n",
    "test.loc[:, 'BsmtExposure'] = test['BsmtExposure'].map(bsmtmap)"
   ]
  },
  {
   "cell_type": "markdown",
   "metadata": {},
   "source": [
    "The `Functional` column:<p>\n",
    "\n",
    "8 <- Typ\t(Typical Functionality)<br>\n",
    "7 <- Min1\t(Minor Deductions 1)<br>\n",
    "6 <- Min2\t(Minor Deductions 2)<br>\n",
    "5 <- Mod\t(Moderate Deductions)<br>\n",
    "4 <- Maj1\t(Major Deductions 1)<br>\n",
    "3 <- Maj2\t(Major Deductions 2)<br>\n",
    "2 <- Sev\t(Severely Damaged)<br>\n",
    "1 <- Sal\t(Salvage only)\n"
   ]
  },
  {
   "cell_type": "code",
   "execution_count": 1459,
   "metadata": {},
   "outputs": [],
   "source": [
    "functmap = {'Typ':8, 'Min1':7, 'Min2':6, 'Mod':5, 'Maj1':4, 'Maj2':3, 'Sev':2, 'Sal':1}\n",
    "\n",
    "train.loc[:, 'Functional'] = train['Functional'].map(functmap)\n",
    "\n",
    "test.loc[:, 'Functional'] = test['Functional'].map(functmap)"
   ]
  },
  {
   "cell_type": "markdown",
   "metadata": {},
   "source": [
    "The `GarageFinish` column:<p>\n",
    "\n",
    "3 <- Fin (Finished)<br>\n",
    "2 <- RFn (Rough Finished)<br>\n",
    "1 <- Unf (Unfinished)<br>\n",
    "0 <- None (No Garage)"
   ]
  },
  {
   "cell_type": "code",
   "execution_count": 1460,
   "metadata": {},
   "outputs": [],
   "source": [
    "garagemap = {'Fin':3, 'RFn':2, 'Unf':1, 'None':0}\n",
    "\n",
    "train.loc[:, 'GarageFinish'] = train['GarageFinish'].map(garagemap)\n",
    "\n",
    "test.loc[:, 'GarageFinish'] = test['GarageFinish'].map(garagemap)"
   ]
  },
  {
   "cell_type": "markdown",
   "metadata": {},
   "source": [
    "The `PavedDrive` column:<p>\n",
    "3 <- Y\t(Paved) <br>\n",
    "2 <- P\t(Partial Pavement)<br>\n",
    "1 <- N\t(Dirt/Gravel)"
   ]
  },
  {
   "cell_type": "code",
   "execution_count": 1461,
   "metadata": {},
   "outputs": [],
   "source": [
    "pavemap = {'Y':3, 'P':2, 'N':1}\n",
    "\n",
    "train.loc[:, 'PavedDrive'] = train['PavedDrive'].map(pavemap)\n",
    "\n",
    "test.loc[:, 'PavedDrive'] = test['PavedDrive'].map(pavemap)"
   ]
  },
  {
   "cell_type": "markdown",
   "metadata": {},
   "source": [
    "The `Fence` column contains values which look like they could be contrasting pairs, but because they are all in the same column, they can't be treated that way. As such, I think the best way to treat them is to assume they are meant to be heirarchical.<p>\n",
    "4 <- GdPrv\t(Good Privacy)<br>\n",
    "3 <- MnPrv\t(Minimum Privacy)<br>\n",
    "2 <- GdWo\t(Good Wood)<br>\n",
    "1 <- MnWw\t(Minimum Wood/Wire)<br>\n",
    "0 <- None\t(No Fence)"
   ]
  },
  {
   "cell_type": "code",
   "execution_count": 1462,
   "metadata": {},
   "outputs": [],
   "source": [
    "fencemap = {\n",
    "'GdPrv':4,'MnPrv':3,'GdWo':2,'MnWw':1,'None':0\n",
    "}\n",
    "\n",
    "train.loc[:, 'Fence'] = train['Fence'].map(fencemap)\n",
    "\n",
    "test.loc[:, 'Fence'] = test['Fence'].map(fencemap)"
   ]
  },
  {
   "cell_type": "markdown",
   "metadata": {},
   "source": [
    "Additionally, the `CentralAir` column currently contains Yes/No values, and as such can be re-mapped using the standard 1/0 schema."
   ]
  },
  {
   "cell_type": "code",
   "execution_count": 1463,
   "metadata": {},
   "outputs": [],
   "source": [
    "airmap = {'Y':1, 'N':0}\n",
    "\n",
    "train.loc[:, 'CentralAir'] = train['CentralAir'].map(airmap)\n",
    "\n",
    "test.loc[:, 'CentralAir'] = test['CentralAir'].map(airmap)"
   ]
  },
  {
   "cell_type": "markdown",
   "metadata": {},
   "source": [
    "The `GarageYrBlt` column has 'None' written in where a property has no garage. In order for this column to be useable, and because the type of garage (or lack thereof) is going to be handled later during One Hot Encoding, I am going to have to use a 0 for the 'None's. "
   ]
  },
  {
   "cell_type": "code",
   "execution_count": 1464,
   "metadata": {},
   "outputs": [],
   "source": [
    "train.loc[((train[train['GarageYrBlt']=='None'].index).tolist()), 'GarageYrBlt'] = 0\n",
    "\n",
    "test.loc[((test[test['GarageYrBlt']=='None'].index).tolist()), 'GarageYrBlt'] = 0"
   ]
  },
  {
   "cell_type": "markdown",
   "metadata": {},
   "source": [
    "### One Hot Encoding<p>\n",
    "Features that aren't numerical and have no obvious heirarchy need to be handled via One Hot Encoding."
   ]
  },
  {
   "cell_type": "code",
   "execution_count": 1465,
   "metadata": {},
   "outputs": [],
   "source": [
    "from sklearn.preprocessing import OneHotEncoder\n",
    "enc = OneHotEncoder(sparse_output=False)"
   ]
  },
  {
   "cell_type": "markdown",
   "metadata": {},
   "source": [
    "In the interest of not having a massive number of columns at the end, some values are going to be combined if ***a)*** they are not very numerous and ***b)*** they can logically be combined."
   ]
  },
  {
   "cell_type": "markdown",
   "metadata": {},
   "source": [
    "There are some column pairs that share the same possible values. In order to capture both columns' data for each pair, I'm expanding both of them and then combing them into a single column set, with a max of two points across them."
   ]
  },
  {
   "cell_type": "markdown",
   "metadata": {},
   "source": [
    "`Condition1` and `Condition2` share the following value set:<p>\n",
    "\n",
    "Artery - Adjacent to arterial street<br>\n",
    "Feedr - Adjacent to feeder street<br>\n",
    "Norm - Normal\t<br>\n",
    "RRNn - Within 200' of North-South Railroad<br>\n",
    "RRAn - Adjacent to North-South Railroad<br>\n",
    "PosN - Near positive off-site feature--park, greenbelt, etc.<br>\n",
    "PosA - Adjacent to postive off-site feature<br>\n",
    "RRNe - Within 200' of East-West Railroad<br>\n",
    "RRAe - Adjacent to East-West Railroad<p>\n",
    "\n",
    "The vast majority of values are in the 'Norm' category, so I am going to be combining some of the other values. While 'Artery' and 'Feedr' could potentially be combined into a single 'Street' value, I can see the logic in differentiating when a property is on a much busier street. I will be combining the directional railroad values, but maintaining the differentiation for distance.<p>"
   ]
  },
  {
   "cell_type": "markdown",
   "metadata": {},
   "source": [
    "**RRN - Within 200' of Railroad**<p>\n",
    "RRNn - Within 200' of North-South Railroad<br>\n",
    "RRNe - Within 200' of East-West Railroad<p>\n",
    "<br>\n",
    "**RRA - Adjacent to Railroad**<p>\n",
    "RRAn - Adjacent to North-South Railroad<br>\n",
    "RRAe - Adjacent to East-West Railroad"
   ]
  },
  {
   "cell_type": "code",
   "execution_count": 1466,
   "metadata": {},
   "outputs": [],
   "source": [
    "# apply 'RRN' to Condition1 column of train\n",
    "train.loc[((train[\n",
    "    (train['Condition1']=='RRNn')|\n",
    "    (train['Condition1']=='RRNe')\n",
    "    ].index).tolist()), 'Condition1'] = 'RRN'\n",
    "\n",
    "# apply 'RRN' to Condition2 column of train\n",
    "train.loc[((train[\n",
    "    (train['Condition2']=='RRNn')|\n",
    "    (train['Condition2']=='RRNe')\n",
    "    ].index).tolist()), 'Condition2'] = 'RRN'\n",
    "\n",
    "# apply 'RRN' to Condition1 column of test\n",
    "test.loc[((test[\n",
    "    (test['Condition1']=='RRNn')|\n",
    "    (test['Condition1']=='RRNe')\n",
    "    ].index).tolist()), 'Condition1'] = 'RRN'\n",
    "\n",
    "# apply 'RRN' to Condition2 column of test\n",
    "test.loc[((test[\n",
    "    (test['Condition2']=='RRNn')|\n",
    "    (test['Condition2']=='RRNe')\n",
    "    ].index).tolist()), 'Condition2'] = 'RRN'"
   ]
  },
  {
   "cell_type": "code",
   "execution_count": 1467,
   "metadata": {},
   "outputs": [],
   "source": [
    "# apply 'RRA' to Condition1 column of train\n",
    "train.loc[((train[\n",
    "    (train['Condition1']=='RRAn')|\n",
    "    (train['Condition1']=='RRAe')\n",
    "    ].index).tolist()), 'Condition1'] = 'RRA'\n",
    "\n",
    "# apply 'RRA' to Condition2 column of train\n",
    "train.loc[((train[\n",
    "    (train['Condition2']=='RRAn')|\n",
    "    (train['Condition2']=='RRAe')\n",
    "    ].index).tolist()), 'Condition2'] = 'RRA'\n",
    "\n",
    "# apply 'RRA' to Condition1 column of test\n",
    "test.loc[((test[\n",
    "    (test['Condition1']=='RRAn')|\n",
    "    (test['Condition1']=='RRAe')\n",
    "    ].index).tolist()), 'Condition1'] = 'RRA'\n",
    "\n",
    "# apply 'RRA' to Condition2 column of test\n",
    "test.loc[((test[\n",
    "    (test['Condition2']=='RRAn')|\n",
    "    (test['Condition2']=='RRAe')\n",
    "    ].index).tolist()), 'Condition2'] = 'RRA'"
   ]
  },
  {
   "cell_type": "markdown",
   "metadata": {},
   "source": [
    "Handling the train set:"
   ]
  },
  {
   "cell_type": "code",
   "execution_count": 1468,
   "metadata": {},
   "outputs": [],
   "source": [
    "# expand both columns and combine for coalation\n",
    "train_c1 = pd.DataFrame(data=(enc.fit_transform(train[['Condition1']])),columns=(enc.get_feature_names_out()))\n",
    "train_c2 = pd.DataFrame(data=(enc.fit_transform(train[['Condition2']])),columns=(enc.get_feature_names_out()))\n",
    "train_condition = pd.concat([train_c1,train_c2],axis=1)"
   ]
  },
  {
   "cell_type": "code",
   "execution_count": 1469,
   "metadata": {},
   "outputs": [],
   "source": [
    "# create columns for coalating values \n",
    "train_condition['Cond_Artery'] = 0.0\n",
    "train_condition['Cond_Feedr'] = 0.0\n",
    "train_condition['Cond_Norm'] = 0.0\n",
    "train_condition['Cond_PosA'] = 0.0\n",
    "train_condition['Cond_PosN'] = 0.0\n",
    "train_condition['Cond_RRA'] = 0.0\n",
    "train_condition['Cond_RRN'] = 0.0"
   ]
  },
  {
   "cell_type": "code",
   "execution_count": 1470,
   "metadata": {},
   "outputs": [],
   "source": [
    "# where either 'Artery' expansion is 1, fill master column with a 1\n",
    "train_condition.loc[((train_condition[\n",
    "    (train_condition['Condition1_Artery']==1)| \n",
    "    (train_condition['Condition2_Artery']==1)\n",
    "].index).tolist()), 'Cond_Artery'] = 1\n",
    "\n",
    "# where either 'Feedr' expansion is 1, fill master column with a 1\n",
    "train_condition.loc[((train_condition[\n",
    "    (train_condition['Condition1_Feedr']==1)|\n",
    "    (train_condition['Condition2_Feedr']==1)\n",
    "].index).tolist()), 'Cond_Feedr'] = 1\n",
    "\n",
    "# where either 'Norm' expansion is 1, fill master column with a 1\n",
    "train_condition.loc[((train_condition[\n",
    "    (train_condition['Condition1_Norm']==1)|\n",
    "    (train_condition['Condition2_Norm']==1)\n",
    "].index).tolist()), 'Cond_Norm'] = 1\n",
    "\n",
    "# where either 'PosA' expansion is 1, fill master column with a 1\n",
    "train_condition.loc[((train_condition[\n",
    "    (train_condition['Condition1_PosA']==1)|\n",
    "    (train_condition['Condition2_PosA']==1)\n",
    "].index).tolist()), 'Cond_PosA'] = 1\n",
    "\n",
    "# where either 'PosN' expansion is 1, fill master column with a 1\n",
    "train_condition.loc[((train_condition[\n",
    "    (train_condition['Condition1_PosN']==1)|\n",
    "    (train_condition['Condition2_PosN']==1)\n",
    "].index).tolist()), 'Cond_PosN'] = 1\n",
    "\n",
    "# where either 'RRA' expansion is 1, fill master column with a 1\n",
    "train_condition.loc[((train_condition[\n",
    "    (train_condition['Condition1_RRA']==1)|\n",
    "    (train_condition['Condition2_RRA']==1)\n",
    "].index).tolist()), 'Cond_RRA'] = 1\n",
    "\n",
    "# where either 'RRN' expansion is 1, fill master column with a 1\n",
    "train_condition.loc[((train_condition[\n",
    "    (train_condition['Condition1_RRN']==1)|\n",
    "    (train_condition['Condition2_RRN']==1)\n",
    "].index).tolist()), 'Cond_RRN'] = 1"
   ]
  },
  {
   "cell_type": "code",
   "execution_count": 1471,
   "metadata": {},
   "outputs": [],
   "source": [
    "# merge the columns to keep back onto main dataframe\n",
    "train = pd.concat([train.reset_index(),train_condition[['Cond_Artery','Cond_Feedr','Cond_Norm','Cond_RRN','Cond_RRA',\n",
    "                                                        'Cond_PosN','Cond_PosA']]],axis=1)"
   ]
  },
  {
   "cell_type": "markdown",
   "metadata": {},
   "source": [
    "And the test set:"
   ]
  },
  {
   "cell_type": "code",
   "execution_count": 1472,
   "metadata": {},
   "outputs": [],
   "source": [
    "# expand both columns and combine for coalation\n",
    "test_c1 = pd.DataFrame(data=(enc.fit_transform(test[['Condition1']])),columns=(enc.get_feature_names_out()))\n",
    "test_c2 = pd.DataFrame(data=(enc.fit_transform(test[['Condition2']])),columns=(enc.get_feature_names_out()))\n",
    "test_condition = pd.concat([test_c1,test_c2],axis=1)"
   ]
  },
  {
   "cell_type": "code",
   "execution_count": 1473,
   "metadata": {},
   "outputs": [],
   "source": [
    "# rename columns that did not appear in the second set of conditions\n",
    "test_condition = test_condition.rename(columns={'Condition1_RRA':'Cond_RRA','Condition1_RRN':'Cond_RRN'})\n",
    "\n",
    "# create columns for coalating values \n",
    "test_condition['Cond_Artery'] = 0.0\n",
    "test_condition['Cond_Feedr'] = 0.0\n",
    "test_condition['Cond_Norm'] = 0.0\n",
    "test_condition['Cond_PosA'] = 0.0\n",
    "test_condition['Cond_PosN'] = 0.0"
   ]
  },
  {
   "cell_type": "code",
   "execution_count": 1474,
   "metadata": {},
   "outputs": [],
   "source": [
    "# where either 'Artery' expansion is 1, fill master column with a 1\n",
    "test_condition.loc[((test_condition[\n",
    "    (test_condition['Condition1_Artery']==1)|\n",
    "    (test_condition['Condition2_Artery']==1)\n",
    "].index).tolist()), 'Cond_Artery'] = 1\n",
    "\n",
    "# where either 'Feedr' expansion is 1, fill master column with a 1\n",
    "test_condition.loc[((test_condition[\n",
    "    (test_condition['Condition1_Feedr']==1)|\n",
    "    (test_condition['Condition2_Feedr']==1)\n",
    "].index).tolist()), 'Cond_Feedr'] = 1\n",
    "\n",
    "# where either 'Norm' expansion is 1, fill master column with a 1\n",
    "test_condition.loc[((test_condition[\n",
    "    (test_condition['Condition1_Norm']==1)|\n",
    "    (test_condition['Condition2_Norm']==1)\n",
    "].index).tolist()), 'Cond_Norm'] = 1\n",
    "\n",
    "# where either 'PosA' expansion is 1, fill master column with a 1\n",
    "test_condition.loc[((test_condition[\n",
    "    (test_condition['Condition1_PosA']==1)|\n",
    "    (test_condition['Condition2_PosA']==1)\n",
    "].index).tolist()), 'Cond_PosA'] = 1\n",
    "\n",
    "# where either 'PosN' expansion is 1, fill master column with a 1\n",
    "test_condition.loc[((test_condition[\n",
    "    (test_condition['Condition1_PosN']==1)|\n",
    "    (test_condition['Condition2_PosN']==1)\n",
    "].index).tolist()), 'Cond_PosN'] = 1"
   ]
  },
  {
   "cell_type": "code",
   "execution_count": 1475,
   "metadata": {},
   "outputs": [],
   "source": [
    "# merge the columns to keep back onto main dataframe\n",
    "test = pd.concat([test.reset_index(),test_condition[['Cond_Artery','Cond_Feedr','Cond_Norm','Cond_RRN','Cond_RRA',\n",
    "                                                        'Cond_PosN','Cond_PosA']]],axis=1)"
   ]
  },
  {
   "cell_type": "markdown",
   "metadata": {},
   "source": [
    "`Exterior1st` and `Exterior2nd` share the following set of possible values:<p>\n",
    "\n",
    "AsbShng - Asbestos Shingles<br>\n",
    "AsphShn - Asphalt Shingles<br>\n",
    "BrkComm - Brick Common<br>\n",
    "BrkFace - Brick Face<br>\n",
    "CBlock - Cinder Block<br>\n",
    "CemntBd - Cement Board<br>\n",
    "HdBoard - Hard Board<br>\n",
    "ImStucc - Imitation Stucco<br>\n",
    "MetalSd - Metal Siding<br>\n",
    "Other - Other<br>\n",
    "Plywood - Plywood<br>\n",
    "PreCast - PreCast<br>\n",
    "Stone  -Stone<br>\n",
    "Stucco - Stucco<br>\n",
    "VinylSd - Vinyl Siding<br>\n",
    "Wd Sdng - Wood Siding<br>\n",
    "WdShing - Wood Shingles<p>\n",
    "\n",
    "There aren't any obvious places to combine values here.<p>\n",
    "<br>\n",
    "Handling the train set:"
   ]
  },
  {
   "cell_type": "code",
   "execution_count": 1476,
   "metadata": {},
   "outputs": [],
   "source": [
    "train_ext1 = pd.DataFrame(data=(enc.fit_transform(train[['Exterior1st']])),columns=(enc.get_feature_names_out()))\n",
    "train_ext2 = pd.DataFrame(data=(enc.fit_transform(train[['Exterior2nd']])),columns=(enc.get_feature_names_out()))\n",
    "train_exterior = pd.concat([train_ext1,train_ext2],axis=1)"
   ]
  },
  {
   "cell_type": "code",
   "execution_count": 1477,
   "metadata": {},
   "outputs": [],
   "source": [
    "# rename the column that only appears in one dataframe\n",
    "train_exterior = train_exterior.rename(columns={'Exterior2nd_Other':'Ext_Other'})\n",
    "\n",
    "# create columns for coalating values\n",
    "train_exterior['Ext_AsbShng'] = 0.0\n",
    "train_exterior['Ext_AsphShn'] = 0.0\n",
    "train_exterior['Ext_BrkComm'] = 0.0\n",
    "train_exterior['Ext_BrkFace'] = 0.0\n",
    "train_exterior['Ext_CBlock'] = 0.0\n",
    "train_exterior['Ext_CemntBd'] = 0.0\n",
    "train_exterior['Ext_HdBoard'] = 0.0\n",
    "train_exterior['Ext_ImStucc'] = 0.0\n",
    "train_exterior['Ext_MetalSd'] = 0.0\n",
    "train_exterior['Ext_Plywood'] = 0.0\n",
    "train_exterior['Ext_Stone'] = 0.0\n",
    "train_exterior['Ext_Stucco'] = 0.0\n",
    "train_exterior['Ext_VinylSd'] = 0.0\n",
    "train_exterior['Ext_Wd_Sdng'] = 0.0\n",
    "train_exterior['Ext_WdShing'] = 0.0"
   ]
  },
  {
   "cell_type": "code",
   "execution_count": 1478,
   "metadata": {},
   "outputs": [],
   "source": [
    "# where either 'AsbShng' expansion is 1, fill master column with a 1\n",
    "train_exterior.loc[((train_exterior[\n",
    "    (train_exterior['Exterior1st_AsbShng']==1)|\n",
    "    (train_exterior['Exterior2nd_AsbShng']==1)\n",
    "].index).tolist()), 'Ext_AsbShng'] = 1\n",
    "\n",
    "# where either 'AsphShn' expansion is 1, fill master column with a 1\n",
    "train_exterior.loc[((train_exterior[\n",
    "    (train_exterior['Exterior1st_AsphShn']==1)|\n",
    "    (train_exterior['Exterior2nd_AsphShn']==1)\n",
    "].index).tolist()), 'Ext_AsphShn'] = 1\n",
    "\n",
    "# where either 'BrkComm' expansion is 1, fill master column with a 1\n",
    "train_exterior.loc[((train_exterior[\n",
    "    (train_exterior['Exterior1st_BrkComm']==1)|\n",
    "    (train_exterior['Exterior2nd_Brk Cmn']==1)\n",
    "].index).tolist()), 'Ext_BrkComm'] = 1\n",
    "\n",
    "# where either 'BrkFace' expansion is 1, fill master column with a 1\n",
    "train_exterior.loc[((train_exterior[\n",
    "    (train_exterior['Exterior1st_BrkFace']==1)|\n",
    "    (train_exterior['Exterior2nd_BrkFace']==1)\n",
    "].index).tolist()), 'Ext_BrkFace'] = 1\n",
    "\n",
    "# where either 'CBlock' expansion is 1, fill master column with a 1\n",
    "train_exterior.loc[((train_exterior[\n",
    "    (train_exterior['Exterior1st_CBlock']==1)|\n",
    "    (train_exterior['Exterior2nd_CBlock']==1)\n",
    "].index).tolist()), 'Ext_CBlock'] = 1\n",
    "\n",
    "# where either 'CemntBd' expansion is 1, fill master column with a 1\n",
    "train_exterior.loc[((train_exterior[\n",
    "    (train_exterior['Exterior1st_CemntBd']==1)|\n",
    "    (train_exterior['Exterior2nd_CmentBd']==1)\n",
    "].index).tolist()), 'Ext_CemntBd'] = 1\n",
    "\n",
    "# where either 'HdBoard' expansion is 1, fill master column with a 1\n",
    "train_exterior.loc[((train_exterior[\n",
    "    (train_exterior['Exterior1st_HdBoard']==1)|\n",
    "    (train_exterior['Exterior2nd_HdBoard']==1)\n",
    "].index).tolist()), 'Ext_HdBoard'] = 1\n",
    "\n",
    "# where either 'ImStucc' expansion is 1, fill master column with a 1\n",
    "train_exterior.loc[((train_exterior[\n",
    "    (train_exterior['Exterior1st_ImStucc']==1)|\n",
    "    (train_exterior['Exterior2nd_ImStucc']==1)\n",
    "].index).tolist()), 'Ext_ImStucc'] = 1\n",
    "\n",
    "# where either 'MetalSd' expansion is 1, fill master column with a 1\n",
    "train_exterior.loc[((train_exterior[\n",
    "    (train_exterior['Exterior1st_MetalSd']==1)|\n",
    "    (train_exterior['Exterior2nd_MetalSd']==1)\n",
    "].index).tolist()), 'Ext_MetalSd'] = 1\n",
    "\n",
    "# where either 'Plywood' expansion is 1, fill master column with a 1\n",
    "train_exterior.loc[((train_exterior[\n",
    "    (train_exterior['Exterior1st_Plywood']==1)|\n",
    "    (train_exterior['Exterior2nd_Plywood']==1)\n",
    "].index).tolist()), 'Ext_Plywood'] = 1\n",
    "\n",
    "# where either 'Stone' expansion is 1, fill master column with a 1\n",
    "train_exterior.loc[((train_exterior[\n",
    "    (train_exterior['Exterior1st_Stone']==1)|\n",
    "    (train_exterior['Exterior2nd_Stone']==1)\n",
    "].index).tolist()), 'Ext_Stone'] = 1\n",
    "\n",
    "# where either 'Stucco' expansion is 1, fill master column with a 1\n",
    "train_exterior.loc[((train_exterior[\n",
    "    (train_exterior['Exterior1st_Stucco']==1)|\n",
    "    (train_exterior['Exterior2nd_Stucco']==1)\n",
    "].index).tolist()), 'Ext_Stucco'] = 1\n",
    "\n",
    "# where either 'VinylSd' expansion is 1, fill master column with a 1\n",
    "train_exterior.loc[((train_exterior[\n",
    "    (train_exterior['Exterior1st_VinylSd']==1)|\n",
    "    (train_exterior['Exterior2nd_VinylSd']==1)\n",
    "].index).tolist()), 'Ext_VinylSd'] = 1\n",
    "\n",
    "# where either 'Wd Sdng' expansion is 1, fill master column with a 1\n",
    "train_exterior.loc[((train_exterior[\n",
    "    (train_exterior['Exterior1st_Wd Sdng']==1)|\n",
    "    (train_exterior['Exterior2nd_Wd Shng']==1)\n",
    "].index).tolist()), 'Ext_Wd_Sdng'] = 1\n",
    "\n",
    "# where either 'WdShing' expansion is 1, fill master column with a 1\n",
    "train_exterior.loc[((train_exterior[\n",
    "    (train_exterior['Exterior1st_WdShing']==1)|\n",
    "    (train_exterior['Exterior2nd_Wd Sdng']==1)\n",
    "].index).tolist()), 'Ext_WdShing'] = 1"
   ]
  },
  {
   "cell_type": "code",
   "execution_count": 1479,
   "metadata": {},
   "outputs": [],
   "source": [
    "# merge the columns to keep back onto main dataframe\n",
    "train = pd.concat([train,train_exterior[['Ext_AsbShng','Ext_AsphShn','Ext_BrkComm','Ext_BrkFace','Ext_CBlock','Ext_CemntBd','Ext_HdBoard','Ext_ImStucc',\n",
    "'Ext_MetalSd','Ext_Other','Ext_Plywood','Ext_Stone','Ext_Stucco','Ext_VinylSd','Ext_Wd_Sdng','Ext_WdShing']]],axis=1)"
   ]
  },
  {
   "cell_type": "markdown",
   "metadata": {},
   "source": [
    "The test set:"
   ]
  },
  {
   "cell_type": "code",
   "execution_count": 1480,
   "metadata": {},
   "outputs": [],
   "source": [
    "test_ext1 = pd.DataFrame(data=(enc.fit_transform(test[['Exterior1st']])),columns=(enc.get_feature_names_out()))\n",
    "test_ext2 = pd.DataFrame(data=(enc.fit_transform(test[['Exterior2nd']])),columns=(enc.get_feature_names_out()))\n",
    "test_exterior = pd.concat([test_ext1,test_ext2],axis=1)"
   ]
  },
  {
   "cell_type": "code",
   "execution_count": 1481,
   "metadata": {},
   "outputs": [],
   "source": [
    "# rename columns that only appear in one dataframe\n",
    "test_exterior = test_exterior.rename(columns={'Exterior2nd_ImStucc':'Ext_ImStucc','Exterior2nd_Stone':'Ext_Stone'})\n",
    "\n",
    "# create columns for coalating values\n",
    "test_exterior['Ext_AsbShng'] = 0.0\n",
    "test_exterior['Ext_AsphShn'] = 0.0\n",
    "test_exterior['Ext_BrkComm'] = 0.0\n",
    "test_exterior['Ext_BrkFace'] = 0.0\n",
    "test_exterior['Ext_CBlock'] = 0.0\n",
    "test_exterior['Ext_CemntBd'] = 0.0\n",
    "test_exterior['Ext_HdBoard'] = 0.0\n",
    "test_exterior['Ext_MetalSd'] = 0.0\n",
    "test_exterior['Ext_Other'] = 0.0\n",
    "test_exterior['Ext_Plywood'] = 0.0\n",
    "test_exterior['Ext_Stucco'] = 0.0\n",
    "test_exterior['Ext_VinylSd'] = 0.0\n",
    "test_exterior['Ext_Wd_Sdng'] = 0.0\n",
    "test_exterior['Ext_WdShing'] = 0.0"
   ]
  },
  {
   "cell_type": "code",
   "execution_count": 1482,
   "metadata": {},
   "outputs": [],
   "source": [
    "# where either 'AsbShng' expansion is 1, fill master column with a 1\n",
    "test_exterior.loc[((test_exterior[\n",
    "    (test_exterior['Exterior1st_AsbShng']==1)|\n",
    "    (test_exterior['Exterior2nd_AsbShng']==1)\n",
    "].index).tolist()), 'Ext_AsbShng'] = 1\n",
    "\n",
    "# where either 'AsphShn' expansion is 1, fill master column with a 1\n",
    "test_exterior.loc[((test_exterior[\n",
    "    (test_exterior['Exterior1st_AsphShn']==1)|\n",
    "    (test_exterior['Exterior2nd_AsphShn']==1)\n",
    "].index).tolist()), 'Ext_AsphShn'] = 1\n",
    "\n",
    "# where either 'BrkComm' expansion is 1, fill master column with a 1\n",
    "test_exterior.loc[((test_exterior[\n",
    "    (test_exterior['Exterior1st_BrkComm']==1)|\n",
    "    (test_exterior['Exterior2nd_Brk Cmn']==1)\n",
    "].index).tolist()), 'Ext_BrkComm'] = 1\n",
    "\n",
    "# where either 'BrkFace' expansion is 1, fill master column with a 1\n",
    "test_exterior.loc[((test_exterior[\n",
    "    (test_exterior['Exterior1st_BrkFace']==1)|\n",
    "    (test_exterior['Exterior2nd_BrkFace']==1)\n",
    "].index).tolist()), 'Ext_BrkFace'] = 1\n",
    "\n",
    "# where either 'CBlock' expansion is 1, fill master column with a 1\n",
    "test_exterior.loc[((test_exterior[\n",
    "    (test_exterior['Exterior1st_CBlock']==1)|\n",
    "    (test_exterior['Exterior2nd_CBlock']==1)\n",
    "].index).tolist()), 'Ext_CBlock'] = 1\n",
    "\n",
    "# where either 'CemntBd' expansion is 1, fill master column with a 1\n",
    "test_exterior.loc[((test_exterior[\n",
    "    (test_exterior['Exterior1st_CemntBd']==1)|\n",
    "    (test_exterior['Exterior2nd_CmentBd']==1)\n",
    "].index).tolist()), 'Ext_CemntBd'] = 1\n",
    "\n",
    "# where either 'HdBoard' expansion is 1, fill master column with a 1\n",
    "test_exterior.loc[((test_exterior[\n",
    "    (test_exterior['Exterior1st_HdBoard']==1)|\n",
    "    (test_exterior['Exterior2nd_HdBoard']==1)\n",
    "].index).tolist()), 'Ext_HdBoard'] = 1\n",
    "\n",
    "# where either 'MetalSd' expansion is 1, fill master column with a 1\n",
    "test_exterior.loc[((test_exterior[\n",
    "    (test_exterior['Exterior1st_MetalSd']==1)|\n",
    "    (test_exterior['Exterior2nd_MetalSd']==1)\n",
    "].index).tolist()), 'Ext_MetalSd'] = 1\n",
    "\n",
    "# where either 'Other' expansion is 1, fill master column with a 1\n",
    "test_exterior.loc[((test_exterior[\n",
    "    (test_exterior['Exterior1st_Other']==1)|\n",
    "    (test_exterior['Exterior2nd_Other']==1)\n",
    "].index).tolist()), 'Ext_Other'] = 1\n",
    "\n",
    "# where either 'Plywood' expansion is 1, fill master column with a 1\n",
    "test_exterior.loc[((test_exterior[\n",
    "    (test_exterior['Exterior1st_Plywood']==1)|\n",
    "    (test_exterior['Exterior2nd_Plywood']==1)\n",
    "].index).tolist()), 'Ext_Plywood'] = 1\n",
    "\n",
    "# where either 'Stucco' expansion is 1, fill master column with a 1\n",
    "test_exterior.loc[((test_exterior[\n",
    "    (test_exterior['Exterior1st_Stucco']==1)|\n",
    "    (test_exterior['Exterior2nd_Stucco']==1)\n",
    "].index).tolist()), 'Ext_Stucco'] = 1\n",
    "\n",
    "# where either 'VinylSd' expansion is 1, fill master column with a 1\n",
    "test_exterior.loc[((test_exterior[\n",
    "    (test_exterior['Exterior1st_VinylSd']==1)|\n",
    "    (test_exterior['Exterior2nd_VinylSd']==1)\n",
    "].index).tolist()), 'Ext_VinylSd'] = 1\n",
    "\n",
    "# where either 'Wd Sdng' expansion is 1, fill master column with a 1\n",
    "test_exterior.loc[((test_exterior[\n",
    "    (test_exterior['Exterior1st_Wd Sdng']==1)|\n",
    "    (test_exterior['Exterior2nd_Wd Shng']==1)\n",
    "].index).tolist()), 'Ext_Wd_Sdng'] = 1\n",
    "\n",
    "# where either 'WdShing' expansion is 1, fill master column with a 1\n",
    "test_exterior.loc[((test_exterior[\n",
    "    (test_exterior['Exterior1st_WdShing']==1)|\n",
    "    (test_exterior['Exterior2nd_Wd Sdng']==1)\n",
    "].index).tolist()), 'Ext_WdShing'] = 1"
   ]
  },
  {
   "cell_type": "code",
   "execution_count": 1483,
   "metadata": {},
   "outputs": [],
   "source": [
    "# merge the columns to keep back onto main dataframe\n",
    "test = pd.concat([test,test_exterior[['Ext_AsbShng','Ext_AsphShn','Ext_BrkComm','Ext_BrkFace','Ext_CBlock','Ext_CemntBd','Ext_HdBoard','Ext_ImStucc',\n",
    "'Ext_MetalSd','Ext_Other','Ext_Plywood','Ext_Stone','Ext_Stucco','Ext_VinylSd','Ext_Wd_Sdng','Ext_WdShing']]],axis=1)"
   ]
  },
  {
   "cell_type": "markdown",
   "metadata": {},
   "source": [
    "None of the remaining columns share values, so they can't be combined into during expansion."
   ]
  },
  {
   "cell_type": "markdown",
   "metadata": {},
   "source": [
    "The `MSZoning` column:<p>\n",
    "\n",
    "A -\tAgriculture<br>\n",
    "C -\tCommercial<br>\n",
    "FV -\tFloating Village Residential<br>\n",
    "I -\tIndustrial<br>\n",
    "RH -\tResidential High Density<br>\n",
    "RL -\tResidential Low Density<br>\n",
    "RP -\tResidential Low Density Park <br>\n",
    "RM -\tResidential Medium Density<p>\n",
    "\n",
    "The 'Residential' values can't be combined, as the 'RL' value is already the vast majority of the entries. "
   ]
  },
  {
   "cell_type": "code",
   "execution_count": 1484,
   "metadata": {},
   "outputs": [],
   "source": [
    "train_zone = pd.DataFrame(data=(enc.fit_transform(train[['MSZoning']])),columns=(enc.get_feature_names_out()))\n",
    "\n",
    "# simplifying name of 'C (all)' column to just 'C'\n",
    "train_zone = train_zone.rename(columns={'MSZoning_C (all)':'MSZoning_C'})\n",
    "\n",
    "# merge new columns back into main dataframe\n",
    "train = pd.concat([train,train_zone],axis=1)"
   ]
  },
  {
   "cell_type": "code",
   "execution_count": 1485,
   "metadata": {},
   "outputs": [],
   "source": [
    "test_zone = pd.DataFrame(data=(enc.fit_transform(test[['MSZoning']])),columns=(enc.get_feature_names_out()))\n",
    "\n",
    "# simplifying name of 'C (all)' column to just 'C'\n",
    "test_zone = test_zone.rename(columns={'MSZoning_C (all)':'MSZoning_C'})\n",
    "\n",
    "# merge new columns back into main dataframe\n",
    "test = pd.concat([test,test_zone],axis=1)"
   ]
  },
  {
   "cell_type": "markdown",
   "metadata": {},
   "source": [
    "The `Neighborhood` column:<p>\n",
    "Obviously, there is no way to combine neighborhoods."
   ]
  },
  {
   "cell_type": "code",
   "execution_count": 1486,
   "metadata": {},
   "outputs": [],
   "source": [
    "train_nbhd = pd.DataFrame(data=(enc.fit_transform(train[['Neighborhood']])),columns=(enc.get_feature_names_out()))\n",
    "\n",
    "# merge new columns back into main dataframe\n",
    "train = pd.concat([train,train_nbhd],axis=1)"
   ]
  },
  {
   "cell_type": "code",
   "execution_count": 1487,
   "metadata": {},
   "outputs": [],
   "source": [
    "test_nbhd = pd.DataFrame(data=(enc.fit_transform(test[['Neighborhood']])),columns=(enc.get_feature_names_out()))\n",
    "\n",
    "# merge new columns back into main dataframe\n",
    "test = pd.concat([test,test_nbhd],axis=1)"
   ]
  },
  {
   "cell_type": "markdown",
   "metadata": {},
   "source": [
    "The `BldgType` column:<p>\n",
    "\n",
    "1Fam -\tSingle-family Detached\t<br>\n",
    "2FmCon -\tTwo-family Conversion<br>\n",
    "Duplx -\tDuplex<br>\n",
    "TwnhsE -\tTownhouse End Unit<br>\n",
    "TwnhsI -\tTownhouse Inside Unit<p>\n",
    "\n",
    "Combining the two 'Townhouse' values would result in a total of more than 10% of the entries for the train set, which is more than I want to create for a single value, so they won't be combined. "
   ]
  },
  {
   "cell_type": "code",
   "execution_count": 1488,
   "metadata": {},
   "outputs": [],
   "source": [
    "train_type = pd.DataFrame(data=(enc.fit_transform(train[['BldgType']])),columns=(enc.get_feature_names_out()))\n",
    "\n",
    "# merge new columns back into main dataframe\n",
    "train = pd.concat([train,train_type],axis=1)"
   ]
  },
  {
   "cell_type": "code",
   "execution_count": 1489,
   "metadata": {},
   "outputs": [],
   "source": [
    "test_type = pd.DataFrame(data=(enc.fit_transform(test[['BldgType']])),columns=(enc.get_feature_names_out()))\n",
    "\n",
    "# merge new columns back into main dataframe\n",
    "test = pd.concat([test,test_type],axis=1)"
   ]
  },
  {
   "cell_type": "markdown",
   "metadata": {},
   "source": [
    "The `HouseStyle` column:<p>\n",
    "\n",
    "1Story - One story<br>\n",
    "1.5Fin -\tOne and one-half story: 2nd level finished<br>\n",
    "1.5Unf -\tOne and one-half story: 2nd level unfinished<br>\n",
    "2Story -\tTwo story<br>\n",
    "2.5Story -\tTwo and one-half story<br>\n",
    "SFoyer -\tSplit Foyer<br>\n",
    "SLvl -\tSplit Level<p>\n",
    "\n",
    "Combining '1.5Fin' and '1.5Unf' results in a larger category than I would like, but the fact that there are columns for unfinished square footage renders this distinction redundant, so I *am* going to condense them into a single value. "
   ]
  },
  {
   "cell_type": "code",
   "execution_count": 1490,
   "metadata": {},
   "outputs": [],
   "source": [
    "# set 1.5Story for train\n",
    "train.loc[((train[\n",
    "    (train['HouseStyle']=='1.5Fin')|\n",
    "    (train['HouseStyle']=='1.5Unf')\n",
    "].index).tolist()), 'HouseStyle'] = '1.5Story'\n",
    "\n",
    "# set 1.5Story for test\n",
    "test.loc[((test[\n",
    "    (test['HouseStyle']=='1.5Fin')|\n",
    "    (test['HouseStyle']=='1.5Unf')\n",
    "].index).tolist()), 'HouseStyle'] = '1.5Story'"
   ]
  },
  {
   "cell_type": "code",
   "execution_count": 1491,
   "metadata": {},
   "outputs": [],
   "source": [
    "train_style = pd.DataFrame(data=(enc.fit_transform(train[['HouseStyle']])),columns=(enc.get_feature_names_out()))\n",
    "\n",
    "# merge new columns back into main dataframe\n",
    "train = pd.concat([train,train_style],axis=1)"
   ]
  },
  {
   "cell_type": "code",
   "execution_count": 1492,
   "metadata": {},
   "outputs": [],
   "source": [
    "test_style = pd.DataFrame(data=(enc.fit_transform(test[['HouseStyle']])),columns=(enc.get_feature_names_out()))\n",
    "\n",
    "# merge new columns back into main dataframe\n",
    "test = pd.concat([test,test_style],axis=1)"
   ]
  },
  {
   "cell_type": "markdown",
   "metadata": {},
   "source": [
    "The `RoofStyle` column:<p>\n",
    "\n",
    "Flat -\tFlat<br>\n",
    "Gable -\tGable<br>\n",
    "Gambrel -\tGabrel (Barn)<br>\n",
    "Hip -\tHip<br>\n",
    "Mansard -\tMansard<br>\n",
    "Shed -\tShed<p>\n",
    "Nothing here can be combined."
   ]
  },
  {
   "cell_type": "code",
   "execution_count": 1493,
   "metadata": {},
   "outputs": [],
   "source": [
    "train_RfStyl = pd.DataFrame(data=(enc.fit_transform(train[['RoofStyle']])),columns=(enc.get_feature_names_out()))\n",
    "\n",
    "# merge new columns back into main dataframe\n",
    "train = pd.concat([train,train_RfStyl],axis=1)"
   ]
  },
  {
   "cell_type": "code",
   "execution_count": 1494,
   "metadata": {},
   "outputs": [],
   "source": [
    "test_RfStyl = pd.DataFrame(data=(enc.fit_transform(test[['RoofStyle']])),columns=(enc.get_feature_names_out()))\n",
    "\n",
    "# merge new columns back into main dataframe\n",
    "test = pd.concat([test,test_RfStyl],axis=1)"
   ]
  },
  {
   "cell_type": "markdown",
   "metadata": {},
   "source": [
    "The `RoofMatl` column:<p>\n",
    "ClyTile -\tClay or Tile<br>\n",
    "CompShg -\tStandard (Composite) Shingle<br>\n",
    "Membran -\tMembrane<br>\n",
    "Metal -\tMetal<br>\n",
    "Roll -\tRoll<br>\n",
    "Tar&Grv -\tGravel & Tar<br>\n",
    "WdShake -\tWood Shakes<br>\n",
    "WdShngl -\tWood Shingles<p>\n",
    "Nothing to combine."
   ]
  },
  {
   "cell_type": "code",
   "execution_count": 1495,
   "metadata": {},
   "outputs": [],
   "source": [
    "train_RfMat = pd.DataFrame(data=(enc.fit_transform(train[['RoofMatl']])),columns=(enc.get_feature_names_out()))\n",
    "\n",
    "# merge new columns back into main dataframe\n",
    "train = pd.concat([train,train_RfMat],axis=1)"
   ]
  },
  {
   "cell_type": "code",
   "execution_count": 1496,
   "metadata": {},
   "outputs": [],
   "source": [
    "test_RfMat = pd.DataFrame(data=(enc.fit_transform(test[['RoofMatl']])),columns=(enc.get_feature_names_out()))\n",
    "\n",
    "# create columns for options present in train but missing in test\n",
    "test_RfMat['RoofMatl_Membran'] = 0.0\n",
    "test_RfMat['RoofMatl_Metal'] = 0.0\n",
    "test_RfMat['RoofMatl_Roll'] = 0.0\n",
    "\n",
    "# merge new columns back into main dataframe\n",
    "test = pd.concat([test,test_RfMat],axis=1)"
   ]
  },
  {
   "cell_type": "markdown",
   "metadata": {},
   "source": [
    "The `MasVnrType` column:<p>\n",
    "BrkCmn -\tBrick Common<br>\n",
    "BrkFace -\tBrick Face<br>\n",
    "CBlock -\tCinder Block<br>\n",
    "None -\tNone<br>\n",
    "Stone -\tStone<p>\n",
    "Nothing to combine."
   ]
  },
  {
   "cell_type": "code",
   "execution_count": 1497,
   "metadata": {},
   "outputs": [],
   "source": [
    "train_vnr = pd.DataFrame(data=(enc.fit_transform(train[['MasVnrType']])),columns=(enc.get_feature_names_out()))\n",
    "\n",
    "# merge new columns back into main dataframe\n",
    "train = pd.concat([train,train_vnr],axis=1)"
   ]
  },
  {
   "cell_type": "code",
   "execution_count": 1498,
   "metadata": {},
   "outputs": [],
   "source": [
    "test_vnr = pd.DataFrame(data=(enc.fit_transform(test[['MasVnrType']])),columns=(enc.get_feature_names_out()))\n",
    "\n",
    "# merge new columns back into main dataframe\n",
    "test = pd.concat([test,test_vnr],axis=1)"
   ]
  },
  {
   "cell_type": "markdown",
   "metadata": {},
   "source": [
    "The `Foundation` column:<p>\n",
    "BrkTil -\tBrick & Tile<br>\n",
    "CBlock -\tCinder Block<br>\n",
    "PConc -\tPoured Contrete\t<br>\n",
    "Slab -\tSlab<br>\n",
    "Stone -\tStone<br>\n",
    "Wood -\tWood<p>\n",
    "Nothing to combine."
   ]
  },
  {
   "cell_type": "code",
   "execution_count": 1499,
   "metadata": {},
   "outputs": [],
   "source": [
    "train_found = pd.DataFrame(data=(enc.fit_transform(train[['Foundation']])),columns=(enc.get_feature_names_out()))\n",
    "\n",
    "# merge new columns back into main dataframe\n",
    "train = pd.concat([train,train_found],axis=1)"
   ]
  },
  {
   "cell_type": "code",
   "execution_count": 1500,
   "metadata": {},
   "outputs": [],
   "source": [
    "test_found = pd.DataFrame(data=(enc.fit_transform(test[['Foundation']])),columns=(enc.get_feature_names_out()))\n",
    "\n",
    "# merge new columns back into main dataframe\n",
    "test = pd.concat([test,test_found],axis=1)"
   ]
  },
  {
   "cell_type": "markdown",
   "metadata": {},
   "source": [
    "The `Heating` column:<p>\n",
    "Floor -\tFloor Furnace<br>\n",
    "GasA -\tGas forced warm air furnace<br>\n",
    "GasW -\tGas hot water or steam heat<br>\n",
    "Grav -\tGravity furnace\t<br>\n",
    "OthW -\tHot water or steam heat other than gas<br>\n",
    "Wall -\tWall furnace<p>\n",
    "I will not be combining the two 'Gas' values, as 'GasA' contains the vast majority of the entries."
   ]
  },
  {
   "cell_type": "code",
   "execution_count": 1501,
   "metadata": {},
   "outputs": [],
   "source": [
    "train_heat = pd.DataFrame(data=(enc.fit_transform(train[['Heating']])),columns=(enc.get_feature_names_out()))\n",
    "\n",
    "# merge new columns back into main dataframe\n",
    "train = pd.concat([train,train_heat],axis=1)"
   ]
  },
  {
   "cell_type": "code",
   "execution_count": 1502,
   "metadata": {},
   "outputs": [],
   "source": [
    "test_heat = pd.DataFrame(data=(enc.fit_transform(test[['Heating']])),columns=(enc.get_feature_names_out()))\n",
    "\n",
    "# create columns for options present in train but missing in test\n",
    "test_heat['Heating_Floor'] = 0.0\n",
    "test_heat['Heating_OthW'] = 0.0\n",
    "\n",
    "# merge new columns back into main dataframe\n",
    "test = pd.concat([test,test_heat],axis=1)"
   ]
  },
  {
   "cell_type": "markdown",
   "metadata": {},
   "source": [
    "The `Electrical` column:<p>\n",
    "SBrkr -\tStandard Circuit Breakers & Romex<br>\n",
    "FuseA -\tFuse Box over 60 AMP and all Romex wiring (Average)\t<br>\n",
    "FuseF -\t60 AMP Fuse Box and mostly Romex wiring (Fair)<br>\n",
    "FuseP -\t60 AMP Fuse Box and mostly knob & tube wiring (poor)<br>\n",
    "Mix -\tMixed<p>\n",
    "I don't know enough about wiring to know if there is a way to combine these. "
   ]
  },
  {
   "cell_type": "code",
   "execution_count": 1503,
   "metadata": {},
   "outputs": [],
   "source": [
    "train_elec = pd.DataFrame(data=(enc.fit_transform(train[['Electrical']])),columns=(enc.get_feature_names_out()))\n",
    "\n",
    "# merge new columns back into main dataframe\n",
    "train = pd.concat([train,train_elec],axis=1)"
   ]
  },
  {
   "cell_type": "code",
   "execution_count": 1504,
   "metadata": {},
   "outputs": [],
   "source": [
    "test_elec = pd.DataFrame(data=(enc.fit_transform(test[['Electrical']])),columns=(enc.get_feature_names_out()))\n",
    "\n",
    "# create column for option present in train but missing in test\n",
    "test_elec['Electrical_Mix'] = 0.0\n",
    "\n",
    "# merge new columns back into main dataframe\n",
    "test = pd.concat([test,test_elec],axis=1)"
   ]
  },
  {
   "cell_type": "markdown",
   "metadata": {},
   "source": [
    "The `GarageType` column:<p>\n",
    "2Types -\tMore than one type of garage<br>\n",
    "Attchd -\tAttached to home<br>\n",
    "Basment -\tBasement Garage<br>\n",
    "BuiltIn -\tBuilt-In<br>\n",
    "CarPort -\tCar Port<br>\n",
    "Detchd -\tDetached from home<br>\n",
    "None -\tNo Garage<p>\n",
    "No combinations possible."
   ]
  },
  {
   "cell_type": "code",
   "execution_count": 1505,
   "metadata": {},
   "outputs": [],
   "source": [
    "train_garage = pd.DataFrame(data=(enc.fit_transform(train[['GarageType']])),columns=(enc.get_feature_names_out()))\n",
    "\n",
    "# drop none column\n",
    "train_garage = train_garage.drop('GarageType_None',axis=1)\n",
    "\n",
    "# merge new columns back into main dataframe\n",
    "train = pd.concat([train,train_garage],axis=1)"
   ]
  },
  {
   "cell_type": "code",
   "execution_count": 1506,
   "metadata": {},
   "outputs": [],
   "source": [
    "test_garage = pd.DataFrame(data=(enc.fit_transform(test[['GarageType']])),columns=(enc.get_feature_names_out()))\n",
    "\n",
    "# drop none column\n",
    "test_garage = test_garage.drop('GarageType_None',axis=1)\n",
    "\n",
    "# merge new columns back into main dataframe\n",
    "test = pd.concat([test,test_garage],axis=1)"
   ]
  },
  {
   "cell_type": "markdown",
   "metadata": {},
   "source": [
    "The `MiscFeature` column:<p>\n",
    "Elev -\tElevator<br>\n",
    "Gar2 -\t2nd Garage (if not described in garage section)<br>\n",
    "Othr -\tOther<br>\n",
    "Shed -\tShed (over 100 SF)<br>\n",
    "TenC -\tTennis Court<br>\n",
    "NA -\tNone<p>\n",
    "Nothing to combine."
   ]
  },
  {
   "cell_type": "code",
   "execution_count": 1507,
   "metadata": {},
   "outputs": [],
   "source": [
    "train_misc = pd.DataFrame(data=(enc.fit_transform(train[['MiscFeature']])),columns=(enc.get_feature_names_out()))\n",
    "\n",
    "# create column for option present in test but missing in train\n",
    "train_misc['MiscFeature_Gar2'] = 0.0\n",
    "\n",
    "# drop nan column\n",
    "train_misc = train_misc.drop('MiscFeature_nan',axis=1)\n",
    "\n",
    "# merge new columns back into main dataframe\n",
    "train = pd.concat([train,train_misc],axis=1)"
   ]
  },
  {
   "cell_type": "code",
   "execution_count": 1508,
   "metadata": {},
   "outputs": [],
   "source": [
    "test_misc = pd.DataFrame(data=(enc.fit_transform(test[['MiscFeature']])),columns=(enc.get_feature_names_out()))\n",
    "\n",
    "# create column for option present in train but missing in test\n",
    "test_misc['MiscFeature_TenC'] = 0.0\n",
    "\n",
    "# drop nan column\n",
    "test_misc = test_misc.drop('MiscFeature_nan',axis=1)\n",
    "\n",
    "# merge new columns back into main dataframe\n",
    "test = pd.concat([test,test_misc],axis=1)"
   ]
  },
  {
   "cell_type": "markdown",
   "metadata": {},
   "source": [
    "The `SaleType` column:<p>\n",
    "WD - \tWarranty Deed - Conventional<br>\n",
    "CWD -\tWarranty Deed - Cash<br>\n",
    "VWD -\tWarranty Deed - VA Loan<br>\n",
    "New -\tHome just constructed and sold<br>\n",
    "COD -\tCourt Officer Deed/Estate<br>\n",
    "Con -\tContract 15% Down payment regular terms<br>\n",
    "ConLw -\tContract Low Down payment and low interest<br>\n",
    "ConLI -\tContract Low Interest<br>\n",
    "ConLD -\tContract Low Down<br>\n",
    "Oth -\tOther<p>\n",
    "\n",
    "I'm going to combine the 'WarrantyDeed' and 'Contract' groups into single values. 'VWD' is never used, and 'CWD' accounts for less than 1% in each set. The combined amount of the 'Contract' values only account for between 1% and 2% of the values in each set. <p>"
   ]
  },
  {
   "cell_type": "markdown",
   "metadata": {},
   "source": [
    "**AWD - Any Warranty Deed**<p>\n",
    "WD - \tWarranty Deed - Conventional<br>\n",
    "CWD -\tWarranty Deed - Cash<p>\n",
    "<br>\n",
    "**Cont - All Contracts**<p>\n",
    "Con -\tContract 15% Down payment regular terms<br>\n",
    "ConLw -\tContract Low Down payment and low interest<br>\n",
    "ConLI -\tContract Low Interest<br>\n",
    "ConLD -\tContract Low Down<br>"
   ]
  },
  {
   "cell_type": "code",
   "execution_count": 1509,
   "metadata": {},
   "outputs": [],
   "source": [
    "# apply 'AWD' to train\n",
    "train.loc[((train[\n",
    "    (train['SaleType']=='WD')|\n",
    "    (train['SaleType']=='CWD')\n",
    "    ].index).tolist()), 'SaleType'] = 'AWD'\n",
    "\n",
    "# apply 'AWD' to test\n",
    "test.loc[((test[\n",
    "    (test['SaleType']=='WD')|\n",
    "    (test['SaleType']=='CWD')\n",
    "    ].index).tolist()), 'SaleType'] = 'AWD'"
   ]
  },
  {
   "cell_type": "code",
   "execution_count": 1510,
   "metadata": {},
   "outputs": [],
   "source": [
    "# apply 'AWD' to train\n",
    "train.loc[((train[\n",
    "    (train['SaleType']=='Con')|\n",
    "    (train['SaleType']=='ConLw')|\n",
    "    (train['SaleType']=='ConLI')|\n",
    "    (train['SaleType']=='ConLD')\n",
    "    ].index).tolist()), 'SaleType'] = 'Cont'\n",
    "\n",
    "# apply 'AWD' to test\n",
    "test.loc[((test[\n",
    "    (test['SaleType']=='Con')|\n",
    "    (test['SaleType']=='ConLw')|\n",
    "    (test['SaleType']=='ConLI')|\n",
    "    (test['SaleType']=='ConLD')\n",
    "    ].index).tolist()), 'SaleType'] = 'Cont'"
   ]
  },
  {
   "cell_type": "code",
   "execution_count": 1511,
   "metadata": {},
   "outputs": [],
   "source": [
    "train_SType = pd.DataFrame(data=(enc.fit_transform(train[['SaleType']])),columns=(enc.get_feature_names_out()))\n",
    "\n",
    "# merge new columns back into main dataframe\n",
    "train = pd.concat([train,train_SType],axis=1)"
   ]
  },
  {
   "cell_type": "code",
   "execution_count": 1512,
   "metadata": {},
   "outputs": [],
   "source": [
    "test_SType = pd.DataFrame(data=(enc.fit_transform(test[['SaleType']])),columns=(enc.get_feature_names_out()))\n",
    "\n",
    "# merge new columns back into main dataframe\n",
    "test = pd.concat([test,test_SType],axis=1)"
   ]
  },
  {
   "cell_type": "markdown",
   "metadata": {},
   "source": [
    "The `SaleCondition` column:<p>\n",
    "Normal -\tNormal Sale<br>\n",
    "Abnorml -\tAbnormal Sale -  trade, foreclosure, short sale<br>\n",
    "AdjLand -\tAdjoining Land Purchase<br>\n",
    "Alloca -\tAllocation - two linked properties with separate deeds, typically condo with a garage unit\t<br>\n",
    "Family -\tSale between family members<br>\n",
    "Partial -\tHome was not completed when last assessed (associated with New Homes)<p>\n",
    "No combinations."
   ]
  },
  {
   "cell_type": "code",
   "execution_count": 1513,
   "metadata": {},
   "outputs": [],
   "source": [
    "train_SCond = pd.DataFrame(data=(enc.fit_transform(train[['SaleCondition']])),columns=(enc.get_feature_names_out()))\n",
    "\n",
    "# merge new columns back into main dataframe\n",
    "train = pd.concat([train,train_SCond],axis=1)"
   ]
  },
  {
   "cell_type": "code",
   "execution_count": 1514,
   "metadata": {},
   "outputs": [],
   "source": [
    "test_SCond = pd.DataFrame(data=(enc.fit_transform(test[['SaleCondition']])),columns=(enc.get_feature_names_out()))\n",
    "\n",
    "# merge new columns back into main dataframe\n",
    "test = pd.concat([test,test_SCond],axis=1)"
   ]
  },
  {
   "cell_type": "markdown",
   "metadata": {},
   "source": [
    "### Combining and Creating Columns<p>\n",
    "The total living space for each property can be calculated using the `GrLivArea` column, for the area above ground level, and the `TotalBsmtSF1` column, for the area of the basement, if one exists. "
   ]
  },
  {
   "cell_type": "code",
   "execution_count": 1515,
   "metadata": {},
   "outputs": [],
   "source": [
    "train['TtlLivSF'] = train['GrLivArea']+train['TotalBsmtSF']\n",
    "\n",
    "test['TtlLivSF'] = test['GrLivArea']+test['TotalBsmtSF']"
   ]
  },
  {
   "cell_type": "code",
   "execution_count": 1516,
   "metadata": {},
   "outputs": [
    {
     "name": "stdout",
     "output_type": "stream",
     "text": [
      "Train head:\n"
     ]
    },
    {
     "data": {
      "text/html": [
       "<div>\n",
       "<style scoped>\n",
       "    .dataframe tbody tr th:only-of-type {\n",
       "        vertical-align: middle;\n",
       "    }\n",
       "\n",
       "    .dataframe tbody tr th {\n",
       "        vertical-align: top;\n",
       "    }\n",
       "\n",
       "    .dataframe thead th {\n",
       "        text-align: right;\n",
       "    }\n",
       "</style>\n",
       "<table border=\"1\" class=\"dataframe\">\n",
       "  <thead>\n",
       "    <tr style=\"text-align: right;\">\n",
       "      <th></th>\n",
       "      <th>GrLivArea</th>\n",
       "      <th>TotalBsmtSF</th>\n",
       "      <th>TtlLivSF</th>\n",
       "    </tr>\n",
       "  </thead>\n",
       "  <tbody>\n",
       "    <tr>\n",
       "      <th>0</th>\n",
       "      <td>1710</td>\n",
       "      <td>856</td>\n",
       "      <td>2566</td>\n",
       "    </tr>\n",
       "    <tr>\n",
       "      <th>1</th>\n",
       "      <td>1262</td>\n",
       "      <td>1262</td>\n",
       "      <td>2524</td>\n",
       "    </tr>\n",
       "    <tr>\n",
       "      <th>2</th>\n",
       "      <td>1786</td>\n",
       "      <td>920</td>\n",
       "      <td>2706</td>\n",
       "    </tr>\n",
       "    <tr>\n",
       "      <th>3</th>\n",
       "      <td>1717</td>\n",
       "      <td>756</td>\n",
       "      <td>2473</td>\n",
       "    </tr>\n",
       "    <tr>\n",
       "      <th>4</th>\n",
       "      <td>2198</td>\n",
       "      <td>1145</td>\n",
       "      <td>3343</td>\n",
       "    </tr>\n",
       "  </tbody>\n",
       "</table>\n",
       "</div>"
      ],
      "text/plain": [
       "   GrLivArea  TotalBsmtSF  TtlLivSF\n",
       "0       1710          856      2566\n",
       "1       1262         1262      2524\n",
       "2       1786          920      2706\n",
       "3       1717          756      2473\n",
       "4       2198         1145      3343"
      ]
     },
     "metadata": {},
     "output_type": "display_data"
    },
    {
     "name": "stdout",
     "output_type": "stream",
     "text": [
      "Test head:\n"
     ]
    },
    {
     "data": {
      "text/html": [
       "<div>\n",
       "<style scoped>\n",
       "    .dataframe tbody tr th:only-of-type {\n",
       "        vertical-align: middle;\n",
       "    }\n",
       "\n",
       "    .dataframe tbody tr th {\n",
       "        vertical-align: top;\n",
       "    }\n",
       "\n",
       "    .dataframe thead th {\n",
       "        text-align: right;\n",
       "    }\n",
       "</style>\n",
       "<table border=\"1\" class=\"dataframe\">\n",
       "  <thead>\n",
       "    <tr style=\"text-align: right;\">\n",
       "      <th></th>\n",
       "      <th>GrLivArea</th>\n",
       "      <th>TotalBsmtSF</th>\n",
       "      <th>TtlLivSF</th>\n",
       "    </tr>\n",
       "  </thead>\n",
       "  <tbody>\n",
       "    <tr>\n",
       "      <th>0</th>\n",
       "      <td>896</td>\n",
       "      <td>882.0</td>\n",
       "      <td>1778.0</td>\n",
       "    </tr>\n",
       "    <tr>\n",
       "      <th>1</th>\n",
       "      <td>1329</td>\n",
       "      <td>1329.0</td>\n",
       "      <td>2658.0</td>\n",
       "    </tr>\n",
       "    <tr>\n",
       "      <th>2</th>\n",
       "      <td>1629</td>\n",
       "      <td>928.0</td>\n",
       "      <td>2557.0</td>\n",
       "    </tr>\n",
       "    <tr>\n",
       "      <th>3</th>\n",
       "      <td>1604</td>\n",
       "      <td>926.0</td>\n",
       "      <td>2530.0</td>\n",
       "    </tr>\n",
       "    <tr>\n",
       "      <th>4</th>\n",
       "      <td>1280</td>\n",
       "      <td>1280.0</td>\n",
       "      <td>2560.0</td>\n",
       "    </tr>\n",
       "  </tbody>\n",
       "</table>\n",
       "</div>"
      ],
      "text/plain": [
       "   GrLivArea  TotalBsmtSF  TtlLivSF\n",
       "0        896        882.0    1778.0\n",
       "1       1329       1329.0    2658.0\n",
       "2       1629        928.0    2557.0\n",
       "3       1604        926.0    2530.0\n",
       "4       1280       1280.0    2560.0"
      ]
     },
     "metadata": {},
     "output_type": "display_data"
    }
   ],
   "source": [
    "print('Train head:')\n",
    "display(train[['GrLivArea', 'TotalBsmtSF', 'TtlLivSF']].head())\n",
    "print('Test head:')\n",
    "display(test[['GrLivArea', 'TotalBsmtSF', 'TtlLivSF']].head())"
   ]
  },
  {
   "cell_type": "markdown",
   "metadata": {},
   "source": [
    "The total number of bathrooms can also be calculated using the four columns tracking number of bathrooms. (Halfbath columns are multiplied by 0.5 to reflect that they are 'half' when being added to the count.)"
   ]
  },
  {
   "cell_type": "code",
   "execution_count": 1517,
   "metadata": {},
   "outputs": [],
   "source": [
    "train['TotalBath'] = train['BsmtFullBath']+(train['BsmtHalfBath']*0.5)+train['FullBath']+(train['HalfBath']*0.5)\n",
    "\n",
    "test['TotalBath'] = test['BsmtFullBath']+(test['BsmtHalfBath']*0.5)+test['FullBath']+(test['HalfBath']*0.5)"
   ]
  },
  {
   "cell_type": "code",
   "execution_count": 1518,
   "metadata": {},
   "outputs": [
    {
     "name": "stdout",
     "output_type": "stream",
     "text": [
      "Train head:\n"
     ]
    },
    {
     "data": {
      "text/html": [
       "<div>\n",
       "<style scoped>\n",
       "    .dataframe tbody tr th:only-of-type {\n",
       "        vertical-align: middle;\n",
       "    }\n",
       "\n",
       "    .dataframe tbody tr th {\n",
       "        vertical-align: top;\n",
       "    }\n",
       "\n",
       "    .dataframe thead th {\n",
       "        text-align: right;\n",
       "    }\n",
       "</style>\n",
       "<table border=\"1\" class=\"dataframe\">\n",
       "  <thead>\n",
       "    <tr style=\"text-align: right;\">\n",
       "      <th></th>\n",
       "      <th>BsmtFullBath</th>\n",
       "      <th>BsmtHalfBath</th>\n",
       "      <th>FullBath</th>\n",
       "      <th>HalfBath</th>\n",
       "      <th>TotalBath</th>\n",
       "    </tr>\n",
       "  </thead>\n",
       "  <tbody>\n",
       "    <tr>\n",
       "      <th>0</th>\n",
       "      <td>1</td>\n",
       "      <td>0</td>\n",
       "      <td>2</td>\n",
       "      <td>1</td>\n",
       "      <td>3.5</td>\n",
       "    </tr>\n",
       "    <tr>\n",
       "      <th>1</th>\n",
       "      <td>0</td>\n",
       "      <td>1</td>\n",
       "      <td>2</td>\n",
       "      <td>0</td>\n",
       "      <td>2.5</td>\n",
       "    </tr>\n",
       "    <tr>\n",
       "      <th>2</th>\n",
       "      <td>1</td>\n",
       "      <td>0</td>\n",
       "      <td>2</td>\n",
       "      <td>1</td>\n",
       "      <td>3.5</td>\n",
       "    </tr>\n",
       "    <tr>\n",
       "      <th>3</th>\n",
       "      <td>1</td>\n",
       "      <td>0</td>\n",
       "      <td>1</td>\n",
       "      <td>0</td>\n",
       "      <td>2.0</td>\n",
       "    </tr>\n",
       "    <tr>\n",
       "      <th>4</th>\n",
       "      <td>1</td>\n",
       "      <td>0</td>\n",
       "      <td>2</td>\n",
       "      <td>1</td>\n",
       "      <td>3.5</td>\n",
       "    </tr>\n",
       "  </tbody>\n",
       "</table>\n",
       "</div>"
      ],
      "text/plain": [
       "   BsmtFullBath  BsmtHalfBath  FullBath  HalfBath  TotalBath\n",
       "0             1             0         2         1        3.5\n",
       "1             0             1         2         0        2.5\n",
       "2             1             0         2         1        3.5\n",
       "3             1             0         1         0        2.0\n",
       "4             1             0         2         1        3.5"
      ]
     },
     "metadata": {},
     "output_type": "display_data"
    },
    {
     "name": "stdout",
     "output_type": "stream",
     "text": [
      "Test head:\n"
     ]
    },
    {
     "data": {
      "text/html": [
       "<div>\n",
       "<style scoped>\n",
       "    .dataframe tbody tr th:only-of-type {\n",
       "        vertical-align: middle;\n",
       "    }\n",
       "\n",
       "    .dataframe tbody tr th {\n",
       "        vertical-align: top;\n",
       "    }\n",
       "\n",
       "    .dataframe thead th {\n",
       "        text-align: right;\n",
       "    }\n",
       "</style>\n",
       "<table border=\"1\" class=\"dataframe\">\n",
       "  <thead>\n",
       "    <tr style=\"text-align: right;\">\n",
       "      <th></th>\n",
       "      <th>BsmtFullBath</th>\n",
       "      <th>BsmtHalfBath</th>\n",
       "      <th>FullBath</th>\n",
       "      <th>HalfBath</th>\n",
       "      <th>TotalBath</th>\n",
       "    </tr>\n",
       "  </thead>\n",
       "  <tbody>\n",
       "    <tr>\n",
       "      <th>0</th>\n",
       "      <td>0.0</td>\n",
       "      <td>0.0</td>\n",
       "      <td>1</td>\n",
       "      <td>0</td>\n",
       "      <td>1.0</td>\n",
       "    </tr>\n",
       "    <tr>\n",
       "      <th>1</th>\n",
       "      <td>0.0</td>\n",
       "      <td>0.0</td>\n",
       "      <td>1</td>\n",
       "      <td>1</td>\n",
       "      <td>1.5</td>\n",
       "    </tr>\n",
       "    <tr>\n",
       "      <th>2</th>\n",
       "      <td>0.0</td>\n",
       "      <td>0.0</td>\n",
       "      <td>2</td>\n",
       "      <td>1</td>\n",
       "      <td>2.5</td>\n",
       "    </tr>\n",
       "    <tr>\n",
       "      <th>3</th>\n",
       "      <td>0.0</td>\n",
       "      <td>0.0</td>\n",
       "      <td>2</td>\n",
       "      <td>1</td>\n",
       "      <td>2.5</td>\n",
       "    </tr>\n",
       "    <tr>\n",
       "      <th>4</th>\n",
       "      <td>0.0</td>\n",
       "      <td>0.0</td>\n",
       "      <td>2</td>\n",
       "      <td>0</td>\n",
       "      <td>2.0</td>\n",
       "    </tr>\n",
       "  </tbody>\n",
       "</table>\n",
       "</div>"
      ],
      "text/plain": [
       "   BsmtFullBath  BsmtHalfBath  FullBath  HalfBath  TotalBath\n",
       "0           0.0           0.0         1         0        1.0\n",
       "1           0.0           0.0         1         1        1.5\n",
       "2           0.0           0.0         2         1        2.5\n",
       "3           0.0           0.0         2         1        2.5\n",
       "4           0.0           0.0         2         0        2.0"
      ]
     },
     "metadata": {},
     "output_type": "display_data"
    }
   ],
   "source": [
    "print('Train head:')\n",
    "display(train[['BsmtFullBath', 'BsmtHalfBath', 'FullBath','HalfBath', 'TotalBath']].head())\n",
    "print('Test head:')\n",
    "display(test[['BsmtFullBath', 'BsmtHalfBath', 'FullBath','HalfBath', 'TotalBath']].head())"
   ]
  },
  {
   "cell_type": "markdown",
   "metadata": {},
   "source": [
    "Because the `HouseStyle` references to the number of stories only reflect the ones above ground, I am going to make a column for the total number of floors, using the columns that record the total area for basement, first and second floor. There is no column for area of the third story, in the cases of a property being marked as 2.5 stories. There are no cases of properties in the 2.5 category that have no basement, so I don't need to worry about that and can encode them all has having 4 total floors. <p>\n",
    "I am going to create the new column with a value of 0 so I can check that all the columns have been encoded correctly."
   ]
  },
  {
   "cell_type": "code",
   "execution_count": 1519,
   "metadata": {},
   "outputs": [],
   "source": [
    "# create new column \n",
    "train['TtlFloors'] = 0\n",
    "\n",
    "# encode the applicable values\n",
    "# only a ground floor\n",
    "train.loc[((train[(train['1stFlrSF']>0)&(train['TotalBsmtSF']==0)&(train['2ndFlrSF']==0)\n",
    "].index).tolist()), 'TtlFloors'] = 1\n",
    "\n",
    "# ground floor and basement\n",
    "train.loc[((train[(train['1stFlrSF']>0)&(train['TotalBsmtSF']>0)&(train['2ndFlrSF']==0)\n",
    "].index).tolist()), 'TtlFloors'] = 2\n",
    "\n",
    "# ground floor and second floor\n",
    "train.loc[((train[(train['1stFlrSF']>0)&(train['TotalBsmtSF']==0)&(train['2ndFlrSF']>0)\n",
    "].index).tolist()), 'TtlFloors'] = 2\n",
    "\n",
    "# three floors\n",
    "train.loc[((train[(train['1stFlrSF']>0)&(train['TotalBsmtSF']>0)&(train['2ndFlrSF']>0)\n",
    "].index).tolist()), 'TtlFloors'] = 3\n",
    "\n",
    "# the 2.5 story category\n",
    "train.loc[((train[train['HouseStyle']=='2.5Story'\n",
    "].index).tolist()), 'TtlFloors'] = 4"
   ]
  },
  {
   "cell_type": "code",
   "execution_count": 1520,
   "metadata": {},
   "outputs": [
    {
     "data": {
      "text/plain": [
       "TtlFloors\n",
       "2    809\n",
       "3    595\n",
       "1     27\n",
       "4     18\n",
       "Name: count, dtype: int64"
      ]
     },
     "execution_count": 1520,
     "metadata": {},
     "output_type": "execute_result"
    }
   ],
   "source": [
    "# check there are no 0s left\n",
    "train['TtlFloors'].value_counts()"
   ]
  },
  {
   "cell_type": "code",
   "execution_count": 1521,
   "metadata": {},
   "outputs": [],
   "source": [
    "# create new column \n",
    "test['TtlFloors'] = 0\n",
    "\n",
    "# encode the applicable values\n",
    "# only a ground floor\n",
    "test.loc[((test[(test['1stFlrSF']>0)&(test['TotalBsmtSF']==0)&(test['2ndFlrSF']==0)\n",
    "].index).tolist()), 'TtlFloors'] = 1\n",
    "\n",
    "# ground floor and basement\n",
    "test.loc[((test[(test['1stFlrSF']>0)&(test['TotalBsmtSF']>0)&(test['2ndFlrSF']==0)\n",
    "].index).tolist()), 'TtlFloors'] = 2\n",
    "\n",
    "# ground floor and second floor\n",
    "test.loc[((test[(test['1stFlrSF']>0)&(test['TotalBsmtSF']==0)&(test['2ndFlrSF']>0)\n",
    "].index).tolist()), 'TtlFloors'] = 2\n",
    "\n",
    "# all three floors\n",
    "test.loc[((test[(test['1stFlrSF']>0)&(test['TotalBsmtSF']>0)&(test['2ndFlrSF']>0)\n",
    "].index).tolist()), 'TtlFloors'] = 3\n",
    "\n",
    "# the 2.5 story category\n",
    "test.loc[((test[test['HouseStyle']=='2.5Story'\n",
    "].index).tolist()), 'TtlFloors'] = 4"
   ]
  },
  {
   "cell_type": "code",
   "execution_count": 1522,
   "metadata": {},
   "outputs": [
    {
     "data": {
      "text/plain": [
       "TtlFloors\n",
       "2    813\n",
       "3    602\n",
       "1     34\n",
       "4     10\n",
       "Name: count, dtype: int64"
      ]
     },
     "execution_count": 1522,
     "metadata": {},
     "output_type": "execute_result"
    }
   ],
   "source": [
    "# check there are no 0s left\n",
    "test['TtlFloors'].value_counts()"
   ]
  },
  {
   "cell_type": "markdown",
   "metadata": {},
   "source": [
    "Looking at the 5 columns related to porches, there are many properties that show multiple types of porch, but no cases of all 5 kinds being present."
   ]
  },
  {
   "cell_type": "code",
   "execution_count": 1523,
   "metadata": {},
   "outputs": [
    {
     "data": {
      "text/html": [
       "<div>\n",
       "<style scoped>\n",
       "    .dataframe tbody tr th:only-of-type {\n",
       "        vertical-align: middle;\n",
       "    }\n",
       "\n",
       "    .dataframe tbody tr th {\n",
       "        vertical-align: top;\n",
       "    }\n",
       "\n",
       "    .dataframe thead th {\n",
       "        text-align: right;\n",
       "    }\n",
       "</style>\n",
       "<table border=\"1\" class=\"dataframe\">\n",
       "  <thead>\n",
       "    <tr style=\"text-align: right;\">\n",
       "      <th></th>\n",
       "      <th>WoodDeckSF</th>\n",
       "      <th>OpenPorchSF</th>\n",
       "      <th>EnclosedPorch</th>\n",
       "      <th>3SsnPorch</th>\n",
       "      <th>ScreenPorch</th>\n",
       "    </tr>\n",
       "  </thead>\n",
       "  <tbody>\n",
       "    <tr>\n",
       "      <th>1</th>\n",
       "      <td>298</td>\n",
       "      <td>0</td>\n",
       "      <td>0</td>\n",
       "      <td>0</td>\n",
       "      <td>0</td>\n",
       "    </tr>\n",
       "    <tr>\n",
       "      <th>4</th>\n",
       "      <td>192</td>\n",
       "      <td>84</td>\n",
       "      <td>0</td>\n",
       "      <td>0</td>\n",
       "      <td>0</td>\n",
       "    </tr>\n",
       "    <tr>\n",
       "      <th>5</th>\n",
       "      <td>40</td>\n",
       "      <td>30</td>\n",
       "      <td>0</td>\n",
       "      <td>320</td>\n",
       "      <td>0</td>\n",
       "    </tr>\n",
       "    <tr>\n",
       "      <th>6</th>\n",
       "      <td>255</td>\n",
       "      <td>57</td>\n",
       "      <td>0</td>\n",
       "      <td>0</td>\n",
       "      <td>0</td>\n",
       "    </tr>\n",
       "    <tr>\n",
       "      <th>7</th>\n",
       "      <td>235</td>\n",
       "      <td>204</td>\n",
       "      <td>228</td>\n",
       "      <td>0</td>\n",
       "      <td>0</td>\n",
       "    </tr>\n",
       "  </tbody>\n",
       "</table>\n",
       "</div>"
      ],
      "text/plain": [
       "   WoodDeckSF  OpenPorchSF  EnclosedPorch  3SsnPorch  ScreenPorch\n",
       "1         298            0              0          0            0\n",
       "4         192           84              0          0            0\n",
       "5          40           30              0        320            0\n",
       "6         255           57              0          0            0\n",
       "7         235          204            228          0            0"
      ]
     },
     "metadata": {},
     "output_type": "display_data"
    },
    {
     "name": "stdout",
     "output_type": "stream",
     "text": [
      "Looking for all 5 in Train:\n"
     ]
    },
    {
     "data": {
      "text/html": [
       "<div>\n",
       "<style scoped>\n",
       "    .dataframe tbody tr th:only-of-type {\n",
       "        vertical-align: middle;\n",
       "    }\n",
       "\n",
       "    .dataframe tbody tr th {\n",
       "        vertical-align: top;\n",
       "    }\n",
       "\n",
       "    .dataframe thead th {\n",
       "        text-align: right;\n",
       "    }\n",
       "</style>\n",
       "<table border=\"1\" class=\"dataframe\">\n",
       "  <thead>\n",
       "    <tr style=\"text-align: right;\">\n",
       "      <th></th>\n",
       "      <th>index</th>\n",
       "      <th>Id</th>\n",
       "      <th>MSSubClass</th>\n",
       "      <th>MSZoning</th>\n",
       "      <th>LotFrontage</th>\n",
       "      <th>LotArea</th>\n",
       "      <th>Street</th>\n",
       "      <th>Alley</th>\n",
       "      <th>LotShape</th>\n",
       "      <th>LandContour</th>\n",
       "      <th>Utilities</th>\n",
       "      <th>LotConfig</th>\n",
       "      <th>LandSlope</th>\n",
       "      <th>Neighborhood</th>\n",
       "      <th>Condition1</th>\n",
       "      <th>Condition2</th>\n",
       "      <th>BldgType</th>\n",
       "      <th>HouseStyle</th>\n",
       "      <th>OverallQual</th>\n",
       "      <th>OverallCond</th>\n",
       "      <th>YearBuilt</th>\n",
       "      <th>YearRemodAdd</th>\n",
       "      <th>RoofStyle</th>\n",
       "      <th>RoofMatl</th>\n",
       "      <th>Exterior1st</th>\n",
       "      <th>Exterior2nd</th>\n",
       "      <th>MasVnrType</th>\n",
       "      <th>MasVnrArea</th>\n",
       "      <th>ExterQual</th>\n",
       "      <th>ExterCond</th>\n",
       "      <th>Foundation</th>\n",
       "      <th>BsmtQual</th>\n",
       "      <th>BsmtCond</th>\n",
       "      <th>BsmtExposure</th>\n",
       "      <th>BsmtFinType1</th>\n",
       "      <th>BsmtFinSF1</th>\n",
       "      <th>BsmtFinType2</th>\n",
       "      <th>BsmtFinSF2</th>\n",
       "      <th>BsmtUnfSF</th>\n",
       "      <th>TotalBsmtSF</th>\n",
       "      <th>Heating</th>\n",
       "      <th>HeatingQC</th>\n",
       "      <th>CentralAir</th>\n",
       "      <th>Electrical</th>\n",
       "      <th>1stFlrSF</th>\n",
       "      <th>2ndFlrSF</th>\n",
       "      <th>LowQualFinSF</th>\n",
       "      <th>GrLivArea</th>\n",
       "      <th>BsmtFullBath</th>\n",
       "      <th>BsmtHalfBath</th>\n",
       "      <th>FullBath</th>\n",
       "      <th>HalfBath</th>\n",
       "      <th>BedroomAbvGr</th>\n",
       "      <th>KitchenAbvGr</th>\n",
       "      <th>KitchenQual</th>\n",
       "      <th>TotRmsAbvGrd</th>\n",
       "      <th>Functional</th>\n",
       "      <th>Fireplaces</th>\n",
       "      <th>FireplaceQu</th>\n",
       "      <th>GarageType</th>\n",
       "      <th>GarageYrBlt</th>\n",
       "      <th>GarageFinish</th>\n",
       "      <th>GarageCars</th>\n",
       "      <th>GarageArea</th>\n",
       "      <th>GarageQual</th>\n",
       "      <th>GarageCond</th>\n",
       "      <th>PavedDrive</th>\n",
       "      <th>WoodDeckSF</th>\n",
       "      <th>OpenPorchSF</th>\n",
       "      <th>EnclosedPorch</th>\n",
       "      <th>3SsnPorch</th>\n",
       "      <th>ScreenPorch</th>\n",
       "      <th>PoolArea</th>\n",
       "      <th>PoolQC</th>\n",
       "      <th>Fence</th>\n",
       "      <th>MiscFeature</th>\n",
       "      <th>MiscVal</th>\n",
       "      <th>MoSold</th>\n",
       "      <th>YrSold</th>\n",
       "      <th>SaleType</th>\n",
       "      <th>SaleCondition</th>\n",
       "      <th>SalePrice</th>\n",
       "      <th>Cond_Artery</th>\n",
       "      <th>Cond_Feedr</th>\n",
       "      <th>Cond_Norm</th>\n",
       "      <th>Cond_RRN</th>\n",
       "      <th>Cond_RRA</th>\n",
       "      <th>Cond_PosN</th>\n",
       "      <th>Cond_PosA</th>\n",
       "      <th>Ext_AsbShng</th>\n",
       "      <th>Ext_AsphShn</th>\n",
       "      <th>Ext_BrkComm</th>\n",
       "      <th>Ext_BrkFace</th>\n",
       "      <th>Ext_CBlock</th>\n",
       "      <th>Ext_CemntBd</th>\n",
       "      <th>Ext_HdBoard</th>\n",
       "      <th>Ext_ImStucc</th>\n",
       "      <th>Ext_MetalSd</th>\n",
       "      <th>Ext_Other</th>\n",
       "      <th>Ext_Plywood</th>\n",
       "      <th>Ext_Stone</th>\n",
       "      <th>Ext_Stucco</th>\n",
       "      <th>Ext_VinylSd</th>\n",
       "      <th>Ext_Wd_Sdng</th>\n",
       "      <th>Ext_WdShing</th>\n",
       "      <th>MSZoning_C</th>\n",
       "      <th>MSZoning_FV</th>\n",
       "      <th>MSZoning_RH</th>\n",
       "      <th>MSZoning_RL</th>\n",
       "      <th>MSZoning_RM</th>\n",
       "      <th>Neighborhood_Blmngtn</th>\n",
       "      <th>Neighborhood_Blueste</th>\n",
       "      <th>Neighborhood_BrDale</th>\n",
       "      <th>Neighborhood_BrkSide</th>\n",
       "      <th>Neighborhood_ClearCr</th>\n",
       "      <th>Neighborhood_CollgCr</th>\n",
       "      <th>Neighborhood_Crawfor</th>\n",
       "      <th>Neighborhood_Edwards</th>\n",
       "      <th>Neighborhood_Gilbert</th>\n",
       "      <th>Neighborhood_IDOTRR</th>\n",
       "      <th>Neighborhood_MeadowV</th>\n",
       "      <th>Neighborhood_Mitchel</th>\n",
       "      <th>Neighborhood_NAmes</th>\n",
       "      <th>Neighborhood_NPkVill</th>\n",
       "      <th>Neighborhood_NWAmes</th>\n",
       "      <th>Neighborhood_NoRidge</th>\n",
       "      <th>Neighborhood_NridgHt</th>\n",
       "      <th>Neighborhood_OldTown</th>\n",
       "      <th>Neighborhood_SWISU</th>\n",
       "      <th>Neighborhood_Sawyer</th>\n",
       "      <th>Neighborhood_SawyerW</th>\n",
       "      <th>Neighborhood_Somerst</th>\n",
       "      <th>Neighborhood_StoneBr</th>\n",
       "      <th>Neighborhood_Timber</th>\n",
       "      <th>Neighborhood_Veenker</th>\n",
       "      <th>BldgType_1Fam</th>\n",
       "      <th>BldgType_2fmCon</th>\n",
       "      <th>BldgType_Duplex</th>\n",
       "      <th>BldgType_Twnhs</th>\n",
       "      <th>BldgType_TwnhsE</th>\n",
       "      <th>HouseStyle_1.5Story</th>\n",
       "      <th>HouseStyle_1Story</th>\n",
       "      <th>HouseStyle_2.5Story</th>\n",
       "      <th>HouseStyle_2Story</th>\n",
       "      <th>HouseStyle_SFoyer</th>\n",
       "      <th>HouseStyle_SLvl</th>\n",
       "      <th>RoofStyle_Flat</th>\n",
       "      <th>RoofStyle_Gable</th>\n",
       "      <th>RoofStyle_Gambrel</th>\n",
       "      <th>RoofStyle_Hip</th>\n",
       "      <th>RoofStyle_Mansard</th>\n",
       "      <th>RoofStyle_Shed</th>\n",
       "      <th>RoofMatl_CompShg</th>\n",
       "      <th>RoofMatl_Membran</th>\n",
       "      <th>RoofMatl_Metal</th>\n",
       "      <th>RoofMatl_Roll</th>\n",
       "      <th>RoofMatl_Tar&amp;Grv</th>\n",
       "      <th>RoofMatl_WdShake</th>\n",
       "      <th>RoofMatl_WdShngl</th>\n",
       "      <th>MasVnrType_BrkCmn</th>\n",
       "      <th>MasVnrType_BrkFace</th>\n",
       "      <th>MasVnrType_None</th>\n",
       "      <th>MasVnrType_Stone</th>\n",
       "      <th>Foundation_BrkTil</th>\n",
       "      <th>Foundation_CBlock</th>\n",
       "      <th>Foundation_PConc</th>\n",
       "      <th>Foundation_Slab</th>\n",
       "      <th>Foundation_Stone</th>\n",
       "      <th>Foundation_Wood</th>\n",
       "      <th>Heating_Floor</th>\n",
       "      <th>Heating_GasA</th>\n",
       "      <th>Heating_GasW</th>\n",
       "      <th>Heating_Grav</th>\n",
       "      <th>Heating_OthW</th>\n",
       "      <th>Heating_Wall</th>\n",
       "      <th>Electrical_FuseA</th>\n",
       "      <th>Electrical_FuseF</th>\n",
       "      <th>Electrical_FuseP</th>\n",
       "      <th>Electrical_Mix</th>\n",
       "      <th>Electrical_SBrkr</th>\n",
       "      <th>GarageType_2Types</th>\n",
       "      <th>GarageType_Attchd</th>\n",
       "      <th>GarageType_Basment</th>\n",
       "      <th>GarageType_BuiltIn</th>\n",
       "      <th>GarageType_CarPort</th>\n",
       "      <th>GarageType_Detchd</th>\n",
       "      <th>MiscFeature_Othr</th>\n",
       "      <th>MiscFeature_Shed</th>\n",
       "      <th>MiscFeature_TenC</th>\n",
       "      <th>MiscFeature_Gar2</th>\n",
       "      <th>SaleType_AWD</th>\n",
       "      <th>SaleType_COD</th>\n",
       "      <th>SaleType_Cont</th>\n",
       "      <th>SaleType_New</th>\n",
       "      <th>SaleType_Oth</th>\n",
       "      <th>SaleCondition_Abnorml</th>\n",
       "      <th>SaleCondition_AdjLand</th>\n",
       "      <th>SaleCondition_Alloca</th>\n",
       "      <th>SaleCondition_Family</th>\n",
       "      <th>SaleCondition_Normal</th>\n",
       "      <th>SaleCondition_Partial</th>\n",
       "      <th>TtlLivSF</th>\n",
       "      <th>TotalBath</th>\n",
       "      <th>TtlFloors</th>\n",
       "    </tr>\n",
       "  </thead>\n",
       "  <tbody>\n",
       "  </tbody>\n",
       "</table>\n",
       "</div>"
      ],
      "text/plain": [
       "Empty DataFrame\n",
       "Columns: [index, Id, MSSubClass, MSZoning, LotFrontage, LotArea, Street, Alley, LotShape, LandContour, Utilities, LotConfig, LandSlope, Neighborhood, Condition1, Condition2, BldgType, HouseStyle, OverallQual, OverallCond, YearBuilt, YearRemodAdd, RoofStyle, RoofMatl, Exterior1st, Exterior2nd, MasVnrType, MasVnrArea, ExterQual, ExterCond, Foundation, BsmtQual, BsmtCond, BsmtExposure, BsmtFinType1, BsmtFinSF1, BsmtFinType2, BsmtFinSF2, BsmtUnfSF, TotalBsmtSF, Heating, HeatingQC, CentralAir, Electrical, 1stFlrSF, 2ndFlrSF, LowQualFinSF, GrLivArea, BsmtFullBath, BsmtHalfBath, FullBath, HalfBath, BedroomAbvGr, KitchenAbvGr, KitchenQual, TotRmsAbvGrd, Functional, Fireplaces, FireplaceQu, GarageType, GarageYrBlt, GarageFinish, GarageCars, GarageArea, GarageQual, GarageCond, PavedDrive, WoodDeckSF, OpenPorchSF, EnclosedPorch, 3SsnPorch, ScreenPorch, PoolArea, PoolQC, Fence, MiscFeature, MiscVal, MoSold, YrSold, SaleType, SaleCondition, SalePrice, Cond_Artery, Cond_Feedr, Cond_Norm, Cond_RRN, Cond_RRA, Cond_PosN, Cond_PosA, Ext_AsbShng, Ext_AsphShn, Ext_BrkComm, Ext_BrkFace, Ext_CBlock, Ext_CemntBd, Ext_HdBoard, Ext_ImStucc, Ext_MetalSd, Ext_Other, Ext_Plywood, ...]\n",
       "Index: []"
      ]
     },
     "metadata": {},
     "output_type": "display_data"
    },
    {
     "name": "stdout",
     "output_type": "stream",
     "text": [
      "Looking for all 5 in Test:\n"
     ]
    },
    {
     "data": {
      "text/html": [
       "<div>\n",
       "<style scoped>\n",
       "    .dataframe tbody tr th:only-of-type {\n",
       "        vertical-align: middle;\n",
       "    }\n",
       "\n",
       "    .dataframe tbody tr th {\n",
       "        vertical-align: top;\n",
       "    }\n",
       "\n",
       "    .dataframe thead th {\n",
       "        text-align: right;\n",
       "    }\n",
       "</style>\n",
       "<table border=\"1\" class=\"dataframe\">\n",
       "  <thead>\n",
       "    <tr style=\"text-align: right;\">\n",
       "      <th></th>\n",
       "      <th>index</th>\n",
       "      <th>Id</th>\n",
       "      <th>MSSubClass</th>\n",
       "      <th>MSZoning</th>\n",
       "      <th>LotFrontage</th>\n",
       "      <th>LotArea</th>\n",
       "      <th>Street</th>\n",
       "      <th>Alley</th>\n",
       "      <th>LotShape</th>\n",
       "      <th>LandContour</th>\n",
       "      <th>Utilities</th>\n",
       "      <th>LotConfig</th>\n",
       "      <th>LandSlope</th>\n",
       "      <th>Neighborhood</th>\n",
       "      <th>Condition1</th>\n",
       "      <th>Condition2</th>\n",
       "      <th>BldgType</th>\n",
       "      <th>HouseStyle</th>\n",
       "      <th>OverallQual</th>\n",
       "      <th>OverallCond</th>\n",
       "      <th>YearBuilt</th>\n",
       "      <th>YearRemodAdd</th>\n",
       "      <th>RoofStyle</th>\n",
       "      <th>RoofMatl</th>\n",
       "      <th>Exterior1st</th>\n",
       "      <th>Exterior2nd</th>\n",
       "      <th>MasVnrType</th>\n",
       "      <th>MasVnrArea</th>\n",
       "      <th>ExterQual</th>\n",
       "      <th>ExterCond</th>\n",
       "      <th>Foundation</th>\n",
       "      <th>BsmtQual</th>\n",
       "      <th>BsmtCond</th>\n",
       "      <th>BsmtExposure</th>\n",
       "      <th>BsmtFinType1</th>\n",
       "      <th>BsmtFinSF1</th>\n",
       "      <th>BsmtFinType2</th>\n",
       "      <th>BsmtFinSF2</th>\n",
       "      <th>BsmtUnfSF</th>\n",
       "      <th>TotalBsmtSF</th>\n",
       "      <th>Heating</th>\n",
       "      <th>HeatingQC</th>\n",
       "      <th>CentralAir</th>\n",
       "      <th>Electrical</th>\n",
       "      <th>1stFlrSF</th>\n",
       "      <th>2ndFlrSF</th>\n",
       "      <th>LowQualFinSF</th>\n",
       "      <th>GrLivArea</th>\n",
       "      <th>BsmtFullBath</th>\n",
       "      <th>BsmtHalfBath</th>\n",
       "      <th>FullBath</th>\n",
       "      <th>HalfBath</th>\n",
       "      <th>BedroomAbvGr</th>\n",
       "      <th>KitchenAbvGr</th>\n",
       "      <th>KitchenQual</th>\n",
       "      <th>TotRmsAbvGrd</th>\n",
       "      <th>Functional</th>\n",
       "      <th>Fireplaces</th>\n",
       "      <th>FireplaceQu</th>\n",
       "      <th>GarageType</th>\n",
       "      <th>GarageYrBlt</th>\n",
       "      <th>GarageFinish</th>\n",
       "      <th>GarageCars</th>\n",
       "      <th>GarageArea</th>\n",
       "      <th>GarageQual</th>\n",
       "      <th>GarageCond</th>\n",
       "      <th>PavedDrive</th>\n",
       "      <th>WoodDeckSF</th>\n",
       "      <th>OpenPorchSF</th>\n",
       "      <th>EnclosedPorch</th>\n",
       "      <th>3SsnPorch</th>\n",
       "      <th>ScreenPorch</th>\n",
       "      <th>PoolArea</th>\n",
       "      <th>PoolQC</th>\n",
       "      <th>Fence</th>\n",
       "      <th>MiscFeature</th>\n",
       "      <th>MiscVal</th>\n",
       "      <th>MoSold</th>\n",
       "      <th>YrSold</th>\n",
       "      <th>SaleType</th>\n",
       "      <th>SaleCondition</th>\n",
       "      <th>Cond_Artery</th>\n",
       "      <th>Cond_Feedr</th>\n",
       "      <th>Cond_Norm</th>\n",
       "      <th>Cond_RRN</th>\n",
       "      <th>Cond_RRA</th>\n",
       "      <th>Cond_PosN</th>\n",
       "      <th>Cond_PosA</th>\n",
       "      <th>Ext_AsbShng</th>\n",
       "      <th>Ext_AsphShn</th>\n",
       "      <th>Ext_BrkComm</th>\n",
       "      <th>Ext_BrkFace</th>\n",
       "      <th>Ext_CBlock</th>\n",
       "      <th>Ext_CemntBd</th>\n",
       "      <th>Ext_HdBoard</th>\n",
       "      <th>Ext_ImStucc</th>\n",
       "      <th>Ext_MetalSd</th>\n",
       "      <th>Ext_Other</th>\n",
       "      <th>Ext_Plywood</th>\n",
       "      <th>Ext_Stone</th>\n",
       "      <th>Ext_Stucco</th>\n",
       "      <th>Ext_VinylSd</th>\n",
       "      <th>Ext_Wd_Sdng</th>\n",
       "      <th>Ext_WdShing</th>\n",
       "      <th>MSZoning_C</th>\n",
       "      <th>MSZoning_FV</th>\n",
       "      <th>MSZoning_RH</th>\n",
       "      <th>MSZoning_RL</th>\n",
       "      <th>MSZoning_RM</th>\n",
       "      <th>Neighborhood_Blmngtn</th>\n",
       "      <th>Neighborhood_Blueste</th>\n",
       "      <th>Neighborhood_BrDale</th>\n",
       "      <th>Neighborhood_BrkSide</th>\n",
       "      <th>Neighborhood_ClearCr</th>\n",
       "      <th>Neighborhood_CollgCr</th>\n",
       "      <th>Neighborhood_Crawfor</th>\n",
       "      <th>Neighborhood_Edwards</th>\n",
       "      <th>Neighborhood_Gilbert</th>\n",
       "      <th>Neighborhood_IDOTRR</th>\n",
       "      <th>Neighborhood_MeadowV</th>\n",
       "      <th>Neighborhood_Mitchel</th>\n",
       "      <th>Neighborhood_NAmes</th>\n",
       "      <th>Neighborhood_NPkVill</th>\n",
       "      <th>Neighborhood_NWAmes</th>\n",
       "      <th>Neighborhood_NoRidge</th>\n",
       "      <th>Neighborhood_NridgHt</th>\n",
       "      <th>Neighborhood_OldTown</th>\n",
       "      <th>Neighborhood_SWISU</th>\n",
       "      <th>Neighborhood_Sawyer</th>\n",
       "      <th>Neighborhood_SawyerW</th>\n",
       "      <th>Neighborhood_Somerst</th>\n",
       "      <th>Neighborhood_StoneBr</th>\n",
       "      <th>Neighborhood_Timber</th>\n",
       "      <th>Neighborhood_Veenker</th>\n",
       "      <th>BldgType_1Fam</th>\n",
       "      <th>BldgType_2fmCon</th>\n",
       "      <th>BldgType_Duplex</th>\n",
       "      <th>BldgType_Twnhs</th>\n",
       "      <th>BldgType_TwnhsE</th>\n",
       "      <th>HouseStyle_1.5Story</th>\n",
       "      <th>HouseStyle_1Story</th>\n",
       "      <th>HouseStyle_2.5Story</th>\n",
       "      <th>HouseStyle_2Story</th>\n",
       "      <th>HouseStyle_SFoyer</th>\n",
       "      <th>HouseStyle_SLvl</th>\n",
       "      <th>RoofStyle_Flat</th>\n",
       "      <th>RoofStyle_Gable</th>\n",
       "      <th>RoofStyle_Gambrel</th>\n",
       "      <th>RoofStyle_Hip</th>\n",
       "      <th>RoofStyle_Mansard</th>\n",
       "      <th>RoofStyle_Shed</th>\n",
       "      <th>RoofMatl_CompShg</th>\n",
       "      <th>RoofMatl_Tar&amp;Grv</th>\n",
       "      <th>RoofMatl_WdShake</th>\n",
       "      <th>RoofMatl_WdShngl</th>\n",
       "      <th>RoofMatl_Membran</th>\n",
       "      <th>RoofMatl_Metal</th>\n",
       "      <th>RoofMatl_Roll</th>\n",
       "      <th>MasVnrType_BrkCmn</th>\n",
       "      <th>MasVnrType_BrkFace</th>\n",
       "      <th>MasVnrType_None</th>\n",
       "      <th>MasVnrType_Stone</th>\n",
       "      <th>Foundation_BrkTil</th>\n",
       "      <th>Foundation_CBlock</th>\n",
       "      <th>Foundation_PConc</th>\n",
       "      <th>Foundation_Slab</th>\n",
       "      <th>Foundation_Stone</th>\n",
       "      <th>Foundation_Wood</th>\n",
       "      <th>Heating_GasA</th>\n",
       "      <th>Heating_GasW</th>\n",
       "      <th>Heating_Grav</th>\n",
       "      <th>Heating_Wall</th>\n",
       "      <th>Heating_Floor</th>\n",
       "      <th>Heating_OthW</th>\n",
       "      <th>Electrical_FuseA</th>\n",
       "      <th>Electrical_FuseF</th>\n",
       "      <th>Electrical_FuseP</th>\n",
       "      <th>Electrical_SBrkr</th>\n",
       "      <th>Electrical_Mix</th>\n",
       "      <th>GarageType_2Types</th>\n",
       "      <th>GarageType_Attchd</th>\n",
       "      <th>GarageType_Basment</th>\n",
       "      <th>GarageType_BuiltIn</th>\n",
       "      <th>GarageType_CarPort</th>\n",
       "      <th>GarageType_Detchd</th>\n",
       "      <th>MiscFeature_Gar2</th>\n",
       "      <th>MiscFeature_Othr</th>\n",
       "      <th>MiscFeature_Shed</th>\n",
       "      <th>MiscFeature_TenC</th>\n",
       "      <th>SaleType_AWD</th>\n",
       "      <th>SaleType_COD</th>\n",
       "      <th>SaleType_Cont</th>\n",
       "      <th>SaleType_New</th>\n",
       "      <th>SaleType_Oth</th>\n",
       "      <th>SaleCondition_Abnorml</th>\n",
       "      <th>SaleCondition_AdjLand</th>\n",
       "      <th>SaleCondition_Alloca</th>\n",
       "      <th>SaleCondition_Family</th>\n",
       "      <th>SaleCondition_Normal</th>\n",
       "      <th>SaleCondition_Partial</th>\n",
       "      <th>TtlLivSF</th>\n",
       "      <th>TotalBath</th>\n",
       "      <th>TtlFloors</th>\n",
       "    </tr>\n",
       "  </thead>\n",
       "  <tbody>\n",
       "  </tbody>\n",
       "</table>\n",
       "</div>"
      ],
      "text/plain": [
       "Empty DataFrame\n",
       "Columns: [index, Id, MSSubClass, MSZoning, LotFrontage, LotArea, Street, Alley, LotShape, LandContour, Utilities, LotConfig, LandSlope, Neighborhood, Condition1, Condition2, BldgType, HouseStyle, OverallQual, OverallCond, YearBuilt, YearRemodAdd, RoofStyle, RoofMatl, Exterior1st, Exterior2nd, MasVnrType, MasVnrArea, ExterQual, ExterCond, Foundation, BsmtQual, BsmtCond, BsmtExposure, BsmtFinType1, BsmtFinSF1, BsmtFinType2, BsmtFinSF2, BsmtUnfSF, TotalBsmtSF, Heating, HeatingQC, CentralAir, Electrical, 1stFlrSF, 2ndFlrSF, LowQualFinSF, GrLivArea, BsmtFullBath, BsmtHalfBath, FullBath, HalfBath, BedroomAbvGr, KitchenAbvGr, KitchenQual, TotRmsAbvGrd, Functional, Fireplaces, FireplaceQu, GarageType, GarageYrBlt, GarageFinish, GarageCars, GarageArea, GarageQual, GarageCond, PavedDrive, WoodDeckSF, OpenPorchSF, EnclosedPorch, 3SsnPorch, ScreenPorch, PoolArea, PoolQC, Fence, MiscFeature, MiscVal, MoSold, YrSold, SaleType, SaleCondition, Cond_Artery, Cond_Feedr, Cond_Norm, Cond_RRN, Cond_RRA, Cond_PosN, Cond_PosA, Ext_AsbShng, Ext_AsphShn, Ext_BrkComm, Ext_BrkFace, Ext_CBlock, Ext_CemntBd, Ext_HdBoard, Ext_ImStucc, Ext_MetalSd, Ext_Other, Ext_Plywood, Ext_Stone, ...]\n",
       "Index: []"
      ]
     },
     "metadata": {},
     "output_type": "display_data"
    }
   ],
   "source": [
    "display(train[train['WoodDeckSF']>0][['WoodDeckSF','OpenPorchSF','EnclosedPorch','3SsnPorch','ScreenPorch']].head(5))\n",
    "print('Looking for all 5 in Train:')\n",
    "display(train[(train['WoodDeckSF']>0)&(train['OpenPorchSF']>0)&(train['EnclosedPorch']>0)&(train['3SsnPorch']>0)&(train['ScreenPorch']>0)])\n",
    "print('Looking for all 5 in Test:')\n",
    "display(test[(test['WoodDeckSF']>0)&(test['OpenPorchSF']>0)&(test['EnclosedPorch']>0)&(test['3SsnPorch']>0)&(test['ScreenPorch']>0)])"
   ]
  },
  {
   "cell_type": "markdown",
   "metadata": {},
   "source": [
    "I am going to create a column that collects the total size of porch space. I thought about making a column to group porches into ranked groups based on total size, and about converting the individual columns into categorical Y/N columns, but I have decided that doing that is redundant."
   ]
  },
  {
   "cell_type": "code",
   "execution_count": 1524,
   "metadata": {},
   "outputs": [],
   "source": [
    "train['PorchTtlSF'] = train['WoodDeckSF']+train['OpenPorchSF']+train['EnclosedPorch']+train['3SsnPorch']+train['ScreenPorch']\n",
    "\n",
    "test['PorchTtlSF'] = test['WoodDeckSF']+test['OpenPorchSF']+test['EnclosedPorch']+test['3SsnPorch']+test['ScreenPorch']"
   ]
  },
  {
   "cell_type": "markdown",
   "metadata": {},
   "source": [
    "Finally, I am dropping the unexpanded, text columns and the extra index column. Additionally, I am going to set the Id column as the index and drop the `MSSubClass` column, as I think it is largely redundant with the **MSZoning** and **HouseStyle** categories."
   ]
  },
  {
   "cell_type": "code",
   "execution_count": 1525,
   "metadata": {},
   "outputs": [],
   "source": [
    "droplist = [\n",
    "    'index','Condition1','Condition2','Exterior1st','Exterior2nd','Foundation','Heating','HouseStyle','Electrical','RoofStyle','RoofMatl',\n",
    "    'MasVnrType','MSZoning','BldgType','Neighborhood','GarageType','MiscFeature','SaleType','SaleCondition','MSSubClass']"
   ]
  },
  {
   "cell_type": "code",
   "execution_count": 1526,
   "metadata": {},
   "outputs": [],
   "source": [
    "train_feat = train.drop(droplist,axis=1).set_index('Id')\n",
    "\n",
    "test_feat = test.drop(droplist,axis=1).set_index('Id')"
   ]
  },
  {
   "cell_type": "markdown",
   "metadata": {},
   "source": [
    "### Normalization \n",
    "Several of the numerical columns contain very large numbers that need to be normalized to prevent them being overemphasized in the model. I am going to use MinMaxScaler to accomplish this."
   ]
  },
  {
   "cell_type": "code",
   "execution_count": 1527,
   "metadata": {},
   "outputs": [],
   "source": [
    "from sklearn.preprocessing import MinMaxScaler\n",
    "\n",
    "train_norm = train_feat.copy()\n",
    "test_norm = test_feat.copy()"
   ]
  },
  {
   "cell_type": "markdown",
   "metadata": {},
   "source": [
    "As each column has its own minimum and maximum, each column needs its own scaler. "
   ]
  },
  {
   "cell_type": "code",
   "execution_count": 1528,
   "metadata": {},
   "outputs": [],
   "source": [
    "scaler1 = MinMaxScaler()\n",
    "train_norm['LotFrontage'] = scaler1.fit_transform(train_norm[['LotFrontage']])\n",
    "test_norm['LotFrontage'] = scaler1.transform(test_norm[['LotFrontage']])"
   ]
  },
  {
   "cell_type": "code",
   "execution_count": 1529,
   "metadata": {},
   "outputs": [],
   "source": [
    "scaler2 = MinMaxScaler()\n",
    "train_norm['LotArea'] = scaler2.fit_transform(train_norm[['LotArea']])\n",
    "test_norm['LotArea'] = scaler2.transform(test_norm[['LotArea']])"
   ]
  },
  {
   "cell_type": "code",
   "execution_count": 1530,
   "metadata": {},
   "outputs": [],
   "source": [
    "scaler3 = MinMaxScaler()\n",
    "train_norm['YearBuilt'] = scaler3.fit_transform(train_norm[['YearBuilt']])\n",
    "test_norm['YearBuilt'] = scaler3.transform(test_norm[['YearBuilt']])"
   ]
  },
  {
   "cell_type": "code",
   "execution_count": 1531,
   "metadata": {},
   "outputs": [],
   "source": [
    "scaler4 = MinMaxScaler()\n",
    "train_norm['YearRemodAdd'] = scaler4.fit_transform(train_norm[['YearRemodAdd']])\n",
    "test_norm['YearRemodAdd'] = scaler4.transform(test_norm[['YearRemodAdd']])"
   ]
  },
  {
   "cell_type": "code",
   "execution_count": 1532,
   "metadata": {},
   "outputs": [],
   "source": [
    "scaler5 = MinMaxScaler()\n",
    "train_norm['MasVnrArea'] = scaler5.fit_transform(train_norm[['MasVnrArea']])\n",
    "test_norm['MasVnrArea'] = scaler5.transform(test_norm[['MasVnrArea']])"
   ]
  },
  {
   "cell_type": "code",
   "execution_count": 1533,
   "metadata": {},
   "outputs": [],
   "source": [
    "scaler6 = MinMaxScaler()\n",
    "train_norm['BsmtFinSF1'] = scaler6.fit_transform(train_norm[['BsmtFinSF1']])\n",
    "test_norm['BsmtFinSF1'] = scaler6.transform(test_norm[['BsmtFinSF1']])"
   ]
  },
  {
   "cell_type": "code",
   "execution_count": 1534,
   "metadata": {},
   "outputs": [],
   "source": [
    "scaler7 = MinMaxScaler()\n",
    "train_norm['BsmtFinSF2'] = scaler7.fit_transform(train_norm[['BsmtFinSF2']])\n",
    "test_norm['BsmtFinSF2'] = scaler7.transform(test_norm[['BsmtFinSF2']])"
   ]
  },
  {
   "cell_type": "code",
   "execution_count": 1535,
   "metadata": {},
   "outputs": [],
   "source": [
    "scaler8 = MinMaxScaler()\n",
    "train_norm['BsmtUnfSF'] = scaler8.fit_transform(train_norm[['BsmtUnfSF']])\n",
    "test_norm['BsmtUnfSF'] = scaler8.transform(test_norm[['BsmtUnfSF']])"
   ]
  },
  {
   "cell_type": "code",
   "execution_count": 1536,
   "metadata": {},
   "outputs": [],
   "source": [
    "scaler9 = MinMaxScaler()\n",
    "train_norm['TotalBsmtSF'] = scaler9.fit_transform(train_norm[['TotalBsmtSF']])\n",
    "test_norm['TotalBsmtSF'] = scaler9.transform(test_norm[['TotalBsmtSF']])"
   ]
  },
  {
   "cell_type": "code",
   "execution_count": 1537,
   "metadata": {},
   "outputs": [],
   "source": [
    "scaler10 = MinMaxScaler()\n",
    "train_norm['1stFlrSF'] = scaler10.fit_transform(train_norm[['1stFlrSF']])\n",
    "test_norm['1stFlrSF'] = scaler10.transform(test_norm[['1stFlrSF']])"
   ]
  },
  {
   "cell_type": "code",
   "execution_count": 1538,
   "metadata": {},
   "outputs": [],
   "source": [
    "scaler11 = MinMaxScaler()\n",
    "train_norm['2ndFlrSF'] = scaler11.fit_transform(train_norm[['2ndFlrSF']])\n",
    "test_norm['2ndFlrSF'] = scaler11.transform(test_norm[['2ndFlrSF']])"
   ]
  },
  {
   "cell_type": "code",
   "execution_count": 1539,
   "metadata": {},
   "outputs": [],
   "source": [
    "scaler12 = MinMaxScaler()\n",
    "train_norm['LowQualFinSF'] = scaler12.fit_transform(train_norm[['LowQualFinSF']])\n",
    "test_norm['LowQualFinSF'] = scaler12.transform(test_norm[['LowQualFinSF']])"
   ]
  },
  {
   "cell_type": "code",
   "execution_count": 1540,
   "metadata": {},
   "outputs": [],
   "source": [
    "scaler13 = MinMaxScaler()\n",
    "train_norm['GrLivArea'] = scaler13.fit_transform(train_norm[['GrLivArea']])\n",
    "test_norm['GrLivArea'] = scaler13.transform(test_norm[['GrLivArea']])"
   ]
  },
  {
   "cell_type": "code",
   "execution_count": 1541,
   "metadata": {},
   "outputs": [],
   "source": [
    "scaler14 = MinMaxScaler()\n",
    "train_norm['GarageYrBlt'] = scaler14.fit_transform(train_norm[['GarageYrBlt']])\n",
    "test_norm['GarageYrBlt'] = scaler14.transform(test_norm[['GarageYrBlt']])"
   ]
  },
  {
   "cell_type": "code",
   "execution_count": 1542,
   "metadata": {},
   "outputs": [],
   "source": [
    "scaler15 = MinMaxScaler()\n",
    "train_norm['GarageArea'] = scaler15.fit_transform(train_norm[['GarageArea']])\n",
    "test_norm['GarageArea'] = scaler15.transform(test_norm[['GarageArea']])"
   ]
  },
  {
   "cell_type": "code",
   "execution_count": 1543,
   "metadata": {},
   "outputs": [],
   "source": [
    "scaler16 = MinMaxScaler()\n",
    "train_norm['WoodDeckSF'] = scaler16.fit_transform(train_norm[['WoodDeckSF']])\n",
    "test_norm['WoodDeckSF'] = scaler16.transform(test_norm[['WoodDeckSF']])"
   ]
  },
  {
   "cell_type": "code",
   "execution_count": 1544,
   "metadata": {},
   "outputs": [],
   "source": [
    "scaler17 = MinMaxScaler()\n",
    "train_norm['OpenPorchSF'] = scaler17.fit_transform(train_norm[['OpenPorchSF']])\n",
    "test_norm['OpenPorchSF'] = scaler17.transform(test_norm[['OpenPorchSF']])"
   ]
  },
  {
   "cell_type": "code",
   "execution_count": 1545,
   "metadata": {},
   "outputs": [],
   "source": [
    "scaler18 = MinMaxScaler()\n",
    "train_norm['EnclosedPorch'] = scaler18.fit_transform(train_norm[['EnclosedPorch']])\n",
    "test_norm['EnclosedPorch'] = scaler18.transform(test_norm[['EnclosedPorch']])"
   ]
  },
  {
   "cell_type": "code",
   "execution_count": 1546,
   "metadata": {},
   "outputs": [],
   "source": [
    "scaler19 = MinMaxScaler()\n",
    "train_norm['3SsnPorch'] = scaler19.fit_transform(train_norm[['3SsnPorch']])\n",
    "test_norm['3SsnPorch'] = scaler19.transform(test_norm[['3SsnPorch']])"
   ]
  },
  {
   "cell_type": "code",
   "execution_count": 1547,
   "metadata": {},
   "outputs": [],
   "source": [
    "scaler20 = MinMaxScaler()\n",
    "train_norm['ScreenPorch'] = scaler20.fit_transform(train_norm[['ScreenPorch']])\n",
    "test_norm['ScreenPorch'] = scaler20.transform(test_norm[['ScreenPorch']])"
   ]
  },
  {
   "cell_type": "code",
   "execution_count": 1548,
   "metadata": {},
   "outputs": [],
   "source": [
    "scaler21 = MinMaxScaler()\n",
    "train_norm['PoolArea'] = scaler21.fit_transform(train_norm[['PoolArea']])\n",
    "test_norm['PoolArea'] = scaler21.transform(test_norm[['PoolArea']])"
   ]
  },
  {
   "cell_type": "code",
   "execution_count": 1549,
   "metadata": {},
   "outputs": [],
   "source": [
    "scaler22 = MinMaxScaler()\n",
    "train_norm['MiscVal'] = scaler22.fit_transform(train_norm[['MiscVal']])\n",
    "test_norm['MiscVal'] = scaler22.transform(test_norm[['MiscVal']])"
   ]
  },
  {
   "cell_type": "code",
   "execution_count": 1550,
   "metadata": {},
   "outputs": [],
   "source": [
    "scaler23 = MinMaxScaler()\n",
    "train_norm['YrSold'] = scaler23.fit_transform(train_norm[['YrSold']])\n",
    "test_norm['YrSold'] = scaler23.transform(test_norm[['YrSold']])"
   ]
  },
  {
   "cell_type": "code",
   "execution_count": 1551,
   "metadata": {},
   "outputs": [],
   "source": [
    "scaler24 = MinMaxScaler()\n",
    "train_norm['TtlLivSF'] = scaler24.fit_transform(train_norm[['TtlLivSF']])\n",
    "test_norm['TtlLivSF'] = scaler24.transform(test_norm[['TtlLivSF']])"
   ]
  },
  {
   "cell_type": "code",
   "execution_count": 1552,
   "metadata": {},
   "outputs": [],
   "source": [
    "scaler25 = MinMaxScaler()\n",
    "train_norm['PorchTtlSF'] = scaler25.fit_transform(train_norm[['PorchTtlSF']])\n",
    "test_norm['PorchTtlSF'] = scaler25.transform(test_norm[['PorchTtlSF']])"
   ]
  },
  {
   "cell_type": "markdown",
   "metadata": {},
   "source": [
    "### Saving new pickles:<p>\n",
    "I am keeping pickles of each dataframe without normalization applied for easy reference."
   ]
  },
  {
   "cell_type": "code",
   "execution_count": 1553,
   "metadata": {},
   "outputs": [],
   "source": [
    "# dataframes without normalization\n",
    "train_feat.to_pickle('../pickles/features/train_features')\n",
    "test_feat.to_pickle('../pickles/features/test_features')\n",
    "\n",
    "# dataframes with normalization\n",
    "train_norm.to_pickle('../pickles/features/train_normalized')\n",
    "test_feat.to_pickle('../pickles/features/test_normalized')"
   ]
  }
 ],
 "metadata": {
  "kernelspec": {
   "display_name": "base",
   "language": "python",
   "name": "python3"
  },
  "language_info": {
   "codemirror_mode": {
    "name": "ipython",
    "version": 3
   },
   "file_extension": ".py",
   "mimetype": "text/x-python",
   "name": "python",
   "nbconvert_exporter": "python",
   "pygments_lexer": "ipython3",
   "version": "3.12.3"
  }
 },
 "nbformat": 4,
 "nbformat_minor": 2
}
