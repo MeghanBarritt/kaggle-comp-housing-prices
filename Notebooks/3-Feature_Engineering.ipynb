{
 "cells": [
  {
   "cell_type": "markdown",
   "metadata": {},
   "source": [
    "# 3 - Feature Engineering"
   ]
  },
  {
   "cell_type": "code",
   "execution_count": 503,
   "metadata": {},
   "outputs": [],
   "source": [
    "import pandas as pd\n",
    "pd.set_option('display.max_columns', None)\n",
    "train = pd.read_pickle('../pickles/cleaned/train_cleaned')\n",
    "test = pd.read_pickle('../pickles/cleaned/test_cleaned')"
   ]
  },
  {
   "cell_type": "markdown",
   "metadata": {},
   "source": [
    "### Value Mapping<p>\n",
    "In order to be used in regression, all columns need to be in a numberical format. Additionally, some columns can be combined into more meaningful data points, such as room counts.<p>\n",
    "First, heirarchical values, such as those ranging from 'poor' to 'excellent' can be converted into numerical ones quite easily, with 1 as the worst and counting up, using 0 where there is no data at all. "
   ]
  },
  {
   "cell_type": "markdown",
   "metadata": {},
   "source": [
    "5 <- Ex\t(Excellent) <br>\n",
    "4 <- Gd\t(Good)<br>\n",
    "3 <- TA\t(Average/Typical)<br>\n",
    "2 <- Fa\t(Fair)<br>\n",
    "1 <- Po\t(Poor)<br>\n",
    "0 <- None\t(Doesn't have)<p>\n",
    "\n",
    "Columns this applies to:<p>\n",
    "*PoolQC*: Pool quality<br>\n",
    "*FireplaceQu*: Fireplace quality<br>\n",
    "*GarageCond*: Garage condition<br>\n",
    "*GarageQual*: Garage quality<br>\n",
    "*KitchenQual*: Kitchen quality<br>\n",
    "*HeatingQC*: Heating quality and condition<br>\n",
    "*BsmtCond*: Evaluates the general condition of the basement<br>\n",
    "*BsmtQual*: Evaluates the height of the basement<br>\n",
    "*ExterCond*: Evaluates the present condition of the material on the exterior<br>\n",
    "*ExterQual*: Evaluates the quality of the material on the exterior "
   ]
  },
  {
   "cell_type": "code",
   "execution_count": 504,
   "metadata": {},
   "outputs": [],
   "source": [
    "mapping1 = {'Ex':5, 'Gd':4, 'TA':3, 'Fa':2, 'Po':1, 'None':0}"
   ]
  },
  {
   "cell_type": "code",
   "execution_count": 505,
   "metadata": {},
   "outputs": [],
   "source": [
    "train.loc[:, 'PoolQC'] = train['PoolQC'].map(mapping1)\n",
    "train.loc[:, 'FireplaceQu'] = train['FireplaceQu'].map(mapping1)\n",
    "train.loc[:, 'GarageCond'] = train['GarageCond'].map(mapping1)\n",
    "train.loc[:, 'GarageQual'] = train['GarageQual'].map(mapping1)\n",
    "train.loc[:, 'KitchenQual'] = train['KitchenQual'].map(mapping1)\n",
    "train.loc[:, 'HeatingQC'] = train['HeatingQC'].map(mapping1)\n",
    "train.loc[:, 'BsmtCond'] = train['BsmtCond'].map(mapping1)\n",
    "train.loc[:, 'BsmtQual'] = train['BsmtQual'].map(mapping1)\n",
    "train.loc[:, 'ExterCond'] = train['ExterCond'].map(mapping1)\n",
    "train.loc[:, 'ExterQual'] = train['ExterQual'].map(mapping1)"
   ]
  },
  {
   "cell_type": "code",
   "execution_count": 506,
   "metadata": {},
   "outputs": [],
   "source": [
    "test.loc[:, 'PoolQC'] = test['PoolQC'].map(mapping1)\n",
    "test.loc[:, 'FireplaceQu'] = test['FireplaceQu'].map(mapping1)\n",
    "test.loc[:, 'GarageCond'] = test['GarageCond'].map(mapping1)\n",
    "test.loc[:, 'GarageQual'] = test['GarageQual'].map(mapping1)\n",
    "test.loc[:, 'KitchenQual'] = test['KitchenQual'].map(mapping1)\n",
    "test.loc[:, 'HeatingQC'] = test['HeatingQC'].map(mapping1)\n",
    "test.loc[:, 'BsmtCond'] = test['BsmtCond'].map(mapping1)\n",
    "test.loc[:, 'BsmtQual'] = test['BsmtQual'].map(mapping1)\n",
    "test.loc[:, 'ExterCond'] = test['ExterCond'].map(mapping1)\n",
    "test.loc[:, 'ExterQual'] = test['ExterQual'].map(mapping1)"
   ]
  },
  {
   "cell_type": "markdown",
   "metadata": {},
   "source": [
    "6 <- GLQ (Good Living Quarters)<br>\n",
    "5 <- ALQ (Average Living Quarters)<br>\n",
    "4 <- BLQ (Below Average Living Quarters)\t<br>\n",
    "3 <- Rec (Average Rec Room)<br>\n",
    "2 <- LwQ (Low Quality)<br>\n",
    "1 <- Unf (Unfinshed)<br>\n",
    "0 <- None (Doesn't have)<p>\n",
    "\n",
    "Columes this applies to:<p>\n",
    "*BsmtFinType1*: Rating of basement finished area<br>\n",
    "*BsmtFinType2*: Rating of basement finished area (if multiple types)"
   ]
  },
  {
   "cell_type": "code",
   "execution_count": 507,
   "metadata": {},
   "outputs": [],
   "source": [
    "mapping2 = {'GLQ':6, 'ALQ':5, 'BLQ':4, 'Rec':3, 'LwQ':2, 'Unf':1, 'None':0}"
   ]
  },
  {
   "cell_type": "code",
   "execution_count": 508,
   "metadata": {},
   "outputs": [],
   "source": [
    "train.loc[:, 'BsmtFinType1'] = train['BsmtFinType1'].map(mapping2)\n",
    "train.loc[:, 'BsmtFinType2'] = train['BsmtFinType2'].map(mapping2)"
   ]
  },
  {
   "cell_type": "code",
   "execution_count": 509,
   "metadata": {},
   "outputs": [],
   "source": [
    "test.loc[:, 'BsmtFinType1'] = test['BsmtFinType1'].map(mapping2)\n",
    "test.loc[:, 'BsmtFinType2'] = test['BsmtFinType2'].map(mapping2)"
   ]
  },
  {
   "cell_type": "markdown",
   "metadata": {},
   "source": [
    "2 <- Grvl\t(Gravel)<br>\n",
    "1 <- Pave\t(Paved)<br>\n",
    "0 <- None (Only on `Alley`; no alley access)<p>\n",
    "\n",
    "Applies to:<p>\n",
    "*Street*: Type of road access to property<br>\n",
    "*Alley*: Type of alley access to property"
   ]
  },
  {
   "cell_type": "code",
   "execution_count": 510,
   "metadata": {},
   "outputs": [],
   "source": [
    "mapping3 = {'Grvl':2, 'Pave':1, 'None':0}"
   ]
  },
  {
   "cell_type": "code",
   "execution_count": 511,
   "metadata": {},
   "outputs": [],
   "source": [
    "train.loc[:, 'Street'] = train['Street'].map(mapping3)\n",
    "train.loc[:, 'Alley'] = train['Alley'].map(mapping3)"
   ]
  },
  {
   "cell_type": "code",
   "execution_count": 512,
   "metadata": {},
   "outputs": [],
   "source": [
    "test.loc[:, 'Street'] = test['Street'].map(mapping3)\n",
    "test.loc[:, 'Alley'] = test['Alley'].map(mapping3)"
   ]
  },
  {
   "cell_type": "markdown",
   "metadata": {},
   "source": [
    "3 <- Y\t(Paved) <br>\n",
    "2 <- P\t(Partial Pavement)<br>\n",
    "1 <- N\t(Dirt/Gravel)<p>\n",
    "\n",
    "Only applies to:<p>\n",
    "*PavedDrive*: Paved driveway"
   ]
  },
  {
   "cell_type": "code",
   "execution_count": 513,
   "metadata": {},
   "outputs": [],
   "source": [
    "pavemap = {'Y':3, 'P':2, 'N':1}"
   ]
  },
  {
   "cell_type": "code",
   "execution_count": 514,
   "metadata": {},
   "outputs": [],
   "source": [
    "train.loc[:, 'PavedDrive'] = train['PavedDrive'].map(pavemap)\n",
    "\n",
    "test.loc[:, 'PavedDrive'] = test['PavedDrive'].map(pavemap)"
   ]
  },
  {
   "cell_type": "markdown",
   "metadata": {},
   "source": [
    "3 <- Fin (Finished)<br>\n",
    "2 <- RFn (Rough Finished)<br>\n",
    "1 <- Unf (Unfinished)<br>\n",
    "0 <- None (No Garage)<p>\n",
    "\n",
    "Only applies to:<p>\n",
    "*GarageFinish*: Interior finish of the garage"
   ]
  },
  {
   "cell_type": "code",
   "execution_count": 515,
   "metadata": {},
   "outputs": [],
   "source": [
    "garagemap = {'Fin':3, 'RFn':2, 'Unf':1, 'None':0}"
   ]
  },
  {
   "cell_type": "code",
   "execution_count": 516,
   "metadata": {},
   "outputs": [],
   "source": [
    "train.loc[:, 'GarageFinish'] = train['GarageFinish'].map(garagemap)\n",
    "\n",
    "test.loc[:, 'GarageFinish'] = test['GarageFinish'].map(garagemap)"
   ]
  },
  {
   "cell_type": "markdown",
   "metadata": {},
   "source": [
    "8 <- Typ\t(Typical Functionality)<br>\n",
    "7 <- Min1\t(Minor Deductions 1)<br>\n",
    "6 <- Min2\t(Minor Deductions 2)<br>\n",
    "5 <- Mod\t(Moderate Deductions)<br>\n",
    "4 <- Maj1\t(Major Deductions 1)<br>\n",
    "3 <- Maj2\t(Major Deductions 2)<br>\n",
    "2 <- Sev\t(Severely Damaged)<br>\n",
    "1 <- Sal\t(Salvage only)<p>\n",
    "\n",
    "Only applies to:<p>\n",
    "*Functional*: Home functionality (Assume typical unless deductions are warranted)"
   ]
  },
  {
   "cell_type": "code",
   "execution_count": 517,
   "metadata": {},
   "outputs": [],
   "source": [
    "functmap = {'Typ':8, 'Min1':7, 'Min2':6, 'Mod':5, 'Maj1':4, 'Maj2':3, 'Sev':2, 'Sal':1}"
   ]
  },
  {
   "cell_type": "code",
   "execution_count": 518,
   "metadata": {},
   "outputs": [],
   "source": [
    "train.loc[:, 'Functional'] = train['Functional'].map(functmap)\n",
    "\n",
    "test.loc[:, 'Functional'] = test['Functional'].map(functmap)"
   ]
  },
  {
   "cell_type": "markdown",
   "metadata": {},
   "source": [
    "4 <- Gd\t(Good Exposure)<br>\n",
    "3 <- Av\t(Average Exposure)<br>\n",
    "2 <- Mn\t(Mimimum Exposure)<br>\n",
    "1 <- No\t(No Exposure)<br>\n",
    "0 <- None\t(No Basement)<p>\n",
    "\n",
    "Only applies to:<p>\n",
    "*BsmtExposure*: Refers to walkout or garden level walls"
   ]
  },
  {
   "cell_type": "code",
   "execution_count": 519,
   "metadata": {},
   "outputs": [],
   "source": [
    "bsmtmap = {'Gd':4, 'Av':3, 'Mn':2, 'No':1, 'None':0}"
   ]
  },
  {
   "cell_type": "code",
   "execution_count": 520,
   "metadata": {},
   "outputs": [],
   "source": [
    "train.loc[:, 'BsmtExposure'] = train['BsmtExposure'].map(bsmtmap)\n",
    "\n",
    "test.loc[:, 'BsmtExposure'] = test['BsmtExposure'].map(bsmtmap)"
   ]
  },
  {
   "cell_type": "markdown",
   "metadata": {},
   "source": [
    "4 <- AllPub\t(All public Utilities)<br>\n",
    "3 <- NoSewr\t(Electricity, Gas, and Water (Septic Tank))<br>\n",
    "2 <- NoSeWa\t(Electricity and Gas Only)<br>\n",
    "1 <- ELO\t(Electricity only)<p>\n",
    "\n",
    "Only applies to:<p>\n",
    "*Utilities*: Type of utilities available<br>"
   ]
  },
  {
   "cell_type": "code",
   "execution_count": 521,
   "metadata": {},
   "outputs": [],
   "source": [
    "utilmap = {'AllPub':4, 'NoSewr':3, 'NoSeWa':2, 'ELO':1}"
   ]
  },
  {
   "cell_type": "code",
   "execution_count": 522,
   "metadata": {},
   "outputs": [],
   "source": [
    "train.loc[:, 'Utilities'] = train['Utilities'].map(utilmap)\n",
    "\n",
    "test.loc[:, 'Utilities'] = test['Utilities'].map(utilmap)"
   ]
  },
  {
   "cell_type": "markdown",
   "metadata": {},
   "source": [
    "Additionally, the `CentralAir` column currently contains Yes/No values, and as such can be re-mapped using the standard 1/0 schema."
   ]
  },
  {
   "cell_type": "code",
   "execution_count": 523,
   "metadata": {},
   "outputs": [],
   "source": [
    "airmap = {'Y':1, 'N':0}"
   ]
  },
  {
   "cell_type": "code",
   "execution_count": 524,
   "metadata": {},
   "outputs": [],
   "source": [
    "train.loc[:, 'CentralAir'] = train['CentralAir'].map(airmap)\n",
    "\n",
    "test.loc[:, 'CentralAir'] = test['CentralAir'].map(airmap)"
   ]
  },
  {
   "cell_type": "markdown",
   "metadata": {},
   "source": [
    "### One Hot Encoding<p>\n",
    "Features that aren't numerical and have no obvious heirarchy need to be handled via One Hot Encoding."
   ]
  },
  {
   "cell_type": "code",
   "execution_count": 525,
   "metadata": {},
   "outputs": [],
   "source": [
    "from sklearn.preprocessing import OneHotEncoder\n",
    "enc = OneHotEncoder(sparse_output=False)"
   ]
  },
  {
   "cell_type": "markdown",
   "metadata": {},
   "source": [
    "There are some column pairs that share the same possible values. In order to capture both columns' data for each pair, I'm expanding both of them and then combing them into a single column set, with a max of two points across them."
   ]
  },
  {
   "cell_type": "markdown",
   "metadata": {},
   "source": [
    "`Condition1` and `Condition2` share the following value set:<p>\n",
    "\n",
    "Artery - Adjacent to arterial street<br>\n",
    "Feedr - Adjacent to feeder street<br>\n",
    "Norm - Normal\t<br>\n",
    "RRNn - Within 200' of North-South Railroad<br>\n",
    "RRAn - Adjacent to North-South Railroad<br>\n",
    "PosN - Near positive off-site feature--park, greenbelt, etc.<br>\n",
    "PosA - Adjacent to postive off-site feature<br>\n",
    "RRNe - Within 200' of East-West Railroad<br>\n",
    "RRAe - Adjacent to East-West Railroad"
   ]
  },
  {
   "cell_type": "code",
   "execution_count": 526,
   "metadata": {},
   "outputs": [],
   "source": [
    "# expand both columns and combine for coalation\n",
    "train_c1 = pd.DataFrame(data=(enc.fit_transform(train[['Condition1']])),columns=(enc.get_feature_names_out()))\n",
    "train_c2 = pd.DataFrame(data=(enc.fit_transform(train[['Condition2']])),columns=(enc.get_feature_names_out()))\n",
    "train_condition = pd.concat([train_c1,train_c2],axis=1)"
   ]
  },
  {
   "cell_type": "code",
   "execution_count": 527,
   "metadata": {},
   "outputs": [],
   "source": [
    "# rename columns that did not appear in the second set of conditions\n",
    "train_condition = train_condition.rename(columns={'Condition1_RRAe':'RRAe','Condition1_RRNe':'RRNe'})\n",
    "\n",
    "# create columns for coalating values \n",
    "train_condition['Artery'] = 0.0\n",
    "train_condition['Feedr'] = 0.0\n",
    "train_condition['Norm'] = 0.0\n",
    "train_condition['PosA'] = 0.0\n",
    "train_condition['PosN'] = 0.0\n",
    "train_condition['RRAn'] = 0.0\n",
    "train_condition['RRNn'] = 0.0"
   ]
  },
  {
   "cell_type": "code",
   "execution_count": 528,
   "metadata": {},
   "outputs": [],
   "source": [
    "# where either 'Artery' expansion is 1, fill master column with a 1\n",
    "train_condition.loc[((train_condition[\n",
    "    (train_condition['Condition1_Artery']==1)| \n",
    "    (train_condition['Condition2_Artery']==1)\n",
    "].index).tolist()), 'Artery'] = 1\n",
    "\n",
    "# where either 'Feedr' expansion is 1, fill master column with a 1\n",
    "train_condition.loc[((train_condition[\n",
    "    (train_condition['Condition1_Feedr']==1)|\n",
    "    (train_condition['Condition2_Feedr']==1)\n",
    "].index).tolist()), 'Feedr'] = 1\n",
    "\n",
    "# where either 'Norm' expansion is 1, fill master column with a 1\n",
    "train_condition.loc[((train_condition[\n",
    "    (train_condition['Condition1_Norm']==1)|\n",
    "    (train_condition['Condition2_Norm']==1)\n",
    "].index).tolist()), 'Norm'] = 1\n",
    "\n",
    "# where either 'PosA' expansion is 1, fill master column with a 1\n",
    "train_condition.loc[((train_condition[\n",
    "    (train_condition['Condition1_PosA']==1)|\n",
    "    (train_condition['Condition2_PosA']==1)\n",
    "].index).tolist()), 'PosA'] = 1\n",
    "\n",
    "# where either 'PosN' expansion is 1, fill master column with a 1\n",
    "train_condition.loc[((train_condition[\n",
    "    (train_condition['Condition1_PosN']==1)|\n",
    "    (train_condition['Condition2_PosN']==1)\n",
    "].index).tolist()), 'PosN'] = 1\n",
    "\n",
    "# where either 'RRAn' expansion is 1, fill master column with a 1\n",
    "train_condition.loc[((train_condition[\n",
    "    (train_condition['Condition1_RRAn']==1)|\n",
    "    (train_condition['Condition2_RRAn']==1)\n",
    "].index).tolist()), 'RRAn'] = 1\n",
    "\n",
    "# where either 'RRNn' expansion is 1, fill master column with a 1\n",
    "train_condition.loc[((train_condition[\n",
    "    (train_condition['Condition1_RRNn']==1)|\n",
    "    (train_condition['Condition2_RRNn']==1)\n",
    "].index).tolist()), 'RRNn'] = 1"
   ]
  },
  {
   "cell_type": "code",
   "execution_count": 529,
   "metadata": {},
   "outputs": [],
   "source": [
    "# merge the columns to keep back onto main dataframe\n",
    "train = pd.concat([train.reset_index(),train_condition[['Artery','Feedr','Norm','RRNn','RRAn','PosN','PosA','RRNe','RRAe']]],axis=1)"
   ]
  },
  {
   "cell_type": "markdown",
   "metadata": {},
   "source": [
    "And the test set:"
   ]
  },
  {
   "cell_type": "code",
   "execution_count": 530,
   "metadata": {},
   "outputs": [],
   "source": [
    "# expand both columns and combine for coalation\n",
    "test_c1 = pd.DataFrame(data=(enc.fit_transform(test[['Condition1']])),columns=(enc.get_feature_names_out()))\n",
    "test_c2 = pd.DataFrame(data=(enc.fit_transform(test[['Condition2']])),columns=(enc.get_feature_names_out()))\n",
    "test_condition = pd.concat([test_c1,test_c2],axis=1)"
   ]
  },
  {
   "cell_type": "code",
   "execution_count": 531,
   "metadata": {},
   "outputs": [],
   "source": [
    "# rename columns that did not appear in the second set of conditions\n",
    "test_condition = test_condition.rename(columns={'Condition1_RRAe':'RRAe','Condition1_RRAn':'RRAn',\n",
    "'Condition1_RRNe':'RRNe','Condition1_RRNn':'RRNn'})\n",
    "\n",
    "# create columns for coalating values \n",
    "test_condition['Artery'] = 0.0\n",
    "test_condition['Feedr'] = 0.0\n",
    "test_condition['Norm'] = 0.0\n",
    "test_condition['PosA'] = 0.0\n",
    "test_condition['PosN'] = 0.0"
   ]
  },
  {
   "cell_type": "code",
   "execution_count": 532,
   "metadata": {},
   "outputs": [],
   "source": [
    "# where either 'Artery' expansion is 1, fill master column with a 1\n",
    "test_condition.loc[((test_condition[\n",
    "    (test_condition['Condition1_Artery']==1)|\n",
    "    (test_condition['Condition2_Artery']==1)\n",
    "].index).tolist()), 'Artery'] = 1\n",
    "\n",
    "# where either 'Feedr' expansion is 1, fill master column with a 1\n",
    "test_condition.loc[((test_condition[\n",
    "    (test_condition['Condition1_Feedr']==1)|\n",
    "    (test_condition['Condition2_Feedr']==1)\n",
    "].index).tolist()), 'Feedr'] = 1\n",
    "\n",
    "# where either 'Norm' expansion is 1, fill master column with a 1\n",
    "test_condition.loc[((test_condition[\n",
    "    (test_condition['Condition1_Norm']==1)|\n",
    "    (test_condition['Condition2_Norm']==1)\n",
    "].index).tolist()), 'Norm'] = 1\n",
    "\n",
    "# where either 'PosA' expansion is 1, fill master column with a 1\n",
    "test_condition.loc[((test_condition[\n",
    "    (test_condition['Condition1_PosA']==1)|\n",
    "    (test_condition['Condition2_PosA']==1)\n",
    "].index).tolist()), 'PosA'] = 1\n",
    "\n",
    "# where either 'PosN' expansion is 1, fill master column with a 1\n",
    "test_condition.loc[((test_condition[\n",
    "    (test_condition['Condition1_PosN']==1)|\n",
    "    (test_condition['Condition2_PosN']==1)\n",
    "].index).tolist()), 'PosN'] = 1"
   ]
  },
  {
   "cell_type": "code",
   "execution_count": 533,
   "metadata": {},
   "outputs": [],
   "source": [
    "# merge the columns to keep back onto main dataframe\n",
    "test = pd.concat([test.reset_index(),test_condition[['Artery','Feedr','Norm','RRNn','RRAn','PosN','PosA','RRNe','RRAe']]],axis=1)"
   ]
  },
  {
   "cell_type": "markdown",
   "metadata": {},
   "source": [
    "`Exterior1st` and `Exterior2nd` share the following value set:<p>\n",
    "\n",
    "AsbShng - Asbestos Shingles<br>\n",
    "AsphShn - Asphalt Shingles<br>\n",
    "BrkComm - Brick Common<br>\n",
    "BrkFace - Brick Face<br>\n",
    "CBlock - Cinder Block<br>\n",
    "CemntBd - Cement Board<br>\n",
    "HdBoard - Hard Board<br>\n",
    "ImStucc - Imitation Stucco<br>\n",
    "MetalSd - Metal Siding<br>\n",
    "Other - Other<br>\n",
    "Plywood - Plywood<br>\n",
    "PreCast - PreCast<br>\n",
    "Stone  -Stone<br>\n",
    "Stucco - Stucco<br>\n",
    "VinylSd - Vinyl Siding<br>\n",
    "Wd Sdng - Wood Siding<br>\n",
    "WdShing - Wood Shingles<br>"
   ]
  },
  {
   "cell_type": "code",
   "execution_count": 534,
   "metadata": {},
   "outputs": [],
   "source": [
    "train_ext1 = pd.DataFrame(data=(enc.fit_transform(train[['Exterior1st']])),columns=(enc.get_feature_names_out()))\n",
    "train_ext2 = pd.DataFrame(data=(enc.fit_transform(train[['Exterior2nd']])),columns=(enc.get_feature_names_out()))\n",
    "train_exterior = pd.concat([train_ext1,train_ext2],axis=1)"
   ]
  },
  {
   "cell_type": "code",
   "execution_count": 535,
   "metadata": {},
   "outputs": [],
   "source": [
    "# rename the column that only appears in one dataframe\n",
    "train_exterior = train_exterior.rename(columns={'Exterior2nd_Other':'Other'})\n",
    "\n",
    "# create columns for coalating values\n",
    "train_exterior['AsbShng'] = 0.0\n",
    "train_exterior['AsphShn'] = 0.0\n",
    "train_exterior['BrkComm'] = 0.0\n",
    "train_exterior['BrkFace'] = 0.0\n",
    "train_exterior['CBlock'] = 0.0\n",
    "train_exterior['CemntBd'] = 0.0\n",
    "train_exterior['HdBoard'] = 0.0\n",
    "train_exterior['ImStucc'] = 0.0\n",
    "train_exterior['MetalSd'] = 0.0\n",
    "train_exterior['Plywood'] = 0.0\n",
    "train_exterior['PreCast'] = 0.0\n",
    "train_exterior['Stone'] = 0.0\n",
    "train_exterior['Stucco'] = 0.0\n",
    "train_exterior['VinylSd'] = 0.0\n",
    "train_exterior['Wd Sdng'] = 0.0\n",
    "train_exterior['WdShing'] = 0.0"
   ]
  },
  {
   "cell_type": "code",
   "execution_count": 544,
   "metadata": {},
   "outputs": [],
   "source": [
    "# where either 'AsbShng' expansion is 1, fill master column with a 1\n",
    "train_exterior.loc[((train_exterior[\n",
    "    (train_exterior['Exterior1st_AsbShng']==1)|\n",
    "    (train_exterior['Exterior2nd_AsbShng']==1)\n",
    "].index).tolist()), 'AsbShng'] = 1\n",
    "\n",
    "# where either 'AsphShn' expansion is 1, fill master column with a 1\n",
    "train_exterior.loc[((train_exterior[\n",
    "    (train_exterior['Exterior1st_AsphShn']==1)|\n",
    "    (train_exterior['Exterior2nd_AsphShn']==1)\n",
    "].index).tolist()), 'AsphShn'] = 1\n",
    "\n",
    "# where either 'BrkComm' expansion is 1, fill master column with a 1\n",
    "train_exterior.loc[((train_exterior[\n",
    "    (train_exterior['Exterior1st_BrkComm']==1)|\n",
    "    (train_exterior['Exterior2nd_Brk Cmn']==1)\n",
    "].index).tolist()), 'BrkComm'] = 1\n",
    "\n",
    "# where either 'BrkFace' expansion is 1, fill master column with a 1\n",
    "train_exterior.loc[((train_exterior[\n",
    "    (train_exterior['Exterior1st_BrkFace']==1)|\n",
    "    (train_exterior['Exterior2nd_BrkFace']==1)\n",
    "].index).tolist()), 'BrkFace'] = 1\n",
    "\n",
    "# where either 'CBlock' expansion is 1, fill master column with a 1\n",
    "train_exterior.loc[((train_exterior[\n",
    "    (train_exterior['Exterior1st_CBlock']==1)|\n",
    "    (train_exterior['Exterior2nd_CBlock']==1)\n",
    "].index).tolist()), 'CBlock'] = 1\n",
    "\n",
    "# where either 'CemntBd' expansion is 1, fill master column with a 1\n",
    "train_exterior.loc[((train_exterior[\n",
    "    (train_exterior['Exterior1st_CemntBd']==1)|\n",
    "    (train_exterior['Exterior2nd_CmentBd']==1)\n",
    "].index).tolist()), 'CemntBd'] = 1\n",
    "\n",
    "# where either 'HdBoard' expansion is 1, fill master column with a 1\n",
    "train_exterior.loc[((train_exterior[\n",
    "    (train_exterior['Exterior1st_HdBoard']==1)|\n",
    "    (train_exterior['Exterior2nd_HdBoard']==1)\n",
    "].index).tolist()), 'HdBoard'] = 1\n",
    "\n",
    "# where either 'ImStucc' expansion is 1, fill master column with a 1\n",
    "train_exterior.loc[((train_exterior[\n",
    "    (train_exterior['Exterior1st_ImStucc']==1)|\n",
    "    (train_exterior['Exterior2nd_ImStucc']==1)\n",
    "].index).tolist()), 'ImStucc'] = 1\n",
    "\n",
    "# where either 'MetalSd' expansion is 1, fill master column with a 1\n",
    "train_exterior.loc[((train_exterior[\n",
    "    (train_exterior['Exterior1st_MetalSd']==1)|\n",
    "    (train_exterior['Exterior2nd_MetalSd']==1)\n",
    "].index).tolist()), 'MetalSd'] = 1\n",
    "\n",
    "# where either 'Plywood' expansion is 1, fill master column with a 1\n",
    "train_exterior.loc[((train_exterior[\n",
    "    (train_exterior['Exterior1st_Plywood']==1)|\n",
    "    (train_exterior['Exterior2nd_Plywood']==1)\n",
    "].index).tolist()), 'Plywood'] = 1\n",
    "\n",
    "# where either 'Stone' expansion is 1, fill master column with a 1\n",
    "train_exterior.loc[((train_exterior[\n",
    "    (train_exterior['Exterior1st_Stone']==1)|\n",
    "    (train_exterior['Exterior2nd_Stone']==1)\n",
    "].index).tolist()), 'Stone'] = 1\n",
    "\n",
    "# where either 'Stucco' expansion is 1, fill master column with a 1\n",
    "train_exterior.loc[((train_exterior[\n",
    "    (train_exterior['Exterior1st_Stucco']==1)|\n",
    "    (train_exterior['Exterior2nd_Stucco']==1)\n",
    "].index).tolist()), 'Stucco'] = 1\n",
    "\n",
    "# where either 'VinylSd' expansion is 1, fill master column with a 1\n",
    "train_exterior.loc[((train_exterior[\n",
    "    (train_exterior['Exterior1st_VinylSd']==1)|\n",
    "    (train_exterior['Exterior2nd_VinylSd']==1)\n",
    "].index).tolist()), 'VinylSd'] = 1\n",
    "\n",
    "# where either 'Wd Sdng' expansion is 1, fill master column with a 1\n",
    "train_exterior.loc[((train_exterior[\n",
    "    (train_exterior['Exterior1st_Wd Sdng']==1)|\n",
    "    (train_exterior['Exterior2nd_Wd Shng']==1)\n",
    "].index).tolist()), 'Wd Sdng'] = 1\n",
    "\n",
    "# where either 'WdShing' expansion is 1, fill master column with a 1\n",
    "train_exterior.loc[((train_exterior[\n",
    "    (train_exterior['Exterior1st_WdShing']==1)|\n",
    "    (train_exterior['Exterior2nd_Wd Sdng']==1)\n",
    "].index).tolist()), 'WdShing'] = 1"
   ]
  },
  {
   "cell_type": "code",
   "execution_count": 546,
   "metadata": {},
   "outputs": [],
   "source": [
    "# merge the columns to keep back onto main dataframe\n",
    "train = pd.concat([train,train_exterior[['AsbShng','AsphShn','BrkComm','BrkFace','CBlock','CemntBd','HdBoard','ImStucc',\n",
    "'MetalSd','Other','Plywood','PreCast','Stone','Stucco','VinylSd','Wd Sdng','WdShing']]],axis=1)"
   ]
  },
  {
   "cell_type": "markdown",
   "metadata": {},
   "source": [
    "The test set:"
   ]
  },
  {
   "cell_type": "code",
   "execution_count": 536,
   "metadata": {},
   "outputs": [],
   "source": [
    "test_ext1 = pd.DataFrame(data=(enc.fit_transform(test[['Exterior1st']])),columns=(enc.get_feature_names_out()))\n",
    "test_ext2 = pd.DataFrame(data=(enc.fit_transform(test[['Exterior2nd']])),columns=(enc.get_feature_names_out()))\n",
    "test_exterior = pd.concat([test_ext1,test_ext2],axis=1)"
   ]
  },
  {
   "cell_type": "code",
   "execution_count": 547,
   "metadata": {},
   "outputs": [],
   "source": [
    "# rename columns that only appear in one dataframe\n",
    "test_exterior = test_exterior.rename(columns={'Exterior2nd_ImStucc':'ImStucc','Exterior2nd_Stone':'Stone'})\n",
    "\n",
    "# create columns for coalating values\n",
    "test_exterior['AsbShng'] = 0.0\n",
    "test_exterior['AsphShn'] = 0.0\n",
    "test_exterior['BrkComm'] = 0.0\n",
    "test_exterior['BrkFace'] = 0.0\n",
    "test_exterior['CBlock'] = 0.0\n",
    "test_exterior['CemntBd'] = 0.0\n",
    "test_exterior['HdBoard'] = 0.0\n",
    "test_exterior['MetalSd'] = 0.0\n",
    "test_exterior['Other'] = 0.0\n",
    "test_exterior['Plywood'] = 0.0\n",
    "test_exterior['PreCast'] = 0.0\n",
    "test_exterior['Stucco'] = 0.0\n",
    "test_exterior['VinylSd'] = 0.0\n",
    "test_exterior['Wd Sdng'] = 0.0\n",
    "test_exterior['WdShing'] = 0.0"
   ]
  },
  {
   "cell_type": "code",
   "execution_count": 548,
   "metadata": {},
   "outputs": [],
   "source": [
    "# where either 'AsbShng' expansion is 1, fill master column with a 1\n",
    "test_exterior.loc[((test_exterior[\n",
    "    (test_exterior['Exterior1st_AsbShng']==1)|\n",
    "    (test_exterior['Exterior2nd_AsbShng']==1)\n",
    "].index).tolist()), 'AsbShng'] = 1\n",
    "\n",
    "# where either 'AsphShn' expansion is 1, fill master column with a 1\n",
    "test_exterior.loc[((test_exterior[\n",
    "    (test_exterior['Exterior1st_AsphShn']==1)|\n",
    "    (test_exterior['Exterior2nd_AsphShn']==1)\n",
    "].index).tolist()), 'AsphShn'] = 1\n",
    "\n",
    "# where either 'BrkComm' expansion is 1, fill master column with a 1\n",
    "test_exterior.loc[((test_exterior[\n",
    "    (test_exterior['Exterior1st_BrkComm']==1)|\n",
    "    (test_exterior['Exterior2nd_Brk Cmn']==1)\n",
    "].index).tolist()), 'BrkComm'] = 1\n",
    "\n",
    "# where either 'BrkFace' expansion is 1, fill master column with a 1\n",
    "test_exterior.loc[((test_exterior[\n",
    "    (test_exterior['Exterior1st_BrkFace']==1)|\n",
    "    (test_exterior['Exterior2nd_BrkFace']==1)\n",
    "].index).tolist()), 'BrkFace'] = 1\n",
    "\n",
    "# where either 'CBlock' expansion is 1, fill master column with a 1\n",
    "test_exterior.loc[((test_exterior[\n",
    "    (test_exterior['Exterior1st_CBlock']==1)|\n",
    "    (test_exterior['Exterior2nd_CBlock']==1)\n",
    "].index).tolist()), 'CBlock'] = 1\n",
    "\n",
    "# where either 'CemntBd' expansion is 1, fill master column with a 1\n",
    "test_exterior.loc[((test_exterior[\n",
    "    (test_exterior['Exterior1st_CemntBd']==1)|\n",
    "    (test_exterior['Exterior2nd_CmentBd']==1)\n",
    "].index).tolist()), 'CemntBd'] = 1\n",
    "\n",
    "# where either 'HdBoard' expansion is 1, fill master column with a 1\n",
    "test_exterior.loc[((test_exterior[\n",
    "    (test_exterior['Exterior1st_HdBoard']==1)|\n",
    "    (test_exterior['Exterior2nd_HdBoard']==1)\n",
    "].index).tolist()), 'HdBoard'] = 1\n",
    "\n",
    "# where either 'MetalSd' expansion is 1, fill master column with a 1\n",
    "test_exterior.loc[((test_exterior[\n",
    "    (test_exterior['Exterior1st_MetalSd']==1)|\n",
    "    (test_exterior['Exterior2nd_MetalSd']==1)\n",
    "].index).tolist()), 'MetalSd'] = 1\n",
    "\n",
    "# where either 'Other' expansion is 1, fill master column with a 1\n",
    "test_exterior.loc[((test_exterior[\n",
    "    (test_exterior['Exterior1st_Other']==1)|\n",
    "    (test_exterior['Exterior2nd_Other']==1)\n",
    "].index).tolist()), 'Other'] = 1\n",
    "\n",
    "# where either 'Plywood' expansion is 1, fill master column with a 1\n",
    "test_exterior.loc[((test_exterior[\n",
    "    (test_exterior['Exterior1st_Plywood']==1)|\n",
    "    (test_exterior['Exterior2nd_Plywood']==1)\n",
    "].index).tolist()), 'Plywood'] = 1\n",
    "\n",
    "# where either 'Stucco' expansion is 1, fill master column with a 1\n",
    "test_exterior.loc[((test_exterior[\n",
    "    (test_exterior['Exterior1st_Stucco']==1)|\n",
    "    (test_exterior['Exterior2nd_Stucco']==1)\n",
    "].index).tolist()), 'Stucco'] = 1\n",
    "\n",
    "# where either 'VinylSd' expansion is 1, fill master column with a 1\n",
    "test_exterior.loc[((test_exterior[\n",
    "    (test_exterior['Exterior1st_VinylSd']==1)|\n",
    "    (test_exterior['Exterior2nd_VinylSd']==1)\n",
    "].index).tolist()), 'VinylSd'] = 1\n",
    "\n",
    "# where either 'Wd Sdng' expansion is 1, fill master column with a 1\n",
    "test_exterior.loc[((test_exterior[\n",
    "    (test_exterior['Exterior1st_Wd Sdng']==1)|\n",
    "    (test_exterior['Exterior2nd_Wd Shng']==1)\n",
    "].index).tolist()), 'Wd Sdng'] = 1\n",
    "\n",
    "# where either 'WdShing' expansion is 1, fill master column with a 1\n",
    "test_exterior.loc[((test_exterior[\n",
    "    (test_exterior['Exterior1st_WdShing']==1)|\n",
    "    (test_exterior['Exterior2nd_Wd Sdng']==1)\n",
    "].index).tolist()), 'WdShing'] = 1"
   ]
  },
  {
   "cell_type": "code",
   "execution_count": 549,
   "metadata": {},
   "outputs": [],
   "source": [
    "# merge the columns to keep back onto main dataframe\n",
    "train = pd.concat([test,test_exterior[['AsbShng','AsphShn','BrkComm','BrkFace','CBlock','CemntBd','HdBoard','ImStucc',\n",
    "'MetalSd','Other','Plywood','PreCast','Stone','Stucco','VinylSd','Wd Sdng','WdShing']]],axis=1)"
   ]
  },
  {
   "cell_type": "markdown",
   "metadata": {},
   "source": [
    "The `Foundation` column:"
   ]
  },
  {
   "cell_type": "code",
   "execution_count": 579,
   "metadata": {},
   "outputs": [],
   "source": [
    "train_found = pd.DataFrame(data=(enc.fit_transform(train[['Foundation']])),columns=(enc.get_feature_names_out()))\n",
    "\n",
    "# merge new columns back into main dataframe\n",
    "train = pd.concat([train,train_found],axis=1)"
   ]
  },
  {
   "cell_type": "code",
   "execution_count": 580,
   "metadata": {},
   "outputs": [],
   "source": [
    "test_found = pd.DataFrame(data=(enc.fit_transform(test[['Foundation']])),columns=(enc.get_feature_names_out()))\n",
    "\n",
    "# merge new columns back into main dataframe\n",
    "test = pd.concat([test,test_found],axis=1)"
   ]
  },
  {
   "cell_type": "markdown",
   "metadata": {},
   "source": [
    "The `Heating` column:"
   ]
  },
  {
   "cell_type": "code",
   "execution_count": 581,
   "metadata": {},
   "outputs": [],
   "source": [
    "train_heat = pd.DataFrame(data=(enc.fit_transform(train[['Heating']])),columns=(enc.get_feature_names_out()))\n",
    "\n",
    "# merge new columns back into main dataframe\n",
    "train = pd.concat([train,train_heat],axis=1)"
   ]
  },
  {
   "cell_type": "code",
   "execution_count": 582,
   "metadata": {},
   "outputs": [],
   "source": [
    "test_heat = pd.DataFrame(data=(enc.fit_transform(test[['Heating']])),columns=(enc.get_feature_names_out()))\n",
    "\n",
    "# merge new columns back into main dataframe\n",
    "test = pd.concat([test,test_heat],axis=1)"
   ]
  },
  {
   "cell_type": "markdown",
   "metadata": {},
   "source": [
    "The `Electrical` column:"
   ]
  },
  {
   "cell_type": "code",
   "execution_count": 583,
   "metadata": {},
   "outputs": [],
   "source": [
    "train_elec = pd.DataFrame(data=(enc.fit_transform(train[['Electrical']])),columns=(enc.get_feature_names_out()))\n",
    "\n",
    "# merge new columns back into main dataframe\n",
    "train = pd.concat([train,train_elec],axis=1)"
   ]
  },
  {
   "cell_type": "code",
   "execution_count": 584,
   "metadata": {},
   "outputs": [],
   "source": [
    "test_elec = pd.DataFrame(data=(enc.fit_transform(test[['Electrical']])),columns=(enc.get_feature_names_out()))\n",
    "\n",
    "# merge new columns back into main dataframe\n",
    "test = pd.concat([test,test_elec],axis=1)"
   ]
  },
  {
   "cell_type": "markdown",
   "metadata": {},
   "source": [
    "The `RoofStyle` column:"
   ]
  },
  {
   "cell_type": "code",
   "execution_count": 590,
   "metadata": {},
   "outputs": [],
   "source": [
    "train_RfStyl = pd.DataFrame(data=(enc.fit_transform(train[['RoofStyle']])),columns=(enc.get_feature_names_out()))\n",
    "\n",
    "# merge new columns back into main dataframe\n",
    "train = pd.concat([train,train_RfStyl],axis=1)"
   ]
  },
  {
   "cell_type": "code",
   "execution_count": 591,
   "metadata": {},
   "outputs": [],
   "source": [
    "test_RfStyl = pd.DataFrame(data=(enc.fit_transform(test[['RoofStyle']])),columns=(enc.get_feature_names_out()))\n",
    "\n",
    "# merge new columns back into main dataframe\n",
    "test = pd.concat([test,test_RfStyl],axis=1)"
   ]
  },
  {
   "cell_type": "markdown",
   "metadata": {},
   "source": [
    "The `RoofMatl` column:"
   ]
  },
  {
   "cell_type": "code",
   "execution_count": null,
   "metadata": {},
   "outputs": [],
   "source": [
    "train_RfMat = pd.DataFrame(data=(enc.fit_transform(train[['RoofMatl']])),columns=(enc.get_feature_names_out()))\n",
    "\n",
    "# merge new columns back into main dataframe\n",
    "train = pd.concat([train,train_RfMat],axis=1)"
   ]
  },
  {
   "cell_type": "code",
   "execution_count": 595,
   "metadata": {},
   "outputs": [],
   "source": [
    "test_RfMat = pd.DataFrame(data=(enc.fit_transform(test[['RoofMatl']])),columns=(enc.get_feature_names_out()))\n",
    "\n",
    "# merge new columns back into main dataframe\n",
    "test = pd.concat([test,test_RfMat],axis=1)"
   ]
  },
  {
   "cell_type": "markdown",
   "metadata": {},
   "source": [
    "The `MasVnrType` column:"
   ]
  },
  {
   "cell_type": "code",
   "execution_count": 599,
   "metadata": {},
   "outputs": [],
   "source": [
    "train_vnr = pd.DataFrame(data=(enc.fit_transform(train[['MasVnrType']])),columns=(enc.get_feature_names_out()))\n",
    "\n",
    "# merge new columns back into main dataframe\n",
    "train = pd.concat([train,train_vnr],axis=1)"
   ]
  },
  {
   "cell_type": "code",
   "execution_count": 597,
   "metadata": {},
   "outputs": [],
   "source": [
    "test_vnr = pd.DataFrame(data=(enc.fit_transform(test[['MasVnrType']])),columns=(enc.get_feature_names_out()))\n",
    "\n",
    "# merge new columns back into main dataframe\n",
    "test = pd.concat([test,test_vnr],axis=1)"
   ]
  },
  {
   "cell_type": "markdown",
   "metadata": {},
   "source": [
    "The `MiscFeature` column:"
   ]
  },
  {
   "cell_type": "code",
   "execution_count": null,
   "metadata": {},
   "outputs": [],
   "source": [
    "train_misc = pd.DataFrame(data=(enc.fit_transform(train[['MiscFeature']])),columns=(enc.get_feature_names_out()))\n",
    "\n",
    "# drop nan column\n",
    "train_misc = train_misc.drop('MiscFeature_nan',axis=1)\n",
    "\n",
    "# merge new columns back into main dataframe\n",
    "train = pd.concat([train,train_misc],axis=1)"
   ]
  },
  {
   "cell_type": "code",
   "execution_count": null,
   "metadata": {},
   "outputs": [],
   "source": [
    "test_misc = pd.DataFrame(data=(enc.fit_transform(test[['MiscFeature']])),columns=(enc.get_feature_names_out()))\n",
    "\n",
    "# drop nan column\n",
    "test_misc = test_misc.drop('MiscFeature_nan',axis=1)\n",
    "\n",
    "# merge new columns back into main dataframe\n",
    "test = pd.concat([test,test_misc],axis=1)"
   ]
  },
  {
   "cell_type": "markdown",
   "metadata": {},
   "source": [
    "**To drop:\n",
    "'Condition1','Condition2', 'Exterior1st', 'Exterior2nd', 'MiscFeature','Foundation', 'Heating', 'Electrical', 'RoofStyle', 'RoofMatl', 'MasVnrType'**"
   ]
  },
  {
   "cell_type": "markdown",
   "metadata": {},
   "source": [
    "### Combining Columns<p>\n",
    "The total living space for each property can be calculated using the `GrLivArea` column, for the area above ground level, and the `TotalBsmtSF1` column, for the area of the basement, if one exists. "
   ]
  },
  {
   "cell_type": "code",
   "execution_count": 538,
   "metadata": {},
   "outputs": [],
   "source": [
    "train['TtlLivSF'] = train['GrLivArea']+train['TotalBsmtSF']\n",
    "test['TtlLivSF'] = test['GrLivArea']+test['TotalBsmtSF']"
   ]
  },
  {
   "cell_type": "code",
   "execution_count": 539,
   "metadata": {},
   "outputs": [
    {
     "name": "stdout",
     "output_type": "stream",
     "text": [
      "Train head:\n"
     ]
    },
    {
     "data": {
      "text/html": [
       "<div>\n",
       "<style scoped>\n",
       "    .dataframe tbody tr th:only-of-type {\n",
       "        vertical-align: middle;\n",
       "    }\n",
       "\n",
       "    .dataframe tbody tr th {\n",
       "        vertical-align: top;\n",
       "    }\n",
       "\n",
       "    .dataframe thead th {\n",
       "        text-align: right;\n",
       "    }\n",
       "</style>\n",
       "<table border=\"1\" class=\"dataframe\">\n",
       "  <thead>\n",
       "    <tr style=\"text-align: right;\">\n",
       "      <th></th>\n",
       "      <th>GrLivArea</th>\n",
       "      <th>TotalBsmtSF</th>\n",
       "      <th>TtlLivSF</th>\n",
       "    </tr>\n",
       "  </thead>\n",
       "  <tbody>\n",
       "    <tr>\n",
       "      <th>0</th>\n",
       "      <td>1710</td>\n",
       "      <td>856</td>\n",
       "      <td>2566</td>\n",
       "    </tr>\n",
       "    <tr>\n",
       "      <th>1</th>\n",
       "      <td>1262</td>\n",
       "      <td>1262</td>\n",
       "      <td>2524</td>\n",
       "    </tr>\n",
       "    <tr>\n",
       "      <th>2</th>\n",
       "      <td>1786</td>\n",
       "      <td>920</td>\n",
       "      <td>2706</td>\n",
       "    </tr>\n",
       "    <tr>\n",
       "      <th>3</th>\n",
       "      <td>1717</td>\n",
       "      <td>756</td>\n",
       "      <td>2473</td>\n",
       "    </tr>\n",
       "    <tr>\n",
       "      <th>4</th>\n",
       "      <td>2198</td>\n",
       "      <td>1145</td>\n",
       "      <td>3343</td>\n",
       "    </tr>\n",
       "  </tbody>\n",
       "</table>\n",
       "</div>"
      ],
      "text/plain": [
       "   GrLivArea  TotalBsmtSF  TtlLivSF\n",
       "0       1710          856      2566\n",
       "1       1262         1262      2524\n",
       "2       1786          920      2706\n",
       "3       1717          756      2473\n",
       "4       2198         1145      3343"
      ]
     },
     "metadata": {},
     "output_type": "display_data"
    },
    {
     "name": "stdout",
     "output_type": "stream",
     "text": [
      "Test head:\n"
     ]
    },
    {
     "data": {
      "text/html": [
       "<div>\n",
       "<style scoped>\n",
       "    .dataframe tbody tr th:only-of-type {\n",
       "        vertical-align: middle;\n",
       "    }\n",
       "\n",
       "    .dataframe tbody tr th {\n",
       "        vertical-align: top;\n",
       "    }\n",
       "\n",
       "    .dataframe thead th {\n",
       "        text-align: right;\n",
       "    }\n",
       "</style>\n",
       "<table border=\"1\" class=\"dataframe\">\n",
       "  <thead>\n",
       "    <tr style=\"text-align: right;\">\n",
       "      <th></th>\n",
       "      <th>GrLivArea</th>\n",
       "      <th>TotalBsmtSF</th>\n",
       "      <th>TtlLivSF</th>\n",
       "    </tr>\n",
       "  </thead>\n",
       "  <tbody>\n",
       "    <tr>\n",
       "      <th>0</th>\n",
       "      <td>896</td>\n",
       "      <td>882.0</td>\n",
       "      <td>1778.0</td>\n",
       "    </tr>\n",
       "    <tr>\n",
       "      <th>1</th>\n",
       "      <td>1329</td>\n",
       "      <td>1329.0</td>\n",
       "      <td>2658.0</td>\n",
       "    </tr>\n",
       "    <tr>\n",
       "      <th>2</th>\n",
       "      <td>1629</td>\n",
       "      <td>928.0</td>\n",
       "      <td>2557.0</td>\n",
       "    </tr>\n",
       "    <tr>\n",
       "      <th>3</th>\n",
       "      <td>1604</td>\n",
       "      <td>926.0</td>\n",
       "      <td>2530.0</td>\n",
       "    </tr>\n",
       "    <tr>\n",
       "      <th>4</th>\n",
       "      <td>1280</td>\n",
       "      <td>1280.0</td>\n",
       "      <td>2560.0</td>\n",
       "    </tr>\n",
       "  </tbody>\n",
       "</table>\n",
       "</div>"
      ],
      "text/plain": [
       "   GrLivArea  TotalBsmtSF  TtlLivSF\n",
       "0        896        882.0    1778.0\n",
       "1       1329       1329.0    2658.0\n",
       "2       1629        928.0    2557.0\n",
       "3       1604        926.0    2530.0\n",
       "4       1280       1280.0    2560.0"
      ]
     },
     "metadata": {},
     "output_type": "display_data"
    }
   ],
   "source": [
    "print('Train head:')\n",
    "display(train[['GrLivArea', 'TotalBsmtSF', 'TtlLivSF']].head())\n",
    "print('Test head:')\n",
    "display(test[['GrLivArea', 'TotalBsmtSF', 'TtlLivSF']].head())"
   ]
  },
  {
   "cell_type": "markdown",
   "metadata": {},
   "source": [
    "The total number of bathrooms can also be calculated using the four columns tracking number of bathrooms. (Halfbath columns are multiplied by 0.5 to reflect that they are 'half' when being added to the count.)"
   ]
  },
  {
   "cell_type": "code",
   "execution_count": 540,
   "metadata": {},
   "outputs": [],
   "source": [
    "train['TotalBath'] = train['BsmtFullBath']+(train['BsmtHalfBath']*0.5)+train['FullBath']+(train['HalfBath']*0.5)\n",
    "test['TotalBath'] = test['BsmtFullBath']+(test['BsmtHalfBath']*0.5)+test['FullBath']+(test['HalfBath']*0.5)"
   ]
  },
  {
   "cell_type": "code",
   "execution_count": 541,
   "metadata": {},
   "outputs": [
    {
     "name": "stdout",
     "output_type": "stream",
     "text": [
      "Train head:\n"
     ]
    },
    {
     "data": {
      "text/html": [
       "<div>\n",
       "<style scoped>\n",
       "    .dataframe tbody tr th:only-of-type {\n",
       "        vertical-align: middle;\n",
       "    }\n",
       "\n",
       "    .dataframe tbody tr th {\n",
       "        vertical-align: top;\n",
       "    }\n",
       "\n",
       "    .dataframe thead th {\n",
       "        text-align: right;\n",
       "    }\n",
       "</style>\n",
       "<table border=\"1\" class=\"dataframe\">\n",
       "  <thead>\n",
       "    <tr style=\"text-align: right;\">\n",
       "      <th></th>\n",
       "      <th>BsmtFullBath</th>\n",
       "      <th>BsmtHalfBath</th>\n",
       "      <th>FullBath</th>\n",
       "      <th>HalfBath</th>\n",
       "      <th>TotalBath</th>\n",
       "    </tr>\n",
       "  </thead>\n",
       "  <tbody>\n",
       "    <tr>\n",
       "      <th>0</th>\n",
       "      <td>1</td>\n",
       "      <td>0</td>\n",
       "      <td>2</td>\n",
       "      <td>1</td>\n",
       "      <td>3.5</td>\n",
       "    </tr>\n",
       "    <tr>\n",
       "      <th>1</th>\n",
       "      <td>0</td>\n",
       "      <td>1</td>\n",
       "      <td>2</td>\n",
       "      <td>0</td>\n",
       "      <td>2.5</td>\n",
       "    </tr>\n",
       "    <tr>\n",
       "      <th>2</th>\n",
       "      <td>1</td>\n",
       "      <td>0</td>\n",
       "      <td>2</td>\n",
       "      <td>1</td>\n",
       "      <td>3.5</td>\n",
       "    </tr>\n",
       "    <tr>\n",
       "      <th>3</th>\n",
       "      <td>1</td>\n",
       "      <td>0</td>\n",
       "      <td>1</td>\n",
       "      <td>0</td>\n",
       "      <td>2.0</td>\n",
       "    </tr>\n",
       "    <tr>\n",
       "      <th>4</th>\n",
       "      <td>1</td>\n",
       "      <td>0</td>\n",
       "      <td>2</td>\n",
       "      <td>1</td>\n",
       "      <td>3.5</td>\n",
       "    </tr>\n",
       "  </tbody>\n",
       "</table>\n",
       "</div>"
      ],
      "text/plain": [
       "   BsmtFullBath  BsmtHalfBath  FullBath  HalfBath  TotalBath\n",
       "0             1             0         2         1        3.5\n",
       "1             0             1         2         0        2.5\n",
       "2             1             0         2         1        3.5\n",
       "3             1             0         1         0        2.0\n",
       "4             1             0         2         1        3.5"
      ]
     },
     "metadata": {},
     "output_type": "display_data"
    },
    {
     "name": "stdout",
     "output_type": "stream",
     "text": [
      "Test head:\n"
     ]
    },
    {
     "data": {
      "text/html": [
       "<div>\n",
       "<style scoped>\n",
       "    .dataframe tbody tr th:only-of-type {\n",
       "        vertical-align: middle;\n",
       "    }\n",
       "\n",
       "    .dataframe tbody tr th {\n",
       "        vertical-align: top;\n",
       "    }\n",
       "\n",
       "    .dataframe thead th {\n",
       "        text-align: right;\n",
       "    }\n",
       "</style>\n",
       "<table border=\"1\" class=\"dataframe\">\n",
       "  <thead>\n",
       "    <tr style=\"text-align: right;\">\n",
       "      <th></th>\n",
       "      <th>BsmtFullBath</th>\n",
       "      <th>BsmtHalfBath</th>\n",
       "      <th>FullBath</th>\n",
       "      <th>HalfBath</th>\n",
       "      <th>TotalBath</th>\n",
       "    </tr>\n",
       "  </thead>\n",
       "  <tbody>\n",
       "    <tr>\n",
       "      <th>0</th>\n",
       "      <td>0.0</td>\n",
       "      <td>0.0</td>\n",
       "      <td>1</td>\n",
       "      <td>0</td>\n",
       "      <td>1.0</td>\n",
       "    </tr>\n",
       "    <tr>\n",
       "      <th>1</th>\n",
       "      <td>0.0</td>\n",
       "      <td>0.0</td>\n",
       "      <td>1</td>\n",
       "      <td>1</td>\n",
       "      <td>1.5</td>\n",
       "    </tr>\n",
       "    <tr>\n",
       "      <th>2</th>\n",
       "      <td>0.0</td>\n",
       "      <td>0.0</td>\n",
       "      <td>2</td>\n",
       "      <td>1</td>\n",
       "      <td>2.5</td>\n",
       "    </tr>\n",
       "    <tr>\n",
       "      <th>3</th>\n",
       "      <td>0.0</td>\n",
       "      <td>0.0</td>\n",
       "      <td>2</td>\n",
       "      <td>1</td>\n",
       "      <td>2.5</td>\n",
       "    </tr>\n",
       "    <tr>\n",
       "      <th>4</th>\n",
       "      <td>0.0</td>\n",
       "      <td>0.0</td>\n",
       "      <td>2</td>\n",
       "      <td>0</td>\n",
       "      <td>2.0</td>\n",
       "    </tr>\n",
       "  </tbody>\n",
       "</table>\n",
       "</div>"
      ],
      "text/plain": [
       "   BsmtFullBath  BsmtHalfBath  FullBath  HalfBath  TotalBath\n",
       "0           0.0           0.0         1         0        1.0\n",
       "1           0.0           0.0         1         1        1.5\n",
       "2           0.0           0.0         2         1        2.5\n",
       "3           0.0           0.0         2         1        2.5\n",
       "4           0.0           0.0         2         0        2.0"
      ]
     },
     "metadata": {},
     "output_type": "display_data"
    }
   ],
   "source": [
    "print('Train head:')\n",
    "display(train[['BsmtFullBath', 'BsmtHalfBath', 'FullBath','HalfBath', 'TotalBath']].head())\n",
    "print('Test head:')\n",
    "display(test[['BsmtFullBath', 'BsmtHalfBath', 'FullBath','HalfBath', 'TotalBath']].head())"
   ]
  }
 ],
 "metadata": {
  "kernelspec": {
   "display_name": "base",
   "language": "python",
   "name": "python3"
  },
  "language_info": {
   "codemirror_mode": {
    "name": "ipython",
    "version": 3
   },
   "file_extension": ".py",
   "mimetype": "text/x-python",
   "name": "python",
   "nbconvert_exporter": "python",
   "pygments_lexer": "ipython3",
   "version": "3.12.3"
  }
 },
 "nbformat": 4,
 "nbformat_minor": 2
}
