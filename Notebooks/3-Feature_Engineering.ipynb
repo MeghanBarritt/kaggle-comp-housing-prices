{
 "cells": [
  {
   "cell_type": "markdown",
   "metadata": {},
   "source": [
    "# 3 - Feature Engineering"
   ]
  },
  {
   "cell_type": "code",
   "execution_count": 110,
   "metadata": {},
   "outputs": [],
   "source": [
    "import pandas as pd\n",
    "train = pd.read_pickle('../pickles/cleaned/train_cleaned')\n",
    "test = pd.read_pickle('../pickles/cleaned/test_cleaned')"
   ]
  },
  {
   "cell_type": "markdown",
   "metadata": {},
   "source": [
    "In order to be used in regression, all columns need to be in a numberical format. Additionally, some columns can be combined into more meaningful data points, such as room counts.<p>\n",
    "First, heirarchical values, such as those ranging from 'poor' to 'excellent' can be converted into numerical ones quite easily, with 1 as the worst and counting up, using 0 where there is no data at all. "
   ]
  },
  {
   "cell_type": "markdown",
   "metadata": {},
   "source": [
    "5 <- Ex\t(Excellent) <br>\n",
    "4 <- Gd\t(Good)<br>\n",
    "3 <- TA\t(Average/Typical)<br>\n",
    "2 <- Fa\t(Fair)<br>\n",
    "1 <- Po\t(Poor)<br>\n",
    "0 <- None\t(Doesn't have)<p>\n",
    "\n",
    "Columns this applies to:<p>\n",
    "*PoolQC*: Pool quality<br>\n",
    "*FireplaceQu*: Fireplace quality<br>\n",
    "*GarageCond*: Garage condition<br>\n",
    "*GarageQual*: Garage quality<br>\n",
    "*KitchenQual*: Kitchen quality<br>\n",
    "*HeatingQC*: Heating quality and condition<br>\n",
    "*BsmtCond*: Evaluates the general condition of the basement<br>\n",
    "*BsmtQual*: Evaluates the height of the basement<br>\n",
    "*ExterCond*: Evaluates the present condition of the material on the exterior<br>\n",
    "*ExterQual*: Evaluates the quality of the material on the exterior "
   ]
  },
  {
   "cell_type": "code",
   "execution_count": 111,
   "metadata": {},
   "outputs": [],
   "source": [
    "mapping1 = {'Ex':5, 'Gd':4, 'TA':3, 'Fa':2, 'Po':1, 'None':0}"
   ]
  },
  {
   "cell_type": "code",
   "execution_count": 112,
   "metadata": {},
   "outputs": [],
   "source": [
    "train.loc[:, 'PoolQC'] = train['PoolQC'].map(mapping1)\n",
    "train.loc[:, 'FireplaceQu'] = train['FireplaceQu'].map(mapping1)\n",
    "train.loc[:, 'GarageCond'] = train['GarageCond'].map(mapping1)\n",
    "train.loc[:, 'GarageQual'] = train['GarageQual'].map(mapping1)\n",
    "train.loc[:, 'KitchenQual'] = train['KitchenQual'].map(mapping1)\n",
    "train.loc[:, 'HeatingQC'] = train['HeatingQC'].map(mapping1)\n",
    "train.loc[:, 'BsmtCond'] = train['BsmtCond'].map(mapping1)\n",
    "train.loc[:, 'BsmtQual'] = train['BsmtQual'].map(mapping1)\n",
    "train.loc[:, 'ExterCond'] = train['ExterCond'].map(mapping1)\n",
    "train.loc[:, 'ExterQual'] = train['ExterQual'].map(mapping1)"
   ]
  },
  {
   "cell_type": "code",
   "execution_count": 113,
   "metadata": {},
   "outputs": [],
   "source": [
    "test.loc[:, 'PoolQC'] = test['PoolQC'].map(mapping1)\n",
    "test.loc[:, 'FireplaceQu'] = test['FireplaceQu'].map(mapping1)\n",
    "test.loc[:, 'GarageCond'] = test['GarageCond'].map(mapping1)\n",
    "test.loc[:, 'GarageQual'] = test['GarageQual'].map(mapping1)\n",
    "test.loc[:, 'KitchenQual'] = test['KitchenQual'].map(mapping1)\n",
    "test.loc[:, 'HeatingQC'] = test['HeatingQC'].map(mapping1)\n",
    "test.loc[:, 'BsmtCond'] = test['BsmtCond'].map(mapping1)\n",
    "test.loc[:, 'BsmtQual'] = test['BsmtQual'].map(mapping1)\n",
    "test.loc[:, 'ExterCond'] = test['ExterCond'].map(mapping1)\n",
    "test.loc[:, 'ExterQual'] = test['ExterQual'].map(mapping1)"
   ]
  },
  {
   "cell_type": "markdown",
   "metadata": {},
   "source": [
    "6 <- GLQ (Good Living Quarters)<br>\n",
    "5 <- ALQ (Average Living Quarters)<br>\n",
    "4 <- BLQ (Below Average Living Quarters)\t<br>\n",
    "3 <- Rec (Average Rec Room)<br>\n",
    "2 <- LwQ (Low Quality)<br>\n",
    "1 <- Unf (Unfinshed)<br>\n",
    "0 <- None (Doesn't have)<p>\n",
    "\n",
    "Columes this applies to:<p>\n",
    "*BsmtFinType1*: Rating of basement finished area<br>\n",
    "*BsmtFinType2*: Rating of basement finished area (if multiple types)"
   ]
  },
  {
   "cell_type": "code",
   "execution_count": 114,
   "metadata": {},
   "outputs": [],
   "source": [
    "mapping2 = {'GLQ':6, 'ALQ':5, 'BLQ':4, 'Rec':3, 'LwQ':2, 'Unf':1, 'None':0}"
   ]
  },
  {
   "cell_type": "code",
   "execution_count": 115,
   "metadata": {},
   "outputs": [],
   "source": [
    "train.loc[:, 'BsmtFinType1'] = train['BsmtFinType1'].map(mapping2)\n",
    "train.loc[:, 'BsmtFinType2'] = train['BsmtFinType2'].map(mapping2)"
   ]
  },
  {
   "cell_type": "code",
   "execution_count": 116,
   "metadata": {},
   "outputs": [],
   "source": [
    "test.loc[:, 'BsmtFinType1'] = test['BsmtFinType1'].map(mapping2)\n",
    "test.loc[:, 'BsmtFinType2'] = test['BsmtFinType2'].map(mapping2)"
   ]
  },
  {
   "cell_type": "markdown",
   "metadata": {},
   "source": [
    "3 <- Y\t(Paved) <br>\n",
    "2 <- P\t(Partial Pavement)<br>\n",
    "1 <- N\t(Dirt/Gravel)<p>\n",
    "\n",
    "Only applies to:<p>\n",
    "*PavedDrive*: Paved driveway"
   ]
  },
  {
   "cell_type": "code",
   "execution_count": 117,
   "metadata": {},
   "outputs": [],
   "source": [
    "pavemap = {'Y':3, 'P':2, 'N':1}"
   ]
  },
  {
   "cell_type": "code",
   "execution_count": 118,
   "metadata": {},
   "outputs": [],
   "source": [
    "train.loc[:, 'PavedDrive'] = train['PavedDrive'].map(pavemap)\n",
    "\n",
    "test.loc[:, 'PavedDrive'] = test['PavedDrive'].map(pavemap)"
   ]
  },
  {
   "cell_type": "markdown",
   "metadata": {},
   "source": [
    "3 <- Fin (Finished)<br>\n",
    "2 <- RFn (Rough Finished)<br>\n",
    "1 <- Unf (Unfinished)<br>\n",
    "0 <- None (No Garage)<p>\n",
    "\n",
    "Only applies to:<p>\n",
    "*GarageFinish*: Interior finish of the garage"
   ]
  },
  {
   "cell_type": "code",
   "execution_count": 119,
   "metadata": {},
   "outputs": [],
   "source": [
    "garagemap = {'Fin':3, 'RFn':2, 'Unf':1, 'None':0}"
   ]
  },
  {
   "cell_type": "code",
   "execution_count": 120,
   "metadata": {},
   "outputs": [],
   "source": [
    "train.loc[:, 'GarageFinish'] = train['GarageFinish'].map(garagemap)\n",
    "\n",
    "test.loc[:, 'GarageFinish'] = test['GarageFinish'].map(garagemap)"
   ]
  },
  {
   "cell_type": "markdown",
   "metadata": {},
   "source": [
    "8 <- Typ\t(Typical Functionality)<br>\n",
    "7 <- Min1\t(Minor Deductions 1)<br>\n",
    "6 <- Min2\t(Minor Deductions 2)<br>\n",
    "5 <- Mod\t(Moderate Deductions)<br>\n",
    "4 <- Maj1\t(Major Deductions 1)<br>\n",
    "3 <- Maj2\t(Major Deductions 2)<br>\n",
    "2 <- Sev\t(Severely Damaged)<br>\n",
    "1 <- Sal\t(Salvage only)<p>\n",
    "\n",
    "Only applies to:<p>\n",
    "*Functional*: Home functionality (Assume typical unless deductions are warranted)"
   ]
  },
  {
   "cell_type": "code",
   "execution_count": 121,
   "metadata": {},
   "outputs": [],
   "source": [
    "functmap = {'Typ':8, 'Min1':7, 'Min2':6, 'Mod':5, 'Maj1':4, 'Maj2':3, 'Sev':2, 'Sal':1}"
   ]
  },
  {
   "cell_type": "code",
   "execution_count": 125,
   "metadata": {},
   "outputs": [],
   "source": [
    "train.loc[:, 'Functional'] = train['Functional'].map(functmap)\n",
    "\n",
    "test.loc[:, 'Functional'] = test['Functional'].map(functmap)"
   ]
  },
  {
   "cell_type": "markdown",
   "metadata": {},
   "source": [
    "4 <- Gd\t(Good Exposure)<br>\n",
    "3 <- Av\t(Average Exposure)<br>\n",
    "2 <- Mn\t(Mimimum Exposure)<br>\n",
    "1 <- No\t(No Exposure)<br>\n",
    "0 <- None\t(No Basement)<p>\n",
    "\n",
    "Only applies to:<p>\n",
    "*BsmtExposure*: Refers to walkout or garden level walls"
   ]
  },
  {
   "cell_type": "code",
   "execution_count": 130,
   "metadata": {},
   "outputs": [],
   "source": [
    "bsmtmap = {'Gd':4, 'Av':3, 'Mn':2, 'No':1, 'None':0}"
   ]
  },
  {
   "cell_type": "code",
   "execution_count": 131,
   "metadata": {},
   "outputs": [],
   "source": [
    "train.loc[:, 'BsmtExposure'] = train['BsmtExposure'].map(bsmtmap)\n",
    "\n",
    "test.loc[:, 'BsmtExposure'] = test['BsmtExposure'].map(bsmtmap)"
   ]
  },
  {
   "cell_type": "markdown",
   "metadata": {},
   "source": [
    "4 <- AllPub\t(All public Utilities)<br>\n",
    "3 <- NoSewr\t(Electricity, Gas, and Water (Septic Tank))<br>\n",
    "2 <- NoSeWa\t(Electricity and Gas Only)<br>\n",
    "1 <- ELO\t(Electricity only)<p>\n",
    "\n",
    "Only applies to:<p>\n",
    "*Utilities*: Type of utilities available<br>"
   ]
  },
  {
   "cell_type": "code",
   "execution_count": 136,
   "metadata": {},
   "outputs": [],
   "source": [
    "utilmap = {'AllPub':4, 'NoSewr':3, 'NoSeWa':2, 'ELO':1}"
   ]
  },
  {
   "cell_type": "code",
   "execution_count": 137,
   "metadata": {},
   "outputs": [],
   "source": [
    "train.loc[:, 'Utilities'] = train['Utilities'].map(utilmap)\n",
    "\n",
    "test.loc[:, 'Utilities'] = test['Utilities'].map(utilmap)"
   ]
  },
  {
   "cell_type": "markdown",
   "metadata": {},
   "source": [
    "Additionally, the `CentralAir` column currently contains Yes/No values, and as such can be re-mapped using the standard 1/0 schema."
   ]
  },
  {
   "cell_type": "code",
   "execution_count": 144,
   "metadata": {},
   "outputs": [],
   "source": [
    "airmap = {'Y':1, 'N':0}"
   ]
  },
  {
   "cell_type": "code",
   "execution_count": 145,
   "metadata": {},
   "outputs": [],
   "source": [
    "train.loc[:, 'CentralAir'] = train['CentralAir'].map(airmap)\n",
    "\n",
    "test.loc[:, 'CentralAir'] = test['CentralAir'].map(airmap)"
   ]
  }
 ],
 "metadata": {
  "kernelspec": {
   "display_name": "base",
   "language": "python",
   "name": "python3"
  },
  "language_info": {
   "codemirror_mode": {
    "name": "ipython",
    "version": 3
   },
   "file_extension": ".py",
   "mimetype": "text/x-python",
   "name": "python",
   "nbconvert_exporter": "python",
   "pygments_lexer": "ipython3",
   "version": "3.12.3"
  }
 },
 "nbformat": 4,
 "nbformat_minor": 2
}
