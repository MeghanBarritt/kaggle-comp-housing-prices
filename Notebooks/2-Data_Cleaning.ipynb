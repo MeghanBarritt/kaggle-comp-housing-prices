{
 "cells": [
  {
   "cell_type": "markdown",
   "metadata": {},
   "source": [
    "# 2 - Data Cleaning"
   ]
  },
  {
   "cell_type": "code",
   "execution_count": 255,
   "metadata": {},
   "outputs": [],
   "source": [
    "import pandas as pd\n",
    "train_df = pd.read_csv('../data/housing_train.csv')\n",
    "test_df = pd.read_csv('../data/housing_test.csv')"
   ]
  },
  {
   "cell_type": "markdown",
   "metadata": {},
   "source": [
    "First I'm going to replace the '2207' value in `test_df['GarageYrBlt']` with 2007, because that is the most logical intended value when the data ends in 2010."
   ]
  },
  {
   "cell_type": "code",
   "execution_count": 256,
   "metadata": {},
   "outputs": [],
   "source": [
    "test_df.loc[((test_df[test_df['GarageYrBlt']==2207].index).tolist()), 'GarageYrBlt'] = 2007"
   ]
  },
  {
   "cell_type": "markdown",
   "metadata": {},
   "source": [
    "There is an apparent relation between `MSSubClass` and `HouseStyle`. This is how they should match up:\n",
    "\n",
    "1Story\tOne story\n",
    "- 20\t1-STORY 1946 & NEWER ALL STYLES\n",
    "- 30\t1-STORY 1945 & OLDER\n",
    "- 40\t1-STORY W/FINISHED ATTIC ALL AGES\n",
    "- 120\t1-STORY PUD (Planned Unit Development) - 1946 & NEWER\n",
    "\n",
    "1.5Fin\tOne and one-half story: 2nd level finished\n",
    "- 50\t1-1/2 STORY FINISHED ALL AGES\n",
    "- 150\t1-1/2 STORY PUD - ALL AGES\n",
    "\n",
    "1.5Unf\tOne and one-half story: 2nd level unfinished\n",
    "- 45\t1-1/2 STORY - UNFINISHED ALL AGES\n",
    "\n",
    "2Story\tTwo story\n",
    "- 60\t2-STORY 1946 & NEWER\n",
    "- 70\t2-STORY 1945 & OLDER\n",
    "- 160\t2-STORY PUD - 1946 & NEWER\n",
    "\n",
    "\n",
    "2.5Fin\tTwo and one-half story: 2nd level finished<br>\n",
    "2.5Unf\tTwo and one-half story: 2nd level unfinished\n",
    "- 75\t2-1/2 STORY ALL AGES\n",
    "\n",
    "SFoyer\tSplit Foyer\n",
    "- 85\tSPLIT FOYER\n",
    "\n",
    "SLvl\tSplit Level\n",
    "- 80\tSPLIT OR MULTI-LEVEL\n",
    "\n",
    "Misc (No obvious floor number)\n",
    "- 90\tDUPLEX - ALL STYLES AND AGES\n",
    "- 180\tPUD - MULTILEVEL - INCL SPLIT LEV/FOYER\n",
    "- 190\t2 FAMILY CONVERSION - ALL STYLES AND AGES"
   ]
  },
  {
   "cell_type": "markdown",
   "metadata": {},
   "source": [
    "### Check for mismatches:<p>\n",
    "Should be one story:"
   ]
  },
  {
   "cell_type": "code",
   "execution_count": 257,
   "metadata": {},
   "outputs": [
    {
     "name": "stdout",
     "output_type": "stream",
     "text": [
      "Train: \n",
      "Code 20\n",
      " HouseStyle\n",
      "1Story    534\n",
      "2Story      1\n",
      "SLvl        1\n",
      "Name: count, dtype: int64 \n",
      "\n",
      "Code 30\n",
      " HouseStyle\n",
      "1Story    67\n",
      "1.5Fin     1\n",
      "1.5Unf     1\n",
      "Name: count, dtype: int64 \n",
      "\n",
      "Code 40\n",
      " HouseStyle\n",
      "1Story    4\n",
      "Name: count, dtype: int64 \n",
      "\n",
      "Code 120\n",
      " HouseStyle\n",
      "1Story    86\n",
      "SFoyer     1\n",
      "Name: count, dtype: int64\n"
     ]
    }
   ],
   "source": [
    "print('Train: \\nCode 20\\n',train_df[train_df['MSSubClass']==20]['HouseStyle'].value_counts(),'\\n')\n",
    "print('Code 30\\n',train_df[train_df['MSSubClass']==30]['HouseStyle'].value_counts(),'\\n')\n",
    "print('Code 40\\n',train_df[train_df['MSSubClass']==40]['HouseStyle'].value_counts(),'\\n')\n",
    "print('Code 120\\n',train_df[train_df['MSSubClass']==120]['HouseStyle'].value_counts())"
   ]
  },
  {
   "cell_type": "markdown",
   "metadata": {},
   "source": [
    "Codes 20, 30, 120 have mismatches."
   ]
  },
  {
   "cell_type": "code",
   "execution_count": 258,
   "metadata": {},
   "outputs": [
    {
     "name": "stdout",
     "output_type": "stream",
     "text": [
      "Test: \n",
      "Code 20\n",
      " HouseStyle\n",
      "1Story    543\n",
      "Name: count, dtype: int64 \n",
      "\n",
      "Code 30\n",
      " HouseStyle\n",
      "1Story    69\n",
      "1.5Fin     1\n",
      "Name: count, dtype: int64 \n",
      "\n",
      "Code 40\n",
      " HouseStyle\n",
      "1Story    1\n",
      "1.5Fin    1\n",
      "Name: count, dtype: int64 \n",
      "\n",
      "Code 120\n",
      " HouseStyle\n",
      "1Story    94\n",
      "SFoyer     1\n",
      "Name: count, dtype: int64\n"
     ]
    }
   ],
   "source": [
    "print('Test: \\nCode 20\\n',test_df[test_df['MSSubClass']==20]['HouseStyle'].value_counts(),'\\n')\n",
    "print('Code 30\\n',test_df[test_df['MSSubClass']==30]['HouseStyle'].value_counts(),'\\n')\n",
    "print('Code 40\\n',test_df[test_df['MSSubClass']==40]['HouseStyle'].value_counts(),'\\n')\n",
    "print('Code 120\\n',test_df[test_df['MSSubClass']==120]['HouseStyle'].value_counts())"
   ]
  },
  {
   "cell_type": "markdown",
   "metadata": {},
   "source": [
    "Codes 30, 40, 120 have mismatches."
   ]
  },
  {
   "cell_type": "markdown",
   "metadata": {},
   "source": [
    "Should be 1.5 stories:"
   ]
  },
  {
   "cell_type": "code",
   "execution_count": 259,
   "metadata": {},
   "outputs": [
    {
     "name": "stdout",
     "output_type": "stream",
     "text": [
      "Train: \n",
      "Code 45\n",
      " HouseStyle\n",
      "1.5Unf    12\n",
      "Name: count, dtype: int64 \n",
      "\n",
      "Code 50\n",
      " HouseStyle\n",
      "1.5Fin    141\n",
      "2Story      3\n",
      "Name: count, dtype: int64 \n",
      "\n",
      "Code 150\n",
      " Series([], Name: count, dtype: int64)\n"
     ]
    }
   ],
   "source": [
    "print('Train: \\nCode 45\\n',train_df[train_df['MSSubClass']==45]['HouseStyle'].value_counts(),'\\n')\n",
    "print('Code 50\\n',train_df[train_df['MSSubClass']==50]['HouseStyle'].value_counts(),'\\n')\n",
    "print('Code 150\\n',train_df[train_df['MSSubClass']==150]['HouseStyle'].value_counts())"
   ]
  },
  {
   "cell_type": "markdown",
   "metadata": {},
   "source": [
    "Code 50 has mismatches, and code 150 is never used."
   ]
  },
  {
   "cell_type": "code",
   "execution_count": 260,
   "metadata": {},
   "outputs": [
    {
     "name": "stdout",
     "output_type": "stream",
     "text": [
      "Test: \n",
      "Code 45\n",
      " HouseStyle\n",
      "1.5Unf    4\n",
      "1.5Fin    2\n",
      "Name: count, dtype: int64 \n",
      "\n",
      "Code 50\n",
      " HouseStyle\n",
      "1.5Fin    141\n",
      "1.5Unf      1\n",
      "2Story      1\n",
      "Name: count, dtype: int64 \n",
      "\n",
      "Code 150\n",
      " HouseStyle\n",
      "1.5Fin    1\n",
      "Name: count, dtype: int64\n"
     ]
    }
   ],
   "source": [
    "print('Test: \\nCode 45\\n',test_df[test_df['MSSubClass']==45]['HouseStyle'].value_counts(),'\\n')\n",
    "print('Code 50\\n',test_df[test_df['MSSubClass']==50]['HouseStyle'].value_counts(),'\\n')\n",
    "print('Code 150\\n',test_df[test_df['MSSubClass']==150]['HouseStyle'].value_counts())"
   ]
  },
  {
   "cell_type": "markdown",
   "metadata": {},
   "source": [
    "Code 50 has a mismatch again, as does 45."
   ]
  },
  {
   "cell_type": "markdown",
   "metadata": {},
   "source": [
    "Should be 2 stories:"
   ]
  },
  {
   "cell_type": "code",
   "execution_count": 261,
   "metadata": {},
   "outputs": [
    {
     "name": "stdout",
     "output_type": "stream",
     "text": [
      "Train: \n",
      "Code 60\n",
      " HouseStyle\n",
      "2Story    298\n",
      "SLvl        1\n",
      "Name: count, dtype: int64 \n",
      "\n",
      "Code 70\n",
      " HouseStyle\n",
      "2Story    59\n",
      "2.5Fin     1\n",
      "Name: count, dtype: int64 \n",
      "\n",
      "Code 160\n",
      " HouseStyle\n",
      "2Story    63\n",
      "Name: count, dtype: int64\n"
     ]
    }
   ],
   "source": [
    "print('Train: \\nCode 60\\n',train_df[train_df['MSSubClass']==60]['HouseStyle'].value_counts(),'\\n')\n",
    "print('Code 70\\n',train_df[train_df['MSSubClass']==70]['HouseStyle'].value_counts(),'\\n')\n",
    "print('Code 160\\n',train_df[train_df['MSSubClass']==160]['HouseStyle'].value_counts())"
   ]
  },
  {
   "cell_type": "markdown",
   "metadata": {},
   "source": [
    "Code 70 has a mismatch. Code 60 could, but as a split level is just a special style of multistory house, I'm going to leave it. There's no way to know if it's a two level split or more."
   ]
  },
  {
   "cell_type": "code",
   "execution_count": 262,
   "metadata": {},
   "outputs": [
    {
     "name": "stdout",
     "output_type": "stream",
     "text": [
      "Test: \n",
      "Code 60\n",
      " HouseStyle\n",
      "2Story    274\n",
      "1.5Fin      1\n",
      "2.5Unf      1\n",
      "Name: count, dtype: int64 \n",
      "\n",
      "Code 70\n",
      " HouseStyle\n",
      "2Story    64\n",
      "2.5Unf     3\n",
      "1.5Fin     1\n",
      "Name: count, dtype: int64 \n",
      "\n",
      "Code 160\n",
      " HouseStyle\n",
      "2Story    64\n",
      "SLvl       1\n",
      "Name: count, dtype: int64\n"
     ]
    }
   ],
   "source": [
    "print('Test: \\nCode 60\\n',test_df[test_df['MSSubClass']==60]['HouseStyle'].value_counts(),'\\n')\n",
    "print('Code 70\\n',test_df[test_df['MSSubClass']==70]['HouseStyle'].value_counts(),'\\n')\n",
    "print('Code 160\\n',test_df[test_df['MSSubClass']==160]['HouseStyle'].value_counts())"
   ]
  },
  {
   "cell_type": "markdown",
   "metadata": {},
   "source": [
    "Codes 60 and 70 have mismatches, and the split level on 160 I am going to leave. "
   ]
  },
  {
   "cell_type": "markdown",
   "metadata": {},
   "source": [
    "Should be 2.5 stories:"
   ]
  },
  {
   "cell_type": "code",
   "execution_count": 263,
   "metadata": {},
   "outputs": [
    {
     "name": "stdout",
     "output_type": "stream",
     "text": [
      "Train: \n",
      "Code 75\n",
      " HouseStyle\n",
      "2.5Unf    9\n",
      "2.5Fin    6\n",
      "2Story    1\n",
      "Name: count, dtype: int64 \n",
      "\n",
      "Test: \n",
      "Code 75\n",
      " HouseStyle\n",
      "2.5Unf    6\n",
      "2Story    1\n",
      "Name: count, dtype: int64\n"
     ]
    }
   ],
   "source": [
    "print('Train: \\nCode 75\\n',train_df[train_df['MSSubClass']==75]['HouseStyle'].value_counts(),'\\n')\n",
    "print('Test: \\nCode 75\\n',test_df[test_df['MSSubClass']==75]['HouseStyle'].value_counts())"
   ]
  },
  {
   "cell_type": "markdown",
   "metadata": {},
   "source": [
    "Both train and test have mismatches on code 75."
   ]
  },
  {
   "cell_type": "markdown",
   "metadata": {},
   "source": [
    "Should be split foyer:"
   ]
  },
  {
   "cell_type": "code",
   "execution_count": 264,
   "metadata": {},
   "outputs": [
    {
     "name": "stdout",
     "output_type": "stream",
     "text": [
      "Code 85\n",
      " HouseStyle\n",
      "SFoyer    20\n",
      "Name: count, dtype: int64 \n",
      "\n",
      "Code 85\n",
      " HouseStyle\n",
      "SFoyer    28\n",
      "Name: count, dtype: int64\n"
     ]
    }
   ],
   "source": [
    "print('Code 85\\n',train_df[train_df['MSSubClass']==85]['HouseStyle'].value_counts(),'\\n')\n",
    "print('Code 85\\n',test_df[test_df['MSSubClass']==85]['HouseStyle'].value_counts())"
   ]
  },
  {
   "cell_type": "markdown",
   "metadata": {},
   "source": [
    "No mismatches."
   ]
  },
  {
   "cell_type": "markdown",
   "metadata": {},
   "source": [
    "Should be split level:"
   ]
  },
  {
   "cell_type": "code",
   "execution_count": 265,
   "metadata": {},
   "outputs": [
    {
     "name": "stdout",
     "output_type": "stream",
     "text": [
      "Code 80\n",
      " HouseStyle\n",
      "SLvl    58\n",
      "Name: count, dtype: int64 \n",
      "\n",
      "Code 80\n",
      " HouseStyle\n",
      "SLvl    60\n",
      "Name: count, dtype: int64\n"
     ]
    }
   ],
   "source": [
    "print('Code 80\\n',train_df[train_df['MSSubClass']==80]['HouseStyle'].value_counts(),'\\n')\n",
    "print('Code 80\\n',test_df[test_df['MSSubClass']==80]['HouseStyle'].value_counts())"
   ]
  },
  {
   "cell_type": "markdown",
   "metadata": {},
   "source": [
    "No mismatches."
   ]
  },
  {
   "cell_type": "markdown",
   "metadata": {},
   "source": [
    "### Fixing mismatches <p>\n",
    "In the train set"
   ]
  },
  {
   "cell_type": "code",
   "execution_count": 266,
   "metadata": {},
   "outputs": [],
   "source": [
    "# setting 1 story\n",
    "# Code 20\n",
    "train_df.loc[((train_df[ # select\n",
    "    (train_df['MSSubClass']==20)& # code 20 AND either\n",
    "    ((train_df['HouseStyle']=='2Story')| # 2 Story OR\n",
    "     (train_df['HouseStyle']=='SLvl'))   # Split Level\n",
    "    ].index).tolist()), 'HouseStyle'] = '1Story'\n",
    "\n",
    "# Code 30\n",
    "train_df.loc[((train_df[ # select\n",
    "    (train_df['MSSubClass']==30)& # code 30 AND either\n",
    "    ((train_df['HouseStyle']=='1.5Fin')| # 1.5 Finished OR\n",
    "     (train_df['HouseStyle']=='1.5Unf')) # 1.5 Unfinished\n",
    "].index).tolist()), 'HouseStyle'] = '1Story'\n",
    "\n",
    "# Code 120\n",
    "train_df.loc[((train_df[ # select\n",
    "    (train_df['MSSubClass']==120)& # code 120 AND\n",
    "    (train_df['HouseStyle']=='SFoyer') # split foyer\n",
    "].index).tolist()), 'HouseStyle'] = '1Story'"
   ]
  },
  {
   "cell_type": "code",
   "execution_count": 267,
   "metadata": {},
   "outputs": [
    {
     "name": "stdout",
     "output_type": "stream",
     "text": [
      "Check: \n",
      "Code 20\n",
      " HouseStyle\n",
      "1Story    536\n",
      "Name: count, dtype: int64 \n",
      "\n",
      "Code 30\n",
      " HouseStyle\n",
      "1Story    69\n",
      "Name: count, dtype: int64 \n",
      "\n",
      "Code 120\n",
      " HouseStyle\n",
      "1Story    87\n",
      "Name: count, dtype: int64\n"
     ]
    }
   ],
   "source": [
    "print('Check: \\nCode 20\\n',train_df[train_df['MSSubClass']==20]['HouseStyle'].value_counts(),'\\n')\n",
    "print('Code 30\\n',train_df[train_df['MSSubClass']==30]['HouseStyle'].value_counts(),'\\n')\n",
    "print('Code 120\\n',train_df[train_df['MSSubClass']==120]['HouseStyle'].value_counts())"
   ]
  },
  {
   "cell_type": "code",
   "execution_count": 268,
   "metadata": {},
   "outputs": [],
   "source": [
    "# setting 1.5Fin story, Code 50\n",
    "train_df.loc[((train_df[ # select\n",
    "    (train_df['MSSubClass']==50)& # code 50 AND\n",
    "    (train_df['HouseStyle']=='2Story') # 2 story\n",
    "].index).tolist()), 'HouseStyle'] = '1.5Fin'"
   ]
  },
  {
   "cell_type": "code",
   "execution_count": 269,
   "metadata": {},
   "outputs": [
    {
     "name": "stdout",
     "output_type": "stream",
     "text": [
      "Check: \n",
      "Code 50\n",
      " HouseStyle\n",
      "1.5Fin    144\n",
      "Name: count, dtype: int64\n"
     ]
    }
   ],
   "source": [
    "print('Check: \\nCode 50\\n',train_df[train_df['MSSubClass']==50]['HouseStyle'].value_counts())"
   ]
  },
  {
   "cell_type": "code",
   "execution_count": 270,
   "metadata": {},
   "outputs": [],
   "source": [
    "# setting 2 stories\n",
    "# Code 70\n",
    "train_df.loc[((train_df[ # select\n",
    "    (train_df['MSSubClass']==70)& # code 70 AND\n",
    "    (train_df['HouseStyle']=='2.5Fin') # 2.5 finished\n",
    "].index).tolist()), 'HouseStyle'] = '2Story'"
   ]
  },
  {
   "cell_type": "code",
   "execution_count": 271,
   "metadata": {},
   "outputs": [
    {
     "name": "stdout",
     "output_type": "stream",
     "text": [
      "Check: \n",
      "Code 70\n",
      " HouseStyle\n",
      "2Story    60\n",
      "Name: count, dtype: int64\n"
     ]
    }
   ],
   "source": [
    "print('Check: \\nCode 70\\n',train_df[train_df['MSSubClass']==70]['HouseStyle'].value_counts())"
   ]
  },
  {
   "cell_type": "markdown",
   "metadata": {},
   "source": [
    "For the 2.5 story code, 75, there is no way to tell if they are meant to be finished or unfinished. As they only have one code, and there are not very many of them, even when the test data is included, I am going to code them all as simply `2.5Story`."
   ]
  },
  {
   "cell_type": "code",
   "execution_count": 272,
   "metadata": {},
   "outputs": [],
   "source": [
    "# setting 2.5 stories, code 75\n",
    "train_df.loc[((train_df[train_df['MSSubClass']==75].index).tolist()), 'HouseStyle'] = '2.5Story'"
   ]
  },
  {
   "cell_type": "code",
   "execution_count": 273,
   "metadata": {},
   "outputs": [
    {
     "name": "stdout",
     "output_type": "stream",
     "text": [
      "Check: \n",
      "Code 75\n",
      " HouseStyle\n",
      "2.5Story    16\n",
      "Name: count, dtype: int64\n"
     ]
    }
   ],
   "source": [
    "print('Check: \\nCode 75\\n',train_df[train_df['MSSubClass']==75]['HouseStyle'].value_counts())"
   ]
  },
  {
   "cell_type": "markdown",
   "metadata": {},
   "source": [
    "In the test set"
   ]
  },
  {
   "cell_type": "code",
   "execution_count": 274,
   "metadata": {},
   "outputs": [],
   "source": [
    "# setting 1 story\n",
    "# Code 30\n",
    "test_df.loc[((test_df[ # select\n",
    "    (test_df['MSSubClass']==30)& # code 30 AND\n",
    "    (test_df['HouseStyle']=='1.5Fin') # 1.5 finished\n",
    "].index).tolist()), 'HouseStyle'] = '1Story'\n",
    "\n",
    "# Code 40\n",
    "test_df.loc[((test_df[ # select\n",
    "    (test_df['MSSubClass']==40)& # code 40 AND\n",
    "    (test_df['HouseStyle']=='1.5Fin') # 1.5 finished\n",
    "].index).tolist()), 'HouseStyle'] = '1Story'\n",
    "\n",
    "# Code 120\n",
    "test_df.loc[((test_df[ # select\n",
    "    (test_df['MSSubClass']==120)& # code 120 AND\n",
    "    (test_df['HouseStyle']=='SFoyer') # split foyer\n",
    "].index).tolist()), 'HouseStyle'] = '1Story'"
   ]
  },
  {
   "cell_type": "code",
   "execution_count": 275,
   "metadata": {},
   "outputs": [
    {
     "name": "stdout",
     "output_type": "stream",
     "text": [
      "Check: \n",
      "Code 30\n",
      " HouseStyle\n",
      "1Story    70\n",
      "Name: count, dtype: int64 \n",
      "\n",
      "Code 40\n",
      " HouseStyle\n",
      "1Story    2\n",
      "Name: count, dtype: int64 \n",
      "\n",
      "Code 120\n",
      " HouseStyle\n",
      "1Story    95\n",
      "Name: count, dtype: int64\n"
     ]
    }
   ],
   "source": [
    "print('Check: \\nCode 30\\n',test_df[test_df['MSSubClass']==30]['HouseStyle'].value_counts(),'\\n')\n",
    "print('Code 40\\n',test_df[test_df['MSSubClass']==40]['HouseStyle'].value_counts(),'\\n')\n",
    "print('Code 120\\n',test_df[test_df['MSSubClass']==120]['HouseStyle'].value_counts())"
   ]
  },
  {
   "cell_type": "code",
   "execution_count": 276,
   "metadata": {},
   "outputs": [],
   "source": [
    "# setting 1.5Unf, Code 45\n",
    "test_df.loc[((test_df[ # select\n",
    "    (test_df['MSSubClass']==45)& # code 45 AND\n",
    "    (test_df['HouseStyle']=='1.5Fin') # 1.5 finished\n",
    "].index).tolist()), 'HouseStyle'] = '1.5Unf'\n",
    "\n",
    "# setting 1.5Fin story, Code 50\n",
    "test_df.loc[((test_df[ # select\n",
    "    (test_df['MSSubClass']==50)& # code 50 AND either\n",
    "    ((test_df['HouseStyle']=='1.5Unf')| # 1.5 Unfinished OR\n",
    "    (test_df['HouseStyle']=='2Story')) # 2 story\n",
    "].index).tolist()), 'HouseStyle'] = '1.5Fin'"
   ]
  },
  {
   "cell_type": "code",
   "execution_count": 277,
   "metadata": {},
   "outputs": [
    {
     "name": "stdout",
     "output_type": "stream",
     "text": [
      "Test \n",
      "Code 45\n",
      " HouseStyle\n",
      "1.5Unf    6\n",
      "Name: count, dtype: int64 \n",
      "\n",
      "Code 50\n",
      " HouseStyle\n",
      "1.5Fin    143\n",
      "Name: count, dtype: int64\n"
     ]
    }
   ],
   "source": [
    "print('Test \\nCode 45\\n',test_df[test_df['MSSubClass']==45]['HouseStyle'].value_counts(),'\\n')\n",
    "print('Code 50\\n',test_df[test_df['MSSubClass']==50]['HouseStyle'].value_counts())"
   ]
  },
  {
   "cell_type": "code",
   "execution_count": 278,
   "metadata": {},
   "outputs": [],
   "source": [
    "# setting 2 stories\n",
    "# Code 60\n",
    "test_df.loc[((test_df[ # select\n",
    "    (test_df['MSSubClass']==60)& # code 60 AND either\n",
    "    ((test_df['HouseStyle']=='1.5Fin')| # 1.5 finished OR\n",
    "    (test_df['HouseStyle']=='2.5Unf')) # 2.5 unfinished\n",
    "].index).tolist()), 'HouseStyle'] = '2Story'\n",
    "\n",
    "# Code 70\n",
    "test_df.loc[((test_df[ # select\n",
    "    (test_df['MSSubClass']==70)& # code 70 AND either\n",
    "    ((test_df['HouseStyle']=='1.5Fin')| # 1.5 finished OR\n",
    "    (test_df['HouseStyle']=='2.5Unf')) # 2.5 unfinished\n",
    "].index).tolist()), 'HouseStyle'] = '2Story'"
   ]
  },
  {
   "cell_type": "code",
   "execution_count": 279,
   "metadata": {},
   "outputs": [
    {
     "name": "stdout",
     "output_type": "stream",
     "text": [
      "Test: \n",
      "Code 60\n",
      " HouseStyle\n",
      "2Story    276\n",
      "Name: count, dtype: int64 \n",
      "\n",
      "Code 70\n",
      " HouseStyle\n",
      "2Story    68\n",
      "Name: count, dtype: int64\n"
     ]
    }
   ],
   "source": [
    "print('Test: \\nCode 60\\n',test_df[test_df['MSSubClass']==60]['HouseStyle'].value_counts(),'\\n')\n",
    "print('Code 70\\n',test_df[test_df['MSSubClass']==70]['HouseStyle'].value_counts())"
   ]
  },
  {
   "cell_type": "code",
   "execution_count": 280,
   "metadata": {},
   "outputs": [],
   "source": [
    "# setting 2.5 stories, code 75\n",
    "test_df.loc[((test_df[test_df['MSSubClass']==75].index).tolist()), 'HouseStyle'] = '2.5Story'"
   ]
  },
  {
   "cell_type": "code",
   "execution_count": 281,
   "metadata": {},
   "outputs": [
    {
     "name": "stdout",
     "output_type": "stream",
     "text": [
      "Check: \n",
      "Code 75\n",
      " HouseStyle\n",
      "2.5Story    7\n",
      "Name: count, dtype: int64\n"
     ]
    }
   ],
   "source": [
    "print('Check: \\nCode 75\\n',test_df[test_df['MSSubClass']==75]['HouseStyle'].value_counts())"
   ]
  },
  {
   "cell_type": "markdown",
   "metadata": {},
   "source": [
    "### Filling NAs <P>\n",
    "I am going to approach this with the idea that I do not want to delete rows for NAs if at all possible, so I will be doing my best to fill in all the gaps I can. "
   ]
  },
  {
   "cell_type": "markdown",
   "metadata": {},
   "source": [
    "The NA values for `Alley` and `Fence` can be assumed to be 'None', as that is listed in the documentation but is not present in the data."
   ]
  },
  {
   "cell_type": "code",
   "execution_count": 282,
   "metadata": {},
   "outputs": [],
   "source": [
    "train_df['Alley'] = train_df['Alley'].fillna('None')\n",
    "test_df['Alley'] = test_df['Alley'].fillna('None')"
   ]
  },
  {
   "cell_type": "code",
   "execution_count": 283,
   "metadata": {},
   "outputs": [],
   "source": [
    "train_df['Fence'] = train_df['Fence'].fillna('None')\n",
    "test_df['Fence'] = test_df['Fence'].fillna('None')"
   ]
  },
  {
   "cell_type": "code",
   "execution_count": 284,
   "metadata": {},
   "outputs": [
    {
     "data": {
      "text/plain": [
       "count    1201.000000\n",
       "mean       70.049958\n",
       "std        24.284752\n",
       "min        21.000000\n",
       "25%        59.000000\n",
       "50%        69.000000\n",
       "75%        80.000000\n",
       "max       313.000000\n",
       "Name: LotFrontage, dtype: float64"
      ]
     },
     "execution_count": 284,
     "metadata": {},
     "output_type": "execute_result"
    }
   ],
   "source": [
    "train_df['LotFrontage'].describe()"
   ]
  },
  {
   "cell_type": "markdown",
   "metadata": {},
   "source": [
    "It can be assumed that any entries not filled in are properties that do not have lot frontage on a street, given that there are no 0 values. "
   ]
  },
  {
   "cell_type": "code",
   "execution_count": 285,
   "metadata": {},
   "outputs": [],
   "source": [
    "train_df['LotFrontage'] = train_df['LotFrontage'].fillna(0)\n",
    "test_df['LotFrontage'] = test_df['LotFrontage'].fillna(0)"
   ]
  },
  {
   "cell_type": "markdown",
   "metadata": {},
   "source": [
    "I am assuming that if no masonry type was filled in, there isn't one, so I am giving those 'None', in accordance with the documentation."
   ]
  },
  {
   "cell_type": "code",
   "execution_count": 286,
   "metadata": {},
   "outputs": [],
   "source": [
    "train_df['MasVnrType'] = train_df['MasVnrType'].fillna('None')\n",
    "test_df['MasVnrType'] = test_df['MasVnrType'].fillna('None')"
   ]
  },
  {
   "cell_type": "code",
   "execution_count": 287,
   "metadata": {},
   "outputs": [
    {
     "data": {
      "text/html": [
       "<div>\n",
       "<style scoped>\n",
       "    .dataframe tbody tr th:only-of-type {\n",
       "        vertical-align: middle;\n",
       "    }\n",
       "\n",
       "    .dataframe tbody tr th {\n",
       "        vertical-align: top;\n",
       "    }\n",
       "\n",
       "    .dataframe thead th {\n",
       "        text-align: right;\n",
       "    }\n",
       "</style>\n",
       "<table border=\"1\" class=\"dataframe\">\n",
       "  <thead>\n",
       "    <tr style=\"text-align: right;\">\n",
       "      <th></th>\n",
       "      <th>MasVnrType</th>\n",
       "      <th>MasVnrArea</th>\n",
       "    </tr>\n",
       "  </thead>\n",
       "  <tbody>\n",
       "    <tr>\n",
       "      <th>234</th>\n",
       "      <td>None</td>\n",
       "      <td>NaN</td>\n",
       "    </tr>\n",
       "    <tr>\n",
       "      <th>529</th>\n",
       "      <td>None</td>\n",
       "      <td>NaN</td>\n",
       "    </tr>\n",
       "    <tr>\n",
       "      <th>650</th>\n",
       "      <td>None</td>\n",
       "      <td>NaN</td>\n",
       "    </tr>\n",
       "    <tr>\n",
       "      <th>936</th>\n",
       "      <td>None</td>\n",
       "      <td>NaN</td>\n",
       "    </tr>\n",
       "    <tr>\n",
       "      <th>973</th>\n",
       "      <td>None</td>\n",
       "      <td>NaN</td>\n",
       "    </tr>\n",
       "    <tr>\n",
       "      <th>977</th>\n",
       "      <td>None</td>\n",
       "      <td>NaN</td>\n",
       "    </tr>\n",
       "    <tr>\n",
       "      <th>1243</th>\n",
       "      <td>None</td>\n",
       "      <td>NaN</td>\n",
       "    </tr>\n",
       "    <tr>\n",
       "      <th>1278</th>\n",
       "      <td>None</td>\n",
       "      <td>NaN</td>\n",
       "    </tr>\n",
       "  </tbody>\n",
       "</table>\n",
       "</div>"
      ],
      "text/plain": [
       "     MasVnrType  MasVnrArea\n",
       "234        None         NaN\n",
       "529        None         NaN\n",
       "650        None         NaN\n",
       "936        None         NaN\n",
       "973        None         NaN\n",
       "977        None         NaN\n",
       "1243       None         NaN\n",
       "1278       None         NaN"
      ]
     },
     "execution_count": 287,
     "metadata": {},
     "output_type": "execute_result"
    }
   ],
   "source": [
    "train_df[train_df['MasVnrArea'].isna()][['MasVnrType','MasVnrArea']]"
   ]
  },
  {
   "cell_type": "code",
   "execution_count": 288,
   "metadata": {},
   "outputs": [
    {
     "data": {
      "text/html": [
       "<div>\n",
       "<style scoped>\n",
       "    .dataframe tbody tr th:only-of-type {\n",
       "        vertical-align: middle;\n",
       "    }\n",
       "\n",
       "    .dataframe tbody tr th {\n",
       "        vertical-align: top;\n",
       "    }\n",
       "\n",
       "    .dataframe thead th {\n",
       "        text-align: right;\n",
       "    }\n",
       "</style>\n",
       "<table border=\"1\" class=\"dataframe\">\n",
       "  <thead>\n",
       "    <tr style=\"text-align: right;\">\n",
       "      <th></th>\n",
       "      <th>MasVnrType</th>\n",
       "      <th>MasVnrArea</th>\n",
       "    </tr>\n",
       "  </thead>\n",
       "  <tbody>\n",
       "    <tr>\n",
       "      <th>231</th>\n",
       "      <td>None</td>\n",
       "      <td>NaN</td>\n",
       "    </tr>\n",
       "    <tr>\n",
       "      <th>246</th>\n",
       "      <td>None</td>\n",
       "      <td>NaN</td>\n",
       "    </tr>\n",
       "    <tr>\n",
       "      <th>422</th>\n",
       "      <td>None</td>\n",
       "      <td>NaN</td>\n",
       "    </tr>\n",
       "    <tr>\n",
       "      <th>532</th>\n",
       "      <td>None</td>\n",
       "      <td>NaN</td>\n",
       "    </tr>\n",
       "    <tr>\n",
       "      <th>544</th>\n",
       "      <td>None</td>\n",
       "      <td>NaN</td>\n",
       "    </tr>\n",
       "    <tr>\n",
       "      <th>581</th>\n",
       "      <td>None</td>\n",
       "      <td>NaN</td>\n",
       "    </tr>\n",
       "    <tr>\n",
       "      <th>851</th>\n",
       "      <td>None</td>\n",
       "      <td>NaN</td>\n",
       "    </tr>\n",
       "    <tr>\n",
       "      <th>865</th>\n",
       "      <td>None</td>\n",
       "      <td>NaN</td>\n",
       "    </tr>\n",
       "    <tr>\n",
       "      <th>880</th>\n",
       "      <td>None</td>\n",
       "      <td>NaN</td>\n",
       "    </tr>\n",
       "    <tr>\n",
       "      <th>889</th>\n",
       "      <td>None</td>\n",
       "      <td>NaN</td>\n",
       "    </tr>\n",
       "    <tr>\n",
       "      <th>908</th>\n",
       "      <td>None</td>\n",
       "      <td>NaN</td>\n",
       "    </tr>\n",
       "    <tr>\n",
       "      <th>1132</th>\n",
       "      <td>None</td>\n",
       "      <td>NaN</td>\n",
       "    </tr>\n",
       "    <tr>\n",
       "      <th>1197</th>\n",
       "      <td>None</td>\n",
       "      <td>NaN</td>\n",
       "    </tr>\n",
       "    <tr>\n",
       "      <th>1226</th>\n",
       "      <td>None</td>\n",
       "      <td>NaN</td>\n",
       "    </tr>\n",
       "    <tr>\n",
       "      <th>1402</th>\n",
       "      <td>None</td>\n",
       "      <td>NaN</td>\n",
       "    </tr>\n",
       "  </tbody>\n",
       "</table>\n",
       "</div>"
      ],
      "text/plain": [
       "     MasVnrType  MasVnrArea\n",
       "231        None         NaN\n",
       "246        None         NaN\n",
       "422        None         NaN\n",
       "532        None         NaN\n",
       "544        None         NaN\n",
       "581        None         NaN\n",
       "851        None         NaN\n",
       "865        None         NaN\n",
       "880        None         NaN\n",
       "889        None         NaN\n",
       "908        None         NaN\n",
       "1132       None         NaN\n",
       "1197       None         NaN\n",
       "1226       None         NaN\n",
       "1402       None         NaN"
      ]
     },
     "execution_count": 288,
     "metadata": {},
     "output_type": "execute_result"
    }
   ],
   "source": [
    "test_df[test_df['MasVnrArea'].isna()][['MasVnrType','MasVnrArea']]"
   ]
  },
  {
   "cell_type": "markdown",
   "metadata": {},
   "source": [
    "As there is no vaneer, I'm filling the area NAs with 0. "
   ]
  },
  {
   "cell_type": "code",
   "execution_count": 289,
   "metadata": {},
   "outputs": [],
   "source": [
    "train_df['MasVnrArea'] = train_df['MasVnrArea'].fillna(0)\n",
    "test_df['MasVnrArea'] = test_df['MasVnrArea'].fillna(0)"
   ]
  },
  {
   "cell_type": "code",
   "execution_count": 290,
   "metadata": {},
   "outputs": [
    {
     "name": "stdout",
     "output_type": "stream",
     "text": [
      "Missing garage info (train) \n",
      "Type: 81\n",
      "Year built: 81 \n",
      "Finish: 81\n",
      "Quality: 81 \n",
      "Condition: 81\n",
      "Missing all five: 81\n"
     ]
    }
   ],
   "source": [
    "print(f'Missing garage info (train) \\nType: {len(train_df[train_df['GarageType'].isna()])}')\n",
    "print(f'Year built: {len(train_df[train_df['GarageYrBlt'].isna()])} \\nFinish: {len(train_df[train_df['GarageFinish'].isna()])}')\n",
    "print(f'Quality: {len(train_df[train_df['GarageQual'].isna()])} \\nCondition: {len(train_df[train_df['GarageCond'].isna()])}')\n",
    "print(f'Missing all five: {len(train_df[(train_df['GarageType'].isna())&\n",
    "                            (train_df['GarageYrBlt'].isna())&\n",
    "                            (train_df['GarageFinish'].isna())&\n",
    "                            (train_df['GarageQual'].isna())&\n",
    "                            (train_df['GarageCond'].isna())])}')"
   ]
  },
  {
   "cell_type": "code",
   "execution_count": 291,
   "metadata": {},
   "outputs": [
    {
     "name": "stdout",
     "output_type": "stream",
     "text": [
      "Missing GarageArea: 0\n",
      "Missing GarageCars: 0\n",
      "Has 0 GarageArea + other missing values: 81\n",
      "Has 0 GarageCars + other missing values: 81\n"
     ]
    }
   ],
   "source": [
    "print(f'Missing GarageArea: {len(train_df[train_df['GarageArea'].isna()])}')\n",
    "print(f'Missing GarageCars: {len(train_df[train_df['GarageCars'].isna()])}')\n",
    "print(f'Has 0 GarageArea + other missing values: {len(train_df[(train_df['GarageArea']==0)&\n",
    "                                                           (train_df['GarageType'].isna())])}')\n",
    "print(f'Has 0 GarageCars + other missing values: {len(train_df[(train_df['GarageCars']==0)&\n",
    "                                                           (train_df['GarageType'].isna())])}')"
   ]
  },
  {
   "cell_type": "code",
   "execution_count": 292,
   "metadata": {},
   "outputs": [
    {
     "name": "stdout",
     "output_type": "stream",
     "text": [
      "Missing garage info (test) \n",
      "Type: 76\n",
      "Year built: 78 \n",
      "Finish: 78\n",
      "Quality: 78 \n",
      "Condition: 78\n",
      "Missing all five: 76\n"
     ]
    }
   ],
   "source": [
    "print(f'Missing garage info (test) \\nType: {len(test_df[test_df['GarageType'].isna()])}')\n",
    "print(f'Year built: {len(test_df[test_df['GarageYrBlt'].isna()])} \\nFinish: {len(test_df[test_df['GarageFinish'].isna()])}')\n",
    "print(f'Quality: {len(test_df[test_df['GarageQual'].isna()])} \\nCondition: {len(test_df[test_df['GarageCond'].isna()])}')\n",
    "print(f'Missing all five: {len(test_df[(test_df['GarageType'].isna())&\n",
    "                            (test_df['GarageYrBlt'].isna())&\n",
    "                            (test_df['GarageFinish'].isna())&\n",
    "                            (test_df['GarageQual'].isna())&\n",
    "                            (test_df['GarageCond'].isna())])}')"
   ]
  },
  {
   "cell_type": "code",
   "execution_count": 293,
   "metadata": {},
   "outputs": [
    {
     "name": "stdout",
     "output_type": "stream",
     "text": [
      "Missing GarageArea: 1\n",
      "Missing GarageCars: 1\n",
      "Has 0 GarageArea + other missing values: 76\n",
      "Has 0 GarageCars + other missing values: 76\n"
     ]
    }
   ],
   "source": [
    "print(f'Missing GarageArea: {len(test_df[test_df['GarageArea'].isna()])}')\n",
    "print(f'Missing GarageCars: {len(test_df[test_df['GarageCars'].isna()])}')\n",
    "print(f'Has 0 GarageArea + other missing values: {len(test_df[(test_df['GarageArea']==0)&\n",
    "                                                           (test_df['GarageType'].isna())])}')\n",
    "print(f'Has 0 GarageCars + other missing values: {len(test_df[(test_df['GarageCars']==0)&\n",
    "                                                           (test_df['GarageType'].isna())])}')"
   ]
  },
  {
   "cell_type": "code",
   "execution_count": 294,
   "metadata": {},
   "outputs": [
    {
     "data": {
      "text/html": [
       "<div>\n",
       "<style scoped>\n",
       "    .dataframe tbody tr th:only-of-type {\n",
       "        vertical-align: middle;\n",
       "    }\n",
       "\n",
       "    .dataframe tbody tr th {\n",
       "        vertical-align: top;\n",
       "    }\n",
       "\n",
       "    .dataframe thead th {\n",
       "        text-align: right;\n",
       "    }\n",
       "</style>\n",
       "<table border=\"1\" class=\"dataframe\">\n",
       "  <thead>\n",
       "    <tr style=\"text-align: right;\">\n",
       "      <th></th>\n",
       "      <th>GarageArea</th>\n",
       "      <th>GarageCars</th>\n",
       "      <th>GarageType</th>\n",
       "      <th>GarageYrBlt</th>\n",
       "      <th>GarageFinish</th>\n",
       "      <th>GarageQual</th>\n",
       "      <th>GarageCond</th>\n",
       "    </tr>\n",
       "  </thead>\n",
       "  <tbody>\n",
       "    <tr>\n",
       "      <th>666</th>\n",
       "      <td>360.0</td>\n",
       "      <td>1.0</td>\n",
       "      <td>Detchd</td>\n",
       "      <td>NaN</td>\n",
       "      <td>NaN</td>\n",
       "      <td>NaN</td>\n",
       "      <td>NaN</td>\n",
       "    </tr>\n",
       "    <tr>\n",
       "      <th>1116</th>\n",
       "      <td>NaN</td>\n",
       "      <td>NaN</td>\n",
       "      <td>Detchd</td>\n",
       "      <td>NaN</td>\n",
       "      <td>NaN</td>\n",
       "      <td>NaN</td>\n",
       "      <td>NaN</td>\n",
       "    </tr>\n",
       "  </tbody>\n",
       "</table>\n",
       "</div>"
      ],
      "text/plain": [
       "      GarageArea  GarageCars GarageType  GarageYrBlt GarageFinish GarageQual  \\\n",
       "666        360.0         1.0     Detchd          NaN          NaN        NaN   \n",
       "1116         NaN         NaN     Detchd          NaN          NaN        NaN   \n",
       "\n",
       "     GarageCond  \n",
       "666         NaN  \n",
       "1116        NaN  "
      ]
     },
     "execution_count": 294,
     "metadata": {},
     "output_type": "execute_result"
    }
   ],
   "source": [
    "test_df[(~test_df['GarageType'].isna())&\n",
    "        (test_df['GarageYrBlt'].isna())&\n",
    "        (test_df['GarageFinish'].isna())&\n",
    "        (test_df['GarageQual'].isna())&\n",
    "        (test_df['GarageCond'].isna())\n",
    "][['GarageArea','GarageCars','GarageType','GarageYrBlt','GarageFinish','GarageQual','GarageCond']]"
   ]
  },
  {
   "cell_type": "markdown",
   "metadata": {},
   "source": [
    "The missing Garage values seem to be the result of not having a garage, and can be filled easily on the train set. There are the two problematic rows to deal with first on the test set, however. "
   ]
  },
  {
   "cell_type": "code",
   "execution_count": 295,
   "metadata": {},
   "outputs": [],
   "source": [
    "import matplotlib.pyplot as plt\n",
    "det_test = test_df[test_df['GarageType']=='Detchd']"
   ]
  },
  {
   "cell_type": "code",
   "execution_count": 296,
   "metadata": {},
   "outputs": [
    {
     "data": {
      "text/plain": [
       "Text(0.5, 0, 'Neighborhood')"
      ]
     },
     "execution_count": 296,
     "metadata": {},
     "output_type": "execute_result"
    },
    {
     "data": {
      "image/png": "[encoded data removed]",
      "text/plain": [
       "<Figure size 640x480 with 1 Axes>"
      ]
     },
     "metadata": {},
     "output_type": "display_data"
    }
   ],
   "source": [
    "plt.scatter(det_test['Neighborhood'],det_test['GarageArea'])\n",
    "plt.ylabel('GarageArea')\n",
    "plt.xticks(rotation=90)\n",
    "plt.xlabel('Neighborhood')"
   ]
  },
  {
   "cell_type": "markdown",
   "metadata": {},
   "source": [
    "The `Neighborhood` column was the one with the most apparent influence on garage area, so I am going to use the median of the appropriate neighborhood to fill in the missing *GarageArea* value. "
   ]
  },
  {
   "cell_type": "code",
   "execution_count": 297,
   "metadata": {},
   "outputs": [
    {
     "data": {
      "text/html": [
       "<div>\n",
       "<style scoped>\n",
       "    .dataframe tbody tr th:only-of-type {\n",
       "        vertical-align: middle;\n",
       "    }\n",
       "\n",
       "    .dataframe tbody tr th {\n",
       "        vertical-align: top;\n",
       "    }\n",
       "\n",
       "    .dataframe thead th {\n",
       "        text-align: right;\n",
       "    }\n",
       "</style>\n",
       "<table border=\"1\" class=\"dataframe\">\n",
       "  <thead>\n",
       "    <tr style=\"text-align: right;\">\n",
       "      <th></th>\n",
       "      <th>GarageArea</th>\n",
       "      <th>GarageCars</th>\n",
       "      <th>GarageType</th>\n",
       "      <th>Neighborhood</th>\n",
       "    </tr>\n",
       "  </thead>\n",
       "  <tbody>\n",
       "    <tr>\n",
       "      <th>1116</th>\n",
       "      <td>NaN</td>\n",
       "      <td>NaN</td>\n",
       "      <td>Detchd</td>\n",
       "      <td>IDOTRR</td>\n",
       "    </tr>\n",
       "  </tbody>\n",
       "</table>\n",
       "</div>"
      ],
      "text/plain": [
       "      GarageArea  GarageCars GarageType Neighborhood\n",
       "1116         NaN         NaN     Detchd       IDOTRR"
      ]
     },
     "execution_count": 297,
     "metadata": {},
     "output_type": "execute_result"
    }
   ],
   "source": [
    "det_test.loc[[1116]][['GarageArea','GarageCars','GarageType','Neighborhood']]"
   ]
  },
  {
   "cell_type": "code",
   "execution_count": 298,
   "metadata": {},
   "outputs": [
    {
     "data": {
      "text/plain": [
       "count     38.000000\n",
       "mean     357.526316\n",
       "std      158.198428\n",
       "min      100.000000\n",
       "25%      244.000000\n",
       "50%      314.000000\n",
       "75%      400.000000\n",
       "max      720.000000\n",
       "Name: GarageArea, dtype: float64"
      ]
     },
     "execution_count": 298,
     "metadata": {},
     "output_type": "execute_result"
    }
   ],
   "source": [
    "det_test[det_test['Neighborhood']=='IDOTRR']['GarageArea'].describe()"
   ]
  },
  {
   "cell_type": "code",
   "execution_count": 299,
   "metadata": {},
   "outputs": [],
   "source": [
    "test_df.loc[1116, 'GarageArea'] = 314"
   ]
  },
  {
   "cell_type": "markdown",
   "metadata": {},
   "source": [
    "The only combination that showed any meaningful correlation for the `GarageCars` column was the `GarageArea` column, which I can actually use now that I have filled in an estimate."
   ]
  },
  {
   "cell_type": "code",
   "execution_count": 300,
   "metadata": {},
   "outputs": [
    {
     "data": {
      "text/plain": [
       "<matplotlib.legend.Legend at 0x1d689042900>"
      ]
     },
     "execution_count": 300,
     "metadata": {},
     "output_type": "execute_result"
    },
    {
     "data": {
      "image/png": "[encoded data removed]",
      "text/plain": [
       "<Figure size 640x480 with 1 Axes>"
      ]
     },
     "metadata": {},
     "output_type": "display_data"
    }
   ],
   "source": [
    "plt.scatter(det_test['GarageArea'],det_test['GarageCars'])\n",
    "plt.axvline(x = 314, color = 'r',label='estimated area',linestyle='dashed')\n",
    "plt.ylabel('GarageCars')\n",
    "plt.xlabel('GarageArea')\n",
    "plt.legend()"
   ]
  },
  {
   "cell_type": "code",
   "execution_count": 301,
   "metadata": {},
   "outputs": [
    {
     "data": {
      "text/plain": [
       "GarageCars\n",
       "1.0    197\n",
       "2.0    188\n",
       "3.0      4\n",
       "5.0      1\n",
       "4.0      1\n",
       "Name: count, dtype: int64"
      ]
     },
     "execution_count": 301,
     "metadata": {},
     "output_type": "execute_result"
    }
   ],
   "source": [
    "det_test['GarageCars'].value_counts()"
   ]
  },
  {
   "cell_type": "markdown",
   "metadata": {},
   "source": [
    "The estimate value is solidly within the 1-car range, while it just touches the lower end of the 2-car range. Additionally, on the whole 1-car garages are slightly more likely. Therefore I am assigning a value of 1. "
   ]
  },
  {
   "cell_type": "code",
   "execution_count": 302,
   "metadata": {},
   "outputs": [],
   "source": [
    "test_df.loc[1116, 'GarageCars'] = 1"
   ]
  },
  {
   "cell_type": "markdown",
   "metadata": {},
   "source": [
    "I can think of two options for the garage quality and condition; either go middle of the road and assume typical 'TA', or try to use the corresponding values for the whole house to see how the garage is usually scored for that level. "
   ]
  },
  {
   "cell_type": "code",
   "execution_count": 303,
   "metadata": {},
   "outputs": [
    {
     "data": {
      "text/html": [
       "<div>\n",
       "<style scoped>\n",
       "    .dataframe tbody tr th:only-of-type {\n",
       "        vertical-align: middle;\n",
       "    }\n",
       "\n",
       "    .dataframe tbody tr th {\n",
       "        vertical-align: top;\n",
       "    }\n",
       "\n",
       "    .dataframe thead th {\n",
       "        text-align: right;\n",
       "    }\n",
       "</style>\n",
       "<table border=\"1\" class=\"dataframe\">\n",
       "  <thead>\n",
       "    <tr style=\"text-align: right;\">\n",
       "      <th></th>\n",
       "      <th>OverallQual</th>\n",
       "      <th>OverallCond</th>\n",
       "      <th>GarageQual</th>\n",
       "      <th>GarageCond</th>\n",
       "    </tr>\n",
       "  </thead>\n",
       "  <tbody>\n",
       "    <tr>\n",
       "      <th>666</th>\n",
       "      <td>6</td>\n",
       "      <td>8</td>\n",
       "      <td>NaN</td>\n",
       "      <td>NaN</td>\n",
       "    </tr>\n",
       "    <tr>\n",
       "      <th>1116</th>\n",
       "      <td>5</td>\n",
       "      <td>6</td>\n",
       "      <td>NaN</td>\n",
       "      <td>NaN</td>\n",
       "    </tr>\n",
       "  </tbody>\n",
       "</table>\n",
       "</div>"
      ],
      "text/plain": [
       "      OverallQual  OverallCond GarageQual GarageCond\n",
       "666             6            8        NaN        NaN\n",
       "1116            5            6        NaN        NaN"
      ]
     },
     "execution_count": 303,
     "metadata": {},
     "output_type": "execute_result"
    }
   ],
   "source": [
    "test_df.loc[[666,1116]][['OverallQual','OverallCond','GarageQual','GarageCond']]"
   ]
  },
  {
   "cell_type": "code",
   "execution_count": null,
   "metadata": {},
   "outputs": [],
   "source": []
  },
  {
   "cell_type": "code",
   "execution_count": 304,
   "metadata": {},
   "outputs": [
    {
     "data": {
      "text/plain": [
       "GarageQual\n",
       "TA    329\n",
       "Fa     17\n",
       "Gd      1\n",
       "Name: count, dtype: int64"
      ]
     },
     "execution_count": 304,
     "metadata": {},
     "output_type": "execute_result"
    }
   ],
   "source": [
    "test_df[test_df['OverallQual']==6]['GarageQual'].value_counts()"
   ]
  },
  {
   "cell_type": "code",
   "execution_count": 305,
   "metadata": {},
   "outputs": [
    {
     "data": {
      "text/plain": [
       "GarageQual\n",
       "TA    368\n",
       "Fa     23\n",
       "Gd      2\n",
       "Po      1\n",
       "Name: count, dtype: int64"
      ]
     },
     "execution_count": 305,
     "metadata": {},
     "output_type": "execute_result"
    }
   ],
   "source": [
    "test_df[test_df['OverallQual']==5]['GarageQual'].value_counts()"
   ]
  },
  {
   "cell_type": "code",
   "execution_count": 306,
   "metadata": {},
   "outputs": [
    {
     "data": {
      "text/plain": [
       "GarageCond\n",
       "TA    65\n",
       "Fa     3\n",
       "Name: count, dtype: int64"
      ]
     },
     "execution_count": 306,
     "metadata": {},
     "output_type": "execute_result"
    }
   ],
   "source": [
    "test_df[test_df['OverallCond']==8]['GarageCond'].value_counts()"
   ]
  },
  {
   "cell_type": "code",
   "execution_count": 307,
   "metadata": {},
   "outputs": [
    {
     "data": {
      "text/plain": [
       "GarageCond\n",
       "TA    257\n",
       "Fa      6\n",
       "Gd      2\n",
       "Name: count, dtype: int64"
      ]
     },
     "execution_count": 307,
     "metadata": {},
     "output_type": "execute_result"
    }
   ],
   "source": [
    "test_df[test_df['OverallCond']==6]['GarageCond'].value_counts()"
   ]
  },
  {
   "cell_type": "markdown",
   "metadata": {},
   "source": [
    "It turns out the dominant garage value for each value is 'TA' anyways, so that is what I am going to be assigning both of these rows, in both the `GarageQual` and `GarageCond` columns."
   ]
  },
  {
   "cell_type": "code",
   "execution_count": 308,
   "metadata": {},
   "outputs": [],
   "source": [
    "test_df.loc[[666,1116], 'GarageQual'] = 'TA'\n",
    "test_df.loc[[666,1116], 'GarageCond'] = 'TA'"
   ]
  },
  {
   "cell_type": "code",
   "execution_count": 309,
   "metadata": {},
   "outputs": [
    {
     "data": {
      "text/html": [
       "<div>\n",
       "<style scoped>\n",
       "    .dataframe tbody tr th:only-of-type {\n",
       "        vertical-align: middle;\n",
       "    }\n",
       "\n",
       "    .dataframe tbody tr th {\n",
       "        vertical-align: top;\n",
       "    }\n",
       "\n",
       "    .dataframe thead th {\n",
       "        text-align: right;\n",
       "    }\n",
       "</style>\n",
       "<table border=\"1\" class=\"dataframe\">\n",
       "  <thead>\n",
       "    <tr style=\"text-align: right;\">\n",
       "      <th></th>\n",
       "      <th>GarageArea</th>\n",
       "      <th>GarageCars</th>\n",
       "      <th>GarageType</th>\n",
       "      <th>GarageYrBlt</th>\n",
       "      <th>GarageFinish</th>\n",
       "      <th>GarageQual</th>\n",
       "      <th>GarageCond</th>\n",
       "    </tr>\n",
       "  </thead>\n",
       "  <tbody>\n",
       "    <tr>\n",
       "      <th>666</th>\n",
       "      <td>360.0</td>\n",
       "      <td>1.0</td>\n",
       "      <td>Detchd</td>\n",
       "      <td>NaN</td>\n",
       "      <td>NaN</td>\n",
       "      <td>TA</td>\n",
       "      <td>TA</td>\n",
       "    </tr>\n",
       "    <tr>\n",
       "      <th>1116</th>\n",
       "      <td>314.0</td>\n",
       "      <td>1.0</td>\n",
       "      <td>Detchd</td>\n",
       "      <td>NaN</td>\n",
       "      <td>NaN</td>\n",
       "      <td>TA</td>\n",
       "      <td>TA</td>\n",
       "    </tr>\n",
       "  </tbody>\n",
       "</table>\n",
       "</div>"
      ],
      "text/plain": [
       "      GarageArea  GarageCars GarageType  GarageYrBlt GarageFinish GarageQual  \\\n",
       "666        360.0         1.0     Detchd          NaN          NaN         TA   \n",
       "1116       314.0         1.0     Detchd          NaN          NaN         TA   \n",
       "\n",
       "     GarageCond  \n",
       "666          TA  \n",
       "1116         TA  "
      ]
     },
     "execution_count": 309,
     "metadata": {},
     "output_type": "execute_result"
    }
   ],
   "source": [
    "test_df.loc[[666,1116]][['GarageArea','GarageCars','GarageType','GarageYrBlt','GarageFinish','GarageQual','GarageCond']]"
   ]
  },
  {
   "cell_type": "code",
   "execution_count": 310,
   "metadata": {},
   "outputs": [
    {
     "data": {
      "text/plain": [
       "<matplotlib.legend.Legend at 0x1d686c40d10>"
      ]
     },
     "execution_count": 310,
     "metadata": {},
     "output_type": "execute_result"
    },
    {
     "data": {
      "image/png": "[encoded data removed]",
      "text/plain": [
       "<Figure size 640x480 with 1 Axes>"
      ]
     },
     "metadata": {},
     "output_type": "display_data"
    }
   ],
   "source": [
    "import numpy as np\n",
    "plt.scatter(test_df['YearBuilt'],test_df['GarageYrBlt'])\n",
    "plt.xticks(np.arange(1880,2040,20))\n",
    "plt.yticks(np.arange(1880,2040,20))\n",
    "plt.xlim(1880, 2020)\n",
    "plt.ylim(1880, 2020)\n",
    "plt.ylabel('Garage built')\n",
    "plt.xlabel('House built')\n",
    "plt.axline((0,0),slope=1,color='r',label='matching years')\n",
    "plt.legend()"
   ]
  },
  {
   "cell_type": "code",
   "execution_count": 311,
   "metadata": {},
   "outputs": [],
   "source": [
    "train_df['GarageType'] = train_df['GarageType'].fillna('None')\n",
    "test_df['GarageType'] = test_df['GarageType'].fillna('None')\n",
    "\n",
    "train_df['GarageYrBlt'] = train_df['GarageYrBlt'].fillna('None')\n",
    "test_df['GarageYrBlt'] = test_df['GarageYrBlt'].fillna('None')\n",
    "\n",
    "train_df['GarageFinish'] = train_df['GarageFinish'].fillna('None')\n",
    "test_df['GarageFinish'] = test_df['GarageFinish'].fillna('None')\n",
    "\n",
    "train_df['GarageQual'] = train_df['GarageQual'].fillna('None')\n",
    "test_df['GarageQual'] = test_df['GarageQual'].fillna('None')\n",
    "\n",
    "train_df['GarageCond'] = train_df['GarageCond'].fillna('None')\n",
    "test_df['GarageCond'] = test_df['GarageCond'].fillna('None')"
   ]
  },
  {
   "cell_type": "code",
   "execution_count": 312,
   "metadata": {},
   "outputs": [
    {
     "name": "stdout",
     "output_type": "stream",
     "text": [
      "Missing basement finish 1: 37\n",
      "Missing basement finish 2: 38\n",
      "Missing basement exposure: 38\n",
      "Missing basement quality: 37\n",
      "Missing basement condition: 37\n"
     ]
    }
   ],
   "source": [
    "print(f'Missing basement finish 1: {len(train_df[train_df['BsmtFinType1'].isna()])}')\n",
    "print(f'Missing basement finish 2: {len(train_df[train_df['BsmtFinType2'].isna()])}')\n",
    "print(f'Missing basement exposure: {len(train_df[train_df['BsmtExposure'].isna()])}')\n",
    "print(f'Missing basement quality: {len(train_df[train_df['BsmtQual'].isna()])}')\n",
    "print(f'Missing basement condition: {len(train_df[train_df['BsmtCond'].isna()])}')"
   ]
  },
  {
   "cell_type": "code",
   "execution_count": 313,
   "metadata": {},
   "outputs": [
    {
     "name": "stdout",
     "output_type": "stream",
     "text": [
      "No basement area, missing all values: 37\n"
     ]
    }
   ],
   "source": [
    "print(f'No basement area, missing all values: {len(train_df[(train_df['TotalBsmtSF']==0)&\n",
    "    (train_df['BsmtFinType1'].isna())&\n",
    "    (train_df['BsmtFinType2'].isna())&\n",
    "    (train_df['BsmtExposure'].isna())&\n",
    "    (train_df['BsmtQual'].isna())&\n",
    "    (train_df['BsmtCond'].isna())])}')"
   ]
  },
  {
   "cell_type": "markdown",
   "metadata": {},
   "source": [
    "Most of the missing values are in cases where there is no basement, as shown by the 0 for total square footage. However:"
   ]
  },
  {
   "cell_type": "code",
   "execution_count": 314,
   "metadata": {},
   "outputs": [
    {
     "data": {
      "text/html": [
       "<div>\n",
       "<style scoped>\n",
       "    .dataframe tbody tr th:only-of-type {\n",
       "        vertical-align: middle;\n",
       "    }\n",
       "\n",
       "    .dataframe tbody tr th {\n",
       "        vertical-align: top;\n",
       "    }\n",
       "\n",
       "    .dataframe thead th {\n",
       "        text-align: right;\n",
       "    }\n",
       "</style>\n",
       "<table border=\"1\" class=\"dataframe\">\n",
       "  <thead>\n",
       "    <tr style=\"text-align: right;\">\n",
       "      <th></th>\n",
       "      <th>TotalBsmtSF</th>\n",
       "      <th>BsmtFinType1</th>\n",
       "      <th>BsmtFinSF1</th>\n",
       "      <th>BsmtFinType2</th>\n",
       "      <th>BsmtFinSF2</th>\n",
       "      <th>BsmtUnfSF</th>\n",
       "      <th>TotalBsmtSF</th>\n",
       "      <th>BsmtExposure</th>\n",
       "      <th>BsmtQual</th>\n",
       "      <th>BsmtCond</th>\n",
       "    </tr>\n",
       "  </thead>\n",
       "  <tbody>\n",
       "    <tr>\n",
       "      <th>332</th>\n",
       "      <td>3206</td>\n",
       "      <td>GLQ</td>\n",
       "      <td>1124</td>\n",
       "      <td>NaN</td>\n",
       "      <td>479</td>\n",
       "      <td>1603</td>\n",
       "      <td>3206</td>\n",
       "      <td>No</td>\n",
       "      <td>Gd</td>\n",
       "      <td>TA</td>\n",
       "    </tr>\n",
       "  </tbody>\n",
       "</table>\n",
       "</div>"
      ],
      "text/plain": [
       "     TotalBsmtSF BsmtFinType1  BsmtFinSF1 BsmtFinType2  BsmtFinSF2  BsmtUnfSF  \\\n",
       "332         3206          GLQ        1124          NaN         479       1603   \n",
       "\n",
       "     TotalBsmtSF BsmtExposure BsmtQual BsmtCond  \n",
       "332         3206           No       Gd       TA  "
      ]
     },
     "metadata": {},
     "output_type": "display_data"
    },
    {
     "data": {
      "text/html": [
       "<div>\n",
       "<style scoped>\n",
       "    .dataframe tbody tr th:only-of-type {\n",
       "        vertical-align: middle;\n",
       "    }\n",
       "\n",
       "    .dataframe tbody tr th {\n",
       "        vertical-align: top;\n",
       "    }\n",
       "\n",
       "    .dataframe thead th {\n",
       "        text-align: right;\n",
       "    }\n",
       "</style>\n",
       "<table border=\"1\" class=\"dataframe\">\n",
       "  <thead>\n",
       "    <tr style=\"text-align: right;\">\n",
       "      <th></th>\n",
       "      <th>TotalBsmtSF</th>\n",
       "      <th>BsmtFinType1</th>\n",
       "      <th>BsmtFinType2</th>\n",
       "      <th>BsmtExposure</th>\n",
       "      <th>BsmtQual</th>\n",
       "      <th>BsmtCond</th>\n",
       "    </tr>\n",
       "  </thead>\n",
       "  <tbody>\n",
       "    <tr>\n",
       "      <th>948</th>\n",
       "      <td>936</td>\n",
       "      <td>Unf</td>\n",
       "      <td>Unf</td>\n",
       "      <td>NaN</td>\n",
       "      <td>Gd</td>\n",
       "      <td>TA</td>\n",
       "    </tr>\n",
       "  </tbody>\n",
       "</table>\n",
       "</div>"
      ],
      "text/plain": [
       "     TotalBsmtSF BsmtFinType1 BsmtFinType2 BsmtExposure BsmtQual BsmtCond\n",
       "948          936          Unf          Unf          NaN       Gd       TA"
      ]
     },
     "metadata": {},
     "output_type": "display_data"
    }
   ],
   "source": [
    "display(train_df[(train_df['TotalBsmtSF']!=0)&\n",
    "    (train_df['BsmtFinType2'].isna())][['TotalBsmtSF', 'BsmtFinType1', 'BsmtFinSF1',\n",
    "'BsmtFinType2', 'BsmtFinSF2', 'BsmtUnfSF', 'TotalBsmtSF', 'BsmtExposure', 'BsmtQual', 'BsmtCond']])\n",
    "display(train_df[(train_df['TotalBsmtSF']!=0)&\n",
    "    (train_df['BsmtExposure'].isna())][['TotalBsmtSF', 'BsmtFinType1',\n",
    "'BsmtFinType2', 'BsmtExposure', 'BsmtQual', 'BsmtCond']])"
   ]
  },
  {
   "cell_type": "code",
   "execution_count": 315,
   "metadata": {},
   "outputs": [
    {
     "data": {
      "text/plain": [
       "BsmtFinType2\n",
       "Unf    1256\n",
       "Rec      54\n",
       "LwQ      46\n",
       "BLQ      33\n",
       "ALQ      19\n",
       "GLQ      14\n",
       "Name: count, dtype: int64"
      ]
     },
     "metadata": {},
     "output_type": "display_data"
    },
    {
     "data": {
      "text/plain": [
       "BsmtExposure\n",
       "No    953\n",
       "Av    221\n",
       "Gd    134\n",
       "Mn    114\n",
       "Name: count, dtype: int64"
      ]
     },
     "metadata": {},
     "output_type": "display_data"
    }
   ],
   "source": [
    "display(train_df['BsmtFinType2'].value_counts())\n",
    "display(train_df['BsmtExposure'].value_counts())"
   ]
  },
  {
   "cell_type": "markdown",
   "metadata": {},
   "source": [
    "In the case of row 332, the fact that the values for finish 1 and 2 are different implies that the finishes are different, but there's no way to know what *kind* of finish the second is. I am going to assign it 'Rec', as it is the most common value aside from unfinished, which I know it isn't in this case from looking at the square footage values. <p>\n",
    "For row 948, I assume the missing value means there is no exposure, so I will be giving that the 'No' value from the documentation. "
   ]
  },
  {
   "cell_type": "code",
   "execution_count": 316,
   "metadata": {},
   "outputs": [],
   "source": [
    "train_df.loc[332, 'BsmtFinType2'] = 'Rec'\n",
    "train_df.loc[948, 'BsmtExposure'] = 'No'"
   ]
  },
  {
   "cell_type": "markdown",
   "metadata": {},
   "source": [
    "Now the rest can be filled."
   ]
  },
  {
   "cell_type": "code",
   "execution_count": 317,
   "metadata": {},
   "outputs": [],
   "source": [
    "train_df['BsmtFinType1'] = train_df['BsmtFinType1'].fillna('None')\n",
    "train_df['BsmtFinType2'] = train_df['BsmtFinType2'].fillna('None')\n",
    "train_df['BsmtExposure'] = train_df['BsmtExposure'].fillna('None')\n",
    "train_df['BsmtQual'] = train_df['BsmtQual'].fillna('None')\n",
    "train_df['BsmtCond'] = train_df['BsmtCond'].fillna('None')"
   ]
  },
  {
   "cell_type": "markdown",
   "metadata": {},
   "source": [
    "There are extra issues with the test version of these columns."
   ]
  },
  {
   "cell_type": "code",
   "execution_count": 318,
   "metadata": {},
   "outputs": [
    {
     "name": "stdout",
     "output_type": "stream",
     "text": [
      "Missing test basement values:\n",
      "Quality: 44\n",
      "Condition: 45\n",
      "Exposure: 44\n",
      "Finish 1: 42\n",
      "Finish 1 area: 1\n",
      "Finish 2: 42\n",
      "Finish 2 area: 1\n",
      "Unfinished area: 1\n",
      "Total area: 1\n",
      "Full bath: 2\n",
      "Half bath:2\n"
     ]
    }
   ],
   "source": [
    "print(f'Missing test basement values:')\n",
    "print(f'Quality: {len(test_df[test_df['BsmtQual'].isna()])}')\n",
    "print(f'Condition: {len(test_df[test_df['BsmtCond'].isna()])}')\n",
    "print(f'Exposure: {len(test_df[test_df['BsmtExposure'].isna()])}')\n",
    "print(f'Finish 1: {len(test_df[test_df['BsmtFinType1'].isna()])}')\n",
    "print(f'Finish 1 area: {len(test_df[test_df['BsmtFinSF1'].isna()])}')\n",
    "print(f'Finish 2: {len(test_df[test_df['BsmtFinType2'].isna()])}')\n",
    "print(f'Finish 2 area: {len(test_df[test_df['BsmtFinSF2'].isna()])}')\n",
    "print(f'Unfinished area: {len(test_df[test_df['BsmtUnfSF'].isna()])}')\n",
    "print(f'Total area: {len(test_df[test_df['TotalBsmtSF'].isna()])}')\n",
    "print(f'Full bath: {len(test_df[test_df['BsmtFullBath'].isna()])}')\n",
    "print(f'Half bath:{len(test_df[test_df['BsmtHalfBath'].isna()])}')"
   ]
  },
  {
   "cell_type": "code",
   "execution_count": 319,
   "metadata": {},
   "outputs": [
    {
     "data": {
      "text/html": [
       "<div>\n",
       "<style scoped>\n",
       "    .dataframe tbody tr th:only-of-type {\n",
       "        vertical-align: middle;\n",
       "    }\n",
       "\n",
       "    .dataframe tbody tr th {\n",
       "        vertical-align: top;\n",
       "    }\n",
       "\n",
       "    .dataframe thead th {\n",
       "        text-align: right;\n",
       "    }\n",
       "</style>\n",
       "<table border=\"1\" class=\"dataframe\">\n",
       "  <thead>\n",
       "    <tr style=\"text-align: right;\">\n",
       "      <th></th>\n",
       "      <th>HouseStyle</th>\n",
       "      <th>BsmtQual</th>\n",
       "      <th>BsmtCond</th>\n",
       "      <th>BsmtExposure</th>\n",
       "      <th>BsmtFinType1</th>\n",
       "      <th>BsmtFinSF1</th>\n",
       "      <th>BsmtFinType2</th>\n",
       "      <th>BsmtFinSF2</th>\n",
       "      <th>BsmtUnfSF</th>\n",
       "      <th>TotalBsmtSF</th>\n",
       "      <th>BsmtFullBath</th>\n",
       "      <th>BsmtHalfBath</th>\n",
       "    </tr>\n",
       "  </thead>\n",
       "  <tbody>\n",
       "    <tr>\n",
       "      <th>660</th>\n",
       "      <td>1Story</td>\n",
       "      <td>NaN</td>\n",
       "      <td>NaN</td>\n",
       "      <td>NaN</td>\n",
       "      <td>NaN</td>\n",
       "      <td>NaN</td>\n",
       "      <td>NaN</td>\n",
       "      <td>NaN</td>\n",
       "      <td>NaN</td>\n",
       "      <td>NaN</td>\n",
       "      <td>NaN</td>\n",
       "      <td>NaN</td>\n",
       "    </tr>\n",
       "  </tbody>\n",
       "</table>\n",
       "</div>"
      ],
      "text/plain": [
       "    HouseStyle BsmtQual BsmtCond BsmtExposure BsmtFinType1  BsmtFinSF1  \\\n",
       "660     1Story      NaN      NaN          NaN          NaN         NaN   \n",
       "\n",
       "    BsmtFinType2  BsmtFinSF2  BsmtUnfSF  TotalBsmtSF  BsmtFullBath  \\\n",
       "660          NaN         NaN        NaN          NaN           NaN   \n",
       "\n",
       "     BsmtHalfBath  \n",
       "660           NaN  "
      ]
     },
     "execution_count": 319,
     "metadata": {},
     "output_type": "execute_result"
    }
   ],
   "source": [
    "test_df[test_df['BsmtFinSF1'].isna()][['HouseStyle','BsmtQual', 'BsmtCond', 'BsmtExposure', 'BsmtFinType1', 'BsmtFinSF1', \n",
    "                    'BsmtFinType2', 'BsmtFinSF2', 'BsmtUnfSF', 'TotalBsmtSF', 'BsmtFullBath', 'BsmtHalfBath']]"
   ]
  },
  {
   "cell_type": "markdown",
   "metadata": {},
   "source": [
    "Given this row is a single story house, it does not have a basement, so all of these values would be the appropriate 0/None value. All of the single entries can be filled in based on this row. "
   ]
  },
  {
   "cell_type": "code",
   "execution_count": 320,
   "metadata": {},
   "outputs": [],
   "source": [
    "test_df['BsmtFinSF1'] = test_df['BsmtFinSF1'].fillna(0)\n",
    "test_df['BsmtFinSF2'] = test_df['BsmtFinSF2'].fillna(0)\n",
    "test_df['BsmtUnfSF'] = test_df['BsmtUnfSF'].fillna(0)\n",
    "test_df['TotalBsmtSF'] = test_df['TotalBsmtSF'].fillna(0)"
   ]
  },
  {
   "cell_type": "code",
   "execution_count": 321,
   "metadata": {},
   "outputs": [
    {
     "data": {
      "text/html": [
       "<div>\n",
       "<style scoped>\n",
       "    .dataframe tbody tr th:only-of-type {\n",
       "        vertical-align: middle;\n",
       "    }\n",
       "\n",
       "    .dataframe tbody tr th {\n",
       "        vertical-align: top;\n",
       "    }\n",
       "\n",
       "    .dataframe thead th {\n",
       "        text-align: right;\n",
       "    }\n",
       "</style>\n",
       "<table border=\"1\" class=\"dataframe\">\n",
       "  <thead>\n",
       "    <tr style=\"text-align: right;\">\n",
       "      <th></th>\n",
       "      <th>HouseStyle</th>\n",
       "      <th>BsmtFullBath</th>\n",
       "      <th>BsmtHalfBath</th>\n",
       "    </tr>\n",
       "  </thead>\n",
       "  <tbody>\n",
       "    <tr>\n",
       "      <th>660</th>\n",
       "      <td>1Story</td>\n",
       "      <td>NaN</td>\n",
       "      <td>NaN</td>\n",
       "    </tr>\n",
       "    <tr>\n",
       "      <th>728</th>\n",
       "      <td>1Story</td>\n",
       "      <td>NaN</td>\n",
       "      <td>NaN</td>\n",
       "    </tr>\n",
       "  </tbody>\n",
       "</table>\n",
       "</div>"
      ],
      "text/plain": [
       "    HouseStyle  BsmtFullBath  BsmtHalfBath\n",
       "660     1Story           NaN           NaN\n",
       "728     1Story           NaN           NaN"
      ]
     },
     "execution_count": 321,
     "metadata": {},
     "output_type": "execute_result"
    }
   ],
   "source": [
    "test_df[test_df['BsmtFullBath'].isna()][['HouseStyle', 'BsmtFullBath', 'BsmtHalfBath']]"
   ]
  },
  {
   "cell_type": "markdown",
   "metadata": {},
   "source": [
    "The same is true of the bathroom values; there is no basement so there can't be bathrooms."
   ]
  },
  {
   "cell_type": "code",
   "execution_count": 322,
   "metadata": {},
   "outputs": [],
   "source": [
    "test_df['BsmtFullBath'] = test_df['BsmtFullBath'].fillna(0)\n",
    "test_df['BsmtHalfBath'] = test_df['BsmtHalfBath'].fillna(0)"
   ]
  },
  {
   "cell_type": "code",
   "execution_count": 323,
   "metadata": {},
   "outputs": [
    {
     "data": {
      "text/html": [
       "<div>\n",
       "<style scoped>\n",
       "    .dataframe tbody tr th:only-of-type {\n",
       "        vertical-align: middle;\n",
       "    }\n",
       "\n",
       "    .dataframe tbody tr th {\n",
       "        vertical-align: top;\n",
       "    }\n",
       "\n",
       "    .dataframe thead th {\n",
       "        text-align: right;\n",
       "    }\n",
       "</style>\n",
       "<table border=\"1\" class=\"dataframe\">\n",
       "  <thead>\n",
       "    <tr style=\"text-align: right;\">\n",
       "      <th></th>\n",
       "      <th>TotalBsmtSF</th>\n",
       "      <th>BsmtQual</th>\n",
       "      <th>BsmtCond</th>\n",
       "      <th>BsmtExposure</th>\n",
       "    </tr>\n",
       "  </thead>\n",
       "  <tbody>\n",
       "    <tr>\n",
       "      <th>757</th>\n",
       "      <td>173.0</td>\n",
       "      <td>NaN</td>\n",
       "      <td>Fa</td>\n",
       "      <td>No</td>\n",
       "    </tr>\n",
       "    <tr>\n",
       "      <th>758</th>\n",
       "      <td>356.0</td>\n",
       "      <td>NaN</td>\n",
       "      <td>TA</td>\n",
       "      <td>No</td>\n",
       "    </tr>\n",
       "  </tbody>\n",
       "</table>\n",
       "</div>"
      ],
      "text/plain": [
       "     TotalBsmtSF BsmtQual BsmtCond BsmtExposure\n",
       "757        173.0      NaN       Fa           No\n",
       "758        356.0      NaN       TA           No"
      ]
     },
     "execution_count": 323,
     "metadata": {},
     "output_type": "execute_result"
    }
   ],
   "source": [
    "test_df[\n",
    "    (test_df['TotalBsmtSF']!=0)&(test_df['BsmtQual'].isna())\n",
    "][['TotalBsmtSF', 'BsmtQual', 'BsmtCond', 'BsmtExposure']]"
   ]
  },
  {
   "cell_type": "markdown",
   "metadata": {},
   "source": [
    "As there is no way to know the quality (which corresponds to the height of the basement), I am going to assign these 'TA' for 'typical'. "
   ]
  },
  {
   "cell_type": "code",
   "execution_count": 324,
   "metadata": {},
   "outputs": [],
   "source": [
    "test_df.loc[((test_df[ # select\n",
    "    (test_df['TotalBsmtSF']!=0)& # total area is not 0 AND\n",
    "    (test_df['BsmtQual'].isna()) # quality is NA\n",
    "].index).tolist()), 'BsmtQual'] = 'TA'"
   ]
  },
  {
   "cell_type": "code",
   "execution_count": 325,
   "metadata": {},
   "outputs": [
    {
     "name": "stdout",
     "output_type": "stream",
     "text": [
      "Missing values vs basement area \n",
      "Quality: TotalBsmtSF\n",
      "0.0            42\n",
      "Name: count, dtype: int64\n",
      "\n",
      "Condition: TotalBsmtSF\n",
      "0.0            42\n",
      "995.0           1\n",
      "1127.0          1\n",
      "1426.0          1\n",
      "Name: count, dtype: int64\n",
      "\n",
      "Exposure: TotalBsmtSF\n",
      "0.0            42\n",
      "725.0           1\n",
      "1595.0          1\n",
      "Name: count, dtype: int64\n",
      "\n",
      "Finish type 1: TotalBsmtSF\n",
      "0.0            42\n",
      "Name: count, dtype: int64\n",
      "\n",
      "Finish type 2: TotalBsmtSF\n",
      "0.0            42\n",
      "Name: count, dtype: int64\n"
     ]
    }
   ],
   "source": [
    "print(f'Missing values vs basement area \\nQuality: {test_df[test_df['BsmtQual'].isna()][['TotalBsmtSF']].value_counts()}')\n",
    "print(f'\\nCondition: {test_df[test_df['BsmtCond'].isna()][['TotalBsmtSF']].value_counts()}')\n",
    "print(f'\\nExposure: {test_df[test_df['BsmtExposure'].isna()][['TotalBsmtSF']].value_counts()}')\n",
    "print(f'\\nFinish type 1: {test_df[test_df['BsmtFinType1'].isna()][['TotalBsmtSF']].value_counts()}')\n",
    "print(f'\\nFinish type 2: {test_df[test_df['BsmtFinType2'].isna()][['TotalBsmtSF']].value_counts()}')"
   ]
  },
  {
   "cell_type": "code",
   "execution_count": 326,
   "metadata": {},
   "outputs": [],
   "source": [
    "test_df['BsmtQual'] = test_df['BsmtQual'].fillna('None')\n",
    "test_df['BsmtFinType1'] = test_df['BsmtFinType1'].fillna('None')\n",
    "test_df['BsmtFinType2'] = test_df['BsmtFinType2'].fillna('None')"
   ]
  },
  {
   "cell_type": "code",
   "execution_count": 327,
   "metadata": {},
   "outputs": [
    {
     "data": {
      "text/html": [
       "<div>\n",
       "<style scoped>\n",
       "    .dataframe tbody tr th:only-of-type {\n",
       "        vertical-align: middle;\n",
       "    }\n",
       "\n",
       "    .dataframe tbody tr th {\n",
       "        vertical-align: top;\n",
       "    }\n",
       "\n",
       "    .dataframe thead th {\n",
       "        text-align: right;\n",
       "    }\n",
       "</style>\n",
       "<table border=\"1\" class=\"dataframe\">\n",
       "  <thead>\n",
       "    <tr style=\"text-align: right;\">\n",
       "      <th></th>\n",
       "      <th>MSSubClass</th>\n",
       "      <th>HouseStyle</th>\n",
       "      <th>BsmtQual</th>\n",
       "      <th>BsmtCond</th>\n",
       "      <th>BsmtUnfSF</th>\n",
       "      <th>TotalBsmtSF</th>\n",
       "    </tr>\n",
       "  </thead>\n",
       "  <tbody>\n",
       "    <tr>\n",
       "      <th>580</th>\n",
       "      <td>20</td>\n",
       "      <td>1Story</td>\n",
       "      <td>Gd</td>\n",
       "      <td>NaN</td>\n",
       "      <td>0.0</td>\n",
       "      <td>1426.0</td>\n",
       "    </tr>\n",
       "    <tr>\n",
       "      <th>725</th>\n",
       "      <td>20</td>\n",
       "      <td>1Story</td>\n",
       "      <td>TA</td>\n",
       "      <td>NaN</td>\n",
       "      <td>94.0</td>\n",
       "      <td>1127.0</td>\n",
       "    </tr>\n",
       "    <tr>\n",
       "      <th>1064</th>\n",
       "      <td>80</td>\n",
       "      <td>SLvl</td>\n",
       "      <td>TA</td>\n",
       "      <td>NaN</td>\n",
       "      <td>240.0</td>\n",
       "      <td>995.0</td>\n",
       "    </tr>\n",
       "  </tbody>\n",
       "</table>\n",
       "</div>"
      ],
      "text/plain": [
       "      MSSubClass HouseStyle BsmtQual BsmtCond  BsmtUnfSF  TotalBsmtSF\n",
       "580           20     1Story       Gd      NaN        0.0       1426.0\n",
       "725           20     1Story       TA      NaN       94.0       1127.0\n",
       "1064          80       SLvl       TA      NaN      240.0        995.0"
      ]
     },
     "execution_count": 327,
     "metadata": {},
     "output_type": "execute_result"
    }
   ],
   "source": [
    "test_df[\n",
    "    (test_df['TotalBsmtSF']>0)&\n",
    "    (test_df['BsmtCond'].isna())\n",
    "][['MSSubClass', 'HouseStyle', 'BsmtQual', 'BsmtCond', 'BsmtUnfSF', 'TotalBsmtSF']]"
   ]
  },
  {
   "cell_type": "code",
   "execution_count": 328,
   "metadata": {},
   "outputs": [
    {
     "data": {
      "text/plain": [
       "BsmtCond\n",
       "TA    1295\n",
       "Fa      59\n",
       "Gd      57\n",
       "Po       3\n",
       "Name: count, dtype: int64"
      ]
     },
     "execution_count": 328,
     "metadata": {},
     "output_type": "execute_result"
    }
   ],
   "source": [
    "test_df['BsmtCond'].value_counts()"
   ]
  },
  {
   "cell_type": "markdown",
   "metadata": {},
   "source": [
    "This shows that there are mismatches between the values related to the number of stories and the presence of a basement, but ignoring that for now, with no direct way to decide on the condition of the basement, I am going to use 'TA', as it is 'typical' and also the most common. "
   ]
  },
  {
   "cell_type": "code",
   "execution_count": 329,
   "metadata": {},
   "outputs": [],
   "source": [
    "test_df.loc[((test_df[ # select\n",
    "    (test_df['TotalBsmtSF']!=0)& # total area is not 0 AND\n",
    "    (test_df['BsmtCond'].isna()) # condition is NA\n",
    "].index).tolist()), 'BsmtCond'] = 'TA'"
   ]
  },
  {
   "cell_type": "code",
   "execution_count": 330,
   "metadata": {},
   "outputs": [
    {
     "data": {
      "text/plain": [
       "TotalBsmtSF\n",
       "0.0    42\n",
       "Name: count, dtype: int64"
      ]
     },
     "execution_count": 330,
     "metadata": {},
     "output_type": "execute_result"
    }
   ],
   "source": [
    "test_df[test_df['BsmtCond'].isna()]['TotalBsmtSF'].value_counts()"
   ]
  },
  {
   "cell_type": "markdown",
   "metadata": {},
   "source": [
    "Since all of these are rows where there is no basement, they can be filled with 'None'."
   ]
  },
  {
   "cell_type": "code",
   "execution_count": 331,
   "metadata": {},
   "outputs": [],
   "source": [
    "test_df['BsmtCond'] = test_df['BsmtCond'].fillna('None')"
   ]
  },
  {
   "cell_type": "code",
   "execution_count": 332,
   "metadata": {},
   "outputs": [
    {
     "data": {
      "text/html": [
       "<div>\n",
       "<style scoped>\n",
       "    .dataframe tbody tr th:only-of-type {\n",
       "        vertical-align: middle;\n",
       "    }\n",
       "\n",
       "    .dataframe tbody tr th {\n",
       "        vertical-align: top;\n",
       "    }\n",
       "\n",
       "    .dataframe thead th {\n",
       "        text-align: right;\n",
       "    }\n",
       "</style>\n",
       "<table border=\"1\" class=\"dataframe\">\n",
       "  <thead>\n",
       "    <tr style=\"text-align: right;\">\n",
       "      <th></th>\n",
       "      <th>HouseStyle</th>\n",
       "      <th>BsmtQual</th>\n",
       "      <th>BsmtCond</th>\n",
       "      <th>BsmtExposure</th>\n",
       "      <th>TotalBsmtSF</th>\n",
       "    </tr>\n",
       "  </thead>\n",
       "  <tbody>\n",
       "    <tr>\n",
       "      <th>27</th>\n",
       "      <td>1Story</td>\n",
       "      <td>Gd</td>\n",
       "      <td>TA</td>\n",
       "      <td>NaN</td>\n",
       "      <td>1595.0</td>\n",
       "    </tr>\n",
       "    <tr>\n",
       "      <th>888</th>\n",
       "      <td>2Story</td>\n",
       "      <td>Gd</td>\n",
       "      <td>TA</td>\n",
       "      <td>NaN</td>\n",
       "      <td>725.0</td>\n",
       "    </tr>\n",
       "  </tbody>\n",
       "</table>\n",
       "</div>"
      ],
      "text/plain": [
       "    HouseStyle BsmtQual BsmtCond BsmtExposure  TotalBsmtSF\n",
       "27      1Story       Gd       TA          NaN       1595.0\n",
       "888     2Story       Gd       TA          NaN        725.0"
      ]
     },
     "execution_count": 332,
     "metadata": {},
     "output_type": "execute_result"
    }
   ],
   "source": [
    "test_df[\n",
    "    (test_df['TotalBsmtSF']!=0)&\n",
    "    (test_df['BsmtExposure'].isna())\n",
    "][['HouseStyle', 'BsmtQual', 'BsmtCond', 'BsmtExposure', 'TotalBsmtSF']]"
   ]
  },
  {
   "cell_type": "markdown",
   "metadata": {},
   "source": [
    "Again, I am assuming that missing values correspond to no exposure, given that these rows have basements."
   ]
  },
  {
   "cell_type": "code",
   "execution_count": 333,
   "metadata": {},
   "outputs": [],
   "source": [
    "test_df.loc[((test_df[ # select\n",
    "    (test_df['TotalBsmtSF']!=0)& # total area is not 0 AND\n",
    "    (test_df['BsmtExposure'].isna()) # exposure is NA\n",
    "].index).tolist()), 'BsmtExposure'] = 'No'"
   ]
  },
  {
   "cell_type": "code",
   "execution_count": 334,
   "metadata": {},
   "outputs": [
    {
     "data": {
      "text/plain": [
       "TotalBsmtSF\n",
       "0.0            42\n",
       "Name: count, dtype: int64"
      ]
     },
     "execution_count": 334,
     "metadata": {},
     "output_type": "execute_result"
    }
   ],
   "source": [
    "test_df[test_df['BsmtExposure'].isna()][['TotalBsmtSF']].value_counts()"
   ]
  },
  {
   "cell_type": "markdown",
   "metadata": {},
   "source": [
    "The rest of these do not have a basement, so they get filled with 'None'."
   ]
  },
  {
   "cell_type": "code",
   "execution_count": 335,
   "metadata": {},
   "outputs": [],
   "source": [
    "test_df['BsmtExposure'] = test_df['BsmtExposure'].fillna('None')"
   ]
  },
  {
   "cell_type": "code",
   "execution_count": 336,
   "metadata": {},
   "outputs": [
    {
     "name": "stdout",
     "output_type": "stream",
     "text": [
      "Missing fireplace quality: \n",
      "Train: 690\n",
      "Test: 730\n"
     ]
    }
   ],
   "source": [
    "print(f'Missing fireplace quality: \\nTrain: {len(train_df[train_df['FireplaceQu'].isna()])}')\n",
    "print(f'Test: {len(test_df[test_df['FireplaceQu'].isna()])}')"
   ]
  },
  {
   "cell_type": "code",
   "execution_count": 337,
   "metadata": {},
   "outputs": [
    {
     "name": "stdout",
     "output_type": "stream",
     "text": [
      "0 fireplaces, missing quality: \n",
      "Train: 690\n",
      "Test: 730\n"
     ]
    }
   ],
   "source": [
    "print(f'0 fireplaces, missing quality: \\nTrain: {len(train_df[(train_df['FireplaceQu'].isna())&(train_df['Fireplaces']==0)])}')\n",
    "print(f'Test: {len(test_df[(test_df['FireplaceQu'].isna())&(test_df['Fireplaces']==0)])}')"
   ]
  },
  {
   "cell_type": "markdown",
   "metadata": {},
   "source": [
    "Given that all NAs are associated with there being no fireplace, the NAs are being filled with 'None'."
   ]
  },
  {
   "cell_type": "code",
   "execution_count": 338,
   "metadata": {},
   "outputs": [],
   "source": [
    "train_df['FireplaceQu'] = train_df['FireplaceQu'].fillna('None')\n",
    "test_df['FireplaceQu'] = test_df['FireplaceQu'].fillna('None')"
   ]
  },
  {
   "cell_type": "code",
   "execution_count": 339,
   "metadata": {},
   "outputs": [
    {
     "name": "stdout",
     "output_type": "stream",
     "text": [
      "Missing pool quality: \n",
      "Train: 1453\n",
      "Test: 1456\n",
      "\n",
      "Missing quality and pool area 0: \n",
      "Train: 1453\n",
      "Test: 1453\n"
     ]
    }
   ],
   "source": [
    "print(f'Missing pool quality: \\nTrain: {len(train_df[train_df['PoolQC'].isna()])}')\n",
    "print(f'Test: {len(test_df[test_df['PoolQC'].isna()])}')\n",
    "print(f'\\nMissing quality and pool area 0: \\nTrain: {len(train_df[(train_df['PoolArea']==0)&(train_df['PoolQC'].isna())])}')\n",
    "print(f'Test: {len(test_df[(test_df['PoolArea']==0)&(test_df['PoolQC'].isna())])}')"
   ]
  },
  {
   "cell_type": "code",
   "execution_count": 340,
   "metadata": {},
   "outputs": [
    {
     "data": {
      "text/html": [
       "<div>\n",
       "<style scoped>\n",
       "    .dataframe tbody tr th:only-of-type {\n",
       "        vertical-align: middle;\n",
       "    }\n",
       "\n",
       "    .dataframe tbody tr th {\n",
       "        vertical-align: top;\n",
       "    }\n",
       "\n",
       "    .dataframe thead th {\n",
       "        text-align: right;\n",
       "    }\n",
       "</style>\n",
       "<table border=\"1\" class=\"dataframe\">\n",
       "  <thead>\n",
       "    <tr style=\"text-align: right;\">\n",
       "      <th></th>\n",
       "      <th>PoolArea</th>\n",
       "      <th>PoolQC</th>\n",
       "    </tr>\n",
       "  </thead>\n",
       "  <tbody>\n",
       "    <tr>\n",
       "      <th>960</th>\n",
       "      <td>368</td>\n",
       "      <td>NaN</td>\n",
       "    </tr>\n",
       "    <tr>\n",
       "      <th>1043</th>\n",
       "      <td>444</td>\n",
       "      <td>NaN</td>\n",
       "    </tr>\n",
       "    <tr>\n",
       "      <th>1139</th>\n",
       "      <td>561</td>\n",
       "      <td>NaN</td>\n",
       "    </tr>\n",
       "  </tbody>\n",
       "</table>\n",
       "</div>"
      ],
      "text/plain": [
       "      PoolArea PoolQC\n",
       "960        368    NaN\n",
       "1043       444    NaN\n",
       "1139       561    NaN"
      ]
     },
     "execution_count": 340,
     "metadata": {},
     "output_type": "execute_result"
    }
   ],
   "source": [
    "test_df[(test_df['PoolArea']!=0)&(test_df['PoolQC'].isna())][['PoolArea','PoolQC']]"
   ]
  },
  {
   "cell_type": "markdown",
   "metadata": {},
   "source": [
    "There is no way to really know what the pool quality value actually is, so I am going to assign the 'Average/Typical' value, as it is the middle value both descriptively and in terms of encoding. "
   ]
  },
  {
   "cell_type": "code",
   "execution_count": 341,
   "metadata": {},
   "outputs": [],
   "source": [
    "test_df.loc[((test_df[ # select\n",
    "    (test_df['PoolArea']!=0)& # pool area is not 0 AND\n",
    "    (test_df['PoolQC'].isna()) # pool quality is NA\n",
    "].index).tolist()), 'PoolQC'] = 'TA'"
   ]
  },
  {
   "cell_type": "markdown",
   "metadata": {},
   "source": [
    "The rest can be filled in with 'None', as they correspond to 0s in the area column. "
   ]
  },
  {
   "cell_type": "code",
   "execution_count": 342,
   "metadata": {},
   "outputs": [],
   "source": [
    "train_df['PoolQC'] = train_df['PoolQC'].fillna('None')\n",
    "test_df['PoolQC'] = test_df['PoolQC'].fillna('None')"
   ]
  },
  {
   "cell_type": "markdown",
   "metadata": {},
   "source": [
    "Per the documentation: \"Home functionality (Assume typical unless deductions are warranted)\"<br>\n",
    "Therefore both empty values can be filled with `Typ`. "
   ]
  },
  {
   "cell_type": "code",
   "execution_count": 343,
   "metadata": {},
   "outputs": [],
   "source": [
    "test_df['Functional'] = test_df['Functional'].fillna('Typ')"
   ]
  },
  {
   "cell_type": "code",
   "execution_count": 344,
   "metadata": {},
   "outputs": [
    {
     "name": "stdout",
     "output_type": "stream",
     "text": [
      "Electrical\n",
      "False    1459\n",
      "True        1\n",
      "Name: count, dtype: int64 \n",
      "\n",
      "     Electrical  YearBuilt HouseStyle\n",
      "1379        NaN       2006       SLvl\n"
     ]
    }
   ],
   "source": [
    "print(train_df['Electrical'].isna().value_counts(),'\\n')\n",
    "print(train_df[train_df['Electrical'].isna()][['Electrical','YearBuilt', 'HouseStyle']])"
   ]
  },
  {
   "cell_type": "code",
   "execution_count": 345,
   "metadata": {},
   "outputs": [
    {
     "name": "stdout",
     "output_type": "stream",
     "text": [
      "Train: Electrical\n",
      "SBrkr    1334\n",
      "FuseA      94\n",
      "FuseF      27\n",
      "FuseP       3\n",
      "Mix         1\n",
      "Name: count, dtype: int64,\n",
      "\n",
      "Test: Electrical\n",
      "SBrkr    1337\n",
      "FuseA      94\n",
      "FuseF      23\n",
      "FuseP       5\n",
      "Name: count, dtype: int64 \n",
      "\n"
     ]
    }
   ],
   "source": [
    "print(f'Train: {train_df['Electrical'].value_counts()},\\n')\n",
    "print(f'Test: {test_df['Electrical'].value_counts()} \\n')"
   ]
  },
  {
   "cell_type": "markdown",
   "metadata": {},
   "source": [
    "Rather than drop this row, I'm going to use the fact that the vast majority of data (91.4% of train, 91.6% of test) have the 'SBrkr' value to assume that's what belongs here; it would be strange for a home built in 2006 to actually have no electrical at all. <p>\n",
    "As there are no missing values for the `Electrical` column in the test set, this is the only strange case I need to deal with. "
   ]
  },
  {
   "cell_type": "code",
   "execution_count": 346,
   "metadata": {},
   "outputs": [],
   "source": [
    "train_df['Electrical'] = train_df['Electrical'].fillna('SBrkr')"
   ]
  },
  {
   "cell_type": "code",
   "execution_count": 347,
   "metadata": {},
   "outputs": [
    {
     "data": {
      "text/plain": [
       "Id     MSSubClass  MSZoning  LotFrontage  LotArea  Street  Alley  LotShape  LandContour  Utilities  LotConfig  LandSlope  Neighborhood  Condition1  Condition2  BldgType  HouseStyle  OverallQual  OverallCond  YearBuilt  YearRemodAdd  RoofStyle  RoofMatl  Exterior1st  Exterior2nd  MasVnrType  MasVnrArea  ExterQual  ExterCond  Foundation  BsmtQual  BsmtCond  BsmtExposure  BsmtFinType1  BsmtFinSF1  BsmtFinType2  BsmtFinSF2  BsmtUnfSF  TotalBsmtSF  Heating  HeatingQC  CentralAir  Electrical  1stFlrSF  2ndFlrSF  LowQualFinSF  GrLivArea  BsmtFullBath  BsmtHalfBath  FullBath  HalfBath  BedroomAbvGr  KitchenAbvGr  KitchenQual  TotRmsAbvGrd  Functional  Fireplaces  FireplaceQu  GarageType  GarageYrBlt  GarageFinish  GarageCars  GarageArea  GarageQual  GarageCond  PavedDrive  WoodDeckSF  OpenPorchSF  EnclosedPorch  3SsnPorch  ScreenPorch  PoolArea  PoolQC  Fence  MiscFeature  MiscVal  MoSold  YrSold  SaleType  SaleCondition  SalePrice\n",
       "False  False       False     False        False    False   False  False     False        False      False      False      False         False       False       False     False       False        False        False      False         False      False     False        False        False       False       False      False      False       False     False     False         False         False       False         False       False      False        False    False      False       False       False     False     False         False      False         False         False     False     False         False         False        False         False       False       False        False       False        False         False       False       False       False       False       False       False        False          False      False        False     False   False  True         False    False   False   False     False          False        1406\n",
       "                                                                                                                                                                                                                                                                                                                                                                                                                                                                                                                                                                                                                                                                                                                                                                                                                                                                                                 False        False    False   False   False     False          False          54\n",
       "Name: count, dtype: int64"
      ]
     },
     "execution_count": 347,
     "metadata": {},
     "output_type": "execute_result"
    }
   ],
   "source": [
    "train_df.isna().value_counts()"
   ]
  },
  {
   "cell_type": "markdown",
   "metadata": {},
   "source": [
    "At this point, the only remaining NA values in the train dataframe are in the `MiscFeature` column. I could fill these with 'None', but I plan to One Hot Encode this column, and don't want to add a feature I will later need to remove, so this column is staying as is. <p>\n",
    "However, there are columns in the test set that have NAs that did not in the train set that still need to be dealt with."
   ]
  },
  {
   "cell_type": "code",
   "execution_count": 348,
   "metadata": {},
   "outputs": [
    {
     "data": {
      "text/html": [
       "<div>\n",
       "<style scoped>\n",
       "    .dataframe tbody tr th:only-of-type {\n",
       "        vertical-align: middle;\n",
       "    }\n",
       "\n",
       "    .dataframe tbody tr th {\n",
       "        vertical-align: top;\n",
       "    }\n",
       "\n",
       "    .dataframe thead th {\n",
       "        text-align: right;\n",
       "    }\n",
       "</style>\n",
       "<table border=\"1\" class=\"dataframe\">\n",
       "  <thead>\n",
       "    <tr style=\"text-align: right;\">\n",
       "      <th></th>\n",
       "      <th>MSZoning</th>\n",
       "      <th>Neighborhood</th>\n",
       "      <th>MSSubClass</th>\n",
       "      <th>BldgType</th>\n",
       "    </tr>\n",
       "  </thead>\n",
       "  <tbody>\n",
       "    <tr>\n",
       "      <th>455</th>\n",
       "      <td>NaN</td>\n",
       "      <td>IDOTRR</td>\n",
       "      <td>30</td>\n",
       "      <td>1Fam</td>\n",
       "    </tr>\n",
       "    <tr>\n",
       "      <th>756</th>\n",
       "      <td>NaN</td>\n",
       "      <td>IDOTRR</td>\n",
       "      <td>20</td>\n",
       "      <td>1Fam</td>\n",
       "    </tr>\n",
       "    <tr>\n",
       "      <th>790</th>\n",
       "      <td>NaN</td>\n",
       "      <td>IDOTRR</td>\n",
       "      <td>70</td>\n",
       "      <td>1Fam</td>\n",
       "    </tr>\n",
       "    <tr>\n",
       "      <th>1444</th>\n",
       "      <td>NaN</td>\n",
       "      <td>Mitchel</td>\n",
       "      <td>20</td>\n",
       "      <td>1Fam</td>\n",
       "    </tr>\n",
       "  </tbody>\n",
       "</table>\n",
       "</div>"
      ],
      "text/plain": [
       "     MSZoning Neighborhood  MSSubClass BldgType\n",
       "455       NaN       IDOTRR          30     1Fam\n",
       "756       NaN       IDOTRR          20     1Fam\n",
       "790       NaN       IDOTRR          70     1Fam\n",
       "1444      NaN      Mitchel          20     1Fam"
      ]
     },
     "execution_count": 348,
     "metadata": {},
     "output_type": "execute_result"
    }
   ],
   "source": [
    "test_df[test_df['MSZoning'].isna()][['MSZoning','Neighborhood','MSSubClass','BldgType']]"
   ]
  },
  {
   "cell_type": "markdown",
   "metadata": {},
   "source": [
    "I'm going to use the `Neighborhood`, `MSSubClass` and `BldgType` values to decide what to put for each of these missing `MSZoning` values. My logic is that by looking at the trends based on the location of the property, and the type of building, I can be more sure of what kind of lot it would be on. "
   ]
  },
  {
   "cell_type": "code",
   "execution_count": 349,
   "metadata": {},
   "outputs": [
    {
     "name": "stdout",
     "output_type": "stream",
     "text": [
      "Row 756; \n",
      "Neighborhood - IDOTRR, MSSubClass - 20, BldgType - 1Fam\n",
      "Train: MSZoning\n",
      "C (all)    2\n",
      "Name: count, dtype: int64\n",
      "\n",
      "Test: MSZoning\n",
      "C (all)    1\n",
      "Name: count, dtype: int64\n",
      "\n",
      "\n",
      "Row 1444; \n",
      "Neighborhood - Mitchel, MSSubClass - 20, BldgType - 1Fam\n",
      "Train: MSZoning\n",
      "RL    23\n",
      "Name: count, dtype: int64\n",
      "\n",
      "Test: MSZoning\n",
      "RL    30\n",
      "Name: count, dtype: int64\n"
     ]
    }
   ],
   "source": [
    "print('Row 756; \\nNeighborhood - IDOTRR, MSSubClass - 20, BldgType - 1Fam')\n",
    "print(f'Train: {train_df[(train_df['Neighborhood']=='IDOTRR')&(train_df['MSSubClass']==20)&\n",
    "    (train_df['BldgType']=='1Fam')]['MSZoning'].value_counts()}\\n')\n",
    "print(f'Test: {test_df[(test_df['Neighborhood']=='IDOTRR')&(test_df['MSSubClass']==20)&\n",
    "    (test_df['BldgType']=='1Fam')]['MSZoning'].value_counts()}')\n",
    "print('\\n\\nRow 1444; \\nNeighborhood - Mitchel, MSSubClass - 20, BldgType - 1Fam')\n",
    "print(f'Train: {train_df[(train_df['Neighborhood']=='Mitchel')&(train_df['MSSubClass']==20)&\n",
    "    (train_df['BldgType']=='1Fam')]['MSZoning'].value_counts()}\\n')\n",
    "print(f'Test: {test_df[(test_df['Neighborhood']=='Mitchel')&(test_df['MSSubClass']==20)&\n",
    "    (test_df['BldgType']=='1Fam')]['MSZoning'].value_counts()}')"
   ]
  },
  {
   "cell_type": "markdown",
   "metadata": {},
   "source": [
    "For both of these rows, the specific combinations of parameters only have one possible value in the `MSZoning` column, so those are what I am going to use. <p>\n",
    "The other two rows both have two possible options:"
   ]
  },
  {
   "cell_type": "code",
   "execution_count": 350,
   "metadata": {},
   "outputs": [
    {
     "name": "stdout",
     "output_type": "stream",
     "text": [
      "Row 455; \n",
      "Neighborhood - IDOTRR, MSSubClass - 30, BldgType - 1Fam\n",
      "Train: MSZoning\n",
      "RM         9\n",
      "C (all)    2\n",
      "Name: count, dtype: int64\n",
      "\n",
      "Test: MSZoning\n",
      "RM         12\n",
      "C (all)     5\n",
      "Name: count, dtype: int64\n"
     ]
    }
   ],
   "source": [
    "print('Row 455; \\nNeighborhood - IDOTRR, MSSubClass - 30, BldgType - 1Fam')\n",
    "print(f'Train: {train_df[(train_df['Neighborhood']=='IDOTRR')&(train_df['MSSubClass']==30)&\n",
    "    (train_df['BldgType']=='1Fam')]['MSZoning'].value_counts()}\\n')\n",
    "print(f'Test: {test_df[(test_df['Neighborhood']=='IDOTRR')&(test_df['MSSubClass']==30)&\n",
    "    (test_df['BldgType']=='1Fam')]['MSZoning'].value_counts()}')"
   ]
  },
  {
   "cell_type": "markdown",
   "metadata": {},
   "source": [
    "Both sets have the 'RM' value occuring more often, with the distribution across all of the data being 3:1 in that direction, so that is what I am going to assign. "
   ]
  },
  {
   "cell_type": "code",
   "execution_count": 351,
   "metadata": {},
   "outputs": [
    {
     "name": "stdout",
     "output_type": "stream",
     "text": [
      "Row 790; \n",
      "Neighborhood - IDOTRR, MSSubClass - 70, BldgType - 1Fam\n",
      "Train: MSZoning\n",
      "RM         3\n",
      "C (all)    1\n",
      "Name: count, dtype: int64\n",
      "\n",
      "Test: MSZoning\n",
      "RM         5\n",
      "C (all)    2\n",
      "Name: count, dtype: int64\n"
     ]
    }
   ],
   "source": [
    "print('Row 790; \\nNeighborhood - IDOTRR, MSSubClass - 70, BldgType - 1Fam')\n",
    "print(f'Train: {train_df[(train_df['Neighborhood']=='IDOTRR')&(train_df['MSSubClass']==70)&\n",
    "    (train_df['BldgType']=='1Fam')]['MSZoning'].value_counts()}\\n')\n",
    "print(f'Test: {test_df[(test_df['Neighborhood']=='IDOTRR')&(test_df['MSSubClass']==70)&\n",
    "    (test_df['BldgType']=='1Fam')]['MSZoning'].value_counts()}')"
   ]
  },
  {
   "cell_type": "markdown",
   "metadata": {},
   "source": [
    "Again, both sets have the 'RM' value occuring more often, with the distribution across both sets this time being ~2.6:1. I'm going to assign 'RM' again."
   ]
  },
  {
   "cell_type": "code",
   "execution_count": 352,
   "metadata": {},
   "outputs": [],
   "source": [
    "test_df.loc[756,'MSZoning'] = 'C (all)'\n",
    "test_df.loc[1444,'MSZoning'] = 'RL'\n",
    "test_df.loc[455,'MSZoning'] = 'RM'\n",
    "test_df.loc[790,'MSZoning'] = 'RM'"
   ]
  },
  {
   "cell_type": "markdown",
   "metadata": {},
   "source": [
    "Utilities: Type of utilities available\n",
    "\t\t\n",
    "       AllPub\tAll public Utilities (E,G,W,& S)\t\n",
    "       NoSewr\tElectricity, Gas, and Water (Septic Tank)\n",
    "       NoSeWa\tElectricity and Gas Only\n",
    "       ELO\tElectricity only"
   ]
  },
  {
   "cell_type": "code",
   "execution_count": 353,
   "metadata": {},
   "outputs": [
    {
     "data": {
      "text/html": [
       "<div>\n",
       "<style scoped>\n",
       "    .dataframe tbody tr th:only-of-type {\n",
       "        vertical-align: middle;\n",
       "    }\n",
       "\n",
       "    .dataframe tbody tr th {\n",
       "        vertical-align: top;\n",
       "    }\n",
       "\n",
       "    .dataframe thead th {\n",
       "        text-align: right;\n",
       "    }\n",
       "</style>\n",
       "<table border=\"1\" class=\"dataframe\">\n",
       "  <thead>\n",
       "    <tr style=\"text-align: right;\">\n",
       "      <th></th>\n",
       "      <th>Utilities</th>\n",
       "      <th>Neighborhood</th>\n",
       "      <th>Electrical</th>\n",
       "      <th>Heating</th>\n",
       "      <th>BsmtFullBath</th>\n",
       "      <th>BsmtHalfBath</th>\n",
       "      <th>FullBath</th>\n",
       "      <th>HalfBath</th>\n",
       "    </tr>\n",
       "  </thead>\n",
       "  <tbody>\n",
       "    <tr>\n",
       "      <th>455</th>\n",
       "      <td>NaN</td>\n",
       "      <td>IDOTRR</td>\n",
       "      <td>FuseA</td>\n",
       "      <td>GasA</td>\n",
       "      <td>0.0</td>\n",
       "      <td>0.0</td>\n",
       "      <td>1</td>\n",
       "      <td>0</td>\n",
       "    </tr>\n",
       "    <tr>\n",
       "      <th>485</th>\n",
       "      <td>NaN</td>\n",
       "      <td>Gilbert</td>\n",
       "      <td>FuseA</td>\n",
       "      <td>GasA</td>\n",
       "      <td>0.0</td>\n",
       "      <td>0.0</td>\n",
       "      <td>1</td>\n",
       "      <td>0</td>\n",
       "    </tr>\n",
       "  </tbody>\n",
       "</table>\n",
       "</div>"
      ],
      "text/plain": [
       "    Utilities Neighborhood Electrical Heating  BsmtFullBath  BsmtHalfBath  \\\n",
       "455       NaN       IDOTRR      FuseA    GasA           0.0           0.0   \n",
       "485       NaN      Gilbert      FuseA    GasA           0.0           0.0   \n",
       "\n",
       "     FullBath  HalfBath  \n",
       "455         1         0  \n",
       "485         1         0  "
      ]
     },
     "execution_count": 353,
     "metadata": {},
     "output_type": "execute_result"
    }
   ],
   "source": [
    "test_df[test_df['Utilities'].isna()][['Utilities','Neighborhood','Electrical','Heating','BsmtFullBath', 'BsmtHalfBath', 'FullBath','HalfBath']]"
   ]
  },
  {
   "cell_type": "code",
   "execution_count": 354,
   "metadata": {},
   "outputs": [
    {
     "name": "stdout",
     "output_type": "stream",
     "text": [
      "Train \n",
      "Utilities\n",
      "AllPub    1459\n",
      "NoSeWa       1\n",
      "Name: count, dtype: int64\n",
      "\n",
      "Test \n",
      "Utilities\n",
      "AllPub    1457\n",
      "Name: count, dtype: int64\n",
      "\n",
      "Neighborhood: IDOTRR \n",
      "Utilities\n",
      "AllPub    37\n",
      "Name: count, dtype: int64\n",
      "\n",
      "Neighborhood: Gilbert \n",
      "Utilities\n",
      "AllPub    79\n",
      "Name: count, dtype: int64\n"
     ]
    }
   ],
   "source": [
    "print(f'Train \\n{train_df['Utilities'].value_counts()}')\n",
    "print(f'\\nTest \\n{test_df['Utilities'].value_counts()}')\n",
    "print(f'\\nNeighborhood: IDOTRR \\n{train_df[train_df['Neighborhood']=='IDOTRR']['Utilities'].value_counts()}')\n",
    "print(f'\\nNeighborhood: Gilbert \\n{train_df[train_df['Neighborhood']=='Gilbert']['Utilities'].value_counts()}')"
   ]
  },
  {
   "cell_type": "markdown",
   "metadata": {},
   "source": [
    "There is only one row with a value that isn't 'AllPub', and it isn't in either of the neighborhoods in question, so these two rows will be filled with 'AllPub'. "
   ]
  },
  {
   "cell_type": "code",
   "execution_count": 355,
   "metadata": {},
   "outputs": [],
   "source": [
    "test_df.loc[455,'Utilities'] = 'AllPub'\n",
    "test_df.loc[485,'Utilities'] = 'AllPub'"
   ]
  },
  {
   "cell_type": "code",
   "execution_count": 356,
   "metadata": {},
   "outputs": [
    {
     "data": {
      "text/html": [
       "<div>\n",
       "<style scoped>\n",
       "    .dataframe tbody tr th:only-of-type {\n",
       "        vertical-align: middle;\n",
       "    }\n",
       "\n",
       "    .dataframe tbody tr th {\n",
       "        vertical-align: top;\n",
       "    }\n",
       "\n",
       "    .dataframe thead th {\n",
       "        text-align: right;\n",
       "    }\n",
       "</style>\n",
       "<table border=\"1\" class=\"dataframe\">\n",
       "  <thead>\n",
       "    <tr style=\"text-align: right;\">\n",
       "      <th></th>\n",
       "      <th>Exterior1st</th>\n",
       "      <th>Exterior2nd</th>\n",
       "      <th>Neighborhood</th>\n",
       "      <th>BldgType</th>\n",
       "      <th>MSSubClass</th>\n",
       "      <th>MSZoning</th>\n",
       "    </tr>\n",
       "  </thead>\n",
       "  <tbody>\n",
       "    <tr>\n",
       "      <th>691</th>\n",
       "      <td>NaN</td>\n",
       "      <td>NaN</td>\n",
       "      <td>Edwards</td>\n",
       "      <td>1Fam</td>\n",
       "      <td>30</td>\n",
       "      <td>RL</td>\n",
       "    </tr>\n",
       "  </tbody>\n",
       "</table>\n",
       "</div>"
      ],
      "text/plain": [
       "    Exterior1st Exterior2nd Neighborhood BldgType  MSSubClass MSZoning\n",
       "691         NaN         NaN      Edwards     1Fam          30       RL"
      ]
     },
     "execution_count": 356,
     "metadata": {},
     "output_type": "execute_result"
    }
   ],
   "source": [
    "test_df[test_df['Exterior1st'].isna()][['Exterior1st','Exterior2nd','Neighborhood','BldgType','MSSubClass','MSZoning']]"
   ]
  },
  {
   "cell_type": "code",
   "execution_count": 357,
   "metadata": {},
   "outputs": [
    {
     "name": "stdout",
     "output_type": "stream",
     "text": [
      "Train: \n",
      "Exterior1st\n",
      "Wd Sdng    23\n",
      "MetalSd    23\n",
      "VinylSd    20\n",
      "HdBoard     8\n",
      "WdShing     6\n",
      "Stucco      6\n",
      "Plywood     5\n",
      "AsbShng     3\n",
      "BrkComm     2\n",
      "CemntBd     2\n",
      "AsphShn     1\n",
      "BrkFace     1\n",
      "Name: count, dtype: int64\n",
      "\n",
      "Exterior2nd\n",
      "Wd Sdng    24\n",
      "VinylSd    21\n",
      "MetalSd    21\n",
      "Plywood    10\n",
      "HdBoard     7\n",
      "Stucco      6\n",
      "Wd Shng     4\n",
      "Brk Cmn     2\n",
      "CmentBd     2\n",
      "AsbShng     2\n",
      "AsphShn     1\n",
      "Name: count, dtype: int64\n"
     ]
    }
   ],
   "source": [
    "print(f'Train: \\n{train_df[train_df['Neighborhood']=='Edwards']['Exterior1st'].value_counts()}')\n",
    "print(f'\\n{train_df[train_df['Neighborhood']=='Edwards']['Exterior2nd'].value_counts()}')"
   ]
  },
  {
   "cell_type": "code",
   "execution_count": 358,
   "metadata": {},
   "outputs": [
    {
     "name": "stdout",
     "output_type": "stream",
     "text": [
      "Test: \n",
      "Exterior1st\n",
      "Wd Sdng    22\n",
      "VinylSd    18\n",
      "MetalSd    14\n",
      "HdBoard    13\n",
      "Plywood    11\n",
      "WdShing     7\n",
      "AsbShng     4\n",
      "BrkFace     3\n",
      "CemntBd     1\n",
      "Name: count, dtype: int64\n",
      "\n",
      "Exterior2nd\n",
      "Wd Sdng    24\n",
      "Plywood    20\n",
      "VinylSd    17\n",
      "MetalSd    14\n",
      "HdBoard     8\n",
      "Wd Shng     6\n",
      "AsbShng     2\n",
      "CmentBd     1\n",
      "Stucco      1\n",
      "Name: count, dtype: int64\n"
     ]
    }
   ],
   "source": [
    "print(f'Test: \\n{test_df[test_df['Neighborhood']=='Edwards']['Exterior1st'].value_counts()}')\n",
    "print(f'\\n{test_df[test_df['Neighborhood']=='Edwards']['Exterior2nd'].value_counts()}')"
   ]
  },
  {
   "cell_type": "markdown",
   "metadata": {},
   "source": [
    "There is no clear pattern for either of the exterior values within the neighborhood in either of the sets, and there is no other way to tell what the exterior is."
   ]
  },
  {
   "cell_type": "code",
   "execution_count": 359,
   "metadata": {},
   "outputs": [
    {
     "name": "stdout",
     "output_type": "stream",
     "text": [
      "Rows with 'Other' \n",
      "Train:\n"
     ]
    },
    {
     "data": {
      "text/html": [
       "<div>\n",
       "<style scoped>\n",
       "    .dataframe tbody tr th:only-of-type {\n",
       "        vertical-align: middle;\n",
       "    }\n",
       "\n",
       "    .dataframe tbody tr th {\n",
       "        vertical-align: top;\n",
       "    }\n",
       "\n",
       "    .dataframe thead th {\n",
       "        text-align: right;\n",
       "    }\n",
       "</style>\n",
       "<table border=\"1\" class=\"dataframe\">\n",
       "  <thead>\n",
       "    <tr style=\"text-align: right;\">\n",
       "      <th></th>\n",
       "      <th>Exterior1st</th>\n",
       "      <th>Exterior2nd</th>\n",
       "    </tr>\n",
       "  </thead>\n",
       "  <tbody>\n",
       "    <tr>\n",
       "      <th>595</th>\n",
       "      <td>VinylSd</td>\n",
       "      <td>Other</td>\n",
       "    </tr>\n",
       "  </tbody>\n",
       "</table>\n",
       "</div>"
      ],
      "text/plain": [
       "    Exterior1st Exterior2nd\n",
       "595     VinylSd       Other"
      ]
     },
     "metadata": {},
     "output_type": "display_data"
    },
    {
     "name": "stdout",
     "output_type": "stream",
     "text": [
      "Test:\n"
     ]
    },
    {
     "data": {
      "text/html": [
       "<div>\n",
       "<style scoped>\n",
       "    .dataframe tbody tr th:only-of-type {\n",
       "        vertical-align: middle;\n",
       "    }\n",
       "\n",
       "    .dataframe tbody tr th {\n",
       "        vertical-align: top;\n",
       "    }\n",
       "\n",
       "    .dataframe thead th {\n",
       "        text-align: right;\n",
       "    }\n",
       "</style>\n",
       "<table border=\"1\" class=\"dataframe\">\n",
       "  <thead>\n",
       "    <tr style=\"text-align: right;\">\n",
       "      <th></th>\n",
       "      <th>Exterior1st</th>\n",
       "      <th>Exterior2nd</th>\n",
       "    </tr>\n",
       "  </thead>\n",
       "  <tbody>\n",
       "  </tbody>\n",
       "</table>\n",
       "</div>"
      ],
      "text/plain": [
       "Empty DataFrame\n",
       "Columns: [Exterior1st, Exterior2nd]\n",
       "Index: []"
      ]
     },
     "metadata": {},
     "output_type": "display_data"
    }
   ],
   "source": [
    "print(f\"Rows with 'Other' \\nTrain:\")\n",
    "display(train_df[(train_df['Exterior1st']=='Other')|(train_df['Exterior2nd']=='Other')][['Exterior1st','Exterior2nd']])\n",
    "print(f\"Test:\")\n",
    "display(test_df[(test_df['Exterior1st']=='Other')|(test_df['Exterior2nd']=='Other')][['Exterior1st','Exterior2nd']])"
   ]
  },
  {
   "cell_type": "markdown",
   "metadata": {},
   "source": [
    "The 'Other' value is virtually never used, but in the interest of not dropping the row, I think it is the only option."
   ]
  },
  {
   "cell_type": "code",
   "execution_count": 360,
   "metadata": {},
   "outputs": [],
   "source": [
    "test_df.loc[691,'Exterior1st'] = 'Other'\n",
    "test_df.loc[691,'Exterior2nd'] = 'Other'"
   ]
  },
  {
   "cell_type": "code",
   "execution_count": 361,
   "metadata": {},
   "outputs": [
    {
     "data": {
      "text/html": [
       "<div>\n",
       "<style scoped>\n",
       "    .dataframe tbody tr th:only-of-type {\n",
       "        vertical-align: middle;\n",
       "    }\n",
       "\n",
       "    .dataframe tbody tr th {\n",
       "        vertical-align: top;\n",
       "    }\n",
       "\n",
       "    .dataframe thead th {\n",
       "        text-align: right;\n",
       "    }\n",
       "</style>\n",
       "<table border=\"1\" class=\"dataframe\">\n",
       "  <thead>\n",
       "    <tr style=\"text-align: right;\">\n",
       "      <th></th>\n",
       "      <th>SaleType</th>\n",
       "      <th>SaleCondition</th>\n",
       "      <th>Neighborhood</th>\n",
       "    </tr>\n",
       "  </thead>\n",
       "  <tbody>\n",
       "    <tr>\n",
       "      <th>1029</th>\n",
       "      <td>NaN</td>\n",
       "      <td>Normal</td>\n",
       "      <td>Sawyer</td>\n",
       "    </tr>\n",
       "  </tbody>\n",
       "</table>\n",
       "</div>"
      ],
      "text/plain": [
       "     SaleType SaleCondition Neighborhood\n",
       "1029      NaN        Normal       Sawyer"
      ]
     },
     "execution_count": 361,
     "metadata": {},
     "output_type": "execute_result"
    }
   ],
   "source": [
    "test_df[test_df['SaleType'].isna()][['SaleType', 'SaleCondition', 'Neighborhood']]"
   ]
  },
  {
   "cell_type": "code",
   "execution_count": 362,
   "metadata": {},
   "outputs": [
    {
     "name": "stdout",
     "output_type": "stream",
     "text": [
      "SaleCondition: Normal \n",
      "Train: SaleType\n",
      "WD          1160\n",
      "COD           19\n",
      "ConLD          6\n",
      "ConLw          5\n",
      "ConLI          4\n",
      "CWD            2\n",
      "Con            2\n",
      "Name: count, dtype: int64 \n",
      "\n",
      "Test: SaleType\n",
      "WD          1154\n",
      "COD           20\n",
      "ConLD         15\n",
      "CWD            8\n",
      "Con            2\n",
      "ConLw          2\n",
      "ConLI          1\n",
      "Oth            1\n",
      "Name: count, dtype: int64\n"
     ]
    }
   ],
   "source": [
    "print(f'SaleCondition: Normal \\nTrain: {train_df[train_df['SaleCondition']=='Normal'][['SaleType']].value_counts()} \\n')\n",
    "print(f'Test: {test_df[test_df['SaleCondition']=='Normal'][['SaleType']].value_counts()}')"
   ]
  },
  {
   "cell_type": "markdown",
   "metadata": {},
   "source": [
    "96.8% of train and 95.9% of test have the 'WD' value paired with the 'Normal' value. When looking at the specific 'Sawyer' neighborhood:"
   ]
  },
  {
   "cell_type": "code",
   "execution_count": 363,
   "metadata": {},
   "outputs": [
    {
     "name": "stdout",
     "output_type": "stream",
     "text": [
      "Train: \n",
      "SaleType\n",
      "WD    67\n",
      "Name: count, dtype: int64\n",
      "\n",
      "Test: \n",
      "SaleType\n",
      "WD     65\n",
      "COD     2\n",
      "Name: count, dtype: int64\n"
     ]
    }
   ],
   "source": [
    "print(f'Train: \\n{train_df[(train_df['Neighborhood']=='Sawyer')&(train_df['SaleCondition']=='Normal')]['SaleType'].value_counts()}')\n",
    "print(f'\\nTest: \\n{test_df[(test_df['Neighborhood']=='Sawyer')&(test_df['SaleCondition']=='Normal')]['SaleType'].value_counts()}')"
   ]
  },
  {
   "cell_type": "markdown",
   "metadata": {},
   "source": [
    "There is 100% of train and 97% of test with the 'WD' value. As it is the overwhelming majority, that is what I am going to assign. "
   ]
  },
  {
   "cell_type": "code",
   "execution_count": 364,
   "metadata": {},
   "outputs": [],
   "source": [
    "test_df.loc[1029, 'SaleType'] = 'WD'"
   ]
  },
  {
   "cell_type": "markdown",
   "metadata": {},
   "source": [
    "'OverallQual', 'OverallCond', \n",
    " '1stFlrSF', '2ndFlrSF', 'LowQualFinSF', 'GrLivArea', 'KitchenAbvGr', 'KitchenQual',"
   ]
  },
  {
   "cell_type": "code",
   "execution_count": 365,
   "metadata": {},
   "outputs": [
    {
     "data": {
      "text/html": [
       "<div>\n",
       "<style scoped>\n",
       "    .dataframe tbody tr th:only-of-type {\n",
       "        vertical-align: middle;\n",
       "    }\n",
       "\n",
       "    .dataframe tbody tr th {\n",
       "        vertical-align: top;\n",
       "    }\n",
       "\n",
       "    .dataframe thead th {\n",
       "        text-align: right;\n",
       "    }\n",
       "</style>\n",
       "<table border=\"1\" class=\"dataframe\">\n",
       "  <thead>\n",
       "    <tr style=\"text-align: right;\">\n",
       "      <th></th>\n",
       "      <th>KitchenAbvGr</th>\n",
       "      <th>KitchenQual</th>\n",
       "      <th>OverallQual</th>\n",
       "      <th>OverallCond</th>\n",
       "      <th>Neighborhood</th>\n",
       "    </tr>\n",
       "  </thead>\n",
       "  <tbody>\n",
       "    <tr>\n",
       "      <th>95</th>\n",
       "      <td>1</td>\n",
       "      <td>NaN</td>\n",
       "      <td>5</td>\n",
       "      <td>3</td>\n",
       "      <td>ClearCr</td>\n",
       "    </tr>\n",
       "  </tbody>\n",
       "</table>\n",
       "</div>"
      ],
      "text/plain": [
       "    KitchenAbvGr KitchenQual  OverallQual  OverallCond Neighborhood\n",
       "95             1         NaN            5            3      ClearCr"
      ]
     },
     "execution_count": 365,
     "metadata": {},
     "output_type": "execute_result"
    }
   ],
   "source": [
    "test_df[test_df['KitchenQual'].isna()][[ \n",
    "'KitchenAbvGr', 'KitchenQual', 'OverallQual', 'OverallCond', 'Neighborhood']]"
   ]
  },
  {
   "cell_type": "code",
   "execution_count": 366,
   "metadata": {},
   "outputs": [
    {
     "name": "stdout",
     "output_type": "stream",
     "text": [
      "KitchenQual matching on OverallQual\n",
      "Train: \n",
      "KitchenQual\n",
      "TA             320\n",
      "Gd              60\n",
      "Fa               9\n",
      "Ex               8\n",
      "Name: count, dtype: int64\n",
      "\n",
      "Test: KitchenQual\n",
      "TA             342\n",
      "Gd              66\n",
      "Fa              12\n",
      "Ex               7\n",
      "Name: count, dtype: int64\n"
     ]
    }
   ],
   "source": [
    "print(f'KitchenQual matching on OverallQual')\n",
    "print(f'Train: \\n{train_df[(train_df['OverallQual']==5)][['KitchenQual']].value_counts()}')\n",
    "print(f'\\nTest: {test_df[(test_df['OverallQual']==5)][['KitchenQual']].value_counts()}')"
   ]
  },
  {
   "cell_type": "code",
   "execution_count": 367,
   "metadata": {},
   "outputs": [
    {
     "name": "stdout",
     "output_type": "stream",
     "text": [
      "KitchenQual matching on OverallCond\n",
      "Train: \n",
      "KitchenQual\n",
      "TA             21\n",
      "Fa              3\n",
      "Gd              1\n",
      "Name: count, dtype: int64\n",
      "\n",
      "Test: \n",
      "KitchenQual\n",
      "TA             19\n",
      "Fa              3\n",
      "Gd              2\n",
      "Name: count, dtype: int64\n"
     ]
    }
   ],
   "source": [
    "print(f'KitchenQual matching on OverallCond')\n",
    "print(f'Train: \\n{train_df[(train_df['OverallCond']==3)][['KitchenQual']].value_counts()}')\n",
    "print(f'\\nTest: \\n{test_df[(test_df['OverallCond']==3)][['KitchenQual']].value_counts()}')"
   ]
  },
  {
   "cell_type": "markdown",
   "metadata": {},
   "source": [
    "Pairing on `OverallQual`, 80.6% of train and 80% of test with the same value have the 'TA' value for the kitchen, and pairing on `OverallCond` has 84% and 79.2% for train and test respectively. (I am not going by neighborhood because there is very little data if I do that.) As 'TA' means 'typical', I am using that as a best guess."
   ]
  },
  {
   "cell_type": "code",
   "execution_count": 368,
   "metadata": {},
   "outputs": [],
   "source": [
    "test_df.loc[95, 'KitchenQual'] = 'TA'"
   ]
  },
  {
   "cell_type": "markdown",
   "metadata": {},
   "source": [
    "At this point, the only column with NAs is, again, the `MiscFeature` column, which I am still leaving as is, to be OneHot Encoded later."
   ]
  },
  {
   "cell_type": "markdown",
   "metadata": {},
   "source": [
    "Because there are over 1,400 data points in each set, and only a handful of rows where I've had to make assumptions, those assumptions shouldn't make a huge impact on the distribution of the data. However, I might still make two versions of the data to run; one with this cleaning, and one with the rows where assumptions were required dropped, in order to compare them."
   ]
  },
  {
   "cell_type": "markdown",
   "metadata": {},
   "source": [
    "### Remove outliers<p>\n",
    "Using thresholds from previous notebook to remove outliers from the training set.<p>\n",
    "Checking how many rows are included:"
   ]
  },
  {
   "cell_type": "code",
   "execution_count": 369,
   "metadata": {},
   "outputs": [
    {
     "data": {
      "text/html": [
       "<div>\n",
       "<style scoped>\n",
       "    .dataframe tbody tr th:only-of-type {\n",
       "        vertical-align: middle;\n",
       "    }\n",
       "\n",
       "    .dataframe tbody tr th {\n",
       "        vertical-align: top;\n",
       "    }\n",
       "\n",
       "    .dataframe thead th {\n",
       "        text-align: right;\n",
       "    }\n",
       "</style>\n",
       "<table border=\"1\" class=\"dataframe\">\n",
       "  <thead>\n",
       "    <tr style=\"text-align: right;\">\n",
       "      <th></th>\n",
       "      <th>Id</th>\n",
       "      <th>MSSubClass</th>\n",
       "      <th>MSZoning</th>\n",
       "      <th>LotFrontage</th>\n",
       "      <th>LotArea</th>\n",
       "      <th>Street</th>\n",
       "      <th>Alley</th>\n",
       "      <th>LotShape</th>\n",
       "      <th>LandContour</th>\n",
       "      <th>Utilities</th>\n",
       "      <th>...</th>\n",
       "      <th>PoolArea</th>\n",
       "      <th>PoolQC</th>\n",
       "      <th>Fence</th>\n",
       "      <th>MiscFeature</th>\n",
       "      <th>MiscVal</th>\n",
       "      <th>MoSold</th>\n",
       "      <th>YrSold</th>\n",
       "      <th>SaleType</th>\n",
       "      <th>SaleCondition</th>\n",
       "      <th>SalePrice</th>\n",
       "    </tr>\n",
       "  </thead>\n",
       "  <tbody>\n",
       "    <tr>\n",
       "      <th>197</th>\n",
       "      <td>198</td>\n",
       "      <td>75</td>\n",
       "      <td>RL</td>\n",
       "      <td>174.0</td>\n",
       "      <td>25419</td>\n",
       "      <td>Pave</td>\n",
       "      <td>None</td>\n",
       "      <td>Reg</td>\n",
       "      <td>Lvl</td>\n",
       "      <td>AllPub</td>\n",
       "      <td>...</td>\n",
       "      <td>512</td>\n",
       "      <td>Ex</td>\n",
       "      <td>GdPrv</td>\n",
       "      <td>NaN</td>\n",
       "      <td>0</td>\n",
       "      <td>3</td>\n",
       "      <td>2006</td>\n",
       "      <td>WD</td>\n",
       "      <td>Abnorml</td>\n",
       "      <td>235000</td>\n",
       "    </tr>\n",
       "    <tr>\n",
       "      <th>249</th>\n",
       "      <td>250</td>\n",
       "      <td>50</td>\n",
       "      <td>RL</td>\n",
       "      <td>0.0</td>\n",
       "      <td>159000</td>\n",
       "      <td>Pave</td>\n",
       "      <td>None</td>\n",
       "      <td>IR2</td>\n",
       "      <td>Low</td>\n",
       "      <td>AllPub</td>\n",
       "      <td>...</td>\n",
       "      <td>0</td>\n",
       "      <td>None</td>\n",
       "      <td>None</td>\n",
       "      <td>Shed</td>\n",
       "      <td>500</td>\n",
       "      <td>6</td>\n",
       "      <td>2007</td>\n",
       "      <td>WD</td>\n",
       "      <td>Normal</td>\n",
       "      <td>277000</td>\n",
       "    </tr>\n",
       "    <tr>\n",
       "      <th>313</th>\n",
       "      <td>314</td>\n",
       "      <td>20</td>\n",
       "      <td>RL</td>\n",
       "      <td>150.0</td>\n",
       "      <td>215245</td>\n",
       "      <td>Pave</td>\n",
       "      <td>None</td>\n",
       "      <td>IR3</td>\n",
       "      <td>Low</td>\n",
       "      <td>AllPub</td>\n",
       "      <td>...</td>\n",
       "      <td>0</td>\n",
       "      <td>None</td>\n",
       "      <td>None</td>\n",
       "      <td>NaN</td>\n",
       "      <td>0</td>\n",
       "      <td>6</td>\n",
       "      <td>2009</td>\n",
       "      <td>WD</td>\n",
       "      <td>Normal</td>\n",
       "      <td>375000</td>\n",
       "    </tr>\n",
       "    <tr>\n",
       "      <th>322</th>\n",
       "      <td>323</td>\n",
       "      <td>60</td>\n",
       "      <td>RL</td>\n",
       "      <td>86.0</td>\n",
       "      <td>10380</td>\n",
       "      <td>Pave</td>\n",
       "      <td>None</td>\n",
       "      <td>IR1</td>\n",
       "      <td>Lvl</td>\n",
       "      <td>AllPub</td>\n",
       "      <td>...</td>\n",
       "      <td>0</td>\n",
       "      <td>None</td>\n",
       "      <td>MnPrv</td>\n",
       "      <td>NaN</td>\n",
       "      <td>0</td>\n",
       "      <td>8</td>\n",
       "      <td>2007</td>\n",
       "      <td>WD</td>\n",
       "      <td>Normal</td>\n",
       "      <td>301000</td>\n",
       "    </tr>\n",
       "    <tr>\n",
       "      <th>335</th>\n",
       "      <td>336</td>\n",
       "      <td>190</td>\n",
       "      <td>RL</td>\n",
       "      <td>0.0</td>\n",
       "      <td>164660</td>\n",
       "      <td>Grvl</td>\n",
       "      <td>None</td>\n",
       "      <td>IR1</td>\n",
       "      <td>HLS</td>\n",
       "      <td>AllPub</td>\n",
       "      <td>...</td>\n",
       "      <td>0</td>\n",
       "      <td>None</td>\n",
       "      <td>None</td>\n",
       "      <td>Shed</td>\n",
       "      <td>700</td>\n",
       "      <td>8</td>\n",
       "      <td>2008</td>\n",
       "      <td>WD</td>\n",
       "      <td>Normal</td>\n",
       "      <td>228950</td>\n",
       "    </tr>\n",
       "    <tr>\n",
       "      <th>346</th>\n",
       "      <td>347</td>\n",
       "      <td>20</td>\n",
       "      <td>RL</td>\n",
       "      <td>0.0</td>\n",
       "      <td>12772</td>\n",
       "      <td>Pave</td>\n",
       "      <td>None</td>\n",
       "      <td>IR1</td>\n",
       "      <td>Lvl</td>\n",
       "      <td>AllPub</td>\n",
       "      <td>...</td>\n",
       "      <td>0</td>\n",
       "      <td>None</td>\n",
       "      <td>None</td>\n",
       "      <td>Gar2</td>\n",
       "      <td>15500</td>\n",
       "      <td>4</td>\n",
       "      <td>2007</td>\n",
       "      <td>WD</td>\n",
       "      <td>Normal</td>\n",
       "      <td>151500</td>\n",
       "    </tr>\n",
       "    <tr>\n",
       "      <th>691</th>\n",
       "      <td>692</td>\n",
       "      <td>60</td>\n",
       "      <td>RL</td>\n",
       "      <td>104.0</td>\n",
       "      <td>21535</td>\n",
       "      <td>Pave</td>\n",
       "      <td>None</td>\n",
       "      <td>IR1</td>\n",
       "      <td>Lvl</td>\n",
       "      <td>AllPub</td>\n",
       "      <td>...</td>\n",
       "      <td>0</td>\n",
       "      <td>None</td>\n",
       "      <td>None</td>\n",
       "      <td>NaN</td>\n",
       "      <td>0</td>\n",
       "      <td>1</td>\n",
       "      <td>2007</td>\n",
       "      <td>WD</td>\n",
       "      <td>Normal</td>\n",
       "      <td>755000</td>\n",
       "    </tr>\n",
       "    <tr>\n",
       "      <th>934</th>\n",
       "      <td>935</td>\n",
       "      <td>20</td>\n",
       "      <td>RL</td>\n",
       "      <td>313.0</td>\n",
       "      <td>27650</td>\n",
       "      <td>Pave</td>\n",
       "      <td>None</td>\n",
       "      <td>IR2</td>\n",
       "      <td>HLS</td>\n",
       "      <td>AllPub</td>\n",
       "      <td>...</td>\n",
       "      <td>0</td>\n",
       "      <td>None</td>\n",
       "      <td>None</td>\n",
       "      <td>NaN</td>\n",
       "      <td>0</td>\n",
       "      <td>11</td>\n",
       "      <td>2008</td>\n",
       "      <td>WD</td>\n",
       "      <td>Normal</td>\n",
       "      <td>242000</td>\n",
       "    </tr>\n",
       "    <tr>\n",
       "      <th>1182</th>\n",
       "      <td>1183</td>\n",
       "      <td>60</td>\n",
       "      <td>RL</td>\n",
       "      <td>160.0</td>\n",
       "      <td>15623</td>\n",
       "      <td>Pave</td>\n",
       "      <td>None</td>\n",
       "      <td>IR1</td>\n",
       "      <td>Lvl</td>\n",
       "      <td>AllPub</td>\n",
       "      <td>...</td>\n",
       "      <td>555</td>\n",
       "      <td>Ex</td>\n",
       "      <td>MnPrv</td>\n",
       "      <td>NaN</td>\n",
       "      <td>0</td>\n",
       "      <td>7</td>\n",
       "      <td>2007</td>\n",
       "      <td>WD</td>\n",
       "      <td>Abnorml</td>\n",
       "      <td>745000</td>\n",
       "    </tr>\n",
       "    <tr>\n",
       "      <th>1230</th>\n",
       "      <td>1231</td>\n",
       "      <td>90</td>\n",
       "      <td>RL</td>\n",
       "      <td>0.0</td>\n",
       "      <td>18890</td>\n",
       "      <td>Pave</td>\n",
       "      <td>None</td>\n",
       "      <td>IR1</td>\n",
       "      <td>Lvl</td>\n",
       "      <td>AllPub</td>\n",
       "      <td>...</td>\n",
       "      <td>0</td>\n",
       "      <td>None</td>\n",
       "      <td>None</td>\n",
       "      <td>Gar2</td>\n",
       "      <td>8300</td>\n",
       "      <td>8</td>\n",
       "      <td>2007</td>\n",
       "      <td>WD</td>\n",
       "      <td>Normal</td>\n",
       "      <td>190000</td>\n",
       "    </tr>\n",
       "    <tr>\n",
       "      <th>1298</th>\n",
       "      <td>1299</td>\n",
       "      <td>60</td>\n",
       "      <td>RL</td>\n",
       "      <td>313.0</td>\n",
       "      <td>63887</td>\n",
       "      <td>Pave</td>\n",
       "      <td>None</td>\n",
       "      <td>IR3</td>\n",
       "      <td>Bnk</td>\n",
       "      <td>AllPub</td>\n",
       "      <td>...</td>\n",
       "      <td>480</td>\n",
       "      <td>Gd</td>\n",
       "      <td>None</td>\n",
       "      <td>NaN</td>\n",
       "      <td>0</td>\n",
       "      <td>1</td>\n",
       "      <td>2008</td>\n",
       "      <td>New</td>\n",
       "      <td>Partial</td>\n",
       "      <td>160000</td>\n",
       "    </tr>\n",
       "  </tbody>\n",
       "</table>\n",
       "<p>11 rows × 81 columns</p>\n",
       "</div>"
      ],
      "text/plain": [
       "        Id  MSSubClass MSZoning  LotFrontage  LotArea Street Alley LotShape  \\\n",
       "197    198          75       RL        174.0    25419   Pave  None      Reg   \n",
       "249    250          50       RL          0.0   159000   Pave  None      IR2   \n",
       "313    314          20       RL        150.0   215245   Pave  None      IR3   \n",
       "322    323          60       RL         86.0    10380   Pave  None      IR1   \n",
       "335    336         190       RL          0.0   164660   Grvl  None      IR1   \n",
       "346    347          20       RL          0.0    12772   Pave  None      IR1   \n",
       "691    692          60       RL        104.0    21535   Pave  None      IR1   \n",
       "934    935          20       RL        313.0    27650   Pave  None      IR2   \n",
       "1182  1183          60       RL        160.0    15623   Pave  None      IR1   \n",
       "1230  1231          90       RL          0.0    18890   Pave  None      IR1   \n",
       "1298  1299          60       RL        313.0    63887   Pave  None      IR3   \n",
       "\n",
       "     LandContour Utilities  ... PoolArea PoolQC  Fence MiscFeature MiscVal  \\\n",
       "197          Lvl    AllPub  ...      512     Ex  GdPrv         NaN       0   \n",
       "249          Low    AllPub  ...        0   None   None        Shed     500   \n",
       "313          Low    AllPub  ...        0   None   None         NaN       0   \n",
       "322          Lvl    AllPub  ...        0   None  MnPrv         NaN       0   \n",
       "335          HLS    AllPub  ...        0   None   None        Shed     700   \n",
       "346          Lvl    AllPub  ...        0   None   None        Gar2   15500   \n",
       "691          Lvl    AllPub  ...        0   None   None         NaN       0   \n",
       "934          HLS    AllPub  ...        0   None   None         NaN       0   \n",
       "1182         Lvl    AllPub  ...      555     Ex  MnPrv         NaN       0   \n",
       "1230         Lvl    AllPub  ...        0   None   None        Gar2    8300   \n",
       "1298         Bnk    AllPub  ...      480     Gd   None         NaN       0   \n",
       "\n",
       "     MoSold YrSold  SaleType  SaleCondition  SalePrice  \n",
       "197       3   2006        WD        Abnorml     235000  \n",
       "249       6   2007        WD         Normal     277000  \n",
       "313       6   2009        WD         Normal     375000  \n",
       "322       8   2007        WD         Normal     301000  \n",
       "335       8   2008        WD         Normal     228950  \n",
       "346       4   2007        WD         Normal     151500  \n",
       "691       1   2007        WD         Normal     755000  \n",
       "934      11   2008        WD         Normal     242000  \n",
       "1182      7   2007        WD        Abnorml     745000  \n",
       "1230      8   2007        WD         Normal     190000  \n",
       "1298      1   2008       New        Partial     160000  \n",
       "\n",
       "[11 rows x 81 columns]"
      ]
     },
     "execution_count": 369,
     "metadata": {},
     "output_type": "execute_result"
    }
   ],
   "source": [
    "train_df[\n",
    "    (train_df['LotFrontage']>250)|\n",
    "    (train_df['LotArea']>140000)|\n",
    "    (train_df['BsmtFinSF1']>4000)|\n",
    "    (train_df['BsmtFinSF2']>1300)|\n",
    "    (train_df['TotalBsmtSF']>5000)|\n",
    "    (train_df['1stFlrSF']>4000)|\n",
    "    (train_df['GrLivArea']>5000)|\n",
    "    (train_df['EnclosedPorch']>500)|\n",
    "    (train_df['MiscVal']>6000)|\n",
    "    (train_df['SalePrice']>700000)]"
   ]
  },
  {
   "cell_type": "markdown",
   "metadata": {},
   "source": [
    "Less than 1% of the total rows are above the given thresholds, which is a safe amount to drop."
   ]
  },
  {
   "cell_type": "code",
   "execution_count": 370,
   "metadata": {},
   "outputs": [],
   "source": [
    "train_cleaned = train_df.drop(train_df[\n",
    "    (train_df['LotFrontage']>250)|\n",
    "    (train_df['LotArea']>140000)|\n",
    "    (train_df['BsmtFinSF1']>4000)|\n",
    "    (train_df['BsmtFinSF2']>1300)|\n",
    "    (train_df['TotalBsmtSF']>5000)|\n",
    "    (train_df['1stFlrSF']>4000)|\n",
    "    (train_df['GrLivArea']>5000)|\n",
    "    (train_df['EnclosedPorch']>500)|\n",
    "    (train_df['MiscVal']>6000)|\n",
    "    (train_df['SalePrice']>700000)].index)"
   ]
  },
  {
   "cell_type": "code",
   "execution_count": 371,
   "metadata": {},
   "outputs": [],
   "source": [
    "import seaborn as sns\n",
    "import matplotlib.pyplot as plt"
   ]
  },
  {
   "cell_type": "code",
   "execution_count": 372,
   "metadata": {},
   "outputs": [
    {
     "data": {
      "image/png": "[encoded data removed]",
      "text/plain": [
       "<Figure size 1000x4000 with 18 Axes>"
      ]
     },
     "metadata": {},
     "output_type": "display_data"
    }
   ],
   "source": [
    "plt.figure(figsize=(10,40))\n",
    "plt.subplot(9,2,1)\n",
    "sns.boxplot(train_df['LotFrontage'])\n",
    "plt.axhline(y=250,color='red')\n",
    "plt.title('Pre-cleaning',fontsize=17)\n",
    "plt.ylabel('LotFrontage',fontsize=15)\n",
    "\n",
    "plt.subplot(9,2,2)\n",
    "sns.boxplot(train_cleaned['LotFrontage'])\n",
    "plt.title('Cleaned',fontsize=17)\n",
    "plt.ylabel('')\n",
    "\n",
    "plt.subplot(9,2,3)\n",
    "sns.boxplot(train_df['BsmtFinSF1'])\n",
    "plt.axhline(y=4000,color='red',label='outlier cutoff')\n",
    "plt.ylabel('BsmtFinSF1',fontsize=15)\n",
    "plt.legend()\n",
    "\n",
    "plt.subplot(9,2,4)\n",
    "sns.boxplot(train_cleaned['BsmtFinSF1'])\n",
    "plt.ylabel('')\n",
    "\n",
    "plt.subplot(9,2,5)\n",
    "sns.boxplot(train_df['BsmtFinSF2'])\n",
    "plt.axhline(y=1300,color='red')\n",
    "plt.ylabel('BsmtFinSF2',fontsize=15)\n",
    "\n",
    "plt.subplot(9,2,6)\n",
    "sns.boxplot(train_cleaned['BsmtFinSF2'])\n",
    "plt.ylabel('')\n",
    "\n",
    "plt.subplot(9,2,7)\n",
    "sns.boxplot(train_df['TotalBsmtSF'])\n",
    "plt.axhline(y=5000,color='red',label='outlier cutoff')\n",
    "plt.ylabel('TotalBsmtSF',fontsize=15)\n",
    "plt.legend()\n",
    "\n",
    "plt.subplot(9,2,8)\n",
    "sns.boxplot(train_cleaned['TotalBsmtSF'])\n",
    "plt.ylabel('')\n",
    "\n",
    "plt.subplot(9,2,9)\n",
    "sns.boxplot(train_df['1stFlrSF'])\n",
    "plt.axhline(y=4000,color='red')\n",
    "plt.ylabel('1stFlrSF',fontsize=15)\n",
    "\n",
    "plt.subplot(9,2,10)\n",
    "sns.boxplot(train_cleaned['1stFlrSF'])\n",
    "plt.ylabel('')\n",
    "\n",
    "plt.subplot(9,2,11)\n",
    "sns.boxplot(train_df['GrLivArea'])\n",
    "plt.axhline(y=5000,color='red',label='outlier cutoff')\n",
    "plt.title('Pre-cleaning',fontsize=17)\n",
    "plt.ylabel('GrLivArea',fontsize=15)\n",
    "plt.legend()\n",
    "\n",
    "plt.subplot(9,2,12)\n",
    "sns.boxplot(train_cleaned['GrLivArea'])\n",
    "plt.title('Cleaned',fontsize=17)\n",
    "plt.ylabel('')\n",
    "\n",
    "plt.subplot(9,2,13)\n",
    "sns.boxplot(train_df['EnclosedPorch'])\n",
    "plt.axhline(y=500,color='red')\n",
    "plt.ylabel('EnclosedPorch',fontsize=15)\n",
    "\n",
    "plt.subplot(9,2,14)\n",
    "sns.boxplot(train_cleaned['EnclosedPorch'])\n",
    "plt.ylabel('')\n",
    "\n",
    "plt.subplot(9,2,15)\n",
    "sns.boxplot(train_df['MiscVal'])\n",
    "plt.axhline(y=6000,color='red',label='outlier cutoff')\n",
    "plt.ylabel('MiscVal',fontsize=15)\n",
    "plt.legend()\n",
    "\n",
    "plt.subplot(9,2,16)\n",
    "sns.boxplot(train_cleaned['MiscVal'])\n",
    "plt.ylabel('')\n",
    "\n",
    "plt.subplot(9,2,17)\n",
    "sns.boxplot(train_df['SalePrice'])\n",
    "plt.axhline(y=700000,color='red')\n",
    "plt.ylabel('SalePrice',fontsize=15)\n",
    "\n",
    "plt.subplot(9,2,18)\n",
    "sns.boxplot(train_cleaned['SalePrice'])\n",
    "plt.ylabel('')\n",
    "\n",
    "plt.tight_layout()"
   ]
  },
  {
   "cell_type": "markdown",
   "metadata": {},
   "source": [
    "Creating pickles of the cleaned data:"
   ]
  },
  {
   "cell_type": "code",
   "execution_count": 373,
   "metadata": {},
   "outputs": [],
   "source": [
    "train_cleaned.to_pickle('../pickles/cleaned/train_cleaned')\n",
    "test_df.to_pickle('../pickles/cleaned/test_cleaned')"
   ]
  }
 ],
 "metadata": {
  "kernelspec": {
   "display_name": "base",
   "language": "python",
   "name": "python3"
  },
  "language_info": {
   "codemirror_mode": {
    "name": "ipython",
    "version": 3
   },
   "file_extension": ".py",
   "mimetype": "text/x-python",
   "name": "python",
   "nbconvert_exporter": "python",
   "pygments_lexer": "ipython3",
   "version": "3.12.3"
  }
 },
 "nbformat": 4,
 "nbformat_minor": 2
}
