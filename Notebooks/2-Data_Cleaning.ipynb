{
 "cells": [
  {
   "cell_type": "markdown",
   "metadata": {},
   "source": [
    "# 2 - Data Cleaning"
   ]
  },
  {
   "cell_type": "code",
   "execution_count": 1,
   "metadata": {},
   "outputs": [],
   "source": [
    "import pandas as pd\n",
    "train_df = pd.read_csv('../data/housing_train.csv')\n",
    "test_df = pd.read_csv('../data/housing_test.csv')"
   ]
  },
  {
   "cell_type": "markdown",
   "metadata": {},
   "source": [
    "There is an apparent relation between `MSSubClass` and `HouseStyle`. This is how they should match up:\n",
    "\n",
    "1Story\tOne story\n",
    "- 20\t1-STORY 1946 & NEWER ALL STYLES\n",
    "- 30\t1-STORY 1945 & OLDER\n",
    "- 40\t1-STORY W/FINISHED ATTIC ALL AGES\n",
    "- 120\t1-STORY PUD (Planned Unit Development) - 1946 & NEWER\n",
    "\n",
    "1.5Fin\tOne and one-half story: 2nd level finished\n",
    "- 50\t1-1/2 STORY FINISHED ALL AGES\n",
    "- 150\t1-1/2 STORY PUD - ALL AGES\n",
    "\n",
    "1.5Unf\tOne and one-half story: 2nd level unfinished\n",
    "- 45\t1-1/2 STORY - UNFINISHED ALL AGES\n",
    "\n",
    "2Story\tTwo story\n",
    "- 60\t2-STORY 1946 & NEWER\n",
    "- 70\t2-STORY 1945 & OLDER\n",
    "- 160\t2-STORY PUD - 1946 & NEWER\n",
    "\n",
    "\n",
    "2.5Fin\tTwo and one-half story: 2nd level finished<br>\n",
    "2.5Unf\tTwo and one-half story: 2nd level unfinished\n",
    "- 75\t2-1/2 STORY ALL AGES\n",
    "\n",
    "SFoyer\tSplit Foyer\n",
    "- 85\tSPLIT FOYER\n",
    "\n",
    "SLvl\tSplit Level\n",
    "- 80\tSPLIT OR MULTI-LEVEL\n",
    "\n",
    "Misc (No obvious floor number)\n",
    "- 90\tDUPLEX - ALL STYLES AND AGES\n",
    "- 180\tPUD - MULTILEVEL - INCL SPLIT LEV/FOYER\n",
    "- 190\t2 FAMILY CONVERSION - ALL STYLES AND AGES"
   ]
  },
  {
   "cell_type": "markdown",
   "metadata": {},
   "source": [
    "### Check for mismatches:<p>\n",
    "Should be one story:"
   ]
  },
  {
   "cell_type": "code",
   "execution_count": 2,
   "metadata": {},
   "outputs": [
    {
     "name": "stdout",
     "output_type": "stream",
     "text": [
      "Train: \n",
      "Code 20\n",
      " HouseStyle\n",
      "1Story    534\n",
      "2Story      1\n",
      "SLvl        1\n",
      "Name: count, dtype: int64 \n",
      "\n",
      "Code 30\n",
      " HouseStyle\n",
      "1Story    67\n",
      "1.5Fin     1\n",
      "1.5Unf     1\n",
      "Name: count, dtype: int64 \n",
      "\n",
      "Code 40\n",
      " HouseStyle\n",
      "1Story    4\n",
      "Name: count, dtype: int64 \n",
      "\n",
      "Code 120\n",
      " HouseStyle\n",
      "1Story    86\n",
      "SFoyer     1\n",
      "Name: count, dtype: int64\n"
     ]
    }
   ],
   "source": [
    "print('Train: \\nCode 20\\n',train_df[train_df['MSSubClass']==20]['HouseStyle'].value_counts(),'\\n')\n",
    "print('Code 30\\n',train_df[train_df['MSSubClass']==30]['HouseStyle'].value_counts(),'\\n')\n",
    "print('Code 40\\n',train_df[train_df['MSSubClass']==40]['HouseStyle'].value_counts(),'\\n')\n",
    "print('Code 120\\n',train_df[train_df['MSSubClass']==120]['HouseStyle'].value_counts())"
   ]
  },
  {
   "cell_type": "markdown",
   "metadata": {},
   "source": [
    "Codes 20, 30, 120 have mismatches."
   ]
  },
  {
   "cell_type": "code",
   "execution_count": 6,
   "metadata": {},
   "outputs": [
    {
     "name": "stdout",
     "output_type": "stream",
     "text": [
      "Test: \n",
      "Code 20\n",
      " HouseStyle\n",
      "1Story    543\n",
      "Name: count, dtype: int64 \n",
      "\n",
      "Code 30\n",
      " HouseStyle\n",
      "1Story    69\n",
      "1.5Fin     1\n",
      "Name: count, dtype: int64 \n",
      "\n",
      "Code 40\n",
      " HouseStyle\n",
      "1Story    1\n",
      "1.5Fin    1\n",
      "Name: count, dtype: int64 \n",
      "\n",
      "Code 120\n",
      " HouseStyle\n",
      "1Story    94\n",
      "SFoyer     1\n",
      "Name: count, dtype: int64\n"
     ]
    }
   ],
   "source": [
    "print('Test: \\nCode 20\\n',test_df[test_df['MSSubClass']==20]['HouseStyle'].value_counts(),'\\n')\n",
    "print('Code 30\\n',test_df[test_df['MSSubClass']==30]['HouseStyle'].value_counts(),'\\n')\n",
    "print('Code 40\\n',test_df[test_df['MSSubClass']==40]['HouseStyle'].value_counts(),'\\n')\n",
    "print('Code 120\\n',test_df[test_df['MSSubClass']==120]['HouseStyle'].value_counts())"
   ]
  },
  {
   "cell_type": "markdown",
   "metadata": {},
   "source": [
    "Codes 30, 40, 120 have mismatches."
   ]
  },
  {
   "cell_type": "markdown",
   "metadata": {},
   "source": [
    "Should be 1.5 stories:"
   ]
  },
  {
   "cell_type": "code",
   "execution_count": 5,
   "metadata": {},
   "outputs": [
    {
     "name": "stdout",
     "output_type": "stream",
     "text": [
      "Train: \n",
      "Code 45\n",
      " HouseStyle\n",
      "1.5Unf    12\n",
      "Name: count, dtype: int64 \n",
      "\n",
      "Code 50\n",
      " HouseStyle\n",
      "1.5Fin    141\n",
      "2Story      3\n",
      "Name: count, dtype: int64 \n",
      "\n",
      "Code 150\n",
      " Series([], Name: count, dtype: int64)\n"
     ]
    }
   ],
   "source": [
    "print('Train: \\nCode 45\\n',train_df[train_df['MSSubClass']==45]['HouseStyle'].value_counts(),'\\n')\n",
    "print('Code 50\\n',train_df[train_df['MSSubClass']==50]['HouseStyle'].value_counts(),'\\n')\n",
    "print('Code 150\\n',train_df[train_df['MSSubClass']==150]['HouseStyle'].value_counts())"
   ]
  },
  {
   "cell_type": "markdown",
   "metadata": {},
   "source": [
    "Code 50 has mismatches, and code 150 is never used."
   ]
  },
  {
   "cell_type": "code",
   "execution_count": 4,
   "metadata": {},
   "outputs": [
    {
     "name": "stdout",
     "output_type": "stream",
     "text": [
      "Test: \n",
      "Code 45\n",
      " HouseStyle\n",
      "1.5Unf    4\n",
      "1.5Fin    2\n",
      "Name: count, dtype: int64 \n",
      "\n",
      "Code 50\n",
      " HouseStyle\n",
      "1.5Fin    141\n",
      "1.5Unf      1\n",
      "2Story      1\n",
      "Name: count, dtype: int64 \n",
      "\n",
      "Code 150\n",
      " HouseStyle\n",
      "1.5Fin    1\n",
      "Name: count, dtype: int64\n"
     ]
    }
   ],
   "source": [
    "print('Test: \\nCode 45\\n',test_df[test_df['MSSubClass']==45]['HouseStyle'].value_counts(),'\\n')\n",
    "print('Code 50\\n',test_df[test_df['MSSubClass']==50]['HouseStyle'].value_counts(),'\\n')\n",
    "print('Code 150\\n',test_df[test_df['MSSubClass']==150]['HouseStyle'].value_counts())"
   ]
  },
  {
   "cell_type": "markdown",
   "metadata": {},
   "source": [
    "Code 50 has a mismatch again, as does 45."
   ]
  },
  {
   "cell_type": "markdown",
   "metadata": {},
   "source": [
    "Should be 2 stories:"
   ]
  },
  {
   "cell_type": "code",
   "execution_count": 3,
   "metadata": {},
   "outputs": [
    {
     "name": "stdout",
     "output_type": "stream",
     "text": [
      "Train: \n",
      "Code 60\n",
      " HouseStyle\n",
      "2Story    298\n",
      "SLvl        1\n",
      "Name: count, dtype: int64 \n",
      "\n",
      "Code 70\n",
      " HouseStyle\n",
      "2Story    59\n",
      "2.5Fin     1\n",
      "Name: count, dtype: int64 \n",
      "\n",
      "Code 160\n",
      " HouseStyle\n",
      "2Story    63\n",
      "Name: count, dtype: int64\n"
     ]
    }
   ],
   "source": [
    "print('Train: \\nCode 60\\n',train_df[train_df['MSSubClass']==60]['HouseStyle'].value_counts(),'\\n')\n",
    "print('Code 70\\n',train_df[train_df['MSSubClass']==70]['HouseStyle'].value_counts(),'\\n')\n",
    "print('Code 160\\n',train_df[train_df['MSSubClass']==160]['HouseStyle'].value_counts())"
   ]
  },
  {
   "cell_type": "markdown",
   "metadata": {},
   "source": [
    "Code 70 has a mismatch. Code 60 could, but as a split level is just a special style of multistory house, I'm going to leave it. There's no way to know if it's a two level split or more."
   ]
  },
  {
   "cell_type": "code",
   "execution_count": 9,
   "metadata": {},
   "outputs": [
    {
     "name": "stdout",
     "output_type": "stream",
     "text": [
      "Test: \n",
      "Code 60\n",
      " HouseStyle\n",
      "2Story    274\n",
      "1.5Fin      1\n",
      "2.5Unf      1\n",
      "Name: count, dtype: int64 \n",
      "\n",
      "Code 70\n",
      " HouseStyle\n",
      "2Story    64\n",
      "2.5Unf     3\n",
      "1.5Fin     1\n",
      "Name: count, dtype: int64 \n",
      "\n",
      "Code 160\n",
      " HouseStyle\n",
      "2Story    64\n",
      "SLvl       1\n",
      "Name: count, dtype: int64\n"
     ]
    }
   ],
   "source": [
    "print('Test: \\nCode 60\\n',test_df[test_df['MSSubClass']==60]['HouseStyle'].value_counts(),'\\n')\n",
    "print('Code 70\\n',test_df[test_df['MSSubClass']==70]['HouseStyle'].value_counts(),'\\n')\n",
    "print('Code 160\\n',test_df[test_df['MSSubClass']==160]['HouseStyle'].value_counts())"
   ]
  },
  {
   "cell_type": "markdown",
   "metadata": {},
   "source": [
    "Codes 60 and 70 have mismatches, and the split level on 160 I am going to leave. "
   ]
  },
  {
   "cell_type": "markdown",
   "metadata": {},
   "source": [
    "Should be 2.5 stories:"
   ]
  },
  {
   "cell_type": "code",
   "execution_count": 8,
   "metadata": {},
   "outputs": [
    {
     "name": "stdout",
     "output_type": "stream",
     "text": [
      "Train: \n",
      "Code 75\n",
      " HouseStyle\n",
      "2.5Unf    9\n",
      "2.5Fin    6\n",
      "2Story    1\n",
      "Name: count, dtype: int64 \n",
      "\n",
      "Test: \n",
      "Code 75\n",
      " HouseStyle\n",
      "2.5Unf    6\n",
      "2Story    1\n",
      "Name: count, dtype: int64\n"
     ]
    }
   ],
   "source": [
    "print('Train: \\nCode 75\\n',train_df[train_df['MSSubClass']==75]['HouseStyle'].value_counts(),'\\n')\n",
    "print('Test: \\nCode 75\\n',test_df[test_df['MSSubClass']==75]['HouseStyle'].value_counts())"
   ]
  },
  {
   "cell_type": "markdown",
   "metadata": {},
   "source": [
    "Both train and test have mismatches on code 75."
   ]
  },
  {
   "cell_type": "markdown",
   "metadata": {},
   "source": [
    "Should be split foyer:"
   ]
  },
  {
   "cell_type": "code",
   "execution_count": 7,
   "metadata": {},
   "outputs": [
    {
     "name": "stdout",
     "output_type": "stream",
     "text": [
      "Code 85\n",
      " HouseStyle\n",
      "SFoyer    20\n",
      "Name: count, dtype: int64 \n",
      "\n",
      "Code 85\n",
      " HouseStyle\n",
      "SFoyer    28\n",
      "Name: count, dtype: int64\n"
     ]
    }
   ],
   "source": [
    "print('Code 85\\n',train_df[train_df['MSSubClass']==85]['HouseStyle'].value_counts(),'\\n')\n",
    "print('Code 85\\n',test_df[test_df['MSSubClass']==85]['HouseStyle'].value_counts())"
   ]
  },
  {
   "cell_type": "markdown",
   "metadata": {},
   "source": [
    "No mismatches."
   ]
  },
  {
   "cell_type": "markdown",
   "metadata": {},
   "source": [
    "Should be split level:"
   ]
  },
  {
   "cell_type": "code",
   "execution_count": 11,
   "metadata": {},
   "outputs": [
    {
     "name": "stdout",
     "output_type": "stream",
     "text": [
      "Code 80\n",
      " HouseStyle\n",
      "SLvl    58\n",
      "Name: count, dtype: int64 \n",
      "\n",
      "Code 80\n",
      " HouseStyle\n",
      "SLvl    60\n",
      "Name: count, dtype: int64\n"
     ]
    }
   ],
   "source": [
    "print('Code 80\\n',train_df[train_df['MSSubClass']==80]['HouseStyle'].value_counts(),'\\n')\n",
    "print('Code 80\\n',test_df[test_df['MSSubClass']==80]['HouseStyle'].value_counts())"
   ]
  },
  {
   "cell_type": "markdown",
   "metadata": {},
   "source": [
    "No mismatches."
   ]
  },
  {
   "cell_type": "markdown",
   "metadata": {},
   "source": [
    "### Fixing mismatches <p>\n",
    "In the train set"
   ]
  },
  {
   "cell_type": "code",
   "execution_count": 10,
   "metadata": {},
   "outputs": [],
   "source": [
    "# setting 1 story\n",
    "# Code 20\n",
    "train_df.loc[((train_df[ # select\n",
    "    (train_df['MSSubClass']==20)& # code 20 AND either\n",
    "    ((train_df['HouseStyle']=='2Story')| # 2 Story OR\n",
    "     (train_df['HouseStyle']=='SLvl'))   # Split Level\n",
    "    ].index).tolist()), 'HouseStyle'] = '1Story'\n",
    "\n",
    "# Code 30\n",
    "train_df.loc[((train_df[ # select\n",
    "    (train_df['MSSubClass']==30)& # code 30 AND either\n",
    "    ((train_df['HouseStyle']=='1.5Fin')| # 1.5 Finished OR\n",
    "     (train_df['HouseStyle']=='1.5Unf')) # 1.5 Unfinished\n",
    "].index).tolist()), 'HouseStyle'] = '1Story'\n",
    "\n",
    "# Code 120\n",
    "train_df.loc[((train_df[ # select\n",
    "    (train_df['MSSubClass']==120)& # code 120 AND\n",
    "    (train_df['HouseStyle']=='SFoyer') # split foyer\n",
    "].index).tolist()), 'HouseStyle'] = '1Story'"
   ]
  },
  {
   "cell_type": "code",
   "execution_count": 12,
   "metadata": {},
   "outputs": [
    {
     "name": "stdout",
     "output_type": "stream",
     "text": [
      "Check: \n",
      "Code 20\n",
      " HouseStyle\n",
      "1Story    536\n",
      "Name: count, dtype: int64 \n",
      "\n",
      "Code 30\n",
      " HouseStyle\n",
      "1Story    69\n",
      "Name: count, dtype: int64 \n",
      "\n",
      "Code 120\n",
      " HouseStyle\n",
      "1Story    87\n",
      "Name: count, dtype: int64\n"
     ]
    }
   ],
   "source": [
    "print('Check: \\nCode 20\\n',train_df[train_df['MSSubClass']==20]['HouseStyle'].value_counts(),'\\n')\n",
    "print('Code 30\\n',train_df[train_df['MSSubClass']==30]['HouseStyle'].value_counts(),'\\n')\n",
    "print('Code 120\\n',train_df[train_df['MSSubClass']==120]['HouseStyle'].value_counts())"
   ]
  },
  {
   "cell_type": "code",
   "execution_count": 13,
   "metadata": {},
   "outputs": [],
   "source": [
    "# setting 1.5Fin story, Code 50\n",
    "train_df.loc[((train_df[ # select\n",
    "    (train_df['MSSubClass']==50)& # code 50 AND\n",
    "    (train_df['HouseStyle']=='2Story') # 2 story\n",
    "].index).tolist()), 'HouseStyle'] = '1.5Fin'"
   ]
  },
  {
   "cell_type": "code",
   "execution_count": 14,
   "metadata": {},
   "outputs": [
    {
     "name": "stdout",
     "output_type": "stream",
     "text": [
      "Check: \n",
      "Code 50\n",
      " HouseStyle\n",
      "1.5Fin    144\n",
      "Name: count, dtype: int64\n"
     ]
    }
   ],
   "source": [
    "print('Check: \\nCode 50\\n',train_df[train_df['MSSubClass']==50]['HouseStyle'].value_counts())"
   ]
  },
  {
   "cell_type": "code",
   "execution_count": 15,
   "metadata": {},
   "outputs": [],
   "source": [
    "# setting 2 stories\n",
    "# Code 70\n",
    "train_df.loc[((train_df[ # select\n",
    "    (train_df['MSSubClass']==70)& # code 70 AND\n",
    "    (train_df['HouseStyle']=='2.5Fin') # 2.5 finished\n",
    "].index).tolist()), 'HouseStyle'] = '2Story'"
   ]
  },
  {
   "cell_type": "code",
   "execution_count": 16,
   "metadata": {},
   "outputs": [
    {
     "name": "stdout",
     "output_type": "stream",
     "text": [
      "Check: \n",
      "Code 70\n",
      " HouseStyle\n",
      "2Story    60\n",
      "Name: count, dtype: int64\n"
     ]
    }
   ],
   "source": [
    "print('Check: \\nCode 70\\n',train_df[train_df['MSSubClass']==70]['HouseStyle'].value_counts())"
   ]
  },
  {
   "cell_type": "markdown",
   "metadata": {},
   "source": [
    "For the 2.5 story code, 75, there is no way to tell if they are meant to be finished or unfinished. As they only have one code, and there are not very many of them, even when the test data is included, I am going to code them all as simply `2.5Story`."
   ]
  },
  {
   "cell_type": "code",
   "execution_count": 17,
   "metadata": {},
   "outputs": [],
   "source": [
    "# setting 2.5 stories, code 75\n",
    "train_df.loc[((train_df[train_df['MSSubClass']==75].index).tolist()), 'HouseStyle'] = '2.5Story'"
   ]
  },
  {
   "cell_type": "code",
   "execution_count": 18,
   "metadata": {},
   "outputs": [
    {
     "name": "stdout",
     "output_type": "stream",
     "text": [
      "Check: \n",
      "Code 75\n",
      " HouseStyle\n",
      "2.5Story    16\n",
      "Name: count, dtype: int64\n"
     ]
    }
   ],
   "source": [
    "print('Check: \\nCode 75\\n',train_df[train_df['MSSubClass']==75]['HouseStyle'].value_counts())"
   ]
  },
  {
   "cell_type": "markdown",
   "metadata": {},
   "source": [
    "In the test set"
   ]
  },
  {
   "cell_type": "code",
   "execution_count": 19,
   "metadata": {},
   "outputs": [],
   "source": [
    "# setting 1 story\n",
    "# Code 30\n",
    "test_df.loc[((test_df[ # select\n",
    "    (test_df['MSSubClass']==30)& # code 30 AND\n",
    "    (test_df['HouseStyle']=='1.5Fin') # 1.5 finished\n",
    "].index).tolist()), 'HouseStyle'] = '1Story'\n",
    "\n",
    "# Code 40\n",
    "test_df.loc[((test_df[ # select\n",
    "    (test_df['MSSubClass']==40)& # code 40 AND\n",
    "    (test_df['HouseStyle']=='1.5Fin') # 1.5 finished\n",
    "].index).tolist()), 'HouseStyle'] = '1Story'\n",
    "\n",
    "# Code 120\n",
    "test_df.loc[((test_df[ # select\n",
    "    (test_df['MSSubClass']==120)& # code 120 AND\n",
    "    (test_df['HouseStyle']=='SFoyer') # split foyer\n",
    "].index).tolist()), 'HouseStyle'] = '1Story'"
   ]
  },
  {
   "cell_type": "code",
   "execution_count": 20,
   "metadata": {},
   "outputs": [
    {
     "name": "stdout",
     "output_type": "stream",
     "text": [
      "Check: \n",
      "Code 30\n",
      " HouseStyle\n",
      "1Story    70\n",
      "Name: count, dtype: int64 \n",
      "\n",
      "Code 40\n",
      " HouseStyle\n",
      "1Story    2\n",
      "Name: count, dtype: int64 \n",
      "\n",
      "Code 120\n",
      " HouseStyle\n",
      "1Story    95\n",
      "Name: count, dtype: int64\n"
     ]
    }
   ],
   "source": [
    "print('Check: \\nCode 30\\n',test_df[test_df['MSSubClass']==30]['HouseStyle'].value_counts(),'\\n')\n",
    "print('Code 40\\n',test_df[test_df['MSSubClass']==40]['HouseStyle'].value_counts(),'\\n')\n",
    "print('Code 120\\n',test_df[test_df['MSSubClass']==120]['HouseStyle'].value_counts())"
   ]
  },
  {
   "cell_type": "code",
   "execution_count": 22,
   "metadata": {},
   "outputs": [],
   "source": [
    "# setting 1.5Unf, Code 45\n",
    "test_df.loc[((test_df[ # select\n",
    "    (test_df['MSSubClass']==45)& # code 45 AND\n",
    "    (test_df['HouseStyle']=='1.5Fin') # 1.5 finished\n",
    "].index).tolist()), 'HouseStyle'] = '1.5Unf'\n",
    "\n",
    "# setting 1.5Fin story, Code 50\n",
    "test_df.loc[((test_df[ # select\n",
    "    (test_df['MSSubClass']==50)& # code 50 AND either\n",
    "    ((test_df['HouseStyle']=='1.5Unf')| # 1.5 Unfinished OR\n",
    "    (test_df['HouseStyle']=='2Story')) # 2 story\n",
    "].index).tolist()), 'HouseStyle'] = '1.5Fin'"
   ]
  },
  {
   "cell_type": "code",
   "execution_count": 23,
   "metadata": {},
   "outputs": [
    {
     "name": "stdout",
     "output_type": "stream",
     "text": [
      "Test \n",
      "Code 45\n",
      " HouseStyle\n",
      "1.5Unf    6\n",
      "Name: count, dtype: int64 \n",
      "\n",
      "Code 50\n",
      " HouseStyle\n",
      "1.5Fin    143\n",
      "Name: count, dtype: int64\n"
     ]
    }
   ],
   "source": [
    "print('Test \\nCode 45\\n',test_df[test_df['MSSubClass']==45]['HouseStyle'].value_counts(),'\\n')\n",
    "print('Code 50\\n',test_df[test_df['MSSubClass']==50]['HouseStyle'].value_counts())"
   ]
  },
  {
   "cell_type": "code",
   "execution_count": 21,
   "metadata": {},
   "outputs": [],
   "source": [
    "# setting 2 stories\n",
    "# Code 60\n",
    "test_df.loc[((test_df[ # select\n",
    "    (test_df['MSSubClass']==60)& # code 60 AND either\n",
    "    ((test_df['HouseStyle']=='1.5Fin')| # 1.5 finished OR\n",
    "    (test_df['HouseStyle']=='2.5Unf')) # 2.5 unfinished\n",
    "].index).tolist()), 'HouseStyle'] = '2Story'\n",
    "\n",
    "# Code 70\n",
    "test_df.loc[((test_df[ # select\n",
    "    (test_df['MSSubClass']==70)& # code 70 AND either\n",
    "    ((test_df['HouseStyle']=='1.5Fin')| # 1.5 finished OR\n",
    "    (test_df['HouseStyle']=='2.5Unf')) # 2.5 unfinished\n",
    "].index).tolist()), 'HouseStyle'] = '2Story'"
   ]
  },
  {
   "cell_type": "code",
   "execution_count": 24,
   "metadata": {},
   "outputs": [
    {
     "name": "stdout",
     "output_type": "stream",
     "text": [
      "Test: \n",
      "Code 60\n",
      " HouseStyle\n",
      "2Story    276\n",
      "Name: count, dtype: int64 \n",
      "\n",
      "Code 70\n",
      " HouseStyle\n",
      "2Story    68\n",
      "Name: count, dtype: int64\n"
     ]
    }
   ],
   "source": [
    "print('Test: \\nCode 60\\n',test_df[test_df['MSSubClass']==60]['HouseStyle'].value_counts(),'\\n')\n",
    "print('Code 70\\n',test_df[test_df['MSSubClass']==70]['HouseStyle'].value_counts())"
   ]
  },
  {
   "cell_type": "code",
   "execution_count": 25,
   "metadata": {},
   "outputs": [],
   "source": [
    "# setting 2.5 stories, code 75\n",
    "test_df.loc[((test_df[test_df['MSSubClass']==75].index).tolist()), 'HouseStyle'] = '2.5Story'"
   ]
  },
  {
   "cell_type": "code",
   "execution_count": 26,
   "metadata": {},
   "outputs": [
    {
     "name": "stdout",
     "output_type": "stream",
     "text": [
      "Check: \n",
      "Code 75\n",
      " HouseStyle\n",
      "2.5Story    7\n",
      "Name: count, dtype: int64\n"
     ]
    }
   ],
   "source": [
    "print('Check: \\nCode 75\\n',test_df[test_df['MSSubClass']==75]['HouseStyle'].value_counts())"
   ]
  },
  {
   "cell_type": "markdown",
   "metadata": {},
   "source": [
    "Functional: Home functionality (Assume typical unless deductions are warranted)\n",
    "\n",
    "       Typ\tTypical Functionality\n",
    "       Min1\tMinor Deductions 1\n",
    "       Min2\tMinor Deductions 2\n",
    "       Mod\tModerate Deductions\n",
    "       Maj1\tMajor Deductions 1\n",
    "       Maj2\tMajor Deductions 2\n",
    "       Sev\tSeverely Damaged\n",
    "       Sal\tSalvage only\n",
    "\n",
    "Fill missing values in test w/ Typ"
   ]
  },
  {
   "cell_type": "code",
   "execution_count": null,
   "metadata": {},
   "outputs": [],
   "source": [
    "print(test_df['Functional'].isna().value_counts(),'\\n')\n",
    "print(test_df[test_df['Functional'].isna()][['Functional']])"
   ]
  },
  {
   "cell_type": "code",
   "execution_count": null,
   "metadata": {},
   "outputs": [],
   "source": []
  },
  {
   "cell_type": "code",
   "execution_count": null,
   "metadata": {},
   "outputs": [],
   "source": [
    "print(test_df['SaleType'].isna().value_counts(),'\\n')\n",
    "print(test_df[test_df['SaleType'].isna()][['SaleType','SaleCondition','YearBuilt','YrSold']],'\\n')\n",
    "print(f'Train: {train_df[train_df['SaleCondition']=='Normal'][['SaleType','SaleCondition']].value_counts()} \\n')\n",
    "print(f'Test: {test_df[test_df['SaleCondition']=='Normal'][['SaleType','SaleCondition']].value_counts()}')"
   ]
  },
  {
   "cell_type": "markdown",
   "metadata": {},
   "source": [
    "I could delete this row, but if I want to keep it, it is probably safe to fill in the `SaleType` with 'WD', as for a `SaleCondition` of 'Normal', the vast majority of datapoints have have value. (96.8% for train, 95.9% for test.)"
   ]
  },
  {
   "cell_type": "code",
   "execution_count": null,
   "metadata": {},
   "outputs": [],
   "source": [
    "print(train_df['Electrical'].isna().value_counts(),'\\n')\n",
    "print(train_df[train_df['Electrical'].isna()][['Electrical','YearBuilt']],'\\n')"
   ]
  },
  {
   "cell_type": "code",
   "execution_count": null,
   "metadata": {},
   "outputs": [],
   "source": [
    "print(f'Train: {train_df['Electrical'].value_counts()},\\n')\n",
    "print(f'Test: {test_df['Electrical'].value_counts()} \\n')\n",
    "print(train_df[train_df['Electrical']=='SBrkr'][['Electrical','YearBuilt']].describe())"
   ]
  },
  {
   "cell_type": "markdown",
   "metadata": {},
   "source": [
    "Similarly, the vast majority of data (91.4% of train, 91.6% of test) has the 'SBrkr' value, and the descriptive stats show there is no meaningful connection between building age and electrical status to worry about, so again it is probably safe to use that value in the interest of keeping the row in. "
   ]
  },
  {
   "cell_type": "markdown",
   "metadata": {},
   "source": []
  },
  {
   "cell_type": "code",
   "execution_count": null,
   "metadata": {},
   "outputs": [],
   "source": []
  },
  {
   "cell_type": "markdown",
   "metadata": {},
   "source": [
    "Utilities: Type of utilities available\n",
    "\t\t\n",
    "       AllPub\tAll public Utilities (E,G,W,& S)\t\n",
    "       NoSewr\tElectricity, Gas, and Water (Septic Tank)\n",
    "       NoSeWa\tElectricity and Gas Only\n",
    "       ELO\tElectricity only"
   ]
  },
  {
   "cell_type": "markdown",
   "metadata": {},
   "source": [
    "### Remove outliers<p>\n",
    "Using thresholds from previous notebook."
   ]
  },
  {
   "cell_type": "code",
   "execution_count": null,
   "metadata": {},
   "outputs": [],
   "source": [
    "train_df[train_df['LotFrontage']>250]"
   ]
  },
  {
   "cell_type": "code",
   "execution_count": null,
   "metadata": {},
   "outputs": [],
   "source": [
    "train_df[train_df['LotArea']>140000]"
   ]
  },
  {
   "cell_type": "code",
   "execution_count": null,
   "metadata": {},
   "outputs": [],
   "source": [
    "train_df[train_df['BsmtFinSF1']>4000]"
   ]
  },
  {
   "cell_type": "code",
   "execution_count": null,
   "metadata": {},
   "outputs": [],
   "source": [
    "train_df[train_df['BsmtFinSF2']>1300]"
   ]
  },
  {
   "cell_type": "code",
   "execution_count": null,
   "metadata": {},
   "outputs": [],
   "source": [
    "train_df[train_df['TotalBsmtSF']>5000]"
   ]
  },
  {
   "cell_type": "code",
   "execution_count": null,
   "metadata": {},
   "outputs": [],
   "source": [
    "train_df[train_df['1stFlrSF']>4000]"
   ]
  },
  {
   "cell_type": "code",
   "execution_count": null,
   "metadata": {},
   "outputs": [],
   "source": [
    "train_df[train_df['GrLivArea']>5000]"
   ]
  },
  {
   "cell_type": "code",
   "execution_count": null,
   "metadata": {},
   "outputs": [],
   "source": [
    "train_df[train_df['EnclosedPorch']>500]"
   ]
  },
  {
   "cell_type": "code",
   "execution_count": null,
   "metadata": {},
   "outputs": [],
   "source": [
    "train_df[train_df['MiscVal']>6000]"
   ]
  },
  {
   "cell_type": "code",
   "execution_count": null,
   "metadata": {},
   "outputs": [],
   "source": [
    "train_df[train_df['SalePrice']>700000]"
   ]
  }
 ],
 "metadata": {
  "kernelspec": {
   "display_name": "base",
   "language": "python",
   "name": "python3"
  },
  "language_info": {
   "codemirror_mode": {
    "name": "ipython",
    "version": 3
   },
   "file_extension": ".py",
   "mimetype": "text/x-python",
   "name": "python",
   "nbconvert_exporter": "python",
   "pygments_lexer": "ipython3",
   "version": "3.12.3"
  }
 },
 "nbformat": 4,
 "nbformat_minor": 2
}
