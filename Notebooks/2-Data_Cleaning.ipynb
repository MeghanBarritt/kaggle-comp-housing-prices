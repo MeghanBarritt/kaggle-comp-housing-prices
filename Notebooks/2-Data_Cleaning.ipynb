{
 "cells": [
  {
   "cell_type": "markdown",
   "metadata": {},
   "source": [
    "# 2 - Data Cleaning"
   ]
  },
  {
   "cell_type": "code",
   "execution_count": 1,
   "metadata": {},
   "outputs": [],
   "source": [
    "import pandas as pd\n",
    "train_df = pd.read_csv('../data/housing_train.csv')\n",
    "test_df = pd.read_csv('../data/housing_test.csv')"
   ]
  },
  {
   "cell_type": "markdown",
   "metadata": {},
   "source": [
    "There is an apparent relation between `MSSubClass` and `HouseStyle`. This is how they should match up:\n",
    "\n",
    "1Story\tOne story\n",
    "- 20\t1-STORY 1946 & NEWER ALL STYLES\n",
    "- 30\t1-STORY 1945 & OLDER\n",
    "- 40\t1-STORY W/FINISHED ATTIC ALL AGES\n",
    "- 120\t1-STORY PUD (Planned Unit Development) - 1946 & NEWER\n",
    "\n",
    "1.5Fin\tOne and one-half story: 2nd level finished\n",
    "- 50\t1-1/2 STORY FINISHED ALL AGES\n",
    "- 150\t1-1/2 STORY PUD - ALL AGES\n",
    "\n",
    "1.5Unf\tOne and one-half story: 2nd level unfinished\n",
    "- 45\t1-1/2 STORY - UNFINISHED ALL AGES\n",
    "\n",
    "2Story\tTwo story\n",
    "- 60\t2-STORY 1946 & NEWER\n",
    "- 70\t2-STORY 1945 & OLDER\n",
    "- 75\t2-1/2 STORY ALL AGES\n",
    "- 160\t2-STORY PUD - 1946 & NEWER\n",
    "\n",
    "SFoyer\tSplit Foyer\n",
    "- 85\tSPLIT FOYER\n",
    "\n",
    "SLvl\tSplit Level\n",
    "- 80\tSPLIT OR MULTI-LEVEL\n",
    "\n",
    "Misc\n",
    "- 90\tDUPLEX - ALL STYLES AND AGES\n",
    "- 180\tPUD - MULTILEVEL - INCL SPLIT LEV/FOYER\n",
    "- 190\t2 FAMILY CONVERSION - ALL STYLES AND AGES"
   ]
  },
  {
   "cell_type": "markdown",
   "metadata": {},
   "source": [
    "Check for mismatches:<p>\n",
    "Should be one story:"
   ]
  },
  {
   "cell_type": "code",
   "execution_count": 2,
   "metadata": {},
   "outputs": [],
   "source": [
    "print('Code 20\\n',train_df[train_df['MSSubClass']==20]['HouseStyle'].value_counts(),'\\n')\n",
    "print('Code 30\\n',train_df[train_df['MSSubClass']==30]['HouseStyle'].value_counts(),'\\n')\n",
    "print('Code 40\\n',train_df[train_df['MSSubClass']==40]['HouseStyle'].value_counts(),'\\n')\n",
    "print('Code 120\\n',train_df[train_df['MSSubClass']==120]['HouseStyle'].value_counts())"
   ]
  },
  {
   "cell_type": "markdown",
   "metadata": {},
   "source": [
    "Should be 1.5 stories:"
   ]
  },
  {
   "cell_type": "code",
   "execution_count": null,
   "metadata": {},
   "outputs": [],
   "source": [
    "print('Code 45\\n',train_df[train_df['MSSubClass']==45]['HouseStyle'].value_counts(),'\\n')\n",
    "print('Code 50\\n',train_df[train_df['MSSubClass']==50]['HouseStyle'].value_counts(),'\\n')\n",
    "print('Code 150\\n',train_df[train_df['MSSubClass']==150]['HouseStyle'].value_counts())"
   ]
  },
  {
   "cell_type": "markdown",
   "metadata": {},
   "source": [
    "Should be 2 stories:"
   ]
  },
  {
   "cell_type": "code",
   "execution_count": null,
   "metadata": {},
   "outputs": [],
   "source": [
    "print('Code 60\\n',train_df[train_df['MSSubClass']==60]['HouseStyle'].value_counts(),'\\n')\n",
    "print('Code 70\\n',train_df[train_df['MSSubClass']==70]['HouseStyle'].value_counts(),'\\n')\n",
    "print('Code 75\\n',train_df[train_df['MSSubClass']==75]['HouseStyle'].value_counts(),'\\n')\n",
    "print('Code 160\\n',train_df[train_df['MSSubClass']==160]['HouseStyle'].value_counts())"
   ]
  },
  {
   "cell_type": "markdown",
   "metadata": {},
   "source": [
    "Should be split foyer:"
   ]
  },
  {
   "cell_type": "code",
   "execution_count": null,
   "metadata": {},
   "outputs": [],
   "source": [
    "print('Code 85\\n',train_df[train_df['MSSubClass']==85]['HouseStyle'].value_counts())"
   ]
  },
  {
   "cell_type": "markdown",
   "metadata": {},
   "source": [
    "Should be split level:"
   ]
  },
  {
   "cell_type": "markdown",
   "metadata": {},
   "source": [
    "print('Code 80\\n',train_df[train_df['MSSubClass']==80]['HouseStyle'].value_counts())"
   ]
  },
  {
   "cell_type": "markdown",
   "metadata": {},
   "source": [
    "No obvious floor number based on code:"
   ]
  },
  {
   "cell_type": "code",
   "execution_count": null,
   "metadata": {},
   "outputs": [],
   "source": [
    "print('Code 90\\n',train_df[train_df['MSSubClass']==90]['HouseStyle'].value_counts(),'\\n')\n",
    "print('Code 180\\n',train_df[train_df['MSSubClass']==180]['HouseStyle'].value_counts(),'\\n')\n",
    "print('Code 190\\n',train_df[train_df['MSSubClass']==190]['HouseStyle'].value_counts())"
   ]
  },
  {
   "cell_type": "markdown",
   "metadata": {},
   "source": [
    "Functional: Home functionality (Assume typical unless deductions are warranted)\n",
    "\n",
    "       Typ\tTypical Functionality\n",
    "       Min1\tMinor Deductions 1\n",
    "       Min2\tMinor Deductions 2\n",
    "       Mod\tModerate Deductions\n",
    "       Maj1\tMajor Deductions 1\n",
    "       Maj2\tMajor Deductions 2\n",
    "       Sev\tSeverely Damaged\n",
    "       Sal\tSalvage only\n",
    "\n",
    "Fill missing values in test w/ Typ"
   ]
  },
  {
   "cell_type": "code",
   "execution_count": null,
   "metadata": {},
   "outputs": [],
   "source": [
    "print(test_df['Functional'].isna().value_counts(),'\\n')\n",
    "print(test_df[test_df['Functional'].isna()][['Functional']])"
   ]
  },
  {
   "cell_type": "code",
   "execution_count": null,
   "metadata": {},
   "outputs": [],
   "source": []
  },
  {
   "cell_type": "code",
   "execution_count": null,
   "metadata": {},
   "outputs": [],
   "source": [
    "print(test_df['SaleType'].isna().value_counts(),'\\n')\n",
    "print(test_df[test_df['SaleType'].isna()][['SaleType','SaleCondition','YearBuilt','YrSold']],'\\n')\n",
    "print(f'Train: {train_df[train_df['SaleCondition']=='Normal'][['SaleType','SaleCondition']].value_counts()} \\n')\n",
    "print(f'Test: {test_df[test_df['SaleCondition']=='Normal'][['SaleType','SaleCondition']].value_counts()}')"
   ]
  },
  {
   "cell_type": "markdown",
   "metadata": {},
   "source": [
    "I could delete this row, but if I want to keep it, it is probably safe to fill in the `SaleType` with 'WD', as for a `SaleCondition` of 'Normal', the vast majority of datapoints have have value. (96.8% for train, 95.9% for test.)"
   ]
  },
  {
   "cell_type": "code",
   "execution_count": null,
   "metadata": {},
   "outputs": [],
   "source": [
    "print(train_df['Electrical'].isna().value_counts(),'\\n')\n",
    "print(train_df[train_df['Electrical'].isna()][['Electrical','YearBuilt']],'\\n')"
   ]
  },
  {
   "cell_type": "code",
   "execution_count": null,
   "metadata": {},
   "outputs": [],
   "source": [
    "print(f'Train: {train_df['Electrical'].value_counts()},\\n')\n",
    "print(f'Test: {test_df['Electrical'].value_counts()} \\n')\n",
    "print(train_df[train_df['Electrical']=='SBrkr'][['Electrical','YearBuilt']].describe())"
   ]
  },
  {
   "cell_type": "markdown",
   "metadata": {},
   "source": [
    "Similarly, the vast majority of data (91.4% of train, 91.6% of test) has the 'SBrkr' value, and the descriptive stats show there is no meaningful connection between building age and electrical status to worry about, so again it is probably safe to use that value in the interest of keeping the row in. "
   ]
  },
  {
   "cell_type": "markdown",
   "metadata": {},
   "source": []
  },
  {
   "cell_type": "code",
   "execution_count": null,
   "metadata": {},
   "outputs": [],
   "source": []
  },
  {
   "cell_type": "markdown",
   "metadata": {},
   "source": [
    "Utilities: Type of utilities available\n",
    "\t\t\n",
    "       AllPub\tAll public Utilities (E,G,W,& S)\t\n",
    "       NoSewr\tElectricity, Gas, and Water (Septic Tank)\n",
    "       NoSeWa\tElectricity and Gas Only\n",
    "       ELO\tElectricity only"
   ]
  },
  {
   "cell_type": "markdown",
   "metadata": {},
   "source": [
    "### Remove outliers<p>\n",
    "Using thresholds from previous notebook."
   ]
  },
  {
   "cell_type": "code",
   "execution_count": null,
   "metadata": {},
   "outputs": [],
   "source": [
    "train_df[train_df['LotFrontage']>250]"
   ]
  },
  {
   "cell_type": "code",
   "execution_count": null,
   "metadata": {},
   "outputs": [],
   "source": [
    "train_df[train_df['LotArea']>140000]"
   ]
  },
  {
   "cell_type": "code",
   "execution_count": null,
   "metadata": {},
   "outputs": [],
   "source": [
    "train_df[train_df['BsmtFinSF1']>4000]"
   ]
  },
  {
   "cell_type": "code",
   "execution_count": null,
   "metadata": {},
   "outputs": [],
   "source": [
    "train_df[train_df['BsmtFinSF2']>1300]"
   ]
  },
  {
   "cell_type": "code",
   "execution_count": null,
   "metadata": {},
   "outputs": [],
   "source": [
    "train_df[train_df['TotalBsmtSF']>5000]"
   ]
  },
  {
   "cell_type": "code",
   "execution_count": null,
   "metadata": {},
   "outputs": [],
   "source": [
    "train_df[train_df['1stFlrSF']>4000]"
   ]
  },
  {
   "cell_type": "code",
   "execution_count": null,
   "metadata": {},
   "outputs": [],
   "source": [
    "train_df[train_df['GrLivArea']>5000]"
   ]
  },
  {
   "cell_type": "code",
   "execution_count": null,
   "metadata": {},
   "outputs": [],
   "source": [
    "train_df[train_df['EnclosedPorch']>500]"
   ]
  },
  {
   "cell_type": "code",
   "execution_count": null,
   "metadata": {},
   "outputs": [],
   "source": [
    "train_df[train_df['MiscVal']>6000]"
   ]
  },
  {
   "cell_type": "code",
   "execution_count": null,
   "metadata": {},
   "outputs": [],
   "source": [
    "train_df[train_df['SalePrice']>700000]"
   ]
  }
 ],
 "metadata": {
  "kernelspec": {
   "display_name": "base",
   "language": "python",
   "name": "python3"
  },
  "language_info": {
   "codemirror_mode": {
    "name": "ipython",
    "version": 3
   },
   "file_extension": ".py",
   "mimetype": "text/x-python",
   "name": "python",
   "nbconvert_exporter": "python",
   "pygments_lexer": "ipython3",
   "version": "3.12.3"
  }
 },
 "nbformat": 4,
 "nbformat_minor": 2
}
