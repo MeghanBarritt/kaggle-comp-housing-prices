{
 "cells": [
  {
   "cell_type": "markdown",
   "metadata": {},
   "source": [
    "# 2 - Data Cleaning"
   ]
  },
  {
   "cell_type": "code",
   "execution_count": 1,
   "metadata": {},
   "outputs": [],
   "source": [
    "import pandas as pd\n",
    "train_df = pd.read_csv('../data/housing_train.csv')\n",
    "test_df = pd.read_csv('../data/housing_test.csv')"
   ]
  },
  {
   "cell_type": "markdown",
   "metadata": {},
   "source": [
    "There is an apparent relation between `MSSubClass` and `HouseStyle`. This is how they should match up:\n",
    "\n",
    "1Story\tOne story\n",
    "- 20\t1-STORY 1946 & NEWER ALL STYLES\n",
    "- 30\t1-STORY 1945 & OLDER\n",
    "- 40\t1-STORY W/FINISHED ATTIC ALL AGES\n",
    "- 120\t1-STORY PUD (Planned Unit Development) - 1946 & NEWER\n",
    "\n",
    "1.5Fin\tOne and one-half story: 2nd level finished\n",
    "- 50\t1-1/2 STORY FINISHED ALL AGES\n",
    "- 150\t1-1/2 STORY PUD - ALL AGES\n",
    "\n",
    "1.5Unf\tOne and one-half story: 2nd level unfinished\n",
    "- 45\t1-1/2 STORY - UNFINISHED ALL AGES\n",
    "\n",
    "2Story\tTwo story\n",
    "- 60\t2-STORY 1946 & NEWER\n",
    "- 70\t2-STORY 1945 & OLDER\n",
    "- 160\t2-STORY PUD - 1946 & NEWER\n",
    "\n",
    "\n",
    "2.5Fin\tTwo and one-half story: 2nd level finished<br>\n",
    "2.5Unf\tTwo and one-half story: 2nd level unfinished\n",
    "- 75\t2-1/2 STORY ALL AGES\n",
    "\n",
    "SFoyer\tSplit Foyer\n",
    "- 85\tSPLIT FOYER\n",
    "\n",
    "SLvl\tSplit Level\n",
    "- 80\tSPLIT OR MULTI-LEVEL\n",
    "\n",
    "Misc (No obvious floor number)\n",
    "- 90\tDUPLEX - ALL STYLES AND AGES\n",
    "- 180\tPUD - MULTILEVEL - INCL SPLIT LEV/FOYER\n",
    "- 190\t2 FAMILY CONVERSION - ALL STYLES AND AGES"
   ]
  },
  {
   "cell_type": "markdown",
   "metadata": {},
   "source": [
    "### Check for mismatches:<p>\n",
    "Should be one story:"
   ]
  },
  {
   "cell_type": "code",
   "execution_count": 2,
   "metadata": {},
   "outputs": [
    {
     "name": "stdout",
     "output_type": "stream",
     "text": [
      "Train: \n",
      "Code 20\n",
      " HouseStyle\n",
      "1Story    534\n",
      "2Story      1\n",
      "SLvl        1\n",
      "Name: count, dtype: int64 \n",
      "\n",
      "Code 30\n",
      " HouseStyle\n",
      "1Story    67\n",
      "1.5Fin     1\n",
      "1.5Unf     1\n",
      "Name: count, dtype: int64 \n",
      "\n",
      "Code 40\n",
      " HouseStyle\n",
      "1Story    4\n",
      "Name: count, dtype: int64 \n",
      "\n",
      "Code 120\n",
      " HouseStyle\n",
      "1Story    86\n",
      "SFoyer     1\n",
      "Name: count, dtype: int64\n"
     ]
    }
   ],
   "source": [
    "print('Train: \\nCode 20\\n',train_df[train_df['MSSubClass']==20]['HouseStyle'].value_counts(),'\\n')\n",
    "print('Code 30\\n',train_df[train_df['MSSubClass']==30]['HouseStyle'].value_counts(),'\\n')\n",
    "print('Code 40\\n',train_df[train_df['MSSubClass']==40]['HouseStyle'].value_counts(),'\\n')\n",
    "print('Code 120\\n',train_df[train_df['MSSubClass']==120]['HouseStyle'].value_counts())"
   ]
  },
  {
   "cell_type": "markdown",
   "metadata": {},
   "source": [
    "Codes 20, 30, 120 have mismatches."
   ]
  },
  {
   "cell_type": "code",
   "execution_count": 3,
   "metadata": {},
   "outputs": [
    {
     "name": "stdout",
     "output_type": "stream",
     "text": [
      "Test: \n",
      "Code 20\n",
      " HouseStyle\n",
      "1Story    543\n",
      "Name: count, dtype: int64 \n",
      "\n",
      "Code 30\n",
      " HouseStyle\n",
      "1Story    69\n",
      "1.5Fin     1\n",
      "Name: count, dtype: int64 \n",
      "\n",
      "Code 40\n",
      " HouseStyle\n",
      "1Story    1\n",
      "1.5Fin    1\n",
      "Name: count, dtype: int64 \n",
      "\n",
      "Code 120\n",
      " HouseStyle\n",
      "1Story    94\n",
      "SFoyer     1\n",
      "Name: count, dtype: int64\n"
     ]
    }
   ],
   "source": [
    "print('Test: \\nCode 20\\n',test_df[test_df['MSSubClass']==20]['HouseStyle'].value_counts(),'\\n')\n",
    "print('Code 30\\n',test_df[test_df['MSSubClass']==30]['HouseStyle'].value_counts(),'\\n')\n",
    "print('Code 40\\n',test_df[test_df['MSSubClass']==40]['HouseStyle'].value_counts(),'\\n')\n",
    "print('Code 120\\n',test_df[test_df['MSSubClass']==120]['HouseStyle'].value_counts())"
   ]
  },
  {
   "cell_type": "markdown",
   "metadata": {},
   "source": [
    "Codes 30, 40, 120 have mismatches."
   ]
  },
  {
   "cell_type": "markdown",
   "metadata": {},
   "source": [
    "Should be 1.5 stories:"
   ]
  },
  {
   "cell_type": "code",
   "execution_count": 4,
   "metadata": {},
   "outputs": [
    {
     "name": "stdout",
     "output_type": "stream",
     "text": [
      "Train: \n",
      "Code 45\n",
      " HouseStyle\n",
      "1.5Unf    12\n",
      "Name: count, dtype: int64 \n",
      "\n",
      "Code 50\n",
      " HouseStyle\n",
      "1.5Fin    141\n",
      "2Story      3\n",
      "Name: count, dtype: int64 \n",
      "\n",
      "Code 150\n",
      " Series([], Name: count, dtype: int64)\n"
     ]
    }
   ],
   "source": [
    "print('Train: \\nCode 45\\n',train_df[train_df['MSSubClass']==45]['HouseStyle'].value_counts(),'\\n')\n",
    "print('Code 50\\n',train_df[train_df['MSSubClass']==50]['HouseStyle'].value_counts(),'\\n')\n",
    "print('Code 150\\n',train_df[train_df['MSSubClass']==150]['HouseStyle'].value_counts())"
   ]
  },
  {
   "cell_type": "markdown",
   "metadata": {},
   "source": [
    "Code 50 has mismatches, and code 150 is never used."
   ]
  },
  {
   "cell_type": "code",
   "execution_count": 5,
   "metadata": {},
   "outputs": [
    {
     "name": "stdout",
     "output_type": "stream",
     "text": [
      "Test: \n",
      "Code 45\n",
      " HouseStyle\n",
      "1.5Unf    4\n",
      "1.5Fin    2\n",
      "Name: count, dtype: int64 \n",
      "\n",
      "Code 50\n",
      " HouseStyle\n",
      "1.5Fin    141\n",
      "1.5Unf      1\n",
      "2Story      1\n",
      "Name: count, dtype: int64 \n",
      "\n",
      "Code 150\n",
      " HouseStyle\n",
      "1.5Fin    1\n",
      "Name: count, dtype: int64\n"
     ]
    }
   ],
   "source": [
    "print('Test: \\nCode 45\\n',test_df[test_df['MSSubClass']==45]['HouseStyle'].value_counts(),'\\n')\n",
    "print('Code 50\\n',test_df[test_df['MSSubClass']==50]['HouseStyle'].value_counts(),'\\n')\n",
    "print('Code 150\\n',test_df[test_df['MSSubClass']==150]['HouseStyle'].value_counts())"
   ]
  },
  {
   "cell_type": "markdown",
   "metadata": {},
   "source": [
    "Code 50 has a mismatch again, as does 45."
   ]
  },
  {
   "cell_type": "markdown",
   "metadata": {},
   "source": [
    "Should be 2 stories:"
   ]
  },
  {
   "cell_type": "code",
   "execution_count": 7,
   "metadata": {},
   "outputs": [
    {
     "name": "stdout",
     "output_type": "stream",
     "text": [
      "Train: \n",
      "Code 60\n",
      " HouseStyle\n",
      "2Story    298\n",
      "SLvl        1\n",
      "Name: count, dtype: int64 \n",
      "\n",
      "Code 70\n",
      " HouseStyle\n",
      "2Story    59\n",
      "2.5Fin     1\n",
      "Name: count, dtype: int64 \n",
      "\n",
      "Code 160\n",
      " HouseStyle\n",
      "2Story    63\n",
      "Name: count, dtype: int64\n"
     ]
    }
   ],
   "source": [
    "print('Train: \\nCode 60\\n',train_df[train_df['MSSubClass']==60]['HouseStyle'].value_counts(),'\\n')\n",
    "print('Code 70\\n',train_df[train_df['MSSubClass']==70]['HouseStyle'].value_counts(),'\\n')\n",
    "print('Code 160\\n',train_df[train_df['MSSubClass']==160]['HouseStyle'].value_counts())"
   ]
  },
  {
   "cell_type": "markdown",
   "metadata": {},
   "source": [
    "Code 70 has a mismatch. Code 60 could, but as a split level is just a special style of multistory house, I'm going to leave it. There's no way to know if it's a two level split or more."
   ]
  },
  {
   "cell_type": "code",
   "execution_count": 6,
   "metadata": {},
   "outputs": [
    {
     "name": "stdout",
     "output_type": "stream",
     "text": [
      "Test: \n",
      "Code 60\n",
      " HouseStyle\n",
      "2Story    274\n",
      "1.5Fin      1\n",
      "2.5Unf      1\n",
      "Name: count, dtype: int64 \n",
      "\n",
      "Code 70\n",
      " HouseStyle\n",
      "2Story    64\n",
      "2.5Unf     3\n",
      "1.5Fin     1\n",
      "Name: count, dtype: int64 \n",
      "\n",
      "Code 160\n",
      " HouseStyle\n",
      "2Story    64\n",
      "SLvl       1\n",
      "Name: count, dtype: int64\n"
     ]
    }
   ],
   "source": [
    "print('Test: \\nCode 60\\n',test_df[test_df['MSSubClass']==60]['HouseStyle'].value_counts(),'\\n')\n",
    "print('Code 70\\n',test_df[test_df['MSSubClass']==70]['HouseStyle'].value_counts(),'\\n')\n",
    "print('Code 160\\n',test_df[test_df['MSSubClass']==160]['HouseStyle'].value_counts())"
   ]
  },
  {
   "cell_type": "markdown",
   "metadata": {},
   "source": [
    "Codes 60 and 70 have mismatches, and the split level on 160 I am going to leave. "
   ]
  },
  {
   "cell_type": "markdown",
   "metadata": {},
   "source": [
    "Should be 2.5 stories:"
   ]
  },
  {
   "cell_type": "code",
   "execution_count": 8,
   "metadata": {},
   "outputs": [
    {
     "name": "stdout",
     "output_type": "stream",
     "text": [
      "Train: \n",
      "Code 75\n",
      " HouseStyle\n",
      "2.5Unf    9\n",
      "2.5Fin    6\n",
      "2Story    1\n",
      "Name: count, dtype: int64 \n",
      "\n",
      "Test: \n",
      "Code 75\n",
      " HouseStyle\n",
      "2.5Unf    6\n",
      "2Story    1\n",
      "Name: count, dtype: int64\n"
     ]
    }
   ],
   "source": [
    "print('Train: \\nCode 75\\n',train_df[train_df['MSSubClass']==75]['HouseStyle'].value_counts(),'\\n')\n",
    "print('Test: \\nCode 75\\n',test_df[test_df['MSSubClass']==75]['HouseStyle'].value_counts())"
   ]
  },
  {
   "cell_type": "markdown",
   "metadata": {},
   "source": [
    "Both train and test have mismatches on code 75."
   ]
  },
  {
   "cell_type": "markdown",
   "metadata": {},
   "source": [
    "Should be split foyer:"
   ]
  },
  {
   "cell_type": "code",
   "execution_count": 9,
   "metadata": {},
   "outputs": [
    {
     "name": "stdout",
     "output_type": "stream",
     "text": [
      "Code 85\n",
      " HouseStyle\n",
      "SFoyer    20\n",
      "Name: count, dtype: int64 \n",
      "\n",
      "Code 85\n",
      " HouseStyle\n",
      "SFoyer    28\n",
      "Name: count, dtype: int64\n"
     ]
    }
   ],
   "source": [
    "print('Code 85\\n',train_df[train_df['MSSubClass']==85]['HouseStyle'].value_counts(),'\\n')\n",
    "print('Code 85\\n',test_df[test_df['MSSubClass']==85]['HouseStyle'].value_counts())"
   ]
  },
  {
   "cell_type": "markdown",
   "metadata": {},
   "source": [
    "No mismatches."
   ]
  },
  {
   "cell_type": "markdown",
   "metadata": {},
   "source": [
    "Should be split level:"
   ]
  },
  {
   "cell_type": "code",
   "execution_count": 10,
   "metadata": {},
   "outputs": [
    {
     "name": "stdout",
     "output_type": "stream",
     "text": [
      "Code 80\n",
      " HouseStyle\n",
      "SLvl    58\n",
      "Name: count, dtype: int64 \n",
      "\n",
      "Code 80\n",
      " HouseStyle\n",
      "SLvl    60\n",
      "Name: count, dtype: int64\n"
     ]
    }
   ],
   "source": [
    "print('Code 80\\n',train_df[train_df['MSSubClass']==80]['HouseStyle'].value_counts(),'\\n')\n",
    "print('Code 80\\n',test_df[test_df['MSSubClass']==80]['HouseStyle'].value_counts())"
   ]
  },
  {
   "cell_type": "markdown",
   "metadata": {},
   "source": [
    "No mismatches."
   ]
  },
  {
   "cell_type": "markdown",
   "metadata": {},
   "source": [
    "### Fixing mismatches <p>\n",
    "In the train set"
   ]
  },
  {
   "cell_type": "code",
   "execution_count": 12,
   "metadata": {},
   "outputs": [],
   "source": [
    "# setting 1 story\n",
    "# Code 20\n",
    "train_df.loc[((train_df[ # select\n",
    "    (train_df['MSSubClass']==20)& # code 20 AND either\n",
    "    ((train_df['HouseStyle']=='2Story')| # 2 Story OR\n",
    "     (train_df['HouseStyle']=='SLvl'))   # Split Level\n",
    "    ].index).tolist()), 'HouseStyle'] = '1Story'\n",
    "\n",
    "# Code 30\n",
    "train_df.loc[((train_df[ # select\n",
    "    (train_df['MSSubClass']==30)& # code 30 AND either\n",
    "    ((train_df['HouseStyle']=='1.5Fin')| # 1.5 Finished OR\n",
    "     (train_df['HouseStyle']=='1.5Unf')) # 1.5 Unfinished\n",
    "].index).tolist()), 'HouseStyle'] = '1Story'\n",
    "\n",
    "# Code 120\n",
    "train_df.loc[((train_df[ # select\n",
    "    (train_df['MSSubClass']==120)& # code 120 AND\n",
    "    (train_df['HouseStyle']=='SFoyer') # split foyer\n",
    "].index).tolist()), 'HouseStyle'] = '1Story'"
   ]
  },
  {
   "cell_type": "code",
   "execution_count": 13,
   "metadata": {},
   "outputs": [
    {
     "name": "stdout",
     "output_type": "stream",
     "text": [
      "Check: \n",
      "Code 20\n",
      " HouseStyle\n",
      "1Story    536\n",
      "Name: count, dtype: int64 \n",
      "\n",
      "Code 30\n",
      " HouseStyle\n",
      "1Story    69\n",
      "Name: count, dtype: int64 \n",
      "\n",
      "Code 120\n",
      " HouseStyle\n",
      "1Story    87\n",
      "Name: count, dtype: int64\n"
     ]
    }
   ],
   "source": [
    "print('Check: \\nCode 20\\n',train_df[train_df['MSSubClass']==20]['HouseStyle'].value_counts(),'\\n')\n",
    "print('Code 30\\n',train_df[train_df['MSSubClass']==30]['HouseStyle'].value_counts(),'\\n')\n",
    "print('Code 120\\n',train_df[train_df['MSSubClass']==120]['HouseStyle'].value_counts())"
   ]
  },
  {
   "cell_type": "code",
   "execution_count": 14,
   "metadata": {},
   "outputs": [],
   "source": [
    "# setting 1.5Fin story, Code 50\n",
    "train_df.loc[((train_df[ # select\n",
    "    (train_df['MSSubClass']==50)& # code 50 AND\n",
    "    (train_df['HouseStyle']=='2Story') # 2 story\n",
    "].index).tolist()), 'HouseStyle'] = '1.5Fin'"
   ]
  },
  {
   "cell_type": "code",
   "execution_count": 15,
   "metadata": {},
   "outputs": [
    {
     "name": "stdout",
     "output_type": "stream",
     "text": [
      "Check: \n",
      "Code 50\n",
      " HouseStyle\n",
      "1.5Fin    144\n",
      "Name: count, dtype: int64\n"
     ]
    }
   ],
   "source": [
    "print('Check: \\nCode 50\\n',train_df[train_df['MSSubClass']==50]['HouseStyle'].value_counts())"
   ]
  },
  {
   "cell_type": "code",
   "execution_count": 16,
   "metadata": {},
   "outputs": [],
   "source": [
    "# setting 2 stories\n",
    "# Code 70\n",
    "train_df.loc[((train_df[ # select\n",
    "    (train_df['MSSubClass']==70)& # code 70 AND\n",
    "    (train_df['HouseStyle']=='2.5Fin') # 2.5 finished\n",
    "].index).tolist()), 'HouseStyle'] = '2Story'"
   ]
  },
  {
   "cell_type": "code",
   "execution_count": 17,
   "metadata": {},
   "outputs": [
    {
     "name": "stdout",
     "output_type": "stream",
     "text": [
      "Check: \n",
      "Code 70\n",
      " HouseStyle\n",
      "2Story    60\n",
      "Name: count, dtype: int64\n"
     ]
    }
   ],
   "source": [
    "print('Check: \\nCode 70\\n',train_df[train_df['MSSubClass']==70]['HouseStyle'].value_counts())"
   ]
  },
  {
   "cell_type": "markdown",
   "metadata": {},
   "source": [
    "For the 2.5 story code, 75, there is no way to tell if they are meant to be finished or unfinished. As they only have one code, and there are not very many of them, even when the test data is included, I am going to code them all as simply `2.5Story`."
   ]
  },
  {
   "cell_type": "code",
   "execution_count": 18,
   "metadata": {},
   "outputs": [],
   "source": [
    "# setting 2.5 stories, code 75\n",
    "train_df.loc[((train_df[train_df['MSSubClass']==75].index).tolist()), 'HouseStyle'] = '2.5Story'"
   ]
  },
  {
   "cell_type": "code",
   "execution_count": 19,
   "metadata": {},
   "outputs": [
    {
     "name": "stdout",
     "output_type": "stream",
     "text": [
      "Check: \n",
      "Code 75\n",
      " HouseStyle\n",
      "2.5Story    16\n",
      "Name: count, dtype: int64\n"
     ]
    }
   ],
   "source": [
    "print('Check: \\nCode 75\\n',train_df[train_df['MSSubClass']==75]['HouseStyle'].value_counts())"
   ]
  },
  {
   "cell_type": "markdown",
   "metadata": {},
   "source": [
    "In the test set"
   ]
  },
  {
   "cell_type": "code",
   "execution_count": 20,
   "metadata": {},
   "outputs": [],
   "source": [
    "# setting 1 story\n",
    "# Code 30\n",
    "test_df.loc[((test_df[ # select\n",
    "    (test_df['MSSubClass']==30)& # code 30 AND\n",
    "    (test_df['HouseStyle']=='1.5Fin') # 1.5 finished\n",
    "].index).tolist()), 'HouseStyle'] = '1Story'\n",
    "\n",
    "# Code 40\n",
    "test_df.loc[((test_df[ # select\n",
    "    (test_df['MSSubClass']==40)& # code 40 AND\n",
    "    (test_df['HouseStyle']=='1.5Fin') # 1.5 finished\n",
    "].index).tolist()), 'HouseStyle'] = '1Story'\n",
    "\n",
    "# Code 120\n",
    "test_df.loc[((test_df[ # select\n",
    "    (test_df['MSSubClass']==120)& # code 120 AND\n",
    "    (test_df['HouseStyle']=='SFoyer') # split foyer\n",
    "].index).tolist()), 'HouseStyle'] = '1Story'"
   ]
  },
  {
   "cell_type": "code",
   "execution_count": 21,
   "metadata": {},
   "outputs": [
    {
     "name": "stdout",
     "output_type": "stream",
     "text": [
      "Check: \n",
      "Code 30\n",
      " HouseStyle\n",
      "1Story    70\n",
      "Name: count, dtype: int64 \n",
      "\n",
      "Code 40\n",
      " HouseStyle\n",
      "1Story    2\n",
      "Name: count, dtype: int64 \n",
      "\n",
      "Code 120\n",
      " HouseStyle\n",
      "1Story    95\n",
      "Name: count, dtype: int64\n"
     ]
    }
   ],
   "source": [
    "print('Check: \\nCode 30\\n',test_df[test_df['MSSubClass']==30]['HouseStyle'].value_counts(),'\\n')\n",
    "print('Code 40\\n',test_df[test_df['MSSubClass']==40]['HouseStyle'].value_counts(),'\\n')\n",
    "print('Code 120\\n',test_df[test_df['MSSubClass']==120]['HouseStyle'].value_counts())"
   ]
  },
  {
   "cell_type": "code",
   "execution_count": 22,
   "metadata": {},
   "outputs": [],
   "source": [
    "# setting 1.5Unf, Code 45\n",
    "test_df.loc[((test_df[ # select\n",
    "    (test_df['MSSubClass']==45)& # code 45 AND\n",
    "    (test_df['HouseStyle']=='1.5Fin') # 1.5 finished\n",
    "].index).tolist()), 'HouseStyle'] = '1.5Unf'\n",
    "\n",
    "# setting 1.5Fin story, Code 50\n",
    "test_df.loc[((test_df[ # select\n",
    "    (test_df['MSSubClass']==50)& # code 50 AND either\n",
    "    ((test_df['HouseStyle']=='1.5Unf')| # 1.5 Unfinished OR\n",
    "    (test_df['HouseStyle']=='2Story')) # 2 story\n",
    "].index).tolist()), 'HouseStyle'] = '1.5Fin'"
   ]
  },
  {
   "cell_type": "code",
   "execution_count": 23,
   "metadata": {},
   "outputs": [
    {
     "name": "stdout",
     "output_type": "stream",
     "text": [
      "Test \n",
      "Code 45\n",
      " HouseStyle\n",
      "1.5Unf    6\n",
      "Name: count, dtype: int64 \n",
      "\n",
      "Code 50\n",
      " HouseStyle\n",
      "1.5Fin    143\n",
      "Name: count, dtype: int64\n"
     ]
    }
   ],
   "source": [
    "print('Test \\nCode 45\\n',test_df[test_df['MSSubClass']==45]['HouseStyle'].value_counts(),'\\n')\n",
    "print('Code 50\\n',test_df[test_df['MSSubClass']==50]['HouseStyle'].value_counts())"
   ]
  },
  {
   "cell_type": "code",
   "execution_count": 24,
   "metadata": {},
   "outputs": [],
   "source": [
    "# setting 2 stories\n",
    "# Code 60\n",
    "test_df.loc[((test_df[ # select\n",
    "    (test_df['MSSubClass']==60)& # code 60 AND either\n",
    "    ((test_df['HouseStyle']=='1.5Fin')| # 1.5 finished OR\n",
    "    (test_df['HouseStyle']=='2.5Unf')) # 2.5 unfinished\n",
    "].index).tolist()), 'HouseStyle'] = '2Story'\n",
    "\n",
    "# Code 70\n",
    "test_df.loc[((test_df[ # select\n",
    "    (test_df['MSSubClass']==70)& # code 70 AND either\n",
    "    ((test_df['HouseStyle']=='1.5Fin')| # 1.5 finished OR\n",
    "    (test_df['HouseStyle']=='2.5Unf')) # 2.5 unfinished\n",
    "].index).tolist()), 'HouseStyle'] = '2Story'"
   ]
  },
  {
   "cell_type": "code",
   "execution_count": 25,
   "metadata": {},
   "outputs": [
    {
     "name": "stdout",
     "output_type": "stream",
     "text": [
      "Test: \n",
      "Code 60\n",
      " HouseStyle\n",
      "2Story    276\n",
      "Name: count, dtype: int64 \n",
      "\n",
      "Code 70\n",
      " HouseStyle\n",
      "2Story    68\n",
      "Name: count, dtype: int64\n"
     ]
    }
   ],
   "source": [
    "print('Test: \\nCode 60\\n',test_df[test_df['MSSubClass']==60]['HouseStyle'].value_counts(),'\\n')\n",
    "print('Code 70\\n',test_df[test_df['MSSubClass']==70]['HouseStyle'].value_counts())"
   ]
  },
  {
   "cell_type": "code",
   "execution_count": 26,
   "metadata": {},
   "outputs": [],
   "source": [
    "# setting 2.5 stories, code 75\n",
    "test_df.loc[((test_df[test_df['MSSubClass']==75].index).tolist()), 'HouseStyle'] = '2.5Story'"
   ]
  },
  {
   "cell_type": "code",
   "execution_count": 27,
   "metadata": {},
   "outputs": [
    {
     "name": "stdout",
     "output_type": "stream",
     "text": [
      "Check: \n",
      "Code 75\n",
      " HouseStyle\n",
      "2.5Story    7\n",
      "Name: count, dtype: int64\n"
     ]
    }
   ],
   "source": [
    "print('Check: \\nCode 75\\n',test_df[test_df['MSSubClass']==75]['HouseStyle'].value_counts())"
   ]
  },
  {
   "cell_type": "markdown",
   "metadata": {},
   "source": [
    "### Filling NAs"
   ]
  },
  {
   "cell_type": "markdown",
   "metadata": {},
   "source": [
    "The NA values for `Alley` and `Fence` can be assumed to be 'None', as that is listed in the documentation but is not present in the data."
   ]
  },
  {
   "cell_type": "code",
   "execution_count": 28,
   "metadata": {},
   "outputs": [],
   "source": [
    "train_df['Alley'] = train_df['Alley'].fillna('None')\n",
    "test_df['Alley'] = test_df['Alley'].fillna('None')"
   ]
  },
  {
   "cell_type": "code",
   "execution_count": 29,
   "metadata": {},
   "outputs": [],
   "source": [
    "train_df['Fence'] = train_df['Fence'].fillna('None')\n",
    "test_df['Fence'] = test_df['Fence'].fillna('None')"
   ]
  },
  {
   "cell_type": "code",
   "execution_count": 30,
   "metadata": {},
   "outputs": [
    {
     "data": {
      "text/plain": [
       "count    1201.000000\n",
       "mean       70.049958\n",
       "std        24.284752\n",
       "min        21.000000\n",
       "25%        59.000000\n",
       "50%        69.000000\n",
       "75%        80.000000\n",
       "max       313.000000\n",
       "Name: LotFrontage, dtype: float64"
      ]
     },
     "execution_count": 30,
     "metadata": {},
     "output_type": "execute_result"
    }
   ],
   "source": [
    "train_df['LotFrontage'].describe()"
   ]
  },
  {
   "cell_type": "markdown",
   "metadata": {},
   "source": [
    "It can be assumed that any entries not filled in are properties that do not have lot frontage on a street, given that there are no 0 values. "
   ]
  },
  {
   "cell_type": "code",
   "execution_count": 31,
   "metadata": {},
   "outputs": [],
   "source": [
    "train_df['LotFrontage'] = train_df['LotFrontage'].fillna(0)\n",
    "test_df['LotFrontage'] = test_df['LotFrontage'].fillna(0)"
   ]
  },
  {
   "cell_type": "markdown",
   "metadata": {},
   "source": [
    "I am assuming that if no masonry type was filled in, there isn't one, so I am giving those 'None', in accordance with the documentation."
   ]
  },
  {
   "cell_type": "code",
   "execution_count": 32,
   "metadata": {},
   "outputs": [],
   "source": [
    "train_df['MasVnrType'] = train_df['MasVnrType'].fillna('None')\n",
    "test_df['MasVnrType'] = test_df['MasVnrType'].fillna('None')"
   ]
  },
  {
   "cell_type": "code",
   "execution_count": 33,
   "metadata": {},
   "outputs": [
    {
     "data": {
      "text/html": [
       "<div>\n",
       "<style scoped>\n",
       "    .dataframe tbody tr th:only-of-type {\n",
       "        vertical-align: middle;\n",
       "    }\n",
       "\n",
       "    .dataframe tbody tr th {\n",
       "        vertical-align: top;\n",
       "    }\n",
       "\n",
       "    .dataframe thead th {\n",
       "        text-align: right;\n",
       "    }\n",
       "</style>\n",
       "<table border=\"1\" class=\"dataframe\">\n",
       "  <thead>\n",
       "    <tr style=\"text-align: right;\">\n",
       "      <th></th>\n",
       "      <th>MasVnrType</th>\n",
       "      <th>MasVnrArea</th>\n",
       "    </tr>\n",
       "  </thead>\n",
       "  <tbody>\n",
       "    <tr>\n",
       "      <th>234</th>\n",
       "      <td>None</td>\n",
       "      <td>NaN</td>\n",
       "    </tr>\n",
       "    <tr>\n",
       "      <th>529</th>\n",
       "      <td>None</td>\n",
       "      <td>NaN</td>\n",
       "    </tr>\n",
       "    <tr>\n",
       "      <th>650</th>\n",
       "      <td>None</td>\n",
       "      <td>NaN</td>\n",
       "    </tr>\n",
       "    <tr>\n",
       "      <th>936</th>\n",
       "      <td>None</td>\n",
       "      <td>NaN</td>\n",
       "    </tr>\n",
       "    <tr>\n",
       "      <th>973</th>\n",
       "      <td>None</td>\n",
       "      <td>NaN</td>\n",
       "    </tr>\n",
       "    <tr>\n",
       "      <th>977</th>\n",
       "      <td>None</td>\n",
       "      <td>NaN</td>\n",
       "    </tr>\n",
       "    <tr>\n",
       "      <th>1243</th>\n",
       "      <td>None</td>\n",
       "      <td>NaN</td>\n",
       "    </tr>\n",
       "    <tr>\n",
       "      <th>1278</th>\n",
       "      <td>None</td>\n",
       "      <td>NaN</td>\n",
       "    </tr>\n",
       "  </tbody>\n",
       "</table>\n",
       "</div>"
      ],
      "text/plain": [
       "     MasVnrType  MasVnrArea\n",
       "234        None         NaN\n",
       "529        None         NaN\n",
       "650        None         NaN\n",
       "936        None         NaN\n",
       "973        None         NaN\n",
       "977        None         NaN\n",
       "1243       None         NaN\n",
       "1278       None         NaN"
      ]
     },
     "execution_count": 33,
     "metadata": {},
     "output_type": "execute_result"
    }
   ],
   "source": [
    "train_df[train_df['MasVnrArea'].isna()][['MasVnrType','MasVnrArea']]"
   ]
  },
  {
   "cell_type": "markdown",
   "metadata": {},
   "source": [
    "As there is no vaneer, I'm filling the area NAs with 0. "
   ]
  },
  {
   "cell_type": "code",
   "execution_count": 34,
   "metadata": {},
   "outputs": [],
   "source": [
    "train_df['MasVnrArea'] = train_df['MasVnrArea'].fillna(0)\n",
    "test_df['MasVnrArea'] = test_df['MasVnrArea'].fillna(0)"
   ]
  },
  {
   "cell_type": "code",
   "execution_count": 35,
   "metadata": {},
   "outputs": [
    {
     "name": "stdout",
     "output_type": "stream",
     "text": [
      "Missing garage info \n",
      "Type: 81\n",
      "Year built: 81 \n",
      "Finish: 81\n",
      "Quality: 81 \n",
      "Condition: 81\n",
      "Missing all five: 81\n"
     ]
    }
   ],
   "source": [
    "print(f'Missing garage info \\nType: {len(train_df[train_df['GarageType'].isna()])}')\n",
    "print(f'Year built: {len(train_df[train_df['GarageYrBlt'].isna()])} \\nFinish: {len(train_df[train_df['GarageFinish'].isna()])}')\n",
    "print(f'Quality: {len(train_df[train_df['GarageQual'].isna()])} \\nCondition: {len(train_df[train_df['GarageCond'].isna()])}')\n",
    "print(f'Missing all five: {len(train_df[(train_df['GarageType'].isna())&\n",
    "                            (train_df['GarageYrBlt'].isna())&\n",
    "                            (train_df['GarageFinish'].isna())&\n",
    "                            (train_df['GarageQual'].isna())&\n",
    "                            (train_df['GarageCond'].isna())])}')"
   ]
  },
  {
   "cell_type": "code",
   "execution_count": 36,
   "metadata": {},
   "outputs": [
    {
     "name": "stdout",
     "output_type": "stream",
     "text": [
      "Missing GarageArea: 0\n",
      "Missing GarageCars: 0\n",
      "Has 0 GarageArea + other missing values: 81\n",
      "Has 0 GarageCars + other missing values: 81\n"
     ]
    }
   ],
   "source": [
    "print(f'Missing GarageArea: {len(train_df[train_df['GarageArea'].isna()])}')\n",
    "print(f'Missing GarageCars: {len(train_df[train_df['GarageCars'].isna()])}')\n",
    "print(f'Has 0 GarageArea + other missing values: {len(train_df[(train_df['GarageArea']==0)&\n",
    "                                                           (train_df['GarageType'].isna())])}')\n",
    "print(f'Has 0 GarageCars + other missing values: {len(train_df[(train_df['GarageCars']==0)&\n",
    "                                                           (train_df['GarageType'].isna())])}')"
   ]
  },
  {
   "cell_type": "markdown",
   "metadata": {},
   "source": [
    "The missing Garage values seem to be the result of not having a garage, and can be filled with the appropriate null values (None, NA)."
   ]
  },
  {
   "cell_type": "code",
   "execution_count": 37,
   "metadata": {},
   "outputs": [],
   "source": [
    "train_df['GarageType'] = train_df['GarageType'].fillna('None')\n",
    "test_df['GarageType'] = test_df['GarageType'].fillna('None')\n",
    "\n",
    "train_df['GarageYrBlt'] = train_df['GarageYrBlt'].fillna('None')\n",
    "test_df['GarageYrBlt'] = test_df['GarageYrBlt'].fillna('None')\n",
    "\n",
    "train_df['GarageFinish'] = train_df['GarageFinish'].fillna('NA')\n",
    "test_df['GarageFinish'] = test_df['GarageFinish'].fillna('NA')\n",
    "\n",
    "train_df['GarageQual'] = train_df['GarageQual'].fillna('NA')\n",
    "test_df['GarageQual'] = test_df['GarageQual'].fillna('NA')\n",
    "\n",
    "train_df['GarageCond'] = train_df['GarageCond'].fillna('NA')\n",
    "test_df['GarageCond'] = test_df['GarageCond'].fillna('NA')"
   ]
  },
  {
   "cell_type": "code",
   "execution_count": 38,
   "metadata": {},
   "outputs": [
    {
     "name": "stdout",
     "output_type": "stream",
     "text": [
      "Missing basement finish 1: 37\n",
      "Missing basement finish 2: 38\n",
      "Missing basement exposure: 38\n",
      "Missing basement quality: 37\n",
      "Missing basement condition: 37\n"
     ]
    }
   ],
   "source": [
    "print(f'Missing basement finish 1: {len(train_df[train_df['BsmtFinType1'].isna()])}')\n",
    "print(f'Missing basement finish 2: {len(train_df[train_df['BsmtFinType2'].isna()])}')\n",
    "print(f'Missing basement exposure: {len(train_df[train_df['BsmtExposure'].isna()])}')\n",
    "print(f'Missing basement quality: {len(train_df[train_df['BsmtQual'].isna()])}')\n",
    "print(f'Missing basement condition: {len(train_df[train_df['BsmtCond'].isna()])}')"
   ]
  },
  {
   "cell_type": "code",
   "execution_count": 39,
   "metadata": {},
   "outputs": [
    {
     "name": "stdout",
     "output_type": "stream",
     "text": [
      "No basement area, missing all values: 37\n"
     ]
    }
   ],
   "source": [
    "print(f'No basement area, missing all values: {len(train_df[(train_df['TotalBsmtSF']==0)&\n",
    "    (train_df['BsmtFinType1'].isna())&\n",
    "    (train_df['BsmtFinType2'].isna())&\n",
    "    (train_df['BsmtExposure'].isna())&\n",
    "    (train_df['BsmtQual'].isna())&\n",
    "    (train_df['BsmtCond'].isna())])}')"
   ]
  },
  {
   "cell_type": "markdown",
   "metadata": {},
   "source": [
    "Most of the missing values are in cases where there is no basement, as shown by the 0 for total square footage. However:"
   ]
  },
  {
   "cell_type": "code",
   "execution_count": 41,
   "metadata": {},
   "outputs": [
    {
     "data": {
      "text/html": [
       "<div>\n",
       "<style scoped>\n",
       "    .dataframe tbody tr th:only-of-type {\n",
       "        vertical-align: middle;\n",
       "    }\n",
       "\n",
       "    .dataframe tbody tr th {\n",
       "        vertical-align: top;\n",
       "    }\n",
       "\n",
       "    .dataframe thead th {\n",
       "        text-align: right;\n",
       "    }\n",
       "</style>\n",
       "<table border=\"1\" class=\"dataframe\">\n",
       "  <thead>\n",
       "    <tr style=\"text-align: right;\">\n",
       "      <th></th>\n",
       "      <th>TotalBsmtSF</th>\n",
       "      <th>BsmtFinType1</th>\n",
       "      <th>BsmtFinSF1</th>\n",
       "      <th>BsmtFinType2</th>\n",
       "      <th>BsmtFinSF2</th>\n",
       "      <th>BsmtUnfSF</th>\n",
       "      <th>TotalBsmtSF</th>\n",
       "      <th>BsmtExposure</th>\n",
       "      <th>BsmtQual</th>\n",
       "      <th>BsmtCond</th>\n",
       "    </tr>\n",
       "  </thead>\n",
       "  <tbody>\n",
       "    <tr>\n",
       "      <th>332</th>\n",
       "      <td>3206</td>\n",
       "      <td>GLQ</td>\n",
       "      <td>1124</td>\n",
       "      <td>NaN</td>\n",
       "      <td>479</td>\n",
       "      <td>1603</td>\n",
       "      <td>3206</td>\n",
       "      <td>No</td>\n",
       "      <td>Gd</td>\n",
       "      <td>TA</td>\n",
       "    </tr>\n",
       "  </tbody>\n",
       "</table>\n",
       "</div>"
      ],
      "text/plain": [
       "     TotalBsmtSF BsmtFinType1  BsmtFinSF1 BsmtFinType2  BsmtFinSF2  BsmtUnfSF  \\\n",
       "332         3206          GLQ        1124          NaN         479       1603   \n",
       "\n",
       "     TotalBsmtSF BsmtExposure BsmtQual BsmtCond  \n",
       "332         3206           No       Gd       TA  "
      ]
     },
     "metadata": {},
     "output_type": "display_data"
    },
    {
     "data": {
      "text/html": [
       "<div>\n",
       "<style scoped>\n",
       "    .dataframe tbody tr th:only-of-type {\n",
       "        vertical-align: middle;\n",
       "    }\n",
       "\n",
       "    .dataframe tbody tr th {\n",
       "        vertical-align: top;\n",
       "    }\n",
       "\n",
       "    .dataframe thead th {\n",
       "        text-align: right;\n",
       "    }\n",
       "</style>\n",
       "<table border=\"1\" class=\"dataframe\">\n",
       "  <thead>\n",
       "    <tr style=\"text-align: right;\">\n",
       "      <th></th>\n",
       "      <th>TotalBsmtSF</th>\n",
       "      <th>BsmtFinType1</th>\n",
       "      <th>BsmtFinType2</th>\n",
       "      <th>BsmtExposure</th>\n",
       "      <th>BsmtQual</th>\n",
       "      <th>BsmtCond</th>\n",
       "    </tr>\n",
       "  </thead>\n",
       "  <tbody>\n",
       "    <tr>\n",
       "      <th>948</th>\n",
       "      <td>936</td>\n",
       "      <td>Unf</td>\n",
       "      <td>Unf</td>\n",
       "      <td>NaN</td>\n",
       "      <td>Gd</td>\n",
       "      <td>TA</td>\n",
       "    </tr>\n",
       "  </tbody>\n",
       "</table>\n",
       "</div>"
      ],
      "text/plain": [
       "     TotalBsmtSF BsmtFinType1 BsmtFinType2 BsmtExposure BsmtQual BsmtCond\n",
       "948          936          Unf          Unf          NaN       Gd       TA"
      ]
     },
     "metadata": {},
     "output_type": "display_data"
    }
   ],
   "source": [
    "display(train_df[(train_df['TotalBsmtSF']!=0)&\n",
    "    (train_df['BsmtFinType2'].isna())][['TotalBsmtSF', 'BsmtFinType1', 'BsmtFinSF1',\n",
    "'BsmtFinType2', 'BsmtFinSF2', 'BsmtUnfSF', 'TotalBsmtSF', 'BsmtExposure', 'BsmtQual', 'BsmtCond']])\n",
    "display(train_df[(train_df['TotalBsmtSF']!=0)&\n",
    "    (train_df['BsmtExposure'].isna())][['TotalBsmtSF', 'BsmtFinType1',\n",
    "'BsmtFinType2', 'BsmtExposure', 'BsmtQual', 'BsmtCond']])"
   ]
  },
  {
   "cell_type": "code",
   "execution_count": 40,
   "metadata": {},
   "outputs": [
    {
     "data": {
      "text/plain": [
       "BsmtFinType2\n",
       "Unf    1256\n",
       "Rec      54\n",
       "LwQ      46\n",
       "BLQ      33\n",
       "ALQ      19\n",
       "GLQ      14\n",
       "Name: count, dtype: int64"
      ]
     },
     "metadata": {},
     "output_type": "display_data"
    },
    {
     "data": {
      "text/plain": [
       "BsmtExposure\n",
       "No    953\n",
       "Av    221\n",
       "Gd    134\n",
       "Mn    114\n",
       "Name: count, dtype: int64"
      ]
     },
     "metadata": {},
     "output_type": "display_data"
    }
   ],
   "source": [
    "display(train_df['BsmtFinType2'].value_counts())\n",
    "display(train_df['BsmtExposure'].value_counts())"
   ]
  },
  {
   "cell_type": "markdown",
   "metadata": {},
   "source": [
    "In the case of row 332, the fact that the values for finish 1 and 2 are different implies that the finishes are different, but there's no way to know what *kind* of finish the second is. I am going to assign it 'Rec', as it is the most common value aside from unfinished, which I know it isn't in this case from looking at the square footage values. <p>\n",
    "For row 948, I assume the missing value means there is no exposure, so I will be giving that the 'No' value from the documentation. "
   ]
  },
  {
   "cell_type": "code",
   "execution_count": 42,
   "metadata": {},
   "outputs": [],
   "source": [
    "train_df.loc[332, 'BsmtFinType2'] = 'Rec'\n",
    "train_df.loc[948, 'BsmtExposure'] = 'No'"
   ]
  },
  {
   "cell_type": "markdown",
   "metadata": {},
   "source": [
    "Now the rest can be filled."
   ]
  },
  {
   "cell_type": "code",
   "execution_count": 43,
   "metadata": {},
   "outputs": [],
   "source": [
    "train_df['BsmtFinType1'] = train_df['BsmtFinType1'].fillna('None')\n",
    "train_df['BsmtFinType2'] = train_df['BsmtFinType2'].fillna('None')\n",
    "train_df['BsmtExposure'] = train_df['BsmtExposure'].fillna('NA')\n",
    "train_df['BsmtQual'] = train_df['BsmtQual'].fillna('None')\n",
    "train_df['BsmtCond'] = train_df['BsmtCond'].fillna('None')"
   ]
  },
  {
   "cell_type": "markdown",
   "metadata": {},
   "source": [
    "There are extra issues with the test version of these columns."
   ]
  },
  {
   "cell_type": "code",
   "execution_count": 44,
   "metadata": {},
   "outputs": [
    {
     "name": "stdout",
     "output_type": "stream",
     "text": [
      "Missing test basement values:\n",
      "Quality: 44\n",
      "Condition: 45\n",
      "Exposure: 44\n",
      "Finish 1: 42\n",
      "Finish 1 area: 1\n",
      "Finish 2: 42\n",
      "Finish 2 area: 1\n",
      "Unfinished area: 1\n",
      "Total area: 1\n",
      "Full bath: 2\n",
      "Half bath:2\n"
     ]
    }
   ],
   "source": [
    "print(f'Missing test basement values:')\n",
    "print(f'Quality: {len(test_df[test_df['BsmtQual'].isna()])}')\n",
    "print(f'Condition: {len(test_df[test_df['BsmtCond'].isna()])}')\n",
    "print(f'Exposure: {len(test_df[test_df['BsmtExposure'].isna()])}')\n",
    "print(f'Finish 1: {len(test_df[test_df['BsmtFinType1'].isna()])}')\n",
    "print(f'Finish 1 area: {len(test_df[test_df['BsmtFinSF1'].isna()])}')\n",
    "print(f'Finish 2: {len(test_df[test_df['BsmtFinType2'].isna()])}')\n",
    "print(f'Finish 2 area: {len(test_df[test_df['BsmtFinSF2'].isna()])}')\n",
    "print(f'Unfinished area: {len(test_df[test_df['BsmtUnfSF'].isna()])}')\n",
    "print(f'Total area: {len(test_df[test_df['TotalBsmtSF'].isna()])}')\n",
    "print(f'Full bath: {len(test_df[test_df['BsmtFullBath'].isna()])}')\n",
    "print(f'Half bath:{len(test_df[test_df['BsmtHalfBath'].isna()])}')"
   ]
  },
  {
   "cell_type": "code",
   "execution_count": 45,
   "metadata": {},
   "outputs": [
    {
     "data": {
      "text/html": [
       "<div>\n",
       "<style scoped>\n",
       "    .dataframe tbody tr th:only-of-type {\n",
       "        vertical-align: middle;\n",
       "    }\n",
       "\n",
       "    .dataframe tbody tr th {\n",
       "        vertical-align: top;\n",
       "    }\n",
       "\n",
       "    .dataframe thead th {\n",
       "        text-align: right;\n",
       "    }\n",
       "</style>\n",
       "<table border=\"1\" class=\"dataframe\">\n",
       "  <thead>\n",
       "    <tr style=\"text-align: right;\">\n",
       "      <th></th>\n",
       "      <th>HouseStyle</th>\n",
       "      <th>BsmtQual</th>\n",
       "      <th>BsmtCond</th>\n",
       "      <th>BsmtExposure</th>\n",
       "      <th>BsmtFinType1</th>\n",
       "      <th>BsmtFinSF1</th>\n",
       "      <th>BsmtFinType2</th>\n",
       "      <th>BsmtFinSF2</th>\n",
       "      <th>BsmtUnfSF</th>\n",
       "      <th>TotalBsmtSF</th>\n",
       "      <th>BsmtFullBath</th>\n",
       "      <th>BsmtHalfBath</th>\n",
       "    </tr>\n",
       "  </thead>\n",
       "  <tbody>\n",
       "    <tr>\n",
       "      <th>660</th>\n",
       "      <td>1Story</td>\n",
       "      <td>NaN</td>\n",
       "      <td>NaN</td>\n",
       "      <td>NaN</td>\n",
       "      <td>NaN</td>\n",
       "      <td>NaN</td>\n",
       "      <td>NaN</td>\n",
       "      <td>NaN</td>\n",
       "      <td>NaN</td>\n",
       "      <td>NaN</td>\n",
       "      <td>NaN</td>\n",
       "      <td>NaN</td>\n",
       "    </tr>\n",
       "  </tbody>\n",
       "</table>\n",
       "</div>"
      ],
      "text/plain": [
       "    HouseStyle BsmtQual BsmtCond BsmtExposure BsmtFinType1  BsmtFinSF1  \\\n",
       "660     1Story      NaN      NaN          NaN          NaN         NaN   \n",
       "\n",
       "    BsmtFinType2  BsmtFinSF2  BsmtUnfSF  TotalBsmtSF  BsmtFullBath  \\\n",
       "660          NaN         NaN        NaN          NaN           NaN   \n",
       "\n",
       "     BsmtHalfBath  \n",
       "660           NaN  "
      ]
     },
     "execution_count": 45,
     "metadata": {},
     "output_type": "execute_result"
    }
   ],
   "source": [
    "test_df[test_df['BsmtFinSF1'].isna()][['HouseStyle','BsmtQual', 'BsmtCond', 'BsmtExposure', 'BsmtFinType1', 'BsmtFinSF1', \n",
    "                    'BsmtFinType2', 'BsmtFinSF2', 'BsmtUnfSF', 'TotalBsmtSF', 'BsmtFullBath', 'BsmtHalfBath']]"
   ]
  },
  {
   "cell_type": "markdown",
   "metadata": {},
   "source": [
    "Given this row is a single story house, it does not have a basement, so all of these values would be the appropriate 0/None value. All of the single entries can be filled in based on this row. "
   ]
  },
  {
   "cell_type": "code",
   "execution_count": 46,
   "metadata": {},
   "outputs": [],
   "source": [
    "test_df['BsmtFinSF1'] = test_df['BsmtFinSF1'].fillna(0)\n",
    "test_df['BsmtFinSF2'] = test_df['BsmtFinSF2'].fillna(0)\n",
    "test_df['BsmtUnfSF'] = test_df['BsmtUnfSF'].fillna(0)\n",
    "test_df['TotalBsmtSF'] = test_df['TotalBsmtSF'].fillna(0)"
   ]
  },
  {
   "cell_type": "code",
   "execution_count": 47,
   "metadata": {},
   "outputs": [
    {
     "data": {
      "text/html": [
       "<div>\n",
       "<style scoped>\n",
       "    .dataframe tbody tr th:only-of-type {\n",
       "        vertical-align: middle;\n",
       "    }\n",
       "\n",
       "    .dataframe tbody tr th {\n",
       "        vertical-align: top;\n",
       "    }\n",
       "\n",
       "    .dataframe thead th {\n",
       "        text-align: right;\n",
       "    }\n",
       "</style>\n",
       "<table border=\"1\" class=\"dataframe\">\n",
       "  <thead>\n",
       "    <tr style=\"text-align: right;\">\n",
       "      <th></th>\n",
       "      <th>HouseStyle</th>\n",
       "      <th>BsmtFullBath</th>\n",
       "      <th>BsmtHalfBath</th>\n",
       "    </tr>\n",
       "  </thead>\n",
       "  <tbody>\n",
       "    <tr>\n",
       "      <th>660</th>\n",
       "      <td>1Story</td>\n",
       "      <td>NaN</td>\n",
       "      <td>NaN</td>\n",
       "    </tr>\n",
       "    <tr>\n",
       "      <th>728</th>\n",
       "      <td>1Story</td>\n",
       "      <td>NaN</td>\n",
       "      <td>NaN</td>\n",
       "    </tr>\n",
       "  </tbody>\n",
       "</table>\n",
       "</div>"
      ],
      "text/plain": [
       "    HouseStyle  BsmtFullBath  BsmtHalfBath\n",
       "660     1Story           NaN           NaN\n",
       "728     1Story           NaN           NaN"
      ]
     },
     "execution_count": 47,
     "metadata": {},
     "output_type": "execute_result"
    }
   ],
   "source": [
    "test_df[test_df['BsmtFullBath'].isna()][['HouseStyle', 'BsmtFullBath', 'BsmtHalfBath']]"
   ]
  },
  {
   "cell_type": "markdown",
   "metadata": {},
   "source": [
    "The same is true of the bathroom values; there is no basement so there can't be bathrooms."
   ]
  },
  {
   "cell_type": "code",
   "execution_count": 48,
   "metadata": {},
   "outputs": [],
   "source": [
    "test_df['BsmtFullBath'] = test_df['BsmtFullBath'].fillna(0)\n",
    "test_df['BsmtHalfBath'] = test_df['BsmtHalfBath'].fillna(0)"
   ]
  },
  {
   "cell_type": "code",
   "execution_count": 49,
   "metadata": {},
   "outputs": [
    {
     "data": {
      "text/html": [
       "<div>\n",
       "<style scoped>\n",
       "    .dataframe tbody tr th:only-of-type {\n",
       "        vertical-align: middle;\n",
       "    }\n",
       "\n",
       "    .dataframe tbody tr th {\n",
       "        vertical-align: top;\n",
       "    }\n",
       "\n",
       "    .dataframe thead th {\n",
       "        text-align: right;\n",
       "    }\n",
       "</style>\n",
       "<table border=\"1\" class=\"dataframe\">\n",
       "  <thead>\n",
       "    <tr style=\"text-align: right;\">\n",
       "      <th></th>\n",
       "      <th>TotalBsmtSF</th>\n",
       "      <th>BsmtQual</th>\n",
       "      <th>BsmtCond</th>\n",
       "      <th>BsmtExposure</th>\n",
       "    </tr>\n",
       "  </thead>\n",
       "  <tbody>\n",
       "    <tr>\n",
       "      <th>757</th>\n",
       "      <td>173.0</td>\n",
       "      <td>NaN</td>\n",
       "      <td>Fa</td>\n",
       "      <td>No</td>\n",
       "    </tr>\n",
       "    <tr>\n",
       "      <th>758</th>\n",
       "      <td>356.0</td>\n",
       "      <td>NaN</td>\n",
       "      <td>TA</td>\n",
       "      <td>No</td>\n",
       "    </tr>\n",
       "  </tbody>\n",
       "</table>\n",
       "</div>"
      ],
      "text/plain": [
       "     TotalBsmtSF BsmtQual BsmtCond BsmtExposure\n",
       "757        173.0      NaN       Fa           No\n",
       "758        356.0      NaN       TA           No"
      ]
     },
     "execution_count": 49,
     "metadata": {},
     "output_type": "execute_result"
    }
   ],
   "source": [
    "test_df[\n",
    "    (test_df['TotalBsmtSF']!=0)&(test_df['BsmtQual'].isna())\n",
    "][['TotalBsmtSF', 'BsmtQual', 'BsmtCond', 'BsmtExposure']]"
   ]
  },
  {
   "cell_type": "markdown",
   "metadata": {},
   "source": [
    "As there is no way to know the quality (which corresponds to the height of the basement), I am going to assign these 'TA' for 'typical'. "
   ]
  },
  {
   "cell_type": "code",
   "execution_count": 50,
   "metadata": {},
   "outputs": [],
   "source": [
    "test_df.loc[((test_df[ # select\n",
    "    (test_df['TotalBsmtSF']!=0)& # total area is not 0 AND\n",
    "    (test_df['BsmtQual'].isna()) # quality is NA\n",
    "].index).tolist()), 'BsmtQual'] = 'TA'"
   ]
  },
  {
   "cell_type": "code",
   "execution_count": 51,
   "metadata": {},
   "outputs": [
    {
     "name": "stdout",
     "output_type": "stream",
     "text": [
      "Missing values vs basement area \n",
      "Quality: TotalBsmtSF\n",
      "0.0            42\n",
      "Name: count, dtype: int64\n",
      "\n",
      "Condition: TotalBsmtSF\n",
      "0.0            42\n",
      "995.0           1\n",
      "1127.0          1\n",
      "1426.0          1\n",
      "Name: count, dtype: int64\n",
      "\n",
      "Exposure: TotalBsmtSF\n",
      "0.0            42\n",
      "725.0           1\n",
      "1595.0          1\n",
      "Name: count, dtype: int64\n",
      "\n",
      "Finish type 1: TotalBsmtSF\n",
      "0.0            42\n",
      "Name: count, dtype: int64\n",
      "\n",
      "Finish type 2: TotalBsmtSF\n",
      "0.0            42\n",
      "Name: count, dtype: int64\n"
     ]
    }
   ],
   "source": [
    "print(f'Missing values vs basement area \\nQuality: {test_df[test_df['BsmtQual'].isna()][['TotalBsmtSF']].value_counts()}')\n",
    "print(f'\\nCondition: {test_df[test_df['BsmtCond'].isna()][['TotalBsmtSF']].value_counts()}')\n",
    "print(f'\\nExposure: {test_df[test_df['BsmtExposure'].isna()][['TotalBsmtSF']].value_counts()}')\n",
    "print(f'\\nFinish type 1: {test_df[test_df['BsmtFinType1'].isna()][['TotalBsmtSF']].value_counts()}')\n",
    "print(f'\\nFinish type 2: {test_df[test_df['BsmtFinType2'].isna()][['TotalBsmtSF']].value_counts()}')"
   ]
  },
  {
   "cell_type": "code",
   "execution_count": 52,
   "metadata": {},
   "outputs": [],
   "source": [
    "test_df['BsmtQual'] = test_df['BsmtQual'].fillna('None')\n",
    "test_df['BsmtFinType1'] = test_df['BsmtFinType1'].fillna('None')\n",
    "test_df['BsmtFinType2'] = test_df['BsmtFinType2'].fillna('None')"
   ]
  },
  {
   "cell_type": "code",
   "execution_count": 53,
   "metadata": {},
   "outputs": [
    {
     "data": {
      "text/html": [
       "<div>\n",
       "<style scoped>\n",
       "    .dataframe tbody tr th:only-of-type {\n",
       "        vertical-align: middle;\n",
       "    }\n",
       "\n",
       "    .dataframe tbody tr th {\n",
       "        vertical-align: top;\n",
       "    }\n",
       "\n",
       "    .dataframe thead th {\n",
       "        text-align: right;\n",
       "    }\n",
       "</style>\n",
       "<table border=\"1\" class=\"dataframe\">\n",
       "  <thead>\n",
       "    <tr style=\"text-align: right;\">\n",
       "      <th></th>\n",
       "      <th>MSSubClass</th>\n",
       "      <th>HouseStyle</th>\n",
       "      <th>BsmtQual</th>\n",
       "      <th>BsmtCond</th>\n",
       "      <th>BsmtUnfSF</th>\n",
       "      <th>TotalBsmtSF</th>\n",
       "    </tr>\n",
       "  </thead>\n",
       "  <tbody>\n",
       "    <tr>\n",
       "      <th>580</th>\n",
       "      <td>20</td>\n",
       "      <td>1Story</td>\n",
       "      <td>Gd</td>\n",
       "      <td>NaN</td>\n",
       "      <td>0.0</td>\n",
       "      <td>1426.0</td>\n",
       "    </tr>\n",
       "    <tr>\n",
       "      <th>725</th>\n",
       "      <td>20</td>\n",
       "      <td>1Story</td>\n",
       "      <td>TA</td>\n",
       "      <td>NaN</td>\n",
       "      <td>94.0</td>\n",
       "      <td>1127.0</td>\n",
       "    </tr>\n",
       "    <tr>\n",
       "      <th>1064</th>\n",
       "      <td>80</td>\n",
       "      <td>SLvl</td>\n",
       "      <td>TA</td>\n",
       "      <td>NaN</td>\n",
       "      <td>240.0</td>\n",
       "      <td>995.0</td>\n",
       "    </tr>\n",
       "  </tbody>\n",
       "</table>\n",
       "</div>"
      ],
      "text/plain": [
       "      MSSubClass HouseStyle BsmtQual BsmtCond  BsmtUnfSF  TotalBsmtSF\n",
       "580           20     1Story       Gd      NaN        0.0       1426.0\n",
       "725           20     1Story       TA      NaN       94.0       1127.0\n",
       "1064          80       SLvl       TA      NaN      240.0        995.0"
      ]
     },
     "execution_count": 53,
     "metadata": {},
     "output_type": "execute_result"
    }
   ],
   "source": [
    "test_df[\n",
    "    (test_df['TotalBsmtSF']>0)&\n",
    "    (test_df['BsmtCond'].isna())\n",
    "][['MSSubClass', 'HouseStyle', 'BsmtQual', 'BsmtCond', 'BsmtUnfSF', 'TotalBsmtSF']]"
   ]
  },
  {
   "cell_type": "code",
   "execution_count": 54,
   "metadata": {},
   "outputs": [
    {
     "data": {
      "text/plain": [
       "BsmtCond\n",
       "TA    1295\n",
       "Fa      59\n",
       "Gd      57\n",
       "Po       3\n",
       "Name: count, dtype: int64"
      ]
     },
     "execution_count": 54,
     "metadata": {},
     "output_type": "execute_result"
    }
   ],
   "source": [
    "test_df['BsmtCond'].value_counts()"
   ]
  },
  {
   "cell_type": "markdown",
   "metadata": {},
   "source": [
    "This shows that there are mismatches between the values related to the number of stories and the presence of a basement, but ignoring that for now, with no direct way to decide on the condition of the basement, I am going to use 'TA', as it is 'typical' and also the most common. "
   ]
  },
  {
   "cell_type": "code",
   "execution_count": 55,
   "metadata": {},
   "outputs": [],
   "source": [
    "test_df.loc[((test_df[ # select\n",
    "    (test_df['TotalBsmtSF']!=0)& # total area is not 0 AND\n",
    "    (test_df['BsmtCond'].isna()) # condition is NA\n",
    "].index).tolist()), 'BsmtCond'] = 'TA'"
   ]
  },
  {
   "cell_type": "code",
   "execution_count": 56,
   "metadata": {},
   "outputs": [
    {
     "data": {
      "text/plain": [
       "TotalBsmtSF\n",
       "0.0    42\n",
       "Name: count, dtype: int64"
      ]
     },
     "execution_count": 56,
     "metadata": {},
     "output_type": "execute_result"
    }
   ],
   "source": [
    "test_df[test_df['BsmtCond'].isna()]['TotalBsmtSF'].value_counts()"
   ]
  },
  {
   "cell_type": "markdown",
   "metadata": {},
   "source": [
    "Since all of these are rows where there is no basement, they can be filled with 'None'."
   ]
  },
  {
   "cell_type": "code",
   "execution_count": 57,
   "metadata": {},
   "outputs": [],
   "source": [
    "test_df['BsmtCond'] = test_df['BsmtCond'].fillna('None')"
   ]
  },
  {
   "cell_type": "code",
   "execution_count": 58,
   "metadata": {},
   "outputs": [
    {
     "data": {
      "text/html": [
       "<div>\n",
       "<style scoped>\n",
       "    .dataframe tbody tr th:only-of-type {\n",
       "        vertical-align: middle;\n",
       "    }\n",
       "\n",
       "    .dataframe tbody tr th {\n",
       "        vertical-align: top;\n",
       "    }\n",
       "\n",
       "    .dataframe thead th {\n",
       "        text-align: right;\n",
       "    }\n",
       "</style>\n",
       "<table border=\"1\" class=\"dataframe\">\n",
       "  <thead>\n",
       "    <tr style=\"text-align: right;\">\n",
       "      <th></th>\n",
       "      <th>HouseStyle</th>\n",
       "      <th>BsmtQual</th>\n",
       "      <th>BsmtCond</th>\n",
       "      <th>BsmtExposure</th>\n",
       "      <th>TotalBsmtSF</th>\n",
       "    </tr>\n",
       "  </thead>\n",
       "  <tbody>\n",
       "    <tr>\n",
       "      <th>27</th>\n",
       "      <td>1Story</td>\n",
       "      <td>Gd</td>\n",
       "      <td>TA</td>\n",
       "      <td>NaN</td>\n",
       "      <td>1595.0</td>\n",
       "    </tr>\n",
       "    <tr>\n",
       "      <th>888</th>\n",
       "      <td>2Story</td>\n",
       "      <td>Gd</td>\n",
       "      <td>TA</td>\n",
       "      <td>NaN</td>\n",
       "      <td>725.0</td>\n",
       "    </tr>\n",
       "  </tbody>\n",
       "</table>\n",
       "</div>"
      ],
      "text/plain": [
       "    HouseStyle BsmtQual BsmtCond BsmtExposure  TotalBsmtSF\n",
       "27      1Story       Gd       TA          NaN       1595.0\n",
       "888     2Story       Gd       TA          NaN        725.0"
      ]
     },
     "execution_count": 58,
     "metadata": {},
     "output_type": "execute_result"
    }
   ],
   "source": [
    "test_df[\n",
    "    (test_df['TotalBsmtSF']!=0)&\n",
    "    (test_df['BsmtExposure'].isna())\n",
    "][['HouseStyle', 'BsmtQual', 'BsmtCond', 'BsmtExposure', 'TotalBsmtSF']]"
   ]
  },
  {
   "cell_type": "markdown",
   "metadata": {},
   "source": [
    "Again, I am assuming that missing values correspond to no exposure, given that these rows have basements."
   ]
  },
  {
   "cell_type": "code",
   "execution_count": 59,
   "metadata": {},
   "outputs": [],
   "source": [
    "test_df.loc[((test_df[ # select\n",
    "    (test_df['TotalBsmtSF']!=0)& # total area is not 0 AND\n",
    "    (test_df['BsmtExposure'].isna()) # exposure is NA\n",
    "].index).tolist()), 'BsmtExposure'] = 'No'"
   ]
  },
  {
   "cell_type": "code",
   "execution_count": 60,
   "metadata": {},
   "outputs": [
    {
     "data": {
      "text/plain": [
       "TotalBsmtSF\n",
       "0.0            42\n",
       "Name: count, dtype: int64"
      ]
     },
     "execution_count": 60,
     "metadata": {},
     "output_type": "execute_result"
    }
   ],
   "source": [
    "test_df[test_df['BsmtExposure'].isna()][['TotalBsmtSF']].value_counts()"
   ]
  },
  {
   "cell_type": "markdown",
   "metadata": {},
   "source": [
    "The rest of these do not have a basement, so they get filled with 'None'."
   ]
  },
  {
   "cell_type": "code",
   "execution_count": 61,
   "metadata": {},
   "outputs": [],
   "source": [
    "test_df['BsmtExposure'] = test_df['BsmtExposure'].fillna('NA')"
   ]
  },
  {
   "cell_type": "code",
   "execution_count": 62,
   "metadata": {},
   "outputs": [
    {
     "name": "stdout",
     "output_type": "stream",
     "text": [
      "Missing fireplace quality: \n",
      "Train: 690\n",
      "Test: 730\n"
     ]
    }
   ],
   "source": [
    "print(f'Missing fireplace quality: \\nTrain: {len(train_df[train_df['FireplaceQu'].isna()])}')\n",
    "print(f'Test: {len(test_df[test_df['FireplaceQu'].isna()])}')\n"
   ]
  },
  {
   "cell_type": "code",
   "execution_count": 63,
   "metadata": {},
   "outputs": [
    {
     "name": "stdout",
     "output_type": "stream",
     "text": [
      "0 fireplaces, missing quality: \n",
      "Train: 690\n",
      "Test: 730\n"
     ]
    }
   ],
   "source": [
    "print(f'0 fireplaces, missing quality: \\nTrain: {len(train_df[(train_df['FireplaceQu'].isna())&(train_df['Fireplaces']==0)])}')\n",
    "print(f'Test: {len(test_df[(test_df['FireplaceQu'].isna())&(test_df['Fireplaces']==0)])}')"
   ]
  },
  {
   "cell_type": "markdown",
   "metadata": {},
   "source": [
    "Given that all NAs are associated with there being no fireplace, the NAs are being filled with 'None'."
   ]
  },
  {
   "cell_type": "code",
   "execution_count": 64,
   "metadata": {},
   "outputs": [],
   "source": [
    "train_df['FireplaceQu'] = train_df['FireplaceQu'].fillna('None')\n",
    "test_df['FireplaceQu'] = test_df['FireplaceQu'].fillna('None')"
   ]
  },
  {
   "cell_type": "code",
   "execution_count": 65,
   "metadata": {},
   "outputs": [
    {
     "name": "stdout",
     "output_type": "stream",
     "text": [
      "Missing pool quality: \n",
      "Train: 1453\n",
      "Test: 1456\n",
      "\n",
      "Missing quality and pool area 0: \n",
      "Train: 1453\n",
      "Test: 1453\n"
     ]
    }
   ],
   "source": [
    "print(f'Missing pool quality: \\nTrain: {len(train_df[train_df['PoolQC'].isna()])}')\n",
    "print(f'Test: {len(test_df[test_df['PoolQC'].isna()])}')\n",
    "print(f'\\nMissing quality and pool area 0: \\nTrain: {len(train_df[(train_df['PoolArea']==0)&(train_df['PoolQC'].isna())])}')\n",
    "print(f'Test: {len(test_df[(test_df['PoolArea']==0)&(test_df['PoolQC'].isna())])}')"
   ]
  },
  {
   "cell_type": "code",
   "execution_count": 66,
   "metadata": {},
   "outputs": [
    {
     "data": {
      "text/html": [
       "<div>\n",
       "<style scoped>\n",
       "    .dataframe tbody tr th:only-of-type {\n",
       "        vertical-align: middle;\n",
       "    }\n",
       "\n",
       "    .dataframe tbody tr th {\n",
       "        vertical-align: top;\n",
       "    }\n",
       "\n",
       "    .dataframe thead th {\n",
       "        text-align: right;\n",
       "    }\n",
       "</style>\n",
       "<table border=\"1\" class=\"dataframe\">\n",
       "  <thead>\n",
       "    <tr style=\"text-align: right;\">\n",
       "      <th></th>\n",
       "      <th>PoolArea</th>\n",
       "      <th>PoolQC</th>\n",
       "    </tr>\n",
       "  </thead>\n",
       "  <tbody>\n",
       "    <tr>\n",
       "      <th>960</th>\n",
       "      <td>368</td>\n",
       "      <td>NaN</td>\n",
       "    </tr>\n",
       "    <tr>\n",
       "      <th>1043</th>\n",
       "      <td>444</td>\n",
       "      <td>NaN</td>\n",
       "    </tr>\n",
       "    <tr>\n",
       "      <th>1139</th>\n",
       "      <td>561</td>\n",
       "      <td>NaN</td>\n",
       "    </tr>\n",
       "  </tbody>\n",
       "</table>\n",
       "</div>"
      ],
      "text/plain": [
       "      PoolArea PoolQC\n",
       "960        368    NaN\n",
       "1043       444    NaN\n",
       "1139       561    NaN"
      ]
     },
     "execution_count": 66,
     "metadata": {},
     "output_type": "execute_result"
    }
   ],
   "source": [
    "test_df[(test_df['PoolArea']!=0)&(test_df['PoolQC'].isna())][['PoolArea','PoolQC']]"
   ]
  },
  {
   "cell_type": "markdown",
   "metadata": {},
   "source": [
    "There is no way to really know what the pool quality value actually is, so I am going to assign the 'Average/Typical' value, as it is the middle value both descriptively and in terms of encoding. "
   ]
  },
  {
   "cell_type": "code",
   "execution_count": 67,
   "metadata": {},
   "outputs": [],
   "source": [
    "test_df.loc[((test_df[ # select\n",
    "    (test_df['PoolArea']!=0)& # pool area is not 0 AND\n",
    "    (test_df['PoolQC'].isna()) # pool quality is NA\n",
    "].index).tolist()), 'PoolQC'] = 'TA'"
   ]
  },
  {
   "cell_type": "markdown",
   "metadata": {},
   "source": [
    "The rest can be filled in with 'None', as they correspond to 0s in the area column. "
   ]
  },
  {
   "cell_type": "code",
   "execution_count": 68,
   "metadata": {},
   "outputs": [],
   "source": [
    "train_df['PoolQC'] = train_df['PoolQC'].fillna('None')\n",
    "test_df['PoolQC'] = test_df['PoolQC'].fillna('None')"
   ]
  },
  {
   "cell_type": "markdown",
   "metadata": {},
   "source": [
    "Per the documentation: \"Home functionality (Assume typical unless deductions are warranted)\"<br>\n",
    "Therefore both empty values can be filled with `Typ`. "
   ]
  },
  {
   "cell_type": "code",
   "execution_count": 69,
   "metadata": {},
   "outputs": [],
   "source": [
    "test_df['Functional'] = test_df['Functional'].fillna('Typ')"
   ]
  },
  {
   "cell_type": "code",
   "execution_count": null,
   "metadata": {},
   "outputs": [],
   "source": []
  },
  {
   "cell_type": "code",
   "execution_count": null,
   "metadata": {},
   "outputs": [],
   "source": []
  },
  {
   "cell_type": "code",
   "execution_count": null,
   "metadata": {},
   "outputs": [],
   "source": [
    "print(test_df['SaleType'].isna().value_counts(),'\\n')\n",
    "print(test_df[test_df['SaleType'].isna()][['SaleType','SaleCondition','YearBuilt','YrSold']],'\\n')\n",
    "print(f'Train: {train_df[train_df['SaleCondition']=='Normal'][['SaleType','SaleCondition']].value_counts()} \\n')\n",
    "print(f'Test: {test_df[test_df['SaleCondition']=='Normal'][['SaleType','SaleCondition']].value_counts()}')"
   ]
  },
  {
   "cell_type": "markdown",
   "metadata": {},
   "source": [
    "I could delete this row, but if I want to keep it, it is probably safe to fill in the `SaleType` with 'WD', as for a `SaleCondition` of 'Normal', the vast majority of datapoints have have value. (96.8% for train, 95.9% for test.)"
   ]
  },
  {
   "cell_type": "code",
   "execution_count": null,
   "metadata": {},
   "outputs": [],
   "source": [
    "print(train_df['Electrical'].isna().value_counts(),'\\n')\n",
    "print(train_df[train_df['Electrical'].isna()][['Electrical','YearBuilt']])"
   ]
  },
  {
   "cell_type": "code",
   "execution_count": null,
   "metadata": {},
   "outputs": [],
   "source": [
    "print(f'Train: {train_df['Electrical'].value_counts()},\\n')\n",
    "print(f'Test: {test_df['Electrical'].value_counts()} \\n')\n",
    "print(train_df[train_df['Electrical']=='SBrkr'][['Electrical','YearBuilt']].describe())"
   ]
  },
  {
   "cell_type": "markdown",
   "metadata": {},
   "source": [
    "Similarly, the vast majority of data (91.4% of train, 91.6% of test) has the 'SBrkr' value, and the descriptive stats show there is no meaningful connection between building age and electrical status to worry about, so again it is probably safe to use that value in the interest of keeping the row in. "
   ]
  },
  {
   "cell_type": "markdown",
   "metadata": {},
   "source": []
  },
  {
   "cell_type": "code",
   "execution_count": null,
   "metadata": {},
   "outputs": [],
   "source": []
  },
  {
   "cell_type": "markdown",
   "metadata": {},
   "source": [
    "Utilities: Type of utilities available\n",
    "\t\t\n",
    "       AllPub\tAll public Utilities (E,G,W,& S)\t\n",
    "       NoSewr\tElectricity, Gas, and Water (Septic Tank)\n",
    "       NoSeWa\tElectricity and Gas Only\n",
    "       ELO\tElectricity only"
   ]
  },
  {
   "cell_type": "markdown",
   "metadata": {},
   "source": [
    "### Remove outliers<p>\n",
    "Using thresholds from previous notebook."
   ]
  },
  {
   "cell_type": "code",
   "execution_count": null,
   "metadata": {},
   "outputs": [],
   "source": [
    "train_df[train_df['LotFrontage']>250]"
   ]
  },
  {
   "cell_type": "code",
   "execution_count": null,
   "metadata": {},
   "outputs": [],
   "source": [
    "train_df[train_df['LotArea']>140000]"
   ]
  },
  {
   "cell_type": "code",
   "execution_count": null,
   "metadata": {},
   "outputs": [],
   "source": [
    "train_df[train_df['BsmtFinSF1']>4000]"
   ]
  },
  {
   "cell_type": "code",
   "execution_count": null,
   "metadata": {},
   "outputs": [],
   "source": [
    "train_df[train_df['BsmtFinSF2']>1300]"
   ]
  },
  {
   "cell_type": "code",
   "execution_count": null,
   "metadata": {},
   "outputs": [],
   "source": [
    "train_df[train_df['TotalBsmtSF']>5000]"
   ]
  },
  {
   "cell_type": "code",
   "execution_count": null,
   "metadata": {},
   "outputs": [],
   "source": [
    "train_df[train_df['1stFlrSF']>4000]"
   ]
  },
  {
   "cell_type": "code",
   "execution_count": null,
   "metadata": {},
   "outputs": [],
   "source": [
    "train_df[train_df['GrLivArea']>5000]"
   ]
  },
  {
   "cell_type": "code",
   "execution_count": null,
   "metadata": {},
   "outputs": [],
   "source": [
    "train_df[train_df['EnclosedPorch']>500]"
   ]
  },
  {
   "cell_type": "code",
   "execution_count": null,
   "metadata": {},
   "outputs": [],
   "source": [
    "train_df[train_df['MiscVal']>6000]"
   ]
  },
  {
   "cell_type": "code",
   "execution_count": null,
   "metadata": {},
   "outputs": [],
   "source": [
    "train_df[train_df['SalePrice']>700000]"
   ]
  }
 ],
 "metadata": {
  "kernelspec": {
   "display_name": "base",
   "language": "python",
   "name": "python3"
  },
  "language_info": {
   "codemirror_mode": {
    "name": "ipython",
    "version": 3
   },
   "file_extension": ".py",
   "mimetype": "text/x-python",
   "name": "python",
   "nbconvert_exporter": "python",
   "pygments_lexer": "ipython3",
   "version": "3.12.3"
  }
 },
 "nbformat": 4,
 "nbformat_minor": 2
}
