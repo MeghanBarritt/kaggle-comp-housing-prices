{
 "cells": [
  {
   "cell_type": "markdown",
   "metadata": {},
   "source": [
    "# 5 - Modeling"
   ]
  },
  {
   "cell_type": "code",
   "execution_count": 54,
   "metadata": {},
   "outputs": [],
   "source": [
    "import pandas as pd\n",
    "train = pd.read_pickle('../pickles/final/train_final')\n",
    "test = pd.read_pickle('../pickles/final/test_final')\n",
    "from xgboost import XGBRegressor\n",
    "from sklearn.metrics import root_mean_squared_error, r2_score\n",
    "from sklearn.model_selection import GridSearchCV\n",
    "import warnings\n",
    "# warnings.filterwarnings('ignore')"
   ]
  },
  {
   "cell_type": "markdown",
   "metadata": {},
   "source": [
    "There are some columns in the dataframes that are the 'object' dtype, which is not compatible with XGBoost. These need to be converted to 'Int' columns."
   ]
  },
  {
   "cell_type": "code",
   "execution_count": null,
   "metadata": {},
   "outputs": [],
   "source": [
    "# select object type columns\n",
    "train_col = train.select_dtypes(include='object').columns.tolist()\n",
    "\n",
    "# apply conversion\n",
    "train[train_col] = train[train_col].astype(int)"
   ]
  },
  {
   "cell_type": "code",
   "execution_count": 61,
   "metadata": {},
   "outputs": [],
   "source": [
    "# select object type columns\n",
    "test_col = test.select_dtypes(include='object').columns.tolist()\n",
    "\n",
    "# apply conversion\n",
    "test[test_col] = test[test_col].astype(int)"
   ]
  },
  {
   "cell_type": "markdown",
   "metadata": {},
   "source": [
    "### Parameter Tuning"
   ]
  },
  {
   "cell_type": "code",
   "execution_count": 34,
   "metadata": {},
   "outputs": [],
   "source": [
    "boost = XGBRegressor(objective='reg:squarederror',random_state=42)\n",
    "X_train = train.drop('SalePrice',axis=1)\n",
    "y_train = train['SalePrice']"
   ]
  },
  {
   "cell_type": "code",
   "execution_count": null,
   "metadata": {},
   "outputs": [],
   "source": [
    "params = {\n",
    "    'alpha': [25,30,35],\n",
    "    'lambda': [45,50,55],\n",
    "    'max_depth': [4,5,6],\n",
    "    'learning_rate': [0.01,0.1,1],\n",
    "    'n_estimators': [555,560,565,]}"
   ]
  },
  {
   "cell_type": "code",
   "execution_count": 53,
   "metadata": {},
   "outputs": [
    {
     "name": "stderr",
     "output_type": "stream",
     "text": [
      "c:\\Users\\mebar\\anaconda3\\Lib\\site-packages\\numpy\\ma\\core.py:2820: RuntimeWarning: invalid value encountered in cast\n",
      "  _data = np.array(data, dtype=dtype, copy=copy,\n"
     ]
    },
    {
     "name": "stdout",
     "output_type": "stream",
     "text": [
      "Best Score: 23761.452261334955\n",
      "Best Hyperparameters: {'alpha': 30, 'lambda': 50, 'learning_rate': 0.1, 'max_depth': 5, 'n_estimators': 560}\n"
     ]
    }
   ],
   "source": [
    "search = GridSearchCV(boost, params, scoring='neg_root_mean_squared_error',n_jobs=-1)\n",
    "result = search.fit(X_train,y_train)\n",
    "print('Best Score: %s' % (result.best_score_*-1))\n",
    "print('Best Hyperparameters: %s' % result.best_params_)"
   ]
  }
 ],
 "metadata": {
  "kernelspec": {
   "display_name": "base",
   "language": "python",
   "name": "python3"
  },
  "language_info": {
   "codemirror_mode": {
    "name": "ipython",
    "version": 3
   },
   "file_extension": ".py",
   "mimetype": "text/x-python",
   "name": "python",
   "nbconvert_exporter": "python",
   "pygments_lexer": "ipython3",
   "version": "3.12.3"
  }
 },
 "nbformat": 4,
 "nbformat_minor": 2
}
